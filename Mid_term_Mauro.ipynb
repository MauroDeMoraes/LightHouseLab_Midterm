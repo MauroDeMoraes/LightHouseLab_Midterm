{
  "nbformat": 4,
  "nbformat_minor": 0,
  "metadata": {
    "colab": {
      "name": "Mid_term_Mauro.ipynb",
      "provenance": [],
      "collapsed_sections": [],
      "toc_visible": true
    },
    "kernelspec": {
      "name": "python3",
      "display_name": "Python 3"
    },
    "accelerator": "GPU"
  },
  "cells": [
    {
      "cell_type": "code",
      "metadata": {
        "id": "pqangbBxJeTR"
      },
      "source": [
        "import pandas as pd\n",
        "import plotly.express as px\n",
        "from sklearn.decomposition import PCA\n",
        "import numpy as np\n",
        "import matplotlib.pyplot as plt"
      ],
      "execution_count": 1,
      "outputs": []
    },
    {
      "cell_type": "markdown",
      "metadata": {
        "id": "PYsCrlxJLMZs"
      },
      "source": [
        "#### Loding Data"
      ]
    },
    {
      "cell_type": "code",
      "metadata": {
        "id": "yPeBZntj43q3"
      },
      "source": [
        "df_flights = pd.read_csv('df_flights.csv')\n",
        "df_flights = df_flights.drop(columns=('Unnamed: 0'))"
      ],
      "execution_count": null,
      "outputs": []
    },
    {
      "cell_type": "code",
      "metadata": {
        "id": "8PFB5I8cwpH-",
        "colab": {
          "base_uri": "https://localhost:8080/",
          "height": 806
        },
        "outputId": "e31f4a55-986c-4d1d-f397-e8679a56aaf0"
      },
      "source": [
        "df_flights.head(15)"
      ],
      "execution_count": null,
      "outputs": [
        {
          "output_type": "execute_result",
          "data": {
            "text/html": [
              "<div>\n",
              "<style scoped>\n",
              "    .dataframe tbody tr th:only-of-type {\n",
              "        vertical-align: middle;\n",
              "    }\n",
              "\n",
              "    .dataframe tbody tr th {\n",
              "        vertical-align: top;\n",
              "    }\n",
              "\n",
              "    .dataframe thead th {\n",
              "        text-align: right;\n",
              "    }\n",
              "</style>\n",
              "<table border=\"1\" class=\"dataframe\">\n",
              "  <thead>\n",
              "    <tr style=\"text-align: right;\">\n",
              "      <th></th>\n",
              "      <th>fl_date</th>\n",
              "      <th>mkt_unique_carrier</th>\n",
              "      <th>branded_code_share</th>\n",
              "      <th>mkt_carrier</th>\n",
              "      <th>mkt_carrier_fl_num</th>\n",
              "      <th>op_unique_carrier</th>\n",
              "      <th>tail_num</th>\n",
              "      <th>op_carrier_fl_num</th>\n",
              "      <th>origin_airport_id</th>\n",
              "      <th>origin</th>\n",
              "      <th>origin_city_name</th>\n",
              "      <th>dest_airport_id</th>\n",
              "      <th>dest</th>\n",
              "      <th>dest_city_name</th>\n",
              "      <th>crs_dep_time</th>\n",
              "      <th>dep_time</th>\n",
              "      <th>dep_delay</th>\n",
              "      <th>taxi_out</th>\n",
              "      <th>wheels_off</th>\n",
              "      <th>wheels_on</th>\n",
              "      <th>taxi_in</th>\n",
              "      <th>crs_arr_time</th>\n",
              "      <th>arr_time</th>\n",
              "      <th>arr_delay</th>\n",
              "      <th>cancelled</th>\n",
              "      <th>cancellation_code</th>\n",
              "      <th>diverted</th>\n",
              "      <th>dup</th>\n",
              "      <th>crs_elapsed_time</th>\n",
              "      <th>actual_elapsed_time</th>\n",
              "      <th>air_time</th>\n",
              "      <th>flights</th>\n",
              "      <th>distance</th>\n",
              "      <th>carrier_delay</th>\n",
              "      <th>weather_delay</th>\n",
              "      <th>nas_delay</th>\n",
              "      <th>security_delay</th>\n",
              "      <th>late_aircraft_delay</th>\n",
              "      <th>first_dep_time</th>\n",
              "      <th>total_add_gtime</th>\n",
              "      <th>longest_add_gtime</th>\n",
              "      <th>no_name</th>\n",
              "    </tr>\n",
              "  </thead>\n",
              "  <tbody>\n",
              "    <tr>\n",
              "      <th>0</th>\n",
              "      <td>2019-07-29</td>\n",
              "      <td>DL</td>\n",
              "      <td>DL</td>\n",
              "      <td>DL</td>\n",
              "      <td>2607</td>\n",
              "      <td>DL</td>\n",
              "      <td>N3743H</td>\n",
              "      <td>2607</td>\n",
              "      <td>10397</td>\n",
              "      <td>ATL</td>\n",
              "      <td>Atlanta, GA</td>\n",
              "      <td>15304</td>\n",
              "      <td>TPA</td>\n",
              "      <td>Tampa, FL</td>\n",
              "      <td>830</td>\n",
              "      <td>828.0</td>\n",
              "      <td>-2.0</td>\n",
              "      <td>21.0</td>\n",
              "      <td>849.0</td>\n",
              "      <td>952.0</td>\n",
              "      <td>3.0</td>\n",
              "      <td>957</td>\n",
              "      <td>955.0</td>\n",
              "      <td>-2.0</td>\n",
              "      <td>0.0</td>\n",
              "      <td>NaN</td>\n",
              "      <td>0.0</td>\n",
              "      <td>N</td>\n",
              "      <td>87.0</td>\n",
              "      <td>87.0</td>\n",
              "      <td>63.0</td>\n",
              "      <td>1.0</td>\n",
              "      <td>406.0</td>\n",
              "      <td>NaN</td>\n",
              "      <td>NaN</td>\n",
              "      <td>NaN</td>\n",
              "      <td>NaN</td>\n",
              "      <td>NaN</td>\n",
              "      <td>NaN</td>\n",
              "      <td>NaN</td>\n",
              "      <td>NaN</td>\n",
              "      <td>NaN</td>\n",
              "    </tr>\n",
              "    <tr>\n",
              "      <th>1</th>\n",
              "      <td>2019-06-27</td>\n",
              "      <td>DL</td>\n",
              "      <td>DL</td>\n",
              "      <td>DL</td>\n",
              "      <td>881</td>\n",
              "      <td>DL</td>\n",
              "      <td>N373DX</td>\n",
              "      <td>881</td>\n",
              "      <td>10397</td>\n",
              "      <td>ATL</td>\n",
              "      <td>Atlanta, GA</td>\n",
              "      <td>10423</td>\n",
              "      <td>AUS</td>\n",
              "      <td>Austin, TX</td>\n",
              "      <td>1334</td>\n",
              "      <td>1337.0</td>\n",
              "      <td>3.0</td>\n",
              "      <td>12.0</td>\n",
              "      <td>1349.0</td>\n",
              "      <td>1437.0</td>\n",
              "      <td>8.0</td>\n",
              "      <td>1452</td>\n",
              "      <td>1445.0</td>\n",
              "      <td>-7.0</td>\n",
              "      <td>0.0</td>\n",
              "      <td>NaN</td>\n",
              "      <td>0.0</td>\n",
              "      <td>N</td>\n",
              "      <td>138.0</td>\n",
              "      <td>128.0</td>\n",
              "      <td>108.0</td>\n",
              "      <td>1.0</td>\n",
              "      <td>813.0</td>\n",
              "      <td>NaN</td>\n",
              "      <td>NaN</td>\n",
              "      <td>NaN</td>\n",
              "      <td>NaN</td>\n",
              "      <td>NaN</td>\n",
              "      <td>NaN</td>\n",
              "      <td>NaN</td>\n",
              "      <td>NaN</td>\n",
              "      <td>NaN</td>\n",
              "    </tr>\n",
              "    <tr>\n",
              "      <th>2</th>\n",
              "      <td>2019-01-31</td>\n",
              "      <td>HA</td>\n",
              "      <td>HA</td>\n",
              "      <td>HA</td>\n",
              "      <td>360</td>\n",
              "      <td>HA</td>\n",
              "      <td>N478HA</td>\n",
              "      <td>360</td>\n",
              "      <td>13830</td>\n",
              "      <td>OGG</td>\n",
              "      <td>Kahului, HI</td>\n",
              "      <td>12402</td>\n",
              "      <td>ITO</td>\n",
              "      <td>Hilo, HI</td>\n",
              "      <td>1721</td>\n",
              "      <td>1720.0</td>\n",
              "      <td>-1.0</td>\n",
              "      <td>7.0</td>\n",
              "      <td>1727.0</td>\n",
              "      <td>1751.0</td>\n",
              "      <td>6.0</td>\n",
              "      <td>1800</td>\n",
              "      <td>1757.0</td>\n",
              "      <td>-3.0</td>\n",
              "      <td>0.0</td>\n",
              "      <td>NaN</td>\n",
              "      <td>0.0</td>\n",
              "      <td>N</td>\n",
              "      <td>39.0</td>\n",
              "      <td>37.0</td>\n",
              "      <td>24.0</td>\n",
              "      <td>1.0</td>\n",
              "      <td>121.0</td>\n",
              "      <td>NaN</td>\n",
              "      <td>NaN</td>\n",
              "      <td>NaN</td>\n",
              "      <td>NaN</td>\n",
              "      <td>NaN</td>\n",
              "      <td>NaN</td>\n",
              "      <td>NaN</td>\n",
              "      <td>NaN</td>\n",
              "      <td>NaN</td>\n",
              "    </tr>\n",
              "    <tr>\n",
              "      <th>3</th>\n",
              "      <td>2019-05-14</td>\n",
              "      <td>G4</td>\n",
              "      <td>G4</td>\n",
              "      <td>G4</td>\n",
              "      <td>2953</td>\n",
              "      <td>G4</td>\n",
              "      <td>241NV</td>\n",
              "      <td>2953</td>\n",
              "      <td>11618</td>\n",
              "      <td>EWR</td>\n",
              "      <td>Newark, NJ</td>\n",
              "      <td>15412</td>\n",
              "      <td>TYS</td>\n",
              "      <td>Knoxville, TN</td>\n",
              "      <td>1100</td>\n",
              "      <td>1049.0</td>\n",
              "      <td>-11.0</td>\n",
              "      <td>34.0</td>\n",
              "      <td>1123.0</td>\n",
              "      <td>1256.0</td>\n",
              "      <td>7.0</td>\n",
              "      <td>1300</td>\n",
              "      <td>1303.0</td>\n",
              "      <td>3.0</td>\n",
              "      <td>0.0</td>\n",
              "      <td>NaN</td>\n",
              "      <td>0.0</td>\n",
              "      <td>N</td>\n",
              "      <td>120.0</td>\n",
              "      <td>134.0</td>\n",
              "      <td>93.0</td>\n",
              "      <td>1.0</td>\n",
              "      <td>631.0</td>\n",
              "      <td>NaN</td>\n",
              "      <td>NaN</td>\n",
              "      <td>NaN</td>\n",
              "      <td>NaN</td>\n",
              "      <td>NaN</td>\n",
              "      <td>NaN</td>\n",
              "      <td>NaN</td>\n",
              "      <td>NaN</td>\n",
              "      <td>NaN</td>\n",
              "    </tr>\n",
              "    <tr>\n",
              "      <th>4</th>\n",
              "      <td>2018-08-07</td>\n",
              "      <td>DL</td>\n",
              "      <td>DL</td>\n",
              "      <td>DL</td>\n",
              "      <td>2192</td>\n",
              "      <td>DL</td>\n",
              "      <td>N815DN</td>\n",
              "      <td>2192</td>\n",
              "      <td>15304</td>\n",
              "      <td>TPA</td>\n",
              "      <td>Tampa, FL</td>\n",
              "      <td>11433</td>\n",
              "      <td>DTW</td>\n",
              "      <td>Detroit, MI</td>\n",
              "      <td>623</td>\n",
              "      <td>619.0</td>\n",
              "      <td>-4.0</td>\n",
              "      <td>11.0</td>\n",
              "      <td>630.0</td>\n",
              "      <td>838.0</td>\n",
              "      <td>6.0</td>\n",
              "      <td>900</td>\n",
              "      <td>844.0</td>\n",
              "      <td>-16.0</td>\n",
              "      <td>0.0</td>\n",
              "      <td>NaN</td>\n",
              "      <td>0.0</td>\n",
              "      <td>N</td>\n",
              "      <td>157.0</td>\n",
              "      <td>145.0</td>\n",
              "      <td>128.0</td>\n",
              "      <td>1.0</td>\n",
              "      <td>983.0</td>\n",
              "      <td>NaN</td>\n",
              "      <td>NaN</td>\n",
              "      <td>NaN</td>\n",
              "      <td>NaN</td>\n",
              "      <td>NaN</td>\n",
              "      <td>NaN</td>\n",
              "      <td>NaN</td>\n",
              "      <td>NaN</td>\n",
              "      <td>NaN</td>\n",
              "    </tr>\n",
              "    <tr>\n",
              "      <th>5</th>\n",
              "      <td>2019-12-15</td>\n",
              "      <td>F9</td>\n",
              "      <td>F9</td>\n",
              "      <td>F9</td>\n",
              "      <td>2963</td>\n",
              "      <td>F9</td>\n",
              "      <td>N339FR</td>\n",
              "      <td>2963</td>\n",
              "      <td>11618</td>\n",
              "      <td>EWR</td>\n",
              "      <td>Newark, NJ</td>\n",
              "      <td>14027</td>\n",
              "      <td>PBI</td>\n",
              "      <td>West Palm Beach/Palm Beach, FL</td>\n",
              "      <td>544</td>\n",
              "      <td>601.0</td>\n",
              "      <td>17.0</td>\n",
              "      <td>46.0</td>\n",
              "      <td>647.0</td>\n",
              "      <td>908.0</td>\n",
              "      <td>8.0</td>\n",
              "      <td>845</td>\n",
              "      <td>916.0</td>\n",
              "      <td>31.0</td>\n",
              "      <td>0.0</td>\n",
              "      <td>NaN</td>\n",
              "      <td>0.0</td>\n",
              "      <td>N</td>\n",
              "      <td>181.0</td>\n",
              "      <td>195.0</td>\n",
              "      <td>141.0</td>\n",
              "      <td>1.0</td>\n",
              "      <td>1023.0</td>\n",
              "      <td>17.0</td>\n",
              "      <td>0.0</td>\n",
              "      <td>14.0</td>\n",
              "      <td>0.0</td>\n",
              "      <td>0.0</td>\n",
              "      <td>NaN</td>\n",
              "      <td>NaN</td>\n",
              "      <td>NaN</td>\n",
              "      <td>NaN</td>\n",
              "    </tr>\n",
              "    <tr>\n",
              "      <th>6</th>\n",
              "      <td>2018-11-17</td>\n",
              "      <td>AA</td>\n",
              "      <td>AA_CODESHARE</td>\n",
              "      <td>AA</td>\n",
              "      <td>4479</td>\n",
              "      <td>YX</td>\n",
              "      <td>N130HQ</td>\n",
              "      <td>4479</td>\n",
              "      <td>10693</td>\n",
              "      <td>BNA</td>\n",
              "      <td>Nashville, TN</td>\n",
              "      <td>11057</td>\n",
              "      <td>CLT</td>\n",
              "      <td>Charlotte, NC</td>\n",
              "      <td>1441</td>\n",
              "      <td>1439.0</td>\n",
              "      <td>-2.0</td>\n",
              "      <td>12.0</td>\n",
              "      <td>1451.0</td>\n",
              "      <td>1647.0</td>\n",
              "      <td>8.0</td>\n",
              "      <td>1725</td>\n",
              "      <td>1655.0</td>\n",
              "      <td>-30.0</td>\n",
              "      <td>0.0</td>\n",
              "      <td>NaN</td>\n",
              "      <td>0.0</td>\n",
              "      <td>N</td>\n",
              "      <td>104.0</td>\n",
              "      <td>76.0</td>\n",
              "      <td>56.0</td>\n",
              "      <td>1.0</td>\n",
              "      <td>328.0</td>\n",
              "      <td>NaN</td>\n",
              "      <td>NaN</td>\n",
              "      <td>NaN</td>\n",
              "      <td>NaN</td>\n",
              "      <td>NaN</td>\n",
              "      <td>NaN</td>\n",
              "      <td>NaN</td>\n",
              "      <td>NaN</td>\n",
              "      <td>NaN</td>\n",
              "    </tr>\n",
              "    <tr>\n",
              "      <th>7</th>\n",
              "      <td>2019-12-28</td>\n",
              "      <td>UA</td>\n",
              "      <td>UA</td>\n",
              "      <td>UA</td>\n",
              "      <td>719</td>\n",
              "      <td>UA</td>\n",
              "      <td>N38459</td>\n",
              "      <td>719</td>\n",
              "      <td>12264</td>\n",
              "      <td>IAD</td>\n",
              "      <td>Washington, DC</td>\n",
              "      <td>12892</td>\n",
              "      <td>LAX</td>\n",
              "      <td>Los Angeles, CA</td>\n",
              "      <td>1720</td>\n",
              "      <td>1711.0</td>\n",
              "      <td>-9.0</td>\n",
              "      <td>15.0</td>\n",
              "      <td>1726.0</td>\n",
              "      <td>1924.0</td>\n",
              "      <td>7.0</td>\n",
              "      <td>2006</td>\n",
              "      <td>1931.0</td>\n",
              "      <td>-35.0</td>\n",
              "      <td>0.0</td>\n",
              "      <td>NaN</td>\n",
              "      <td>0.0</td>\n",
              "      <td>N</td>\n",
              "      <td>346.0</td>\n",
              "      <td>320.0</td>\n",
              "      <td>298.0</td>\n",
              "      <td>1.0</td>\n",
              "      <td>2288.0</td>\n",
              "      <td>NaN</td>\n",
              "      <td>NaN</td>\n",
              "      <td>NaN</td>\n",
              "      <td>NaN</td>\n",
              "      <td>NaN</td>\n",
              "      <td>NaN</td>\n",
              "      <td>NaN</td>\n",
              "      <td>NaN</td>\n",
              "      <td>NaN</td>\n",
              "    </tr>\n",
              "    <tr>\n",
              "      <th>8</th>\n",
              "      <td>2019-03-06</td>\n",
              "      <td>WN</td>\n",
              "      <td>WN</td>\n",
              "      <td>WN</td>\n",
              "      <td>863</td>\n",
              "      <td>WN</td>\n",
              "      <td>N7841A</td>\n",
              "      <td>863</td>\n",
              "      <td>10693</td>\n",
              "      <td>BNA</td>\n",
              "      <td>Nashville, TN</td>\n",
              "      <td>10397</td>\n",
              "      <td>ATL</td>\n",
              "      <td>Atlanta, GA</td>\n",
              "      <td>1300</td>\n",
              "      <td>1257.0</td>\n",
              "      <td>-3.0</td>\n",
              "      <td>10.0</td>\n",
              "      <td>1307.0</td>\n",
              "      <td>1445.0</td>\n",
              "      <td>6.0</td>\n",
              "      <td>1505</td>\n",
              "      <td>1451.0</td>\n",
              "      <td>-14.0</td>\n",
              "      <td>0.0</td>\n",
              "      <td>NaN</td>\n",
              "      <td>0.0</td>\n",
              "      <td>N</td>\n",
              "      <td>65.0</td>\n",
              "      <td>54.0</td>\n",
              "      <td>38.0</td>\n",
              "      <td>1.0</td>\n",
              "      <td>214.0</td>\n",
              "      <td>NaN</td>\n",
              "      <td>NaN</td>\n",
              "      <td>NaN</td>\n",
              "      <td>NaN</td>\n",
              "      <td>NaN</td>\n",
              "      <td>NaN</td>\n",
              "      <td>NaN</td>\n",
              "      <td>NaN</td>\n",
              "      <td>NaN</td>\n",
              "    </tr>\n",
              "    <tr>\n",
              "      <th>9</th>\n",
              "      <td>2018-07-30</td>\n",
              "      <td>UA</td>\n",
              "      <td>UA</td>\n",
              "      <td>UA</td>\n",
              "      <td>1973</td>\n",
              "      <td>UA</td>\n",
              "      <td>N26232</td>\n",
              "      <td>1973</td>\n",
              "      <td>12953</td>\n",
              "      <td>LGA</td>\n",
              "      <td>New York, NY</td>\n",
              "      <td>12266</td>\n",
              "      <td>IAH</td>\n",
              "      <td>Houston, TX</td>\n",
              "      <td>1015</td>\n",
              "      <td>1007.0</td>\n",
              "      <td>-8.0</td>\n",
              "      <td>28.0</td>\n",
              "      <td>1035.0</td>\n",
              "      <td>1242.0</td>\n",
              "      <td>7.0</td>\n",
              "      <td>1252</td>\n",
              "      <td>1249.0</td>\n",
              "      <td>-3.0</td>\n",
              "      <td>0.0</td>\n",
              "      <td>NaN</td>\n",
              "      <td>0.0</td>\n",
              "      <td>N</td>\n",
              "      <td>217.0</td>\n",
              "      <td>222.0</td>\n",
              "      <td>187.0</td>\n",
              "      <td>1.0</td>\n",
              "      <td>1416.0</td>\n",
              "      <td>NaN</td>\n",
              "      <td>NaN</td>\n",
              "      <td>NaN</td>\n",
              "      <td>NaN</td>\n",
              "      <td>NaN</td>\n",
              "      <td>NaN</td>\n",
              "      <td>NaN</td>\n",
              "      <td>NaN</td>\n",
              "      <td>NaN</td>\n",
              "    </tr>\n",
              "    <tr>\n",
              "      <th>10</th>\n",
              "      <td>2019-10-05</td>\n",
              "      <td>UA</td>\n",
              "      <td>UA_CODESHARE</td>\n",
              "      <td>UA</td>\n",
              "      <td>6379</td>\n",
              "      <td>YV</td>\n",
              "      <td>N88328</td>\n",
              "      <td>6379</td>\n",
              "      <td>13422</td>\n",
              "      <td>MOB</td>\n",
              "      <td>Mobile, AL</td>\n",
              "      <td>12266</td>\n",
              "      <td>IAH</td>\n",
              "      <td>Houston, TX</td>\n",
              "      <td>700</td>\n",
              "      <td>700.0</td>\n",
              "      <td>0.0</td>\n",
              "      <td>12.0</td>\n",
              "      <td>712.0</td>\n",
              "      <td>820.0</td>\n",
              "      <td>5.0</td>\n",
              "      <td>837</td>\n",
              "      <td>825.0</td>\n",
              "      <td>-12.0</td>\n",
              "      <td>0.0</td>\n",
              "      <td>NaN</td>\n",
              "      <td>0.0</td>\n",
              "      <td>N</td>\n",
              "      <td>97.0</td>\n",
              "      <td>85.0</td>\n",
              "      <td>68.0</td>\n",
              "      <td>1.0</td>\n",
              "      <td>427.0</td>\n",
              "      <td>NaN</td>\n",
              "      <td>NaN</td>\n",
              "      <td>NaN</td>\n",
              "      <td>NaN</td>\n",
              "      <td>NaN</td>\n",
              "      <td>NaN</td>\n",
              "      <td>NaN</td>\n",
              "      <td>NaN</td>\n",
              "      <td>NaN</td>\n",
              "    </tr>\n",
              "    <tr>\n",
              "      <th>11</th>\n",
              "      <td>2019-11-02</td>\n",
              "      <td>UA</td>\n",
              "      <td>UA</td>\n",
              "      <td>UA</td>\n",
              "      <td>2280</td>\n",
              "      <td>UA</td>\n",
              "      <td>N36447</td>\n",
              "      <td>2280</td>\n",
              "      <td>12266</td>\n",
              "      <td>IAH</td>\n",
              "      <td>Houston, TX</td>\n",
              "      <td>14893</td>\n",
              "      <td>SMF</td>\n",
              "      <td>Sacramento, CA</td>\n",
              "      <td>1940</td>\n",
              "      <td>1937.0</td>\n",
              "      <td>-3.0</td>\n",
              "      <td>21.0</td>\n",
              "      <td>1958.0</td>\n",
              "      <td>2139.0</td>\n",
              "      <td>6.0</td>\n",
              "      <td>2158</td>\n",
              "      <td>2145.0</td>\n",
              "      <td>-13.0</td>\n",
              "      <td>0.0</td>\n",
              "      <td>NaN</td>\n",
              "      <td>0.0</td>\n",
              "      <td>N</td>\n",
              "      <td>258.0</td>\n",
              "      <td>248.0</td>\n",
              "      <td>221.0</td>\n",
              "      <td>1.0</td>\n",
              "      <td>1609.0</td>\n",
              "      <td>NaN</td>\n",
              "      <td>NaN</td>\n",
              "      <td>NaN</td>\n",
              "      <td>NaN</td>\n",
              "      <td>NaN</td>\n",
              "      <td>NaN</td>\n",
              "      <td>NaN</td>\n",
              "      <td>NaN</td>\n",
              "      <td>NaN</td>\n",
              "    </tr>\n",
              "    <tr>\n",
              "      <th>12</th>\n",
              "      <td>2018-01-20</td>\n",
              "      <td>DL</td>\n",
              "      <td>DL_CODESHARE</td>\n",
              "      <td>DL</td>\n",
              "      <td>4693</td>\n",
              "      <td>OO</td>\n",
              "      <td>N255SY</td>\n",
              "      <td>4693</td>\n",
              "      <td>12889</td>\n",
              "      <td>LAS</td>\n",
              "      <td>Las Vegas, NV</td>\n",
              "      <td>12892</td>\n",
              "      <td>LAX</td>\n",
              "      <td>Los Angeles, CA</td>\n",
              "      <td>855</td>\n",
              "      <td>850.0</td>\n",
              "      <td>-5.0</td>\n",
              "      <td>12.0</td>\n",
              "      <td>902.0</td>\n",
              "      <td>951.0</td>\n",
              "      <td>7.0</td>\n",
              "      <td>1025</td>\n",
              "      <td>958.0</td>\n",
              "      <td>-27.0</td>\n",
              "      <td>0.0</td>\n",
              "      <td>NaN</td>\n",
              "      <td>0.0</td>\n",
              "      <td>N</td>\n",
              "      <td>90.0</td>\n",
              "      <td>68.0</td>\n",
              "      <td>49.0</td>\n",
              "      <td>1.0</td>\n",
              "      <td>236.0</td>\n",
              "      <td>NaN</td>\n",
              "      <td>NaN</td>\n",
              "      <td>NaN</td>\n",
              "      <td>NaN</td>\n",
              "      <td>NaN</td>\n",
              "      <td>NaN</td>\n",
              "      <td>NaN</td>\n",
              "      <td>NaN</td>\n",
              "      <td>NaN</td>\n",
              "    </tr>\n",
              "    <tr>\n",
              "      <th>13</th>\n",
              "      <td>2019-05-17</td>\n",
              "      <td>AA</td>\n",
              "      <td>AA_CODESHARE</td>\n",
              "      <td>AA</td>\n",
              "      <td>5593</td>\n",
              "      <td>OH</td>\n",
              "      <td>N511AE</td>\n",
              "      <td>5593</td>\n",
              "      <td>14100</td>\n",
              "      <td>PHL</td>\n",
              "      <td>Philadelphia, PA</td>\n",
              "      <td>13485</td>\n",
              "      <td>MSN</td>\n",
              "      <td>Madison, WI</td>\n",
              "      <td>1219</td>\n",
              "      <td>1232.0</td>\n",
              "      <td>13.0</td>\n",
              "      <td>18.0</td>\n",
              "      <td>1250.0</td>\n",
              "      <td>1346.0</td>\n",
              "      <td>4.0</td>\n",
              "      <td>1335</td>\n",
              "      <td>1350.0</td>\n",
              "      <td>15.0</td>\n",
              "      <td>0.0</td>\n",
              "      <td>NaN</td>\n",
              "      <td>0.0</td>\n",
              "      <td>N</td>\n",
              "      <td>136.0</td>\n",
              "      <td>138.0</td>\n",
              "      <td>116.0</td>\n",
              "      <td>1.0</td>\n",
              "      <td>764.0</td>\n",
              "      <td>2.0</td>\n",
              "      <td>0.0</td>\n",
              "      <td>2.0</td>\n",
              "      <td>0.0</td>\n",
              "      <td>11.0</td>\n",
              "      <td>NaN</td>\n",
              "      <td>NaN</td>\n",
              "      <td>NaN</td>\n",
              "      <td>NaN</td>\n",
              "    </tr>\n",
              "    <tr>\n",
              "      <th>14</th>\n",
              "      <td>2018-04-01</td>\n",
              "      <td>UA</td>\n",
              "      <td>UA_CODESHARE</td>\n",
              "      <td>UA</td>\n",
              "      <td>4086</td>\n",
              "      <td>EV</td>\n",
              "      <td>N13988</td>\n",
              "      <td>4086</td>\n",
              "      <td>12206</td>\n",
              "      <td>HRL</td>\n",
              "      <td>Harlingen/San Benito, TX</td>\n",
              "      <td>12266</td>\n",
              "      <td>IAH</td>\n",
              "      <td>Houston, TX</td>\n",
              "      <td>1605</td>\n",
              "      <td>1555.0</td>\n",
              "      <td>-10.0</td>\n",
              "      <td>8.0</td>\n",
              "      <td>1603.0</td>\n",
              "      <td>1652.0</td>\n",
              "      <td>7.0</td>\n",
              "      <td>1721</td>\n",
              "      <td>1659.0</td>\n",
              "      <td>-22.0</td>\n",
              "      <td>0.0</td>\n",
              "      <td>NaN</td>\n",
              "      <td>0.0</td>\n",
              "      <td>N</td>\n",
              "      <td>76.0</td>\n",
              "      <td>64.0</td>\n",
              "      <td>49.0</td>\n",
              "      <td>1.0</td>\n",
              "      <td>295.0</td>\n",
              "      <td>NaN</td>\n",
              "      <td>NaN</td>\n",
              "      <td>NaN</td>\n",
              "      <td>NaN</td>\n",
              "      <td>NaN</td>\n",
              "      <td>NaN</td>\n",
              "      <td>NaN</td>\n",
              "      <td>NaN</td>\n",
              "      <td>NaN</td>\n",
              "    </tr>\n",
              "  </tbody>\n",
              "</table>\n",
              "</div>"
            ],
            "text/plain": [
              "       fl_date mkt_unique_carrier  ... longest_add_gtime no_name\n",
              "0   2019-07-29                 DL  ...               NaN     NaN\n",
              "1   2019-06-27                 DL  ...               NaN     NaN\n",
              "2   2019-01-31                 HA  ...               NaN     NaN\n",
              "3   2019-05-14                 G4  ...               NaN     NaN\n",
              "4   2018-08-07                 DL  ...               NaN     NaN\n",
              "5   2019-12-15                 F9  ...               NaN     NaN\n",
              "6   2018-11-17                 AA  ...               NaN     NaN\n",
              "7   2019-12-28                 UA  ...               NaN     NaN\n",
              "8   2019-03-06                 WN  ...               NaN     NaN\n",
              "9   2018-07-30                 UA  ...               NaN     NaN\n",
              "10  2019-10-05                 UA  ...               NaN     NaN\n",
              "11  2019-11-02                 UA  ...               NaN     NaN\n",
              "12  2018-01-20                 DL  ...               NaN     NaN\n",
              "13  2019-05-17                 AA  ...               NaN     NaN\n",
              "14  2018-04-01                 UA  ...               NaN     NaN\n",
              "\n",
              "[15 rows x 42 columns]"
            ]
          },
          "metadata": {
            "tags": []
          },
          "execution_count": 4
        }
      ]
    },
    {
      "cell_type": "code",
      "metadata": {
        "id": "39Q8Ur_t1rF9"
      },
      "source": [
        ""
      ],
      "execution_count": null,
      "outputs": []
    },
    {
      "cell_type": "code",
      "metadata": {
        "id": "8NFHOG8VwpLI",
        "colab": {
          "base_uri": "https://localhost:8080/",
          "height": 391
        },
        "outputId": "26f3ff1a-13a0-4bcf-d042-a0add9e31f9b"
      },
      "source": [
        "df_fuel_consumption = pd.read_csv('df_fuel_consumption.csv')\n",
        "df_fuel_consumption = df_fuel_consumption.drop(columns=('Unnamed: 0'))"
      ],
      "execution_count": null,
      "outputs": [
        {
          "output_type": "error",
          "ename": "FileNotFoundError",
          "evalue": "ignored",
          "traceback": [
            "\u001b[0;31m---------------------------------------------------------------------------\u001b[0m",
            "\u001b[0;31mFileNotFoundError\u001b[0m                         Traceback (most recent call last)",
            "\u001b[0;32m<ipython-input-5-92623f7e0bee>\u001b[0m in \u001b[0;36m<module>\u001b[0;34m()\u001b[0m\n\u001b[0;32m----> 1\u001b[0;31m \u001b[0mdf_fuel_consumption\u001b[0m \u001b[0;34m=\u001b[0m \u001b[0mpd\u001b[0m\u001b[0;34m.\u001b[0m\u001b[0mread_csv\u001b[0m\u001b[0;34m(\u001b[0m\u001b[0;34m'df_fuel_consumption.csv'\u001b[0m\u001b[0;34m)\u001b[0m\u001b[0;34m\u001b[0m\u001b[0;34m\u001b[0m\u001b[0m\n\u001b[0m\u001b[1;32m      2\u001b[0m \u001b[0mdf_fuel_consumption\u001b[0m \u001b[0;34m=\u001b[0m \u001b[0mdf_fuel_consumption\u001b[0m\u001b[0;34m.\u001b[0m\u001b[0mdrop\u001b[0m\u001b[0;34m(\u001b[0m\u001b[0mcolumns\u001b[0m\u001b[0;34m=\u001b[0m\u001b[0;34m(\u001b[0m\u001b[0;34m'Unnamed: 0'\u001b[0m\u001b[0;34m)\u001b[0m\u001b[0;34m)\u001b[0m\u001b[0;34m\u001b[0m\u001b[0;34m\u001b[0m\u001b[0m\n",
            "\u001b[0;32m/usr/local/lib/python3.6/dist-packages/pandas/io/parsers.py\u001b[0m in \u001b[0;36mread_csv\u001b[0;34m(filepath_or_buffer, sep, delimiter, header, names, index_col, usecols, squeeze, prefix, mangle_dupe_cols, dtype, engine, converters, true_values, false_values, skipinitialspace, skiprows, skipfooter, nrows, na_values, keep_default_na, na_filter, verbose, skip_blank_lines, parse_dates, infer_datetime_format, keep_date_col, date_parser, dayfirst, cache_dates, iterator, chunksize, compression, thousands, decimal, lineterminator, quotechar, quoting, doublequote, escapechar, comment, encoding, dialect, error_bad_lines, warn_bad_lines, delim_whitespace, low_memory, memory_map, float_precision)\u001b[0m\n\u001b[1;32m    686\u001b[0m     )\n\u001b[1;32m    687\u001b[0m \u001b[0;34m\u001b[0m\u001b[0m\n\u001b[0;32m--> 688\u001b[0;31m     \u001b[0;32mreturn\u001b[0m \u001b[0m_read\u001b[0m\u001b[0;34m(\u001b[0m\u001b[0mfilepath_or_buffer\u001b[0m\u001b[0;34m,\u001b[0m \u001b[0mkwds\u001b[0m\u001b[0;34m)\u001b[0m\u001b[0;34m\u001b[0m\u001b[0;34m\u001b[0m\u001b[0m\n\u001b[0m\u001b[1;32m    689\u001b[0m \u001b[0;34m\u001b[0m\u001b[0m\n\u001b[1;32m    690\u001b[0m \u001b[0;34m\u001b[0m\u001b[0m\n",
            "\u001b[0;32m/usr/local/lib/python3.6/dist-packages/pandas/io/parsers.py\u001b[0m in \u001b[0;36m_read\u001b[0;34m(filepath_or_buffer, kwds)\u001b[0m\n\u001b[1;32m    452\u001b[0m \u001b[0;34m\u001b[0m\u001b[0m\n\u001b[1;32m    453\u001b[0m     \u001b[0;31m# Create the parser.\u001b[0m\u001b[0;34m\u001b[0m\u001b[0;34m\u001b[0m\u001b[0;34m\u001b[0m\u001b[0m\n\u001b[0;32m--> 454\u001b[0;31m     \u001b[0mparser\u001b[0m \u001b[0;34m=\u001b[0m \u001b[0mTextFileReader\u001b[0m\u001b[0;34m(\u001b[0m\u001b[0mfp_or_buf\u001b[0m\u001b[0;34m,\u001b[0m \u001b[0;34m**\u001b[0m\u001b[0mkwds\u001b[0m\u001b[0;34m)\u001b[0m\u001b[0;34m\u001b[0m\u001b[0;34m\u001b[0m\u001b[0m\n\u001b[0m\u001b[1;32m    455\u001b[0m \u001b[0;34m\u001b[0m\u001b[0m\n\u001b[1;32m    456\u001b[0m     \u001b[0;32mif\u001b[0m \u001b[0mchunksize\u001b[0m \u001b[0;32mor\u001b[0m \u001b[0miterator\u001b[0m\u001b[0;34m:\u001b[0m\u001b[0;34m\u001b[0m\u001b[0;34m\u001b[0m\u001b[0m\n",
            "\u001b[0;32m/usr/local/lib/python3.6/dist-packages/pandas/io/parsers.py\u001b[0m in \u001b[0;36m__init__\u001b[0;34m(self, f, engine, **kwds)\u001b[0m\n\u001b[1;32m    946\u001b[0m             \u001b[0mself\u001b[0m\u001b[0;34m.\u001b[0m\u001b[0moptions\u001b[0m\u001b[0;34m[\u001b[0m\u001b[0;34m\"has_index_names\"\u001b[0m\u001b[0;34m]\u001b[0m \u001b[0;34m=\u001b[0m \u001b[0mkwds\u001b[0m\u001b[0;34m[\u001b[0m\u001b[0;34m\"has_index_names\"\u001b[0m\u001b[0;34m]\u001b[0m\u001b[0;34m\u001b[0m\u001b[0;34m\u001b[0m\u001b[0m\n\u001b[1;32m    947\u001b[0m \u001b[0;34m\u001b[0m\u001b[0m\n\u001b[0;32m--> 948\u001b[0;31m         \u001b[0mself\u001b[0m\u001b[0;34m.\u001b[0m\u001b[0m_make_engine\u001b[0m\u001b[0;34m(\u001b[0m\u001b[0mself\u001b[0m\u001b[0;34m.\u001b[0m\u001b[0mengine\u001b[0m\u001b[0;34m)\u001b[0m\u001b[0;34m\u001b[0m\u001b[0;34m\u001b[0m\u001b[0m\n\u001b[0m\u001b[1;32m    949\u001b[0m \u001b[0;34m\u001b[0m\u001b[0m\n\u001b[1;32m    950\u001b[0m     \u001b[0;32mdef\u001b[0m \u001b[0mclose\u001b[0m\u001b[0;34m(\u001b[0m\u001b[0mself\u001b[0m\u001b[0;34m)\u001b[0m\u001b[0;34m:\u001b[0m\u001b[0;34m\u001b[0m\u001b[0;34m\u001b[0m\u001b[0m\n",
            "\u001b[0;32m/usr/local/lib/python3.6/dist-packages/pandas/io/parsers.py\u001b[0m in \u001b[0;36m_make_engine\u001b[0;34m(self, engine)\u001b[0m\n\u001b[1;32m   1178\u001b[0m     \u001b[0;32mdef\u001b[0m \u001b[0m_make_engine\u001b[0m\u001b[0;34m(\u001b[0m\u001b[0mself\u001b[0m\u001b[0;34m,\u001b[0m \u001b[0mengine\u001b[0m\u001b[0;34m=\u001b[0m\u001b[0;34m\"c\"\u001b[0m\u001b[0;34m)\u001b[0m\u001b[0;34m:\u001b[0m\u001b[0;34m\u001b[0m\u001b[0;34m\u001b[0m\u001b[0m\n\u001b[1;32m   1179\u001b[0m         \u001b[0;32mif\u001b[0m \u001b[0mengine\u001b[0m \u001b[0;34m==\u001b[0m \u001b[0;34m\"c\"\u001b[0m\u001b[0;34m:\u001b[0m\u001b[0;34m\u001b[0m\u001b[0;34m\u001b[0m\u001b[0m\n\u001b[0;32m-> 1180\u001b[0;31m             \u001b[0mself\u001b[0m\u001b[0;34m.\u001b[0m\u001b[0m_engine\u001b[0m \u001b[0;34m=\u001b[0m \u001b[0mCParserWrapper\u001b[0m\u001b[0;34m(\u001b[0m\u001b[0mself\u001b[0m\u001b[0;34m.\u001b[0m\u001b[0mf\u001b[0m\u001b[0;34m,\u001b[0m \u001b[0;34m**\u001b[0m\u001b[0mself\u001b[0m\u001b[0;34m.\u001b[0m\u001b[0moptions\u001b[0m\u001b[0;34m)\u001b[0m\u001b[0;34m\u001b[0m\u001b[0;34m\u001b[0m\u001b[0m\n\u001b[0m\u001b[1;32m   1181\u001b[0m         \u001b[0;32melse\u001b[0m\u001b[0;34m:\u001b[0m\u001b[0;34m\u001b[0m\u001b[0;34m\u001b[0m\u001b[0m\n\u001b[1;32m   1182\u001b[0m             \u001b[0;32mif\u001b[0m \u001b[0mengine\u001b[0m \u001b[0;34m==\u001b[0m \u001b[0;34m\"python\"\u001b[0m\u001b[0;34m:\u001b[0m\u001b[0;34m\u001b[0m\u001b[0;34m\u001b[0m\u001b[0m\n",
            "\u001b[0;32m/usr/local/lib/python3.6/dist-packages/pandas/io/parsers.py\u001b[0m in \u001b[0;36m__init__\u001b[0;34m(self, src, **kwds)\u001b[0m\n\u001b[1;32m   2008\u001b[0m         \u001b[0mkwds\u001b[0m\u001b[0;34m[\u001b[0m\u001b[0;34m\"usecols\"\u001b[0m\u001b[0;34m]\u001b[0m \u001b[0;34m=\u001b[0m \u001b[0mself\u001b[0m\u001b[0;34m.\u001b[0m\u001b[0musecols\u001b[0m\u001b[0;34m\u001b[0m\u001b[0;34m\u001b[0m\u001b[0m\n\u001b[1;32m   2009\u001b[0m \u001b[0;34m\u001b[0m\u001b[0m\n\u001b[0;32m-> 2010\u001b[0;31m         \u001b[0mself\u001b[0m\u001b[0;34m.\u001b[0m\u001b[0m_reader\u001b[0m \u001b[0;34m=\u001b[0m \u001b[0mparsers\u001b[0m\u001b[0;34m.\u001b[0m\u001b[0mTextReader\u001b[0m\u001b[0;34m(\u001b[0m\u001b[0msrc\u001b[0m\u001b[0;34m,\u001b[0m \u001b[0;34m**\u001b[0m\u001b[0mkwds\u001b[0m\u001b[0;34m)\u001b[0m\u001b[0;34m\u001b[0m\u001b[0;34m\u001b[0m\u001b[0m\n\u001b[0m\u001b[1;32m   2011\u001b[0m         \u001b[0mself\u001b[0m\u001b[0;34m.\u001b[0m\u001b[0munnamed_cols\u001b[0m \u001b[0;34m=\u001b[0m \u001b[0mself\u001b[0m\u001b[0;34m.\u001b[0m\u001b[0m_reader\u001b[0m\u001b[0;34m.\u001b[0m\u001b[0munnamed_cols\u001b[0m\u001b[0;34m\u001b[0m\u001b[0;34m\u001b[0m\u001b[0m\n\u001b[1;32m   2012\u001b[0m \u001b[0;34m\u001b[0m\u001b[0m\n",
            "\u001b[0;32mpandas/_libs/parsers.pyx\u001b[0m in \u001b[0;36mpandas._libs.parsers.TextReader.__cinit__\u001b[0;34m()\u001b[0m\n",
            "\u001b[0;32mpandas/_libs/parsers.pyx\u001b[0m in \u001b[0;36mpandas._libs.parsers.TextReader._setup_parser_source\u001b[0;34m()\u001b[0m\n",
            "\u001b[0;31mFileNotFoundError\u001b[0m: [Errno 2] No such file or directory: 'df_fuel_consumption.csv'"
          ]
        }
      ]
    },
    {
      "cell_type": "code",
      "metadata": {
        "id": "Gi1mEC3iwpTa"
      },
      "source": [
        "df_passengers = pd.read_csv('df_passengers.csv')\n",
        "df_passengers = df_passengers.drop(columns=('Unnamed: 0'))"
      ],
      "execution_count": null,
      "outputs": []
    },
    {
      "cell_type": "code",
      "metadata": {
        "id": "M_EW3yywwpVr"
      },
      "source": [
        "df_passengers.head(5)"
      ],
      "execution_count": null,
      "outputs": []
    },
    {
      "cell_type": "code",
      "metadata": {
        "id": "klP5ZKbgwpYS"
      },
      "source": [
        ""
      ],
      "execution_count": null,
      "outputs": []
    },
    {
      "cell_type": "markdown",
      "metadata": {
        "id": "ZgwVNOYKqQe8"
      },
      "source": [
        "#### Correlation between columns"
      ]
    },
    {
      "cell_type": "code",
      "metadata": {
        "id": "e2IdnOCRnQS5"
      },
      "source": [
        "from scipy.signal import correlate\n",
        "corr_matrix = df_flights.corr()"
      ],
      "execution_count": null,
      "outputs": []
    },
    {
      "cell_type": "code",
      "metadata": {
        "id": "Mn7KdGDFqm_3",
        "colab": {
          "base_uri": "https://localhost:8080/",
          "height": 999
        },
        "outputId": "30f68fe8-145f-4903-d510-eb8e66687df2"
      },
      "source": [
        "corr_matrix "
      ],
      "execution_count": null,
      "outputs": [
        {
          "output_type": "execute_result",
          "data": {
            "text/html": [
              "<div>\n",
              "<style scoped>\n",
              "    .dataframe tbody tr th:only-of-type {\n",
              "        vertical-align: middle;\n",
              "    }\n",
              "\n",
              "    .dataframe tbody tr th {\n",
              "        vertical-align: top;\n",
              "    }\n",
              "\n",
              "    .dataframe thead th {\n",
              "        text-align: right;\n",
              "    }\n",
              "</style>\n",
              "<table border=\"1\" class=\"dataframe\">\n",
              "  <thead>\n",
              "    <tr style=\"text-align: right;\">\n",
              "      <th></th>\n",
              "      <th>mkt_carrier_fl_num</th>\n",
              "      <th>op_carrier_fl_num</th>\n",
              "      <th>origin_airport_id</th>\n",
              "      <th>dest_airport_id</th>\n",
              "      <th>crs_dep_time</th>\n",
              "      <th>dep_time</th>\n",
              "      <th>dep_delay</th>\n",
              "      <th>taxi_out</th>\n",
              "      <th>wheels_off</th>\n",
              "      <th>wheels_on</th>\n",
              "      <th>taxi_in</th>\n",
              "      <th>crs_arr_time</th>\n",
              "      <th>arr_time</th>\n",
              "      <th>arr_delay</th>\n",
              "      <th>cancelled</th>\n",
              "      <th>diverted</th>\n",
              "      <th>crs_elapsed_time</th>\n",
              "      <th>actual_elapsed_time</th>\n",
              "      <th>air_time</th>\n",
              "      <th>flights</th>\n",
              "      <th>distance</th>\n",
              "      <th>carrier_delay</th>\n",
              "      <th>weather_delay</th>\n",
              "      <th>nas_delay</th>\n",
              "      <th>security_delay</th>\n",
              "      <th>late_aircraft_delay</th>\n",
              "      <th>first_dep_time</th>\n",
              "      <th>total_add_gtime</th>\n",
              "      <th>longest_add_gtime</th>\n",
              "      <th>no_name</th>\n",
              "    </tr>\n",
              "  </thead>\n",
              "  <tbody>\n",
              "    <tr>\n",
              "      <th>mkt_carrier_fl_num</th>\n",
              "      <td>1.000000</td>\n",
              "      <td>0.999934</td>\n",
              "      <td>-0.026674</td>\n",
              "      <td>-0.030410</td>\n",
              "      <td>0.005206</td>\n",
              "      <td>0.009589</td>\n",
              "      <td>0.019864</td>\n",
              "      <td>0.089651</td>\n",
              "      <td>0.017650</td>\n",
              "      <td>0.014250</td>\n",
              "      <td>0.000007</td>\n",
              "      <td>0.013510</td>\n",
              "      <td>0.018463</td>\n",
              "      <td>0.029199</td>\n",
              "      <td>0.034610</td>\n",
              "      <td>0.005326</td>\n",
              "      <td>-0.334726</td>\n",
              "      <td>-0.328133</td>\n",
              "      <td>-0.350312</td>\n",
              "      <td>NaN</td>\n",
              "      <td>-0.363846</td>\n",
              "      <td>0.025178</td>\n",
              "      <td>0.024468</td>\n",
              "      <td>-0.006699</td>\n",
              "      <td>-0.010658</td>\n",
              "      <td>0.065047</td>\n",
              "      <td>-0.000753</td>\n",
              "      <td>0.082173</td>\n",
              "      <td>0.077208</td>\n",
              "      <td>NaN</td>\n",
              "    </tr>\n",
              "    <tr>\n",
              "      <th>op_carrier_fl_num</th>\n",
              "      <td>0.999934</td>\n",
              "      <td>1.000000</td>\n",
              "      <td>-0.026653</td>\n",
              "      <td>-0.030487</td>\n",
              "      <td>0.005235</td>\n",
              "      <td>0.009650</td>\n",
              "      <td>0.020090</td>\n",
              "      <td>0.089709</td>\n",
              "      <td>0.017714</td>\n",
              "      <td>0.014313</td>\n",
              "      <td>-0.000003</td>\n",
              "      <td>0.013542</td>\n",
              "      <td>0.018524</td>\n",
              "      <td>0.029421</td>\n",
              "      <td>0.034619</td>\n",
              "      <td>0.005329</td>\n",
              "      <td>-0.334694</td>\n",
              "      <td>-0.328097</td>\n",
              "      <td>-0.350282</td>\n",
              "      <td>NaN</td>\n",
              "      <td>-0.363819</td>\n",
              "      <td>0.025873</td>\n",
              "      <td>0.024446</td>\n",
              "      <td>-0.006745</td>\n",
              "      <td>-0.010663</td>\n",
              "      <td>0.064963</td>\n",
              "      <td>-0.000753</td>\n",
              "      <td>0.082173</td>\n",
              "      <td>0.077208</td>\n",
              "      <td>NaN</td>\n",
              "    </tr>\n",
              "    <tr>\n",
              "      <th>origin_airport_id</th>\n",
              "      <td>-0.026674</td>\n",
              "      <td>-0.026653</td>\n",
              "      <td>1.000000</td>\n",
              "      <td>0.017599</td>\n",
              "      <td>-0.028046</td>\n",
              "      <td>-0.026401</td>\n",
              "      <td>-0.017208</td>\n",
              "      <td>-0.010224</td>\n",
              "      <td>-0.028564</td>\n",
              "      <td>0.000549</td>\n",
              "      <td>0.023100</td>\n",
              "      <td>-0.003223</td>\n",
              "      <td>0.002280</td>\n",
              "      <td>-0.015103</td>\n",
              "      <td>-0.002907</td>\n",
              "      <td>0.002408</td>\n",
              "      <td>0.050250</td>\n",
              "      <td>0.052927</td>\n",
              "      <td>0.053917</td>\n",
              "      <td>NaN</td>\n",
              "      <td>0.071537</td>\n",
              "      <td>-0.036300</td>\n",
              "      <td>-0.008931</td>\n",
              "      <td>0.004452</td>\n",
              "      <td>0.013068</td>\n",
              "      <td>0.002522</td>\n",
              "      <td>0.042714</td>\n",
              "      <td>-0.001054</td>\n",
              "      <td>0.005499</td>\n",
              "      <td>NaN</td>\n",
              "    </tr>\n",
              "    <tr>\n",
              "      <th>dest_airport_id</th>\n",
              "      <td>-0.030410</td>\n",
              "      <td>-0.030487</td>\n",
              "      <td>0.017599</td>\n",
              "      <td>1.000000</td>\n",
              "      <td>0.030666</td>\n",
              "      <td>0.032466</td>\n",
              "      <td>-0.008748</td>\n",
              "      <td>0.007495</td>\n",
              "      <td>0.031472</td>\n",
              "      <td>0.019015</td>\n",
              "      <td>-0.051674</td>\n",
              "      <td>0.018932</td>\n",
              "      <td>0.016531</td>\n",
              "      <td>-0.007293</td>\n",
              "      <td>-0.007562</td>\n",
              "      <td>-0.007481</td>\n",
              "      <td>0.082169</td>\n",
              "      <td>0.083743</td>\n",
              "      <td>0.089330</td>\n",
              "      <td>NaN</td>\n",
              "      <td>0.071995</td>\n",
              "      <td>-0.016261</td>\n",
              "      <td>-0.021173</td>\n",
              "      <td>-0.000606</td>\n",
              "      <td>0.022862</td>\n",
              "      <td>-0.027675</td>\n",
              "      <td>-0.009140</td>\n",
              "      <td>-0.102241</td>\n",
              "      <td>-0.097238</td>\n",
              "      <td>NaN</td>\n",
              "    </tr>\n",
              "    <tr>\n",
              "      <th>crs_dep_time</th>\n",
              "      <td>0.005206</td>\n",
              "      <td>0.005235</td>\n",
              "      <td>-0.028046</td>\n",
              "      <td>0.030666</td>\n",
              "      <td>1.000000</td>\n",
              "      <td>0.959623</td>\n",
              "      <td>0.097337</td>\n",
              "      <td>-0.003269</td>\n",
              "      <td>0.936369</td>\n",
              "      <td>0.647242</td>\n",
              "      <td>-0.054917</td>\n",
              "      <td>0.701882</td>\n",
              "      <td>0.615732</td>\n",
              "      <td>0.089835</td>\n",
              "      <td>0.013729</td>\n",
              "      <td>-0.006804</td>\n",
              "      <td>-0.024184</td>\n",
              "      <td>-0.026592</td>\n",
              "      <td>-0.022062</td>\n",
              "      <td>NaN</td>\n",
              "      <td>-0.015432</td>\n",
              "      <td>-0.058483</td>\n",
              "      <td>-0.002884</td>\n",
              "      <td>-0.039002</td>\n",
              "      <td>-0.012119</td>\n",
              "      <td>0.113942</td>\n",
              "      <td>0.969763</td>\n",
              "      <td>0.061690</td>\n",
              "      <td>0.092008</td>\n",
              "      <td>NaN</td>\n",
              "    </tr>\n",
              "    <tr>\n",
              "      <th>dep_time</th>\n",
              "      <td>0.009589</td>\n",
              "      <td>0.009650</td>\n",
              "      <td>-0.026401</td>\n",
              "      <td>0.032466</td>\n",
              "      <td>0.959623</td>\n",
              "      <td>1.000000</td>\n",
              "      <td>0.133534</td>\n",
              "      <td>0.007106</td>\n",
              "      <td>0.974185</td>\n",
              "      <td>0.670894</td>\n",
              "      <td>-0.050752</td>\n",
              "      <td>0.701027</td>\n",
              "      <td>0.638204</td>\n",
              "      <td>0.126137</td>\n",
              "      <td>0.005761</td>\n",
              "      <td>-0.004787</td>\n",
              "      <td>-0.028505</td>\n",
              "      <td>-0.029623</td>\n",
              "      <td>-0.027016</td>\n",
              "      <td>NaN</td>\n",
              "      <td>-0.022078</td>\n",
              "      <td>-0.046803</td>\n",
              "      <td>-0.018909</td>\n",
              "      <td>-0.028272</td>\n",
              "      <td>-0.005291</td>\n",
              "      <td>0.130734</td>\n",
              "      <td>0.686182</td>\n",
              "      <td>0.068388</td>\n",
              "      <td>0.059941</td>\n",
              "      <td>NaN</td>\n",
              "    </tr>\n",
              "    <tr>\n",
              "      <th>dep_delay</th>\n",
              "      <td>0.019864</td>\n",
              "      <td>0.020090</td>\n",
              "      <td>-0.017208</td>\n",
              "      <td>-0.008748</td>\n",
              "      <td>0.097337</td>\n",
              "      <td>0.133534</td>\n",
              "      <td>1.000000</td>\n",
              "      <td>0.060361</td>\n",
              "      <td>0.127009</td>\n",
              "      <td>0.038362</td>\n",
              "      <td>0.001488</td>\n",
              "      <td>0.087514</td>\n",
              "      <td>0.029700</td>\n",
              "      <td>0.962092</td>\n",
              "      <td>0.019254</td>\n",
              "      <td>0.015855</td>\n",
              "      <td>0.005606</td>\n",
              "      <td>0.008648</td>\n",
              "      <td>0.000325</td>\n",
              "      <td>NaN</td>\n",
              "      <td>-0.001223</td>\n",
              "      <td>0.623964</td>\n",
              "      <td>0.310445</td>\n",
              "      <td>0.176175</td>\n",
              "      <td>0.013580</td>\n",
              "      <td>0.541139</td>\n",
              "      <td>0.076854</td>\n",
              "      <td>0.289002</td>\n",
              "      <td>0.256774</td>\n",
              "      <td>NaN</td>\n",
              "    </tr>\n",
              "    <tr>\n",
              "      <th>taxi_out</th>\n",
              "      <td>0.089651</td>\n",
              "      <td>0.089709</td>\n",
              "      <td>-0.010224</td>\n",
              "      <td>0.007495</td>\n",
              "      <td>-0.003269</td>\n",
              "      <td>0.007106</td>\n",
              "      <td>0.060361</td>\n",
              "      <td>1.000000</td>\n",
              "      <td>0.036623</td>\n",
              "      <td>0.025711</td>\n",
              "      <td>0.017412</td>\n",
              "      <td>0.017308</td>\n",
              "      <td>0.021946</td>\n",
              "      <td>0.214366</td>\n",
              "      <td>0.014423</td>\n",
              "      <td>0.021109</td>\n",
              "      <td>0.075895</td>\n",
              "      <td>0.184548</td>\n",
              "      <td>0.046448</td>\n",
              "      <td>NaN</td>\n",
              "      <td>0.029473</td>\n",
              "      <td>-0.075993</td>\n",
              "      <td>0.022662</td>\n",
              "      <td>0.298367</td>\n",
              "      <td>-0.007677</td>\n",
              "      <td>-0.125399</td>\n",
              "      <td>-0.049360</td>\n",
              "      <td>0.211762</td>\n",
              "      <td>0.235819</td>\n",
              "      <td>NaN</td>\n",
              "    </tr>\n",
              "    <tr>\n",
              "      <th>wheels_off</th>\n",
              "      <td>0.017650</td>\n",
              "      <td>0.017714</td>\n",
              "      <td>-0.028564</td>\n",
              "      <td>0.031472</td>\n",
              "      <td>0.936369</td>\n",
              "      <td>0.974185</td>\n",
              "      <td>0.127009</td>\n",
              "      <td>0.036623</td>\n",
              "      <td>1.000000</td>\n",
              "      <td>0.689601</td>\n",
              "      <td>-0.048132</td>\n",
              "      <td>0.710379</td>\n",
              "      <td>0.656612</td>\n",
              "      <td>0.125181</td>\n",
              "      <td>0.000629</td>\n",
              "      <td>-0.003627</td>\n",
              "      <td>-0.036442</td>\n",
              "      <td>-0.033893</td>\n",
              "      <td>-0.035759</td>\n",
              "      <td>NaN</td>\n",
              "      <td>-0.033672</td>\n",
              "      <td>-0.053020</td>\n",
              "      <td>-0.019680</td>\n",
              "      <td>-0.009096</td>\n",
              "      <td>-0.004201</td>\n",
              "      <td>0.105441</td>\n",
              "      <td>0.642710</td>\n",
              "      <td>0.050662</td>\n",
              "      <td>0.038600</td>\n",
              "      <td>NaN</td>\n",
              "    </tr>\n",
              "    <tr>\n",
              "      <th>wheels_on</th>\n",
              "      <td>0.014250</td>\n",
              "      <td>0.014313</td>\n",
              "      <td>0.000549</td>\n",
              "      <td>0.019015</td>\n",
              "      <td>0.647242</td>\n",
              "      <td>0.670894</td>\n",
              "      <td>0.038362</td>\n",
              "      <td>0.025711</td>\n",
              "      <td>0.689601</td>\n",
              "      <td>1.000000</td>\n",
              "      <td>-0.015364</td>\n",
              "      <td>0.855236</td>\n",
              "      <td>0.962482</td>\n",
              "      <td>0.040600</td>\n",
              "      <td>NaN</td>\n",
              "      <td>0.007874</td>\n",
              "      <td>0.012094</td>\n",
              "      <td>0.014371</td>\n",
              "      <td>0.012526</td>\n",
              "      <td>NaN</td>\n",
              "      <td>0.008693</td>\n",
              "      <td>-0.056493</td>\n",
              "      <td>-0.018035</td>\n",
              "      <td>0.013611</td>\n",
              "      <td>0.003265</td>\n",
              "      <td>-0.022844</td>\n",
              "      <td>0.165082</td>\n",
              "      <td>0.055672</td>\n",
              "      <td>0.057280</td>\n",
              "      <td>NaN</td>\n",
              "    </tr>\n",
              "    <tr>\n",
              "      <th>taxi_in</th>\n",
              "      <td>0.000007</td>\n",
              "      <td>-0.000003</td>\n",
              "      <td>0.023100</td>\n",
              "      <td>-0.051674</td>\n",
              "      <td>-0.054917</td>\n",
              "      <td>-0.050752</td>\n",
              "      <td>0.001488</td>\n",
              "      <td>0.017412</td>\n",
              "      <td>-0.048132</td>\n",
              "      <td>-0.015364</td>\n",
              "      <td>1.000000</td>\n",
              "      <td>-0.016068</td>\n",
              "      <td>-0.009331</td>\n",
              "      <td>0.087607</td>\n",
              "      <td>NaN</td>\n",
              "      <td>0.030412</td>\n",
              "      <td>0.098825</td>\n",
              "      <td>0.159662</td>\n",
              "      <td>0.074803</td>\n",
              "      <td>NaN</td>\n",
              "      <td>0.063201</td>\n",
              "      <td>-0.061069</td>\n",
              "      <td>-0.002320</td>\n",
              "      <td>0.188353</td>\n",
              "      <td>-0.012008</td>\n",
              "      <td>-0.052113</td>\n",
              "      <td>-0.006100</td>\n",
              "      <td>0.106407</td>\n",
              "      <td>0.118245</td>\n",
              "      <td>NaN</td>\n",
              "    </tr>\n",
              "    <tr>\n",
              "      <th>crs_arr_time</th>\n",
              "      <td>0.013510</td>\n",
              "      <td>0.013542</td>\n",
              "      <td>-0.003223</td>\n",
              "      <td>0.018932</td>\n",
              "      <td>0.701882</td>\n",
              "      <td>0.701027</td>\n",
              "      <td>0.087514</td>\n",
              "      <td>0.017308</td>\n",
              "      <td>0.710379</td>\n",
              "      <td>0.855236</td>\n",
              "      <td>-0.016068</td>\n",
              "      <td>1.000000</td>\n",
              "      <td>0.849346</td>\n",
              "      <td>0.082445</td>\n",
              "      <td>0.006702</td>\n",
              "      <td>0.000511</td>\n",
              "      <td>0.018488</td>\n",
              "      <td>0.017533</td>\n",
              "      <td>0.016898</td>\n",
              "      <td>NaN</td>\n",
              "      <td>0.014575</td>\n",
              "      <td>-0.047250</td>\n",
              "      <td>0.004261</td>\n",
              "      <td>-0.000536</td>\n",
              "      <td>-0.006063</td>\n",
              "      <td>0.094646</td>\n",
              "      <td>0.692692</td>\n",
              "      <td>0.066547</td>\n",
              "      <td>0.088868</td>\n",
              "      <td>NaN</td>\n",
              "    </tr>\n",
              "    <tr>\n",
              "      <th>arr_time</th>\n",
              "      <td>0.018463</td>\n",
              "      <td>0.018524</td>\n",
              "      <td>0.002280</td>\n",
              "      <td>0.016531</td>\n",
              "      <td>0.615732</td>\n",
              "      <td>0.638204</td>\n",
              "      <td>0.029700</td>\n",
              "      <td>0.021946</td>\n",
              "      <td>0.656612</td>\n",
              "      <td>0.962482</td>\n",
              "      <td>-0.009331</td>\n",
              "      <td>0.849346</td>\n",
              "      <td>1.000000</td>\n",
              "      <td>0.031894</td>\n",
              "      <td>NaN</td>\n",
              "      <td>0.005698</td>\n",
              "      <td>0.009259</td>\n",
              "      <td>0.011422</td>\n",
              "      <td>0.009247</td>\n",
              "      <td>NaN</td>\n",
              "      <td>0.004880</td>\n",
              "      <td>-0.060734</td>\n",
              "      <td>-0.018720</td>\n",
              "      <td>0.008020</td>\n",
              "      <td>0.004213</td>\n",
              "      <td>-0.024433</td>\n",
              "      <td>0.130689</td>\n",
              "      <td>0.050900</td>\n",
              "      <td>0.050554</td>\n",
              "      <td>NaN</td>\n",
              "    </tr>\n",
              "    <tr>\n",
              "      <th>arr_delay</th>\n",
              "      <td>0.029199</td>\n",
              "      <td>0.029421</td>\n",
              "      <td>-0.015103</td>\n",
              "      <td>-0.007293</td>\n",
              "      <td>0.089835</td>\n",
              "      <td>0.126137</td>\n",
              "      <td>0.962092</td>\n",
              "      <td>0.214366</td>\n",
              "      <td>0.125181</td>\n",
              "      <td>0.040600</td>\n",
              "      <td>0.087607</td>\n",
              "      <td>0.082445</td>\n",
              "      <td>0.031894</td>\n",
              "      <td>1.000000</td>\n",
              "      <td>NaN</td>\n",
              "      <td>NaN</td>\n",
              "      <td>-0.025836</td>\n",
              "      <td>0.029080</td>\n",
              "      <td>-0.008042</td>\n",
              "      <td>NaN</td>\n",
              "      <td>-0.027522</td>\n",
              "      <td>0.618507</td>\n",
              "      <td>0.321561</td>\n",
              "      <td>0.272939</td>\n",
              "      <td>0.010044</td>\n",
              "      <td>0.515091</td>\n",
              "      <td>0.079918</td>\n",
              "      <td>0.387480</td>\n",
              "      <td>0.362698</td>\n",
              "      <td>NaN</td>\n",
              "    </tr>\n",
              "    <tr>\n",
              "      <th>cancelled</th>\n",
              "      <td>0.034610</td>\n",
              "      <td>0.034619</td>\n",
              "      <td>-0.002907</td>\n",
              "      <td>-0.007562</td>\n",
              "      <td>0.013729</td>\n",
              "      <td>0.005761</td>\n",
              "      <td>0.019254</td>\n",
              "      <td>0.014423</td>\n",
              "      <td>0.000629</td>\n",
              "      <td>NaN</td>\n",
              "      <td>NaN</td>\n",
              "      <td>0.006702</td>\n",
              "      <td>NaN</td>\n",
              "      <td>NaN</td>\n",
              "      <td>1.000000</td>\n",
              "      <td>-0.006622</td>\n",
              "      <td>-0.026026</td>\n",
              "      <td>NaN</td>\n",
              "      <td>NaN</td>\n",
              "      <td>NaN</td>\n",
              "      <td>-0.032169</td>\n",
              "      <td>NaN</td>\n",
              "      <td>NaN</td>\n",
              "      <td>NaN</td>\n",
              "      <td>NaN</td>\n",
              "      <td>NaN</td>\n",
              "      <td>0.062655</td>\n",
              "      <td>0.255924</td>\n",
              "      <td>0.283137</td>\n",
              "      <td>NaN</td>\n",
              "    </tr>\n",
              "    <tr>\n",
              "      <th>diverted</th>\n",
              "      <td>0.005326</td>\n",
              "      <td>0.005329</td>\n",
              "      <td>0.002408</td>\n",
              "      <td>-0.007481</td>\n",
              "      <td>-0.006804</td>\n",
              "      <td>-0.004787</td>\n",
              "      <td>0.015855</td>\n",
              "      <td>0.021109</td>\n",
              "      <td>-0.003627</td>\n",
              "      <td>0.007874</td>\n",
              "      <td>0.030412</td>\n",
              "      <td>0.000511</td>\n",
              "      <td>0.005698</td>\n",
              "      <td>NaN</td>\n",
              "      <td>-0.006622</td>\n",
              "      <td>1.000000</td>\n",
              "      <td>0.013000</td>\n",
              "      <td>NaN</td>\n",
              "      <td>NaN</td>\n",
              "      <td>NaN</td>\n",
              "      <td>0.010853</td>\n",
              "      <td>NaN</td>\n",
              "      <td>NaN</td>\n",
              "      <td>NaN</td>\n",
              "      <td>NaN</td>\n",
              "      <td>NaN</td>\n",
              "      <td>0.001539</td>\n",
              "      <td>0.144748</td>\n",
              "      <td>0.118050</td>\n",
              "      <td>NaN</td>\n",
              "    </tr>\n",
              "    <tr>\n",
              "      <th>crs_elapsed_time</th>\n",
              "      <td>-0.334726</td>\n",
              "      <td>-0.334694</td>\n",
              "      <td>0.050250</td>\n",
              "      <td>0.082169</td>\n",
              "      <td>-0.024184</td>\n",
              "      <td>-0.028505</td>\n",
              "      <td>0.005606</td>\n",
              "      <td>0.075895</td>\n",
              "      <td>-0.036442</td>\n",
              "      <td>0.012094</td>\n",
              "      <td>0.098825</td>\n",
              "      <td>0.018488</td>\n",
              "      <td>0.009259</td>\n",
              "      <td>-0.025836</td>\n",
              "      <td>-0.026026</td>\n",
              "      <td>0.013000</td>\n",
              "      <td>1.000000</td>\n",
              "      <td>0.982220</td>\n",
              "      <td>0.989106</td>\n",
              "      <td>NaN</td>\n",
              "      <td>0.982467</td>\n",
              "      <td>-0.004328</td>\n",
              "      <td>-0.011564</td>\n",
              "      <td>0.035390</td>\n",
              "      <td>0.016424</td>\n",
              "      <td>-0.053361</td>\n",
              "      <td>0.014603</td>\n",
              "      <td>0.045761</td>\n",
              "      <td>0.043109</td>\n",
              "      <td>NaN</td>\n",
              "    </tr>\n",
              "    <tr>\n",
              "      <th>actual_elapsed_time</th>\n",
              "      <td>-0.328133</td>\n",
              "      <td>-0.328097</td>\n",
              "      <td>0.052927</td>\n",
              "      <td>0.083743</td>\n",
              "      <td>-0.026592</td>\n",
              "      <td>-0.029623</td>\n",
              "      <td>0.008648</td>\n",
              "      <td>0.184548</td>\n",
              "      <td>-0.033893</td>\n",
              "      <td>0.014371</td>\n",
              "      <td>0.159662</td>\n",
              "      <td>0.017533</td>\n",
              "      <td>0.011422</td>\n",
              "      <td>0.029080</td>\n",
              "      <td>NaN</td>\n",
              "      <td>NaN</td>\n",
              "      <td>0.982220</td>\n",
              "      <td>1.000000</td>\n",
              "      <td>0.986704</td>\n",
              "      <td>NaN</td>\n",
              "      <td>0.968058</td>\n",
              "      <td>-0.038407</td>\n",
              "      <td>-0.011832</td>\n",
              "      <td>0.139911</td>\n",
              "      <td>0.010938</td>\n",
              "      <td>-0.105879</td>\n",
              "      <td>-0.017514</td>\n",
              "      <td>-0.002940</td>\n",
              "      <td>0.002290</td>\n",
              "      <td>NaN</td>\n",
              "    </tr>\n",
              "    <tr>\n",
              "      <th>air_time</th>\n",
              "      <td>-0.350312</td>\n",
              "      <td>-0.350282</td>\n",
              "      <td>0.053917</td>\n",
              "      <td>0.089330</td>\n",
              "      <td>-0.022062</td>\n",
              "      <td>-0.027016</td>\n",
              "      <td>0.000325</td>\n",
              "      <td>0.046448</td>\n",
              "      <td>-0.035759</td>\n",
              "      <td>0.012526</td>\n",
              "      <td>0.074803</td>\n",
              "      <td>0.016898</td>\n",
              "      <td>0.009247</td>\n",
              "      <td>-0.008042</td>\n",
              "      <td>NaN</td>\n",
              "      <td>NaN</td>\n",
              "      <td>0.989106</td>\n",
              "      <td>0.986704</td>\n",
              "      <td>1.000000</td>\n",
              "      <td>NaN</td>\n",
              "      <td>0.984252</td>\n",
              "      <td>-0.014682</td>\n",
              "      <td>-0.017224</td>\n",
              "      <td>0.054212</td>\n",
              "      <td>0.014684</td>\n",
              "      <td>-0.075476</td>\n",
              "      <td>-0.004971</td>\n",
              "      <td>-0.059366</td>\n",
              "      <td>-0.058507</td>\n",
              "      <td>NaN</td>\n",
              "    </tr>\n",
              "    <tr>\n",
              "      <th>flights</th>\n",
              "      <td>NaN</td>\n",
              "      <td>NaN</td>\n",
              "      <td>NaN</td>\n",
              "      <td>NaN</td>\n",
              "      <td>NaN</td>\n",
              "      <td>NaN</td>\n",
              "      <td>NaN</td>\n",
              "      <td>NaN</td>\n",
              "      <td>NaN</td>\n",
              "      <td>NaN</td>\n",
              "      <td>NaN</td>\n",
              "      <td>NaN</td>\n",
              "      <td>NaN</td>\n",
              "      <td>NaN</td>\n",
              "      <td>NaN</td>\n",
              "      <td>NaN</td>\n",
              "      <td>NaN</td>\n",
              "      <td>NaN</td>\n",
              "      <td>NaN</td>\n",
              "      <td>NaN</td>\n",
              "      <td>NaN</td>\n",
              "      <td>NaN</td>\n",
              "      <td>NaN</td>\n",
              "      <td>NaN</td>\n",
              "      <td>NaN</td>\n",
              "      <td>NaN</td>\n",
              "      <td>NaN</td>\n",
              "      <td>NaN</td>\n",
              "      <td>NaN</td>\n",
              "      <td>NaN</td>\n",
              "    </tr>\n",
              "    <tr>\n",
              "      <th>distance</th>\n",
              "      <td>-0.363846</td>\n",
              "      <td>-0.363819</td>\n",
              "      <td>0.071537</td>\n",
              "      <td>0.071995</td>\n",
              "      <td>-0.015432</td>\n",
              "      <td>-0.022078</td>\n",
              "      <td>-0.001223</td>\n",
              "      <td>0.029473</td>\n",
              "      <td>-0.033672</td>\n",
              "      <td>0.008693</td>\n",
              "      <td>0.063201</td>\n",
              "      <td>0.014575</td>\n",
              "      <td>0.004880</td>\n",
              "      <td>-0.027522</td>\n",
              "      <td>-0.032169</td>\n",
              "      <td>0.010853</td>\n",
              "      <td>0.982467</td>\n",
              "      <td>0.968058</td>\n",
              "      <td>0.984252</td>\n",
              "      <td>NaN</td>\n",
              "      <td>1.000000</td>\n",
              "      <td>-0.005498</td>\n",
              "      <td>-0.016512</td>\n",
              "      <td>0.017481</td>\n",
              "      <td>0.017821</td>\n",
              "      <td>-0.058619</td>\n",
              "      <td>0.023203</td>\n",
              "      <td>0.000384</td>\n",
              "      <td>-0.000683</td>\n",
              "      <td>NaN</td>\n",
              "    </tr>\n",
              "    <tr>\n",
              "      <th>carrier_delay</th>\n",
              "      <td>0.025178</td>\n",
              "      <td>0.025873</td>\n",
              "      <td>-0.036300</td>\n",
              "      <td>-0.016261</td>\n",
              "      <td>-0.058483</td>\n",
              "      <td>-0.046803</td>\n",
              "      <td>0.623964</td>\n",
              "      <td>-0.075993</td>\n",
              "      <td>-0.053020</td>\n",
              "      <td>-0.056493</td>\n",
              "      <td>-0.061069</td>\n",
              "      <td>-0.047250</td>\n",
              "      <td>-0.060734</td>\n",
              "      <td>0.618507</td>\n",
              "      <td>NaN</td>\n",
              "      <td>NaN</td>\n",
              "      <td>-0.004328</td>\n",
              "      <td>-0.038407</td>\n",
              "      <td>-0.014682</td>\n",
              "      <td>NaN</td>\n",
              "      <td>-0.005498</td>\n",
              "      <td>1.000000</td>\n",
              "      <td>-0.034288</td>\n",
              "      <td>-0.101471</td>\n",
              "      <td>-0.005784</td>\n",
              "      <td>-0.062515</td>\n",
              "      <td>-0.041346</td>\n",
              "      <td>0.094979</td>\n",
              "      <td>0.025608</td>\n",
              "      <td>NaN</td>\n",
              "    </tr>\n",
              "    <tr>\n",
              "      <th>weather_delay</th>\n",
              "      <td>0.024468</td>\n",
              "      <td>0.024446</td>\n",
              "      <td>-0.008931</td>\n",
              "      <td>-0.021173</td>\n",
              "      <td>-0.002884</td>\n",
              "      <td>-0.018909</td>\n",
              "      <td>0.310445</td>\n",
              "      <td>0.022662</td>\n",
              "      <td>-0.019680</td>\n",
              "      <td>-0.018035</td>\n",
              "      <td>-0.002320</td>\n",
              "      <td>0.004261</td>\n",
              "      <td>-0.018720</td>\n",
              "      <td>0.321561</td>\n",
              "      <td>NaN</td>\n",
              "      <td>NaN</td>\n",
              "      <td>-0.011564</td>\n",
              "      <td>-0.011832</td>\n",
              "      <td>-0.017224</td>\n",
              "      <td>NaN</td>\n",
              "      <td>-0.016512</td>\n",
              "      <td>-0.034288</td>\n",
              "      <td>1.000000</td>\n",
              "      <td>-0.019281</td>\n",
              "      <td>-0.002988</td>\n",
              "      <td>-0.021510</td>\n",
              "      <td>0.031043</td>\n",
              "      <td>0.233476</td>\n",
              "      <td>0.255405</td>\n",
              "      <td>NaN</td>\n",
              "    </tr>\n",
              "    <tr>\n",
              "      <th>nas_delay</th>\n",
              "      <td>-0.006699</td>\n",
              "      <td>-0.006745</td>\n",
              "      <td>0.004452</td>\n",
              "      <td>-0.000606</td>\n",
              "      <td>-0.039002</td>\n",
              "      <td>-0.028272</td>\n",
              "      <td>0.176175</td>\n",
              "      <td>0.298367</td>\n",
              "      <td>-0.009096</td>\n",
              "      <td>0.013611</td>\n",
              "      <td>0.188353</td>\n",
              "      <td>-0.000536</td>\n",
              "      <td>0.008020</td>\n",
              "      <td>0.272939</td>\n",
              "      <td>NaN</td>\n",
              "      <td>NaN</td>\n",
              "      <td>0.035390</td>\n",
              "      <td>0.139911</td>\n",
              "      <td>0.054212</td>\n",
              "      <td>NaN</td>\n",
              "      <td>0.017481</td>\n",
              "      <td>-0.101471</td>\n",
              "      <td>-0.019281</td>\n",
              "      <td>1.000000</td>\n",
              "      <td>-0.014278</td>\n",
              "      <td>-0.128575</td>\n",
              "      <td>0.133542</td>\n",
              "      <td>0.250263</td>\n",
              "      <td>0.281939</td>\n",
              "      <td>NaN</td>\n",
              "    </tr>\n",
              "    <tr>\n",
              "      <th>security_delay</th>\n",
              "      <td>-0.010658</td>\n",
              "      <td>-0.010663</td>\n",
              "      <td>0.013068</td>\n",
              "      <td>0.022862</td>\n",
              "      <td>-0.012119</td>\n",
              "      <td>-0.005291</td>\n",
              "      <td>0.013580</td>\n",
              "      <td>-0.007677</td>\n",
              "      <td>-0.004201</td>\n",
              "      <td>0.003265</td>\n",
              "      <td>-0.012008</td>\n",
              "      <td>-0.006063</td>\n",
              "      <td>0.004213</td>\n",
              "      <td>0.010044</td>\n",
              "      <td>NaN</td>\n",
              "      <td>NaN</td>\n",
              "      <td>0.016424</td>\n",
              "      <td>0.010938</td>\n",
              "      <td>0.014684</td>\n",
              "      <td>NaN</td>\n",
              "      <td>0.017821</td>\n",
              "      <td>-0.005784</td>\n",
              "      <td>-0.002988</td>\n",
              "      <td>-0.014278</td>\n",
              "      <td>1.000000</td>\n",
              "      <td>-0.016776</td>\n",
              "      <td>-0.001029</td>\n",
              "      <td>0.036587</td>\n",
              "      <td>0.043284</td>\n",
              "      <td>NaN</td>\n",
              "    </tr>\n",
              "    <tr>\n",
              "      <th>late_aircraft_delay</th>\n",
              "      <td>0.065047</td>\n",
              "      <td>0.064963</td>\n",
              "      <td>0.002522</td>\n",
              "      <td>-0.027675</td>\n",
              "      <td>0.113942</td>\n",
              "      <td>0.130734</td>\n",
              "      <td>0.541139</td>\n",
              "      <td>-0.125399</td>\n",
              "      <td>0.105441</td>\n",
              "      <td>-0.022844</td>\n",
              "      <td>-0.052113</td>\n",
              "      <td>0.094646</td>\n",
              "      <td>-0.024433</td>\n",
              "      <td>0.515091</td>\n",
              "      <td>NaN</td>\n",
              "      <td>NaN</td>\n",
              "      <td>-0.053361</td>\n",
              "      <td>-0.105879</td>\n",
              "      <td>-0.075476</td>\n",
              "      <td>NaN</td>\n",
              "      <td>-0.058619</td>\n",
              "      <td>-0.062515</td>\n",
              "      <td>-0.021510</td>\n",
              "      <td>-0.128575</td>\n",
              "      <td>-0.016776</td>\n",
              "      <td>1.000000</td>\n",
              "      <td>0.053312</td>\n",
              "      <td>0.027719</td>\n",
              "      <td>0.012813</td>\n",
              "      <td>NaN</td>\n",
              "    </tr>\n",
              "    <tr>\n",
              "      <th>first_dep_time</th>\n",
              "      <td>-0.000753</td>\n",
              "      <td>-0.000753</td>\n",
              "      <td>0.042714</td>\n",
              "      <td>-0.009140</td>\n",
              "      <td>0.969763</td>\n",
              "      <td>0.686182</td>\n",
              "      <td>0.076854</td>\n",
              "      <td>-0.049360</td>\n",
              "      <td>0.642710</td>\n",
              "      <td>0.165082</td>\n",
              "      <td>-0.006100</td>\n",
              "      <td>0.692692</td>\n",
              "      <td>0.130689</td>\n",
              "      <td>0.079918</td>\n",
              "      <td>0.062655</td>\n",
              "      <td>0.001539</td>\n",
              "      <td>0.014603</td>\n",
              "      <td>-0.017514</td>\n",
              "      <td>-0.004971</td>\n",
              "      <td>NaN</td>\n",
              "      <td>0.023203</td>\n",
              "      <td>-0.041346</td>\n",
              "      <td>0.031043</td>\n",
              "      <td>0.133542</td>\n",
              "      <td>-0.001029</td>\n",
              "      <td>0.053312</td>\n",
              "      <td>1.000000</td>\n",
              "      <td>0.071605</td>\n",
              "      <td>0.103593</td>\n",
              "      <td>NaN</td>\n",
              "    </tr>\n",
              "    <tr>\n",
              "      <th>total_add_gtime</th>\n",
              "      <td>0.082173</td>\n",
              "      <td>0.082173</td>\n",
              "      <td>-0.001054</td>\n",
              "      <td>-0.102241</td>\n",
              "      <td>0.061690</td>\n",
              "      <td>0.068388</td>\n",
              "      <td>0.289002</td>\n",
              "      <td>0.211762</td>\n",
              "      <td>0.050662</td>\n",
              "      <td>0.055672</td>\n",
              "      <td>0.106407</td>\n",
              "      <td>0.066547</td>\n",
              "      <td>0.050900</td>\n",
              "      <td>0.387480</td>\n",
              "      <td>0.255924</td>\n",
              "      <td>0.144748</td>\n",
              "      <td>0.045761</td>\n",
              "      <td>-0.002940</td>\n",
              "      <td>-0.059366</td>\n",
              "      <td>NaN</td>\n",
              "      <td>0.000384</td>\n",
              "      <td>0.094979</td>\n",
              "      <td>0.233476</td>\n",
              "      <td>0.250263</td>\n",
              "      <td>0.036587</td>\n",
              "      <td>0.027719</td>\n",
              "      <td>0.071605</td>\n",
              "      <td>1.000000</td>\n",
              "      <td>0.969358</td>\n",
              "      <td>NaN</td>\n",
              "    </tr>\n",
              "    <tr>\n",
              "      <th>longest_add_gtime</th>\n",
              "      <td>0.077208</td>\n",
              "      <td>0.077208</td>\n",
              "      <td>0.005499</td>\n",
              "      <td>-0.097238</td>\n",
              "      <td>0.092008</td>\n",
              "      <td>0.059941</td>\n",
              "      <td>0.256774</td>\n",
              "      <td>0.235819</td>\n",
              "      <td>0.038600</td>\n",
              "      <td>0.057280</td>\n",
              "      <td>0.118245</td>\n",
              "      <td>0.088868</td>\n",
              "      <td>0.050554</td>\n",
              "      <td>0.362698</td>\n",
              "      <td>0.283137</td>\n",
              "      <td>0.118050</td>\n",
              "      <td>0.043109</td>\n",
              "      <td>0.002290</td>\n",
              "      <td>-0.058507</td>\n",
              "      <td>NaN</td>\n",
              "      <td>-0.000683</td>\n",
              "      <td>0.025608</td>\n",
              "      <td>0.255405</td>\n",
              "      <td>0.281939</td>\n",
              "      <td>0.043284</td>\n",
              "      <td>0.012813</td>\n",
              "      <td>0.103593</td>\n",
              "      <td>0.969358</td>\n",
              "      <td>1.000000</td>\n",
              "      <td>NaN</td>\n",
              "    </tr>\n",
              "    <tr>\n",
              "      <th>no_name</th>\n",
              "      <td>NaN</td>\n",
              "      <td>NaN</td>\n",
              "      <td>NaN</td>\n",
              "      <td>NaN</td>\n",
              "      <td>NaN</td>\n",
              "      <td>NaN</td>\n",
              "      <td>NaN</td>\n",
              "      <td>NaN</td>\n",
              "      <td>NaN</td>\n",
              "      <td>NaN</td>\n",
              "      <td>NaN</td>\n",
              "      <td>NaN</td>\n",
              "      <td>NaN</td>\n",
              "      <td>NaN</td>\n",
              "      <td>NaN</td>\n",
              "      <td>NaN</td>\n",
              "      <td>NaN</td>\n",
              "      <td>NaN</td>\n",
              "      <td>NaN</td>\n",
              "      <td>NaN</td>\n",
              "      <td>NaN</td>\n",
              "      <td>NaN</td>\n",
              "      <td>NaN</td>\n",
              "      <td>NaN</td>\n",
              "      <td>NaN</td>\n",
              "      <td>NaN</td>\n",
              "      <td>NaN</td>\n",
              "      <td>NaN</td>\n",
              "      <td>NaN</td>\n",
              "      <td>NaN</td>\n",
              "    </tr>\n",
              "  </tbody>\n",
              "</table>\n",
              "</div>"
            ],
            "text/plain": [
              "                     mkt_carrier_fl_num  ...  no_name\n",
              "mkt_carrier_fl_num             1.000000  ...      NaN\n",
              "op_carrier_fl_num              0.999934  ...      NaN\n",
              "origin_airport_id             -0.026674  ...      NaN\n",
              "dest_airport_id               -0.030410  ...      NaN\n",
              "crs_dep_time                   0.005206  ...      NaN\n",
              "dep_time                       0.009589  ...      NaN\n",
              "dep_delay                      0.019864  ...      NaN\n",
              "taxi_out                       0.089651  ...      NaN\n",
              "wheels_off                     0.017650  ...      NaN\n",
              "wheels_on                      0.014250  ...      NaN\n",
              "taxi_in                        0.000007  ...      NaN\n",
              "crs_arr_time                   0.013510  ...      NaN\n",
              "arr_time                       0.018463  ...      NaN\n",
              "arr_delay                      0.029199  ...      NaN\n",
              "cancelled                      0.034610  ...      NaN\n",
              "diverted                       0.005326  ...      NaN\n",
              "crs_elapsed_time              -0.334726  ...      NaN\n",
              "actual_elapsed_time           -0.328133  ...      NaN\n",
              "air_time                      -0.350312  ...      NaN\n",
              "flights                             NaN  ...      NaN\n",
              "distance                      -0.363846  ...      NaN\n",
              "carrier_delay                  0.025178  ...      NaN\n",
              "weather_delay                  0.024468  ...      NaN\n",
              "nas_delay                     -0.006699  ...      NaN\n",
              "security_delay                -0.010658  ...      NaN\n",
              "late_aircraft_delay            0.065047  ...      NaN\n",
              "first_dep_time                -0.000753  ...      NaN\n",
              "total_add_gtime                0.082173  ...      NaN\n",
              "longest_add_gtime              0.077208  ...      NaN\n",
              "no_name                             NaN  ...      NaN\n",
              "\n",
              "[30 rows x 30 columns]"
            ]
          },
          "metadata": {
            "tags": []
          },
          "execution_count": 8
        }
      ]
    },
    {
      "cell_type": "code",
      "metadata": {
        "id": "lC7sVoJo3-2G"
      },
      "source": [
        ""
      ],
      "execution_count": null,
      "outputs": []
    },
    {
      "cell_type": "markdown",
      "metadata": {
        "id": "HSUTqgJ4JT8z"
      },
      "source": [
        "#### Drop columns"
      ]
    },
    {
      "cell_type": "code",
      "metadata": {
        "id": "zyheUjTa3-47"
      },
      "source": [
        "df_flights = df_flights.drop(columns=['op_carrier_fl_num','op_carrier_fl_num','crs_arr_time','wheels_off',\n",
        "                                            'wheels_on','wheels_off','wheels_off','flights','longest_add_gtime'])"
      ],
      "execution_count": null,
      "outputs": []
    },
    {
      "cell_type": "code",
      "metadata": {
        "id": "Rod58qX2S9bs"
      },
      "source": [
        "df_flights['fl_date'] = pd.to_datetime(df_flights['fl_date'])"
      ],
      "execution_count": null,
      "outputs": []
    },
    {
      "cell_type": "code",
      "metadata": {
        "id": "WPr_E7C93_D7"
      },
      "source": [
        "df_flights = df_flights.drop(columns=['branded_code_share', 'mkt_carrier','op_unique_carrier','tail_num','cancellation_code','dup','no_name'])\r\n"
      ],
      "execution_count": null,
      "outputs": []
    },
    {
      "cell_type": "code",
      "metadata": {
        "id": "M-8O2jd1A_8Y"
      },
      "source": [
        "df_flights['origin_state']= df_flights['origin_city_name'].str[-2:]\n",
        "df_flights['dest_state']= df_flights['dest_city_name'].str[-2:]"
      ],
      "execution_count": null,
      "outputs": []
    },
    {
      "cell_type": "code",
      "metadata": {
        "id": "cvmVVbFvKHOo"
      },
      "source": [
        "df_flights['origin_state']= df_flights['origin_city_name'].str[-2:]\n",
        "df_flights['dest_state']= df_flights['dest_city_name'].str[-2:]\n",
        "df_flights= df_flights.replace({\"origin_state\" : {'IL': 1 ,'IN':1,'KY':1,'MO':1,'OH':1,'TN':1,'WV':1,\n",
        "                                       'IA':2, 'MI':2, 'MN':2, 'WI':2,\n",
        "                                       'CT': 3, 'DE':3, 'ME':3, 'MD':3, 'MA':3, 'NH':3, 'NJ':3, 'NY':3, 'PA':3, 'RI':3, 'VT':3,\n",
        "                                       'ID': 4, 'OR':4, 'WA':4, \n",
        "                                       'AR':5, 'KS':5, 'LA':5, 'MS':5, 'OK':5, 'TX':5,\n",
        "                                       'AL':6, 'FL':6, 'GA':6, 'NC':6, 'SC':6, 'VA':6,'DC':6,\n",
        "                                       'AZ' :7, 'CO':7, 'NM':7, 'UT':7,\n",
        "                                       'CA':8, 'NV':8,\n",
        "                                       'MT':9, 'NE':9, 'ND':9, 'SD':9, 'WY':9,\n",
        "                                       'HI':0, 'PR':0, 'AK':0, 'VI':0, 'TT':0}})\n",
        "\n"
      ],
      "execution_count": null,
      "outputs": []
    },
    {
      "cell_type": "code",
      "metadata": {
        "id": "ep0WSbWsc4JR"
      },
      "source": [
        "\n",
        "\n",
        "df_flights= df_flights.replace({\"dest_state\" : {'IL': 1 ,'IN':1,'KY':1,'MO':1,'OH':1,'TN':1,'WV':1,\n",
        "                                       'IA':2, 'MI':2, 'MN':2, 'WI':2,\n",
        "                                       'CT': 3, 'DE':3, 'ME':3, 'MD':3, 'MA':3, 'NH':3, 'NJ':3, 'NY':3, 'PA':3, 'RI':3, 'VT':3,\n",
        "                                       'ID': 4, 'OR':4, 'WA':4, \n",
        "                                       'AR':5, 'KS':5, 'LA':5, 'MS':5, 'OK':5, 'TX':5,\n",
        "                                       'AL':6, 'FL':6, 'GA':6, 'NC':6, 'SC':6, 'VA':6,'DC':6,\n",
        "                                       'AZ' :7, 'CO':7, 'NM':7, 'UT':7,\n",
        "                                       'CA':8, 'NV':8,\n",
        "                                       'MT':9, 'NE':9, 'ND':9, 'SD':9, 'WY':9,\n",
        "                                       'HI':0, 'PR':0, 'AK':0, 'VI':0, 'TT':0}})"
      ],
      "execution_count": null,
      "outputs": []
    },
    {
      "cell_type": "code",
      "metadata": {
        "id": "dvZ9Y5taKHWe",
        "colab": {
          "base_uri": "https://localhost:8080/"
        },
        "outputId": "92973a8a-ee7b-437a-c3c6-2943832441c7"
      },
      "source": [
        "df_flights['dest_state'].unique()"
      ],
      "execution_count": null,
      "outputs": [
        {
          "output_type": "execute_result",
          "data": {
            "text/plain": [
              "array([6, 5, 0, 1, 2, 8, 4, 3, 7, 9])"
            ]
          },
          "metadata": {
            "tags": []
          },
          "execution_count": 19
        }
      ]
    },
    {
      "cell_type": "code",
      "metadata": {
        "id": "-eBoALYJKHcL"
      },
      "source": [
        "df_flights = df_flights.drop(columns=['origin','origin_city_name','dest','dest_city_name'])"
      ],
      "execution_count": null,
      "outputs": []
    },
    {
      "cell_type": "code",
      "metadata": {
        "id": "wjM1DXpXKHhh",
        "colab": {
          "base_uri": "https://localhost:8080/"
        },
        "outputId": "e5ffd75a-1ef6-4605-dd00-6bc76deb3909"
      },
      "source": [
        "df_flights['mkt_unique_carrier'].unique()"
      ],
      "execution_count": null,
      "outputs": [
        {
          "output_type": "execute_result",
          "data": {
            "text/plain": [
              "array(['DL', 'HA', 'G4', 'F9', 'AA', 'UA', 'WN', 'NK', 'B6', 'AS', 'VX'],\n",
              "      dtype=object)"
            ]
          },
          "metadata": {
            "tags": []
          },
          "execution_count": 22
        }
      ]
    },
    {
      "cell_type": "code",
      "metadata": {
        "id": "lqmF6xxqKHja"
      },
      "source": [
        "df_flights= df_flights.replace({\"mkt_unique_carrier\" : {'DL': 1 ,'HA':2,'G4':3,'F9':4,'AA':5,'UA':6,'WN':7,\n",
        "                                       'NK':8, 'B6':9, 'AS':10, 'VX':11,}})"
      ],
      "execution_count": null,
      "outputs": []
    },
    {
      "cell_type": "code",
      "metadata": {
        "id": "-OMX4co4KHrp"
      },
      "source": [
        "df_flights = df_flights.drop(columns=['total_add_gtime','first_dep_time'])"
      ],
      "execution_count": null,
      "outputs": []
    },
    {
      "cell_type": "code",
      "metadata": {
        "id": "-T6yVI_nvlwP"
      },
      "source": [
        "# drop coluns with null values at arr_delay\n",
        "df_flights.dropna(subset=['arr_delay'], how='all', inplace=True)"
      ],
      "execution_count": null,
      "outputs": []
    },
    {
      "cell_type": "code",
      "metadata": {
        "id": "wwmOeoNw0GL0"
      },
      "source": [
        "# filling with 0\n",
        "df_flights[\"late_aircraft_delay\"] = df_flights[\"late_aircraft_delay\"].fillna(0)\n",
        "df_flights[\"security_delay\"] = df_flights[\"security_delay\"].fillna(0)\n",
        "df_flights[\"nas_delay\"] = df_flights[\"nas_delay\"].fillna(0)\n",
        "df_flights[\"weather_delay\"] = df_flights[\"weather_delay\"].fillna(0)\n",
        "df_flights[\"carrier_delay\"] = df_flights[\"carrier_delay\"].fillna(0)\n",
        "df_flights[\"air_time\"] = df_flights[\"air_time\"].fillna(0)\n",
        "df_flights[\"actual_elapsed_time\"] = df_flights[\"actual_elapsed_time\"].fillna(0)\n",
        "df_flights[\"arr_time\"] = df_flights[\"arr_time\"].fillna(0)\n",
        "df_flights[\"taxi_out\"] = df_flights[\"taxi_out\"].fillna(0)\n",
        "df_flights[\"dep_delay\"] = df_flights[\"dep_delay\"].fillna(0)\n",
        "df_flights[\"dep_time\"] = df_flights[\"dep_time\"].fillna(0)\n",
        "df_flights[\"taxi_in\"] = df_flights[\"taxi_in\"].fillna(0)"
      ],
      "execution_count": null,
      "outputs": []
    },
    {
      "cell_type": "code",
      "metadata": {
        "id": "npknk8Zj8HO6"
      },
      "source": [
        "# put arr_delay into bins\n",
        "def delay(x):\n",
        "  if -80<= x <= 0 :\n",
        "    return 1\n",
        "  elif 1<x <=60:\n",
        "    return 2\n",
        "  elif 61<= x <=180:\n",
        "    return 3\n",
        "  elif 181<= x <=420:\n",
        "    return 4\n",
        "  else: return 5\n",
        "\n",
        "df_flights['flight_delayed'] = df_flights['arr_delay'].apply(delay)"
      ],
      "execution_count": null,
      "outputs": []
    },
    {
      "cell_type": "code",
      "metadata": {
        "id": "C7XrZJYUT-Td"
      },
      "source": [
        "df_flights = df_flights.drop(columns=['arr_delay','carrier_delay', 'weather_delay', 'nas_delay',\n",
        "       'security_delay', 'late_aircraft_delay'])"
      ],
      "execution_count": null,
      "outputs": []
    },
    {
      "cell_type": "code",
      "metadata": {
        "id": "RYeTlJMBT-XW"
      },
      "source": [
        "df_flights['mkt_unique_carrier'] = df_flights['mkt_unique_carrier'].astype('category')\n",
        "df_flights['mkt_carrier_fl_num'] = df_flights['mkt_carrier_fl_num'].astype('category')\n",
        "df_flights['diverted'] = df_flights['diverted'].astype('category')\n",
        "df_flights['cancelled'] = df_flights['cancelled'].astype('category')\n",
        "df_flights['origin_state'] = df_flights['origin_state'].astype('category')\n",
        "df_flights['dest_state'] = df_flights['dest_state'].astype('category')\n",
        "df_flights['origin_airport_id'] = df_flights['origin_airport_id'].astype('category')\n",
        "df_flights['dest_airport_id'] = df_flights['dest_airport_id'].astype('category')\n"
      ],
      "execution_count": null,
      "outputs": []
    },
    {
      "cell_type": "code",
      "metadata": {
        "id": "zW8uQt-wT-nj"
      },
      "source": [
        "# Changing data\n",
        "df_flights['fl_date'] = df_flights['fl_date'].astype(str)\n",
        "df_flights['fl_date'] = df_flights['fl_date'].str.replace(\"-\",\"\")\n",
        "df_flights['fl_date'] = df_flights['fl_date'].astype(int)"
      ],
      "execution_count": null,
      "outputs": []
    },
    {
      "cell_type": "code",
      "metadata": {
        "id": "VINNTJOET-wN"
      },
      "source": [
        "df_flights['fl_date'] = df_flights['fl_date'].astype('category')"
      ],
      "execution_count": null,
      "outputs": []
    },
    {
      "cell_type": "markdown",
      "metadata": {
        "id": "PGkk0vgNhoV-"
      },
      "source": [
        ""
      ]
    },
    {
      "cell_type": "code",
      "metadata": {
        "id": "Cyyv_obq8AbL"
      },
      "source": [
        "df_flights.columns"
      ],
      "execution_count": null,
      "outputs": []
    },
    {
      "cell_type": "markdown",
      "metadata": {
        "id": "RvbbHYhpl8-y"
      },
      "source": [
        "### Basemodel"
      ]
    },
    {
      "cell_type": "code",
      "metadata": {
        "id": "CYnMJxFd1fil"
      },
      "source": [
        "X = df_flights[['fl_date', 'mkt_unique_carrier', 'mkt_carrier_fl_num',\n",
        "       'origin_airport_id', 'dest_airport_id', 'crs_dep_time', 'dep_time',\n",
        "       'dep_delay', 'taxi_out', 'taxi_in', 'arr_time', 'cancelled', 'diverted',\n",
        "       'crs_elapsed_time', 'actual_elapsed_time', 'air_time', 'distance',\n",
        "       'origin_state', 'dest_state', 'flight_delayed']]\n",
        "\n",
        "y = df_flights['flight_delayed']"
      ],
      "execution_count": null,
      "outputs": []
    },
    {
      "cell_type": "code",
      "metadata": {
        "id": "BTFXuHbHKHws"
      },
      "source": [
        "# split X and y into training and testing sets\n",
        "from sklearn.model_selection import train_test_split\n",
        "X_train,X_test,y_train,y_test=train_test_split(X,y,test_size=0.3,random_state=0)"
      ],
      "execution_count": null,
      "outputs": []
    },
    {
      "cell_type": "markdown",
      "metadata": {
        "id": "eR_fJ05bxq_p"
      },
      "source": [
        "##### Logistic Regression"
      ]
    },
    {
      "cell_type": "code",
      "metadata": {
        "id": "87ERFVCLKHzG"
      },
      "source": [
        "from sklearn.linear_model import LogisticRegression\n",
        "\n",
        "# instantiate the model (using the default parameters)\n",
        "logreg = LogisticRegression()\n",
        "\n",
        "# fit the model with data\n",
        "logreg.fit(X_train,y_train)\n",
        "\n",
        "y_pred=logreg.predict(X_test)"
      ],
      "execution_count": null,
      "outputs": []
    },
    {
      "cell_type": "code",
      "metadata": {
        "id": "LZBziBl5mRsW",
        "colab": {
          "base_uri": "https://localhost:8080/"
        },
        "outputId": "d49f49c2-ae49-4f92-e874-1a6927e7fc7f"
      },
      "source": [
        "# import accuracy_score from sklearn\n",
        "from sklearn.metrics import accuracy_score\n",
        "\n",
        "# compute accuracy\n",
        "accuracy = accuracy_score(y_test,y_pred)\n",
        "\n",
        "print(accuracy)"
      ],
      "execution_count": null,
      "outputs": [
        {
          "output_type": "stream",
          "text": [
            "0.6564855216184053\n"
          ],
          "name": "stdout"
        }
      ]
    },
    {
      "cell_type": "code",
      "metadata": {
        "id": "OS8yh4aJmx89",
        "colab": {
          "base_uri": "https://localhost:8080/"
        },
        "outputId": "ec917ff0-3c1d-4b75-bec2-c59ec8160e6a"
      },
      "source": [
        "# import f1_score from sklearn\n",
        "from sklearn.metrics import f1_score\n",
        "\n",
        "# compute f1_score\n",
        "f1_score = f1_score(y_test,y_pred, average='weighted')\n",
        "\n",
        "print(f1_score)"
      ],
      "execution_count": null,
      "outputs": [
        {
          "output_type": "stream",
          "text": [
            "0.5203465221640139\n"
          ],
          "name": "stdout"
        }
      ]
    },
    {
      "cell_type": "code",
      "metadata": {
        "id": "JINHyZm6pMxN",
        "colab": {
          "base_uri": "https://localhost:8080/"
        },
        "outputId": "3d49c906-4c6c-4baa-f080-caac6cca7149"
      },
      "source": [
        "from sklearn.metrics import classification_report\n",
        "y_pred = logreg.predict(X_test)\n",
        "print(classification_report(y_test,y_pred))"
      ],
      "execution_count": null,
      "outputs": [
        {
          "output_type": "stream",
          "text": [
            "              precision    recall  f1-score   support\n",
            "\n",
            "           1       0.66      1.00      0.79     11585\n",
            "           2       0.00      0.00      0.00      4652\n",
            "           3       0.00      0.00      0.00       916\n",
            "           4       0.00      0.00      0.00       164\n",
            "           5       0.00      0.00      0.00       330\n",
            "\n",
            "    accuracy                           0.66     17647\n",
            "   macro avg       0.13      0.20      0.16     17647\n",
            "weighted avg       0.43      0.66      0.52     17647\n",
            "\n"
          ],
          "name": "stdout"
        },
        {
          "output_type": "stream",
          "text": [
            "/usr/local/lib/python3.6/dist-packages/sklearn/metrics/_classification.py:1272: UndefinedMetricWarning:\n",
            "\n",
            "Precision and F-score are ill-defined and being set to 0.0 in labels with no predicted samples. Use `zero_division` parameter to control this behavior.\n",
            "\n"
          ],
          "name": "stderr"
        }
      ]
    },
    {
      "cell_type": "code",
      "metadata": {
        "id": "WLSUDFN9OYMy",
        "colab": {
          "base_uri": "https://localhost:8080/"
        },
        "outputId": "84f7d14c-c441-4bcc-b24e-20ddd73a86e7"
      },
      "source": [
        "logreg.score(X_train,y_train)"
      ],
      "execution_count": null,
      "outputs": [
        {
          "output_type": "execute_result",
          "data": {
            "text/plain": [
              "0.6537863700393453"
            ]
          },
          "metadata": {
            "tags": []
          },
          "execution_count": 44
        }
      ]
    },
    {
      "cell_type": "markdown",
      "metadata": {
        "id": "5IrvpMvxxnMp"
      },
      "source": [
        "#### Naive Regression"
      ]
    },
    {
      "cell_type": "code",
      "metadata": {
        "id": "akEjWHKo9Tn_"
      },
      "source": [
        "from sklearn.naive_bayes import GaussianNB\n",
        "clf = GaussianNB()\n",
        "clf.fit(X_train, y_train)\n",
        "y_pred_naive = clf.predict(X_test)"
      ],
      "execution_count": null,
      "outputs": []
    },
    {
      "cell_type": "code",
      "metadata": {
        "id": "Tj1NqCNtqFXB",
        "colab": {
          "base_uri": "https://localhost:8080/"
        },
        "outputId": "261f5bcf-1967-4ca9-a211-fd1479b863c2"
      },
      "source": [
        "# import accuracy_score from sklearn\n",
        "from sklearn.metrics import accuracy_score\n",
        "\n",
        "# compute accuracy\n",
        "accuracy = accuracy_score(y_test,y_pred_naive)\n",
        "\n",
        "print(accuracy)"
      ],
      "execution_count": null,
      "outputs": [
        {
          "output_type": "stream",
          "text": [
            "0.9997166657222191\n"
          ],
          "name": "stdout"
        }
      ]
    },
    {
      "cell_type": "code",
      "metadata": {
        "id": "32ZxGtpsqFhk"
      },
      "source": [
        "# import f1_score from sklearn\n",
        "from sklearn.metrics import f1_score\n",
        "\n",
        "# compute f1_score\n",
        "f1_score = f1_score(y_test,y_pred_naive, average='macro',)\n",
        "\n",
        "print(f1_score)"
      ],
      "execution_count": null,
      "outputs": []
    },
    {
      "cell_type": "code",
      "metadata": {
        "id": "SRRNs2IgqFm2",
        "colab": {
          "base_uri": "https://localhost:8080/"
        },
        "outputId": "b49b094f-7681-40f2-8b62-35ec06911aaf"
      },
      "source": [
        "from sklearn.metrics import classification_report\n",
        "y_pred = clf.predict(X_test)\n",
        "print(classification_report(y_test,y_pred_naive))"
      ],
      "execution_count": null,
      "outputs": [
        {
          "output_type": "stream",
          "text": [
            "              precision    recall  f1-score   support\n",
            "\n",
            "           1       1.00      1.00      1.00     11585\n",
            "           2       1.00      1.00      1.00      4652\n",
            "           3       1.00      1.00      1.00       916\n",
            "           4       1.00      1.00      1.00       164\n",
            "           5       1.00      1.00      1.00       330\n",
            "\n",
            "    accuracy                           1.00     17647\n",
            "   macro avg       1.00      1.00      1.00     17647\n",
            "weighted avg       1.00      1.00      1.00     17647\n",
            "\n"
          ],
          "name": "stdout"
        }
      ]
    },
    {
      "cell_type": "code",
      "metadata": {
        "id": "mhqeNaoH9TqX",
        "colab": {
          "base_uri": "https://localhost:8080/"
        },
        "outputId": "284aa0b2-dfce-46c2-9479-b1be32a6bcd9"
      },
      "source": [
        "clf.score(X_train, y_train)"
      ],
      "execution_count": null,
      "outputs": [
        {
          "output_type": "execute_result",
          "data": {
            "text/plain": [
              "0.9996356924272599"
            ]
          },
          "metadata": {
            "tags": []
          },
          "execution_count": 48
        }
      ]
    },
    {
      "cell_type": "markdown",
      "metadata": {
        "id": "T3A0aYmcxaMB"
      },
      "source": [
        "#### XGBoost"
      ]
    },
    {
      "cell_type": "code",
      "metadata": {
        "id": "b2ok0Z1AdhtR",
        "colab": {
          "base_uri": "https://localhost:8080/"
        },
        "outputId": "027a0488-b55c-43ee-c1d5-9bfefa23dbd8"
      },
      "source": [
        "from sklearn.ensemble import GradientBoostingClassifier\n",
        "GBosst = GradientBoostingClassifier(n_estimators=100, learning_rate=1.0,  \n",
        "                                 max_depth=1, random_state=0).fit(X_train, y_train)\n",
        "GBosst.score(X_test, y_test)"
      ],
      "execution_count": null,
      "outputs": [
        {
          "output_type": "execute_result",
          "data": {
            "text/plain": [
              "0.2644075480251601"
            ]
          },
          "metadata": {
            "tags": []
          },
          "execution_count": 49
        }
      ]
    },
    {
      "cell_type": "code",
      "metadata": {
        "id": "QaCbMefbwIS_"
      },
      "source": [
        "y_pred_Gboost = GBosst.predict(X_test)"
      ],
      "execution_count": null,
      "outputs": []
    },
    {
      "cell_type": "code",
      "metadata": {
        "id": "xTfMLy14yygr",
        "colab": {
          "base_uri": "https://localhost:8080/"
        },
        "outputId": "45551a35-ecda-4660-e15f-97b4fff12daa"
      },
      "source": [
        "# import accuracy_score from sklearn\n",
        "from sklearn.metrics import accuracy_score\n",
        "\n",
        "# compute accuracy\n",
        "accuracy = accuracy_score(y_test,y_pred_Gboost)\n",
        "\n",
        "print(accuracy)"
      ],
      "execution_count": null,
      "outputs": [
        {
          "output_type": "stream",
          "text": [
            "0.2644075480251601\n"
          ],
          "name": "stdout"
        }
      ]
    },
    {
      "cell_type": "code",
      "metadata": {
        "id": "eHguuDNhyyrl",
        "colab": {
          "base_uri": "https://localhost:8080/"
        },
        "outputId": "e159db27-31f5-4e5e-f964-014fde99a6ad"
      },
      "source": [
        "# import f1_score from sklearn\n",
        "from sklearn.metrics import f1_score\n",
        "\n",
        "# compute f1_score\n",
        "f1_score = f1_score(y_test,y_pred_Gboost, average='weighted')\n",
        "\n",
        "print(f1_score)"
      ],
      "execution_count": null,
      "outputs": [
        {
          "output_type": "stream",
          "text": [
            "0.23430585687348482\n"
          ],
          "name": "stdout"
        }
      ]
    },
    {
      "cell_type": "code",
      "metadata": {
        "id": "Hg3Jinr_yy1Q",
        "colab": {
          "base_uri": "https://localhost:8080/"
        },
        "outputId": "c6a8601d-4349-4711-dcbc-ec7a49b74579"
      },
      "source": [
        "from sklearn.metrics import classification_report\n",
        "y_pred = GBosst.predict(X_test)\n",
        "print(classification_report(y_test,y_pred))"
      ],
      "execution_count": null,
      "outputs": [
        {
          "output_type": "stream",
          "text": [
            "              precision    recall  f1-score   support\n",
            "\n",
            "           1       0.00      0.00      0.00     11585\n",
            "           2       0.79      1.00      0.88      4652\n",
            "           3       0.07      0.02      0.03       916\n",
            "           4       0.00      0.00      0.00       164\n",
            "           5       0.00      0.00      0.00       330\n",
            "\n",
            "    accuracy                           0.26     17647\n",
            "   macro avg       0.17      0.20      0.18     17647\n",
            "weighted avg       0.21      0.26      0.23     17647\n",
            "\n"
          ],
          "name": "stdout"
        },
        {
          "output_type": "stream",
          "text": [
            "/usr/local/lib/python3.6/dist-packages/sklearn/metrics/_classification.py:1272: UndefinedMetricWarning:\n",
            "\n",
            "Precision and F-score are ill-defined and being set to 0.0 in labels with no predicted samples. Use `zero_division` parameter to control this behavior.\n",
            "\n"
          ],
          "name": "stderr"
        }
      ]
    },
    {
      "cell_type": "markdown",
      "metadata": {
        "id": "Bp7jLRfpzHoq"
      },
      "source": [
        "#### Random Forest"
      ]
    },
    {
      "cell_type": "code",
      "metadata": {
        "id": "eRDkTAQAwPfT"
      },
      "source": [
        "from sklearn.ensemble import RandomForestClassifier\n",
        "\n",
        "random_f = RandomForestClassifier(n_estimators=100)\n",
        "\n",
        "random_f.fit(X_train, y_train)\n",
        "y_pred_Ran = random_f.predict(X_test)"
      ],
      "execution_count": null,
      "outputs": []
    },
    {
      "cell_type": "code",
      "metadata": {
        "id": "1p69ZpO3q-lp",
        "colab": {
          "base_uri": "https://localhost:8080/"
        },
        "outputId": "34cda32f-9793-4fbd-abb8-5b16021ad7d3"
      },
      "source": [
        "# import accuracy_score from sklearn\n",
        "from sklearn.metrics import accuracy_score\n",
        "\n",
        "# compute accuracy\n",
        "accuracy = accuracy_score(y_test,y_pred_Ran)\n",
        "\n",
        "print(accuracy)"
      ],
      "execution_count": null,
      "outputs": [
        {
          "output_type": "stream",
          "text": [
            "0.9998299994333314\n"
          ],
          "name": "stdout"
        }
      ]
    },
    {
      "cell_type": "code",
      "metadata": {
        "id": "CzE5qC_6q-o5",
        "colab": {
          "base_uri": "https://localhost:8080/"
        },
        "outputId": "fa89f3a3-d97d-4638-b868-53c19bde1dd5"
      },
      "source": [
        "# import f1_score from sklearn\n",
        "from sklearn.metrics import f1_score\n",
        "\n",
        "# compute f1_score\n",
        "f1_score = f1_score(y_test,y_pred_Ran, average='macro',)\n",
        "\n",
        "print(f1_score)"
      ],
      "execution_count": null,
      "outputs": [
        {
          "output_type": "stream",
          "text": [
            "0.9972740691691152\n"
          ],
          "name": "stdout"
        }
      ]
    },
    {
      "cell_type": "code",
      "metadata": {
        "id": "FppU_RhZq-wH"
      },
      "source": [
        "from sklearn.metrics import classification_report\n",
        "y_pred = random_f.predict(X_test)\n",
        "print(classification_report(y_test,y_pred))"
      ],
      "execution_count": null,
      "outputs": []
    },
    {
      "cell_type": "code",
      "metadata": {
        "id": "cHjI5FFBA6bn"
      },
      "source": [
        "random_f.score(X_train, y_train)"
      ],
      "execution_count": null,
      "outputs": []
    },
    {
      "cell_type": "code",
      "metadata": {
        "id": "EWhJw8cdA636"
      },
      "source": [
        ""
      ],
      "execution_count": null,
      "outputs": []
    },
    {
      "cell_type": "markdown",
      "metadata": {
        "id": "tDC5YINVOjjI"
      },
      "source": [
        "### With PCA"
      ]
    },
    {
      "cell_type": "code",
      "metadata": {
        "id": "zGbmEa4nOih4"
      },
      "source": [
        ""
      ],
      "execution_count": null,
      "outputs": []
    },
    {
      "cell_type": "code",
      "metadata": {
        "id": "2Q5391653--l"
      },
      "source": [
        "\n",
        "pca=PCA()\n",
        "pca.fit(X)\n",
        "cum_explained_variance = np.cumsum(pca.explained_variance_ratio_)\n",
        "plt.plot(cum_explained_variance)\n",
        "plt.xlabel('PC number')\n",
        "plt.ylabel('% Cumulative explained variance')"
      ],
      "execution_count": null,
      "outputs": []
    },
    {
      "cell_type": "code",
      "metadata": {
        "id": "uwgDnjv4_Yh7"
      },
      "source": [
        "# PCA with 5 components\n",
        "pca = PCA(n_components=4)\n",
        "pca.fit(X_train)\n",
        "\n",
        "\n",
        "# Projection of the data into the 4 axes of the trained PCA\n",
        "X_train_pca = pca.transform(X_train)\n",
        "X_test_pca = pca.transform(X_test)\n"
      ],
      "execution_count": null,
      "outputs": []
    },
    {
      "cell_type": "markdown",
      "metadata": {
        "id": "CGoKdYesxvob"
      },
      "source": [
        "##### PCA logistc Regression"
      ]
    },
    {
      "cell_type": "code",
      "metadata": {
        "id": "wX_S8J1P_YlK"
      },
      "source": [
        "from sklearn.linear_model import LogisticRegression\n",
        "\n",
        "# instantiate the model (using the default parameters)\n",
        "logreg_pca = LogisticRegression() #solver='lbfgs', max_iter=100\n",
        "\n",
        "# fit the model with data\n",
        "logreg_pca.fit(X_train_pca,y_train)\n",
        "\n",
        "y_pred_Log = logreg_pca.predict(X_test_pca)\n"
      ],
      "execution_count": null,
      "outputs": []
    },
    {
      "cell_type": "code",
      "metadata": {
        "id": "_HTMkZhDvHl5"
      },
      "source": [
        "# import accuracy_score from sklearn\n",
        "from sklearn.metrics import accuracy_score\n",
        "\n",
        "# compute accuracy\n",
        "accuracy = accuracy_score(y_test,y_pred_Log)\n",
        "\n",
        "print(accuracy)"
      ],
      "execution_count": null,
      "outputs": []
    },
    {
      "cell_type": "code",
      "metadata": {
        "id": "20ih9hb4vHoy"
      },
      "source": [
        "# import f1_score from sklearn\n",
        "from sklearn.metrics import f1_score\n",
        "\n",
        "# compute f1_score\n",
        "f1_score = f1_score(y_test,y_pred_Log, average='macro',)\n",
        "\n",
        "print(f1_score)"
      ],
      "execution_count": null,
      "outputs": []
    },
    {
      "cell_type": "code",
      "metadata": {
        "id": "1aDhlLa-vH4M"
      },
      "source": [
        "from sklearn.metrics import classification_report\n",
        "y_pred = logreg_pca.predict(X_test_pca)\n",
        "print(classification_report(y_test,y_pred))"
      ],
      "execution_count": null,
      "outputs": []
    },
    {
      "cell_type": "code",
      "metadata": {
        "id": "8KKFutwRdGG6"
      },
      "source": [
        "logreg_pca.score(X_train_pca,y_train)"
      ],
      "execution_count": null,
      "outputs": []
    },
    {
      "cell_type": "code",
      "metadata": {
        "id": "wslEsRx1vH6X"
      },
      "source": [
        ""
      ],
      "execution_count": null,
      "outputs": []
    },
    {
      "cell_type": "markdown",
      "metadata": {
        "id": "AP_L8OAgx1ou"
      },
      "source": [
        "#### PCA Naive Regression"
      ]
    },
    {
      "cell_type": "code",
      "metadata": {
        "id": "QFq430i0_YqQ"
      },
      "source": [
        "from sklearn.naive_bayes import GaussianNB\n",
        "clf_pca = GaussianNB()\n",
        "clf_pca.fit(X_train_pca,y_train)\n",
        "\n",
        "y_pred_naive_pca = clf_pca.predict(X_test_pca)\n"
      ],
      "execution_count": null,
      "outputs": []
    },
    {
      "cell_type": "code",
      "metadata": {
        "id": "DQrxfk46wUit"
      },
      "source": [
        "# import accuracy_score from sklearn\n",
        "from sklearn.metrics import accuracy_score\n",
        "\n",
        "# compute accuracy\n",
        "accuracy = accuracy_score(y_test,y_pred_naive_pca)\n",
        "\n",
        "print(accuracy)"
      ],
      "execution_count": null,
      "outputs": []
    },
    {
      "cell_type": "code",
      "metadata": {
        "id": "H2QPAee6wUt2"
      },
      "source": [
        "# import f1_score from sklearn\n",
        "from sklearn.metrics import f1_score\n",
        "\n",
        "# compute f1_score\n",
        "f1_score = f1_score(y_test,y_pred_naive_pca, average='macro',)\n",
        "\n",
        "print(f1_score)"
      ],
      "execution_count": null,
      "outputs": []
    },
    {
      "cell_type": "code",
      "metadata": {
        "id": "93xpHM7AwU8D"
      },
      "source": [
        "from sklearn.metrics import classification_report\n",
        "y_pred = clf_pca.predict(X_test_pca)\n",
        "print(classification_report(y_test,y_pred))"
      ],
      "execution_count": null,
      "outputs": []
    },
    {
      "cell_type": "code",
      "metadata": {
        "id": "m9MK2p0A_YtC"
      },
      "source": [
        "clf_pca.score(X_train_pca, y_train)"
      ],
      "execution_count": null,
      "outputs": []
    },
    {
      "cell_type": "markdown",
      "metadata": {
        "id": "RbcrDT9ax5eD"
      },
      "source": [
        "##### PCA XGBoost"
      ]
    },
    {
      "cell_type": "code",
      "metadata": {
        "id": "PlFKh0-3_Yvl"
      },
      "source": [
        "from sklearn.ensemble import GradientBoostingClassifier\n",
        "GBosst = GradientBoostingClassifier(n_estimators=100, learning_rate=1.0,  \n",
        "                                 max_depth=1, random_state=0).fit(X_train_pca,y_train)\n",
        "GBosst.score(X_test_pca, y_test)"
      ],
      "execution_count": null,
      "outputs": []
    },
    {
      "cell_type": "code",
      "metadata": {
        "id": "9h8jL2vTwYoz"
      },
      "source": [
        "y_pred_Gboost_pca = GBosst.predict(X_test_pca)"
      ],
      "execution_count": null,
      "outputs": []
    },
    {
      "cell_type": "code",
      "metadata": {
        "id": "SYa2GQmh8prc"
      },
      "source": [
        "# import accuracy_score from sklearn\n",
        "from sklearn.metrics import accuracy_score\n",
        "\n",
        "# compute accuracy\n",
        "accuracy = accuracy_score(y_test,y_pred_Gboost_pca)\n",
        "\n",
        "print(accuracy)"
      ],
      "execution_count": null,
      "outputs": []
    },
    {
      "cell_type": "code",
      "metadata": {
        "id": "97LKP-Z78p15"
      },
      "source": [
        "# import f1_score from sklearn\n",
        "from sklearn.metrics import f1_score\n",
        "\n",
        "# compute f1_score\n",
        "f1_score = f1_score(y_test,y_pred_Gboost_pca, average='macro',)\n",
        "\n",
        "print(f1_score)"
      ],
      "execution_count": null,
      "outputs": []
    },
    {
      "cell_type": "code",
      "metadata": {
        "id": "qvKyBUUM8p7b"
      },
      "source": [
        "from sklearn.metrics import classification_report\n",
        "y_pred_pca = GBosst.predict(X_test_pca)\n",
        "print(classification_report(y_test,y_pred_pca))"
      ],
      "execution_count": null,
      "outputs": []
    },
    {
      "cell_type": "markdown",
      "metadata": {
        "id": "_-nBKrGrAssA"
      },
      "source": [
        "#### PCA Random Forest"
      ]
    },
    {
      "cell_type": "code",
      "metadata": {
        "id": "YA1nq_PS9e92"
      },
      "source": [
        "from sklearn.ensemble import RandomForestClassifier\n",
        "\n",
        "random_f = RandomForestClassifier(n_estimators=100)\n",
        "\n",
        "random_f.fit(X_train_pca,y_train)\n",
        "y_pred_Ran_pca = random_f.predict(X_test_pca)"
      ],
      "execution_count": null,
      "outputs": []
    },
    {
      "cell_type": "code",
      "metadata": {
        "id": "ixscDJf99fBV"
      },
      "source": [
        "# import accuracy_score from sklearn\n",
        "from sklearn.metrics import accuracy_score\n",
        "\n",
        "# compute accuracy\n",
        "accuracy = accuracy_score(y_test,y_pred_Ran_pca)\n",
        "\n",
        "print(accuracy)"
      ],
      "execution_count": null,
      "outputs": []
    },
    {
      "cell_type": "code",
      "metadata": {
        "id": "yVrWlM--9fEH"
      },
      "source": [
        "# import f1_score from sklearn\n",
        "from sklearn.metrics import f1_score\n",
        "\n",
        "# compute f1_score\n",
        "f1_score = f1_score(y_test,y_pred_Ran_pca, average='macro',)\n",
        "\n",
        "print(f1_score)"
      ],
      "execution_count": null,
      "outputs": []
    },
    {
      "cell_type": "code",
      "metadata": {
        "id": "nSqq2AyV9fG-"
      },
      "source": [
        "from sklearn.metrics import classification_report\n",
        "y_pred = random_f.predict(X_test)\n",
        "print(classification_report(y_test,y_pred))"
      ],
      "execution_count": null,
      "outputs": []
    },
    {
      "cell_type": "code",
      "metadata": {
        "id": "Gjs5yPT59fJ2"
      },
      "source": [
        ""
      ],
      "execution_count": null,
      "outputs": []
    },
    {
      "cell_type": "markdown",
      "metadata": {
        "id": "tT8A3qgBdfJL"
      },
      "source": [
        "### Feature Engineering\n",
        "  ###### Preprocessing"
      ]
    },
    {
      "cell_type": "code",
      "metadata": {
        "id": "8n6_bDLy0Ndf"
      },
      "source": [
        "df_flights_module = pd.read_csv('df_airporairport_weather_Final.csv')\n",
        "df_flights_module = df_flights_module.drop(columns=('Unnamed: 0'))"
      ],
      "execution_count": null,
      "outputs": []
    },
    {
      "cell_type": "code",
      "metadata": {
        "id": "ElUnDcw7K44x"
      },
      "source": [
        "# Drop columns aready delete for the base model\n",
        "df_flights_module = df_flights_module.drop(columns=['branded_code_share', 'mkt_carrier','op_carrier_fl_num','op_carrier_fl_num','crs_arr_time','wheels_off','mkt_unique_carrier',\n",
        "                                            'wheels_on','wheels_off','wheels_off','mkt_carrier_fl_num','flights','longest_add_gtime','tail_num','branded_code_share', 'mkt_carrier','branded_code_share', 'mkt_carrier'])\n"
      ],
      "execution_count": null,
      "outputs": []
    },
    {
      "cell_type": "code",
      "metadata": {
        "colab": {
          "base_uri": "https://localhost:8080/",
          "height": 609
        },
        "id": "XfsNlB65NSSu",
        "outputId": "91aa620c-3fb8-43c0-aa7b-432246ab3056"
      },
      "source": [
        "df_flights_module"
      ],
      "execution_count": null,
      "outputs": [
        {
          "output_type": "execute_result",
          "data": {
            "text/html": [
              "<div>\n",
              "<style scoped>\n",
              "    .dataframe tbody tr th:only-of-type {\n",
              "        vertical-align: middle;\n",
              "    }\n",
              "\n",
              "    .dataframe tbody tr th {\n",
              "        vertical-align: top;\n",
              "    }\n",
              "\n",
              "    .dataframe thead th {\n",
              "        text-align: right;\n",
              "    }\n",
              "</style>\n",
              "<table border=\"1\" class=\"dataframe\">\n",
              "  <thead>\n",
              "    <tr style=\"text-align: right;\">\n",
              "      <th></th>\n",
              "      <th>fl_date</th>\n",
              "      <th>op_unique_carrier</th>\n",
              "      <th>origin_airport_id</th>\n",
              "      <th>origin</th>\n",
              "      <th>origin_city_name</th>\n",
              "      <th>dest_airport_id</th>\n",
              "      <th>dest</th>\n",
              "      <th>dest_city_name</th>\n",
              "      <th>crs_dep_time</th>\n",
              "      <th>dep_time</th>\n",
              "      <th>dep_delay</th>\n",
              "      <th>taxi_out</th>\n",
              "      <th>taxi_in</th>\n",
              "      <th>arr_time</th>\n",
              "      <th>arr_delay</th>\n",
              "      <th>cancelled</th>\n",
              "      <th>cancellation_code</th>\n",
              "      <th>diverted</th>\n",
              "      <th>dup</th>\n",
              "      <th>crs_elapsed_time</th>\n",
              "      <th>actual_elapsed_time</th>\n",
              "      <th>air_time</th>\n",
              "      <th>distance</th>\n",
              "      <th>carrier_delay</th>\n",
              "      <th>weather_delay</th>\n",
              "      <th>nas_delay</th>\n",
              "      <th>security_delay</th>\n",
              "      <th>late_aircraft_delay</th>\n",
              "      <th>first_dep_time</th>\n",
              "      <th>total_add_gtime</th>\n",
              "      <th>no_name</th>\n",
              "      <th>rain</th>\n",
              "      <th>snow</th>\n",
              "      <th>visibility</th>\n",
              "      <th>wind</th>\n",
              "    </tr>\n",
              "  </thead>\n",
              "  <tbody>\n",
              "    <tr>\n",
              "      <th>0</th>\n",
              "      <td>2019-07-29</td>\n",
              "      <td>DL</td>\n",
              "      <td>10397</td>\n",
              "      <td>ATL</td>\n",
              "      <td>Atlanta, GA</td>\n",
              "      <td>15304</td>\n",
              "      <td>TPA</td>\n",
              "      <td>Tampa, FL</td>\n",
              "      <td>830</td>\n",
              "      <td>828.0</td>\n",
              "      <td>-2.0</td>\n",
              "      <td>21.0</td>\n",
              "      <td>3.0</td>\n",
              "      <td>955.0</td>\n",
              "      <td>-2.0</td>\n",
              "      <td>0.0</td>\n",
              "      <td>NaN</td>\n",
              "      <td>0.0</td>\n",
              "      <td>N</td>\n",
              "      <td>87.0</td>\n",
              "      <td>87.0</td>\n",
              "      <td>63.0</td>\n",
              "      <td>406.0</td>\n",
              "      <td>NaN</td>\n",
              "      <td>NaN</td>\n",
              "      <td>NaN</td>\n",
              "      <td>NaN</td>\n",
              "      <td>NaN</td>\n",
              "      <td>NaN</td>\n",
              "      <td>NaN</td>\n",
              "      <td>NaN</td>\n",
              "      <td>7.5</td>\n",
              "      <td>0.0</td>\n",
              "      <td>9</td>\n",
              "      <td>10</td>\n",
              "    </tr>\n",
              "    <tr>\n",
              "      <th>1</th>\n",
              "      <td>2019-06-27</td>\n",
              "      <td>DL</td>\n",
              "      <td>10397</td>\n",
              "      <td>ATL</td>\n",
              "      <td>Atlanta, GA</td>\n",
              "      <td>10423</td>\n",
              "      <td>AUS</td>\n",
              "      <td>Austin, TX</td>\n",
              "      <td>1334</td>\n",
              "      <td>1337.0</td>\n",
              "      <td>3.0</td>\n",
              "      <td>12.0</td>\n",
              "      <td>8.0</td>\n",
              "      <td>1445.0</td>\n",
              "      <td>-7.0</td>\n",
              "      <td>0.0</td>\n",
              "      <td>NaN</td>\n",
              "      <td>0.0</td>\n",
              "      <td>N</td>\n",
              "      <td>138.0</td>\n",
              "      <td>128.0</td>\n",
              "      <td>108.0</td>\n",
              "      <td>813.0</td>\n",
              "      <td>NaN</td>\n",
              "      <td>NaN</td>\n",
              "      <td>NaN</td>\n",
              "      <td>NaN</td>\n",
              "      <td>NaN</td>\n",
              "      <td>NaN</td>\n",
              "      <td>NaN</td>\n",
              "      <td>NaN</td>\n",
              "      <td>0.0</td>\n",
              "      <td>0.0</td>\n",
              "      <td>10</td>\n",
              "      <td>12</td>\n",
              "    </tr>\n",
              "    <tr>\n",
              "      <th>2</th>\n",
              "      <td>2018-11-17</td>\n",
              "      <td>YX</td>\n",
              "      <td>10693</td>\n",
              "      <td>BNA</td>\n",
              "      <td>Nashville, TN</td>\n",
              "      <td>11057</td>\n",
              "      <td>CLT</td>\n",
              "      <td>Charlotte, NC</td>\n",
              "      <td>1441</td>\n",
              "      <td>1439.0</td>\n",
              "      <td>-2.0</td>\n",
              "      <td>12.0</td>\n",
              "      <td>8.0</td>\n",
              "      <td>1655.0</td>\n",
              "      <td>-30.0</td>\n",
              "      <td>0.0</td>\n",
              "      <td>NaN</td>\n",
              "      <td>0.0</td>\n",
              "      <td>N</td>\n",
              "      <td>104.0</td>\n",
              "      <td>76.0</td>\n",
              "      <td>56.0</td>\n",
              "      <td>328.0</td>\n",
              "      <td>NaN</td>\n",
              "      <td>NaN</td>\n",
              "      <td>NaN</td>\n",
              "      <td>NaN</td>\n",
              "      <td>NaN</td>\n",
              "      <td>NaN</td>\n",
              "      <td>NaN</td>\n",
              "      <td>NaN</td>\n",
              "      <td>0.0</td>\n",
              "      <td>0.0</td>\n",
              "      <td>10</td>\n",
              "      <td>5</td>\n",
              "    </tr>\n",
              "    <tr>\n",
              "      <th>3</th>\n",
              "      <td>2019-12-28</td>\n",
              "      <td>UA</td>\n",
              "      <td>12264</td>\n",
              "      <td>IAD</td>\n",
              "      <td>Washington, DC</td>\n",
              "      <td>12892</td>\n",
              "      <td>LAX</td>\n",
              "      <td>Los Angeles, CA</td>\n",
              "      <td>1720</td>\n",
              "      <td>1711.0</td>\n",
              "      <td>-9.0</td>\n",
              "      <td>15.0</td>\n",
              "      <td>7.0</td>\n",
              "      <td>1931.0</td>\n",
              "      <td>-35.0</td>\n",
              "      <td>0.0</td>\n",
              "      <td>NaN</td>\n",
              "      <td>0.0</td>\n",
              "      <td>N</td>\n",
              "      <td>346.0</td>\n",
              "      <td>320.0</td>\n",
              "      <td>298.0</td>\n",
              "      <td>2288.0</td>\n",
              "      <td>NaN</td>\n",
              "      <td>NaN</td>\n",
              "      <td>NaN</td>\n",
              "      <td>NaN</td>\n",
              "      <td>NaN</td>\n",
              "      <td>NaN</td>\n",
              "      <td>NaN</td>\n",
              "      <td>NaN</td>\n",
              "      <td>0.0</td>\n",
              "      <td>0.0</td>\n",
              "      <td>10</td>\n",
              "      <td>5</td>\n",
              "    </tr>\n",
              "    <tr>\n",
              "      <th>4</th>\n",
              "      <td>2019-03-06</td>\n",
              "      <td>WN</td>\n",
              "      <td>10693</td>\n",
              "      <td>BNA</td>\n",
              "      <td>Nashville, TN</td>\n",
              "      <td>10397</td>\n",
              "      <td>ATL</td>\n",
              "      <td>Atlanta, GA</td>\n",
              "      <td>1300</td>\n",
              "      <td>1257.0</td>\n",
              "      <td>-3.0</td>\n",
              "      <td>10.0</td>\n",
              "      <td>6.0</td>\n",
              "      <td>1451.0</td>\n",
              "      <td>-14.0</td>\n",
              "      <td>0.0</td>\n",
              "      <td>NaN</td>\n",
              "      <td>0.0</td>\n",
              "      <td>N</td>\n",
              "      <td>65.0</td>\n",
              "      <td>54.0</td>\n",
              "      <td>38.0</td>\n",
              "      <td>214.0</td>\n",
              "      <td>NaN</td>\n",
              "      <td>NaN</td>\n",
              "      <td>NaN</td>\n",
              "      <td>NaN</td>\n",
              "      <td>NaN</td>\n",
              "      <td>NaN</td>\n",
              "      <td>NaN</td>\n",
              "      <td>NaN</td>\n",
              "      <td>0.0</td>\n",
              "      <td>0.0</td>\n",
              "      <td>10</td>\n",
              "      <td>14</td>\n",
              "    </tr>\n",
              "    <tr>\n",
              "      <th>...</th>\n",
              "      <td>...</td>\n",
              "      <td>...</td>\n",
              "      <td>...</td>\n",
              "      <td>...</td>\n",
              "      <td>...</td>\n",
              "      <td>...</td>\n",
              "      <td>...</td>\n",
              "      <td>...</td>\n",
              "      <td>...</td>\n",
              "      <td>...</td>\n",
              "      <td>...</td>\n",
              "      <td>...</td>\n",
              "      <td>...</td>\n",
              "      <td>...</td>\n",
              "      <td>...</td>\n",
              "      <td>...</td>\n",
              "      <td>...</td>\n",
              "      <td>...</td>\n",
              "      <td>...</td>\n",
              "      <td>...</td>\n",
              "      <td>...</td>\n",
              "      <td>...</td>\n",
              "      <td>...</td>\n",
              "      <td>...</td>\n",
              "      <td>...</td>\n",
              "      <td>...</td>\n",
              "      <td>...</td>\n",
              "      <td>...</td>\n",
              "      <td>...</td>\n",
              "      <td>...</td>\n",
              "      <td>...</td>\n",
              "      <td>...</td>\n",
              "      <td>...</td>\n",
              "      <td>...</td>\n",
              "      <td>...</td>\n",
              "    </tr>\n",
              "    <tr>\n",
              "      <th>35076</th>\n",
              "      <td>2019-10-08</td>\n",
              "      <td>AA</td>\n",
              "      <td>13495</td>\n",
              "      <td>MSY</td>\n",
              "      <td>New Orleans, LA</td>\n",
              "      <td>11298</td>\n",
              "      <td>DFW</td>\n",
              "      <td>Dallas/Fort Worth, TX</td>\n",
              "      <td>1234</td>\n",
              "      <td>1226.0</td>\n",
              "      <td>-8.0</td>\n",
              "      <td>19.0</td>\n",
              "      <td>10.0</td>\n",
              "      <td>1406.0</td>\n",
              "      <td>-9.0</td>\n",
              "      <td>0.0</td>\n",
              "      <td>NaN</td>\n",
              "      <td>0.0</td>\n",
              "      <td>N</td>\n",
              "      <td>101.0</td>\n",
              "      <td>100.0</td>\n",
              "      <td>71.0</td>\n",
              "      <td>447.0</td>\n",
              "      <td>NaN</td>\n",
              "      <td>NaN</td>\n",
              "      <td>NaN</td>\n",
              "      <td>NaN</td>\n",
              "      <td>NaN</td>\n",
              "      <td>NaN</td>\n",
              "      <td>NaN</td>\n",
              "      <td>NaN</td>\n",
              "      <td>0.2</td>\n",
              "      <td>0.0</td>\n",
              "      <td>10</td>\n",
              "      <td>6</td>\n",
              "    </tr>\n",
              "    <tr>\n",
              "      <th>35077</th>\n",
              "      <td>2018-06-17</td>\n",
              "      <td>OO</td>\n",
              "      <td>14747</td>\n",
              "      <td>SEA</td>\n",
              "      <td>Seattle, WA</td>\n",
              "      <td>11259</td>\n",
              "      <td>DAL</td>\n",
              "      <td>Dallas, TX</td>\n",
              "      <td>1145</td>\n",
              "      <td>1149.0</td>\n",
              "      <td>4.0</td>\n",
              "      <td>30.0</td>\n",
              "      <td>7.0</td>\n",
              "      <td>1828.0</td>\n",
              "      <td>45.0</td>\n",
              "      <td>0.0</td>\n",
              "      <td>NaN</td>\n",
              "      <td>0.0</td>\n",
              "      <td>N</td>\n",
              "      <td>238.0</td>\n",
              "      <td>279.0</td>\n",
              "      <td>242.0</td>\n",
              "      <td>1670.0</td>\n",
              "      <td>1.0</td>\n",
              "      <td>0.0</td>\n",
              "      <td>41.0</td>\n",
              "      <td>0.0</td>\n",
              "      <td>3.0</td>\n",
              "      <td>NaN</td>\n",
              "      <td>NaN</td>\n",
              "      <td>NaN</td>\n",
              "      <td>1.9</td>\n",
              "      <td>0.0</td>\n",
              "      <td>10</td>\n",
              "      <td>8</td>\n",
              "    </tr>\n",
              "    <tr>\n",
              "      <th>35078</th>\n",
              "      <td>2019-12-01</td>\n",
              "      <td>AA</td>\n",
              "      <td>11057</td>\n",
              "      <td>CLT</td>\n",
              "      <td>Charlotte, NC</td>\n",
              "      <td>13930</td>\n",
              "      <td>ORD</td>\n",
              "      <td>Chicago, IL</td>\n",
              "      <td>745</td>\n",
              "      <td>742.0</td>\n",
              "      <td>-3.0</td>\n",
              "      <td>62.0</td>\n",
              "      <td>15.0</td>\n",
              "      <td>931.0</td>\n",
              "      <td>24.0</td>\n",
              "      <td>0.0</td>\n",
              "      <td>NaN</td>\n",
              "      <td>0.0</td>\n",
              "      <td>N</td>\n",
              "      <td>142.0</td>\n",
              "      <td>169.0</td>\n",
              "      <td>92.0</td>\n",
              "      <td>599.0</td>\n",
              "      <td>0.0</td>\n",
              "      <td>0.0</td>\n",
              "      <td>24.0</td>\n",
              "      <td>0.0</td>\n",
              "      <td>0.0</td>\n",
              "      <td>NaN</td>\n",
              "      <td>NaN</td>\n",
              "      <td>NaN</td>\n",
              "      <td>1.0</td>\n",
              "      <td>2.7</td>\n",
              "      <td>3</td>\n",
              "      <td>23</td>\n",
              "    </tr>\n",
              "    <tr>\n",
              "      <th>35079</th>\n",
              "      <td>2018-05-19</td>\n",
              "      <td>DL</td>\n",
              "      <td>10397</td>\n",
              "      <td>ATL</td>\n",
              "      <td>Atlanta, GA</td>\n",
              "      <td>14683</td>\n",
              "      <td>SAT</td>\n",
              "      <td>San Antonio, TX</td>\n",
              "      <td>1125</td>\n",
              "      <td>1124.0</td>\n",
              "      <td>-1.0</td>\n",
              "      <td>21.0</td>\n",
              "      <td>4.0</td>\n",
              "      <td>1243.0</td>\n",
              "      <td>-11.0</td>\n",
              "      <td>0.0</td>\n",
              "      <td>NaN</td>\n",
              "      <td>0.0</td>\n",
              "      <td>N</td>\n",
              "      <td>149.0</td>\n",
              "      <td>139.0</td>\n",
              "      <td>114.0</td>\n",
              "      <td>874.0</td>\n",
              "      <td>NaN</td>\n",
              "      <td>NaN</td>\n",
              "      <td>NaN</td>\n",
              "      <td>NaN</td>\n",
              "      <td>NaN</td>\n",
              "      <td>NaN</td>\n",
              "      <td>NaN</td>\n",
              "      <td>NaN</td>\n",
              "      <td>0.0</td>\n",
              "      <td>0.0</td>\n",
              "      <td>10</td>\n",
              "      <td>34</td>\n",
              "    </tr>\n",
              "    <tr>\n",
              "      <th>35080</th>\n",
              "      <td>2019-12-23</td>\n",
              "      <td>AX</td>\n",
              "      <td>11540</td>\n",
              "      <td>ELP</td>\n",
              "      <td>El Paso, TX</td>\n",
              "      <td>11292</td>\n",
              "      <td>DEN</td>\n",
              "      <td>Denver, CO</td>\n",
              "      <td>1230</td>\n",
              "      <td>1230.0</td>\n",
              "      <td>0.0</td>\n",
              "      <td>16.0</td>\n",
              "      <td>7.0</td>\n",
              "      <td>1417.0</td>\n",
              "      <td>-18.0</td>\n",
              "      <td>0.0</td>\n",
              "      <td>NaN</td>\n",
              "      <td>0.0</td>\n",
              "      <td>N</td>\n",
              "      <td>125.0</td>\n",
              "      <td>107.0</td>\n",
              "      <td>84.0</td>\n",
              "      <td>563.0</td>\n",
              "      <td>NaN</td>\n",
              "      <td>NaN</td>\n",
              "      <td>NaN</td>\n",
              "      <td>NaN</td>\n",
              "      <td>NaN</td>\n",
              "      <td>NaN</td>\n",
              "      <td>NaN</td>\n",
              "      <td>NaN</td>\n",
              "      <td></td>\n",
              "      <td></td>\n",
              "      <td></td>\n",
              "      <td></td>\n",
              "    </tr>\n",
              "  </tbody>\n",
              "</table>\n",
              "<p>35081 rows × 35 columns</p>\n",
              "</div>"
            ],
            "text/plain": [
              "          fl_date op_unique_carrier  origin_airport_id  ... snow visibility  wind\n",
              "0      2019-07-29                DL              10397  ...  0.0          9    10\n",
              "1      2019-06-27                DL              10397  ...  0.0         10    12\n",
              "2      2018-11-17                YX              10693  ...  0.0         10     5\n",
              "3      2019-12-28                UA              12264  ...  0.0         10     5\n",
              "4      2019-03-06                WN              10693  ...  0.0         10    14\n",
              "...           ...               ...                ...  ...  ...        ...   ...\n",
              "35076  2019-10-08                AA              13495  ...  0.0         10     6\n",
              "35077  2018-06-17                OO              14747  ...  0.0         10     8\n",
              "35078  2019-12-01                AA              11057  ...  2.7          3    23\n",
              "35079  2018-05-19                DL              10397  ...  0.0         10    34\n",
              "35080  2019-12-23                AX              11540  ...                      \n",
              "\n",
              "[35081 rows x 35 columns]"
            ]
          },
          "metadata": {
            "tags": []
          },
          "execution_count": 70
        }
      ]
    },
    {
      "cell_type": "code",
      "metadata": {
        "id": "mbUxkxMt0Not"
      },
      "source": [
        "# changing the date columns dtype\n",
        "df_flights_module['fl_date'] = pd.to_datetime(df_flights_module['fl_date'])"
      ],
      "execution_count": null,
      "outputs": []
    },
    {
      "cell_type": "code",
      "metadata": {
        "id": "IpYmnfGm0Nru"
      },
      "source": [
        "# Creating columns with month \n",
        "df_flights_module['month'] = df_flights_module['fl_date'].dt.month"
      ],
      "execution_count": null,
      "outputs": []
    },
    {
      "cell_type": "code",
      "metadata": {
        "id": "EcYa3KT2Pv_X"
      },
      "source": [
        "# Creating columns with weekday\n",
        "df_flights_module['week_day'] = df_flights_module['fl_date'].dt.dayofweek"
      ],
      "execution_count": null,
      "outputs": []
    },
    {
      "cell_type": "code",
      "metadata": {
        "id": "KspqtuQlUxbE"
      },
      "source": [
        "# Create a columns with average delay of each carrier\n",
        "df_flights_module['delay_average_carries'] = df_flights_module.groupby([\"op_unique_carrier\"])[\"arr_delay\"].transform(\"mean\")"
      ],
      "execution_count": null,
      "outputs": []
    },
    {
      "cell_type": "code",
      "metadata": {
        "colab": {
          "base_uri": "https://localhost:8080/",
          "height": 111
        },
        "id": "CoIgfL09MayI",
        "outputId": "6cb3b97c-5540-4135-cd73-b691191572fd"
      },
      "source": [
        "df_plot_avg = df_flights_module[['op_unique_carrier','arr_delay']]\n",
        "df_plot_avg = df_plot_avg.groupby([\"op_unique_carrier\"]).mean()[\"arr_delay\"]#.transform(\"mean\")\n",
        "# df_plot_avg = df_plot_avg['op_unique_carrier'].drop_duplicates()\n",
        "df_plot_avg = pd.DataFrame(df_plot_avg)\n",
        "df_plot_avg.head(1)"
      ],
      "execution_count": null,
      "outputs": [
        {
          "output_type": "execute_result",
          "data": {
            "text/html": [
              "<div>\n",
              "<style scoped>\n",
              "    .dataframe tbody tr th:only-of-type {\n",
              "        vertical-align: middle;\n",
              "    }\n",
              "\n",
              "    .dataframe tbody tr th {\n",
              "        vertical-align: top;\n",
              "    }\n",
              "\n",
              "    .dataframe thead th {\n",
              "        text-align: right;\n",
              "    }\n",
              "</style>\n",
              "<table border=\"1\" class=\"dataframe\">\n",
              "  <thead>\n",
              "    <tr style=\"text-align: right;\">\n",
              "      <th></th>\n",
              "      <th>arr_delay</th>\n",
              "    </tr>\n",
              "    <tr>\n",
              "      <th>op_unique_carrier</th>\n",
              "      <th></th>\n",
              "    </tr>\n",
              "  </thead>\n",
              "  <tbody>\n",
              "    <tr>\n",
              "      <th>9E</th>\n",
              "      <td>4.489633</td>\n",
              "    </tr>\n",
              "  </tbody>\n",
              "</table>\n",
              "</div>"
            ],
            "text/plain": [
              "                   arr_delay\n",
              "op_unique_carrier           \n",
              "9E                  4.489633"
            ]
          },
          "metadata": {
            "tags": []
          },
          "execution_count": 87
        }
      ]
    },
    {
      "cell_type": "code",
      "metadata": {
        "id": "nKJ11_LnMUhc",
        "colab": {
          "base_uri": "https://localhost:8080/",
          "height": 579
        },
        "outputId": "884d48e6-99a6-487d-f67d-2ad375085e7b"
      },
      "source": [
        "#Bar plot of features and its scores\n",
        "sns.set(rc={'figure.figsize':(11.7,8.27)})\n",
        "import seaborn as sns\n",
        "sns.set(style=\"white\")\n",
        "ax = sns.barplot(x=df_plot_avg.index, y=df_plot_avg.arr_delay)\n",
        "plt.ylabel('Total flights per airport')\n",
        "plt.xticks(rotation=45)"
      ],
      "execution_count": null,
      "outputs": [
        {
          "output_type": "execute_result",
          "data": {
            "text/plain": [
              "(array([ 0,  1,  2,  3,  4,  5,  6,  7,  8,  9, 10, 11, 12, 13, 14, 15, 16,\n",
              "        17, 18, 19, 20, 21, 22, 23, 24]),\n",
              " <a list of 25 Text major ticklabel objects>)"
            ]
          },
          "metadata": {
            "tags": []
          },
          "execution_count": 90
        },
        {
          "output_type": "display_data",
          "data": {
            "image/png": "[encoded data removed]",
            "text/plain": [
              "<Figure size 842.4x595.44 with 1 Axes>"
            ]
          },
          "metadata": {
            "tags": []
          }
        }
      ]
    },
    {
      "cell_type": "code",
      "metadata": {
        "id": "vu9FrbdegLHb"
      },
      "source": [
        "# transform hour into category \n",
        "df_flights_module['dep_time'] = round(df_flights_module['dep_time']/100)\n",
        "df_flights_module['arr_time'] = round(df_flights_module['arr_time']/100)\n",
        "\n",
        "\n"
      ],
      "execution_count": null,
      "outputs": []
    },
    {
      "cell_type": "code",
      "metadata": {
        "id": "j1PutUpH1CNB"
      },
      "source": [
        "# Create columns \n",
        "df_flights_module['origin_state']= df_flights_module['origin_city_name'].str[-2:]\n",
        "df_flights_module['dest_state']= df_flights_module['dest_city_name'].str[-2:]\n",
        "\n"
      ],
      "execution_count": null,
      "outputs": []
    },
    {
      "cell_type": "code",
      "metadata": {
        "id": "BRsdCJFK2XKo"
      },
      "source": [
        "# grouping the state columns into regions\n",
        "df_flights_module= df_flights_module.replace({\"origin_state\" : {'IL': 1 ,'IN':1,'KY':1,'MO':1,'OH':1,'TN':1,'WV':1,\n",
        "                                       'IA':2, 'MI':2, 'MN':2, 'WI':2,\n",
        "                                       'CT': 3, 'DE':3, 'ME':3, 'MD':3, 'MA':3, 'NH':3, 'NJ':3, 'NY':3, 'PA':3, 'RI':3, 'VT':3,\n",
        "                                       'ID': 4, 'OR':4, 'WA':4, \n",
        "                                       'AR':5, 'KS':5, 'LA':5, 'MS':5, 'OK':5, 'TX':5,\n",
        "                                       'AL':6, 'FL':6, 'GA':6, 'NC':6, 'SC':6, 'VA':6,'DC':6,\n",
        "                                       'AZ' :7, 'CO':7, 'NM':7, 'UT':7,\n",
        "                                       'CA':8, 'NV':8,\n",
        "                                       'MT':9, 'NE':9, 'ND':9, 'SD':9, 'WY':9,\n",
        "                                       'HI':0, 'PR':0, 'AK':0, 'VI':0, 'TT':0}})\n",
        "\n",
        "df_flights_module= df_flights_module.replace({\"dest_state\" : {'IL': 1 ,'IN':1,'KY':1,'MO':1,'OH':1,'TN':1,'WV':1,\n",
        "                                       'IA':2, 'MI':2, 'MN':2, 'WI':2,\n",
        "                                       'CT': 3, 'DE':3, 'ME':3, 'MD':3, 'MA':3, 'NH':3, 'NJ':3, 'NY':3, 'PA':3, 'RI':3, 'VT':3,\n",
        "                                       'ID': 4, 'OR':4, 'WA':4, \n",
        "                                       'AR':5, 'KS':5, 'LA':5, 'MS':5, 'OK':5, 'TX':5,\n",
        "                                       'AL':6, 'FL':6, 'GA':6, 'NC':6, 'SC':6, 'VA':6,'DC':6,\n",
        "                                       'AZ' :7, 'CO':7, 'NM':7, 'UT':7,\n",
        "                                       'CA':8, 'NV':8,\n",
        "                                       'MT':9, 'NE':9, 'ND':9, 'SD':9, 'WY':9,\n",
        "                                       'HI':0, 'PR':0, 'AK':0, 'VI':0, 'TT':0}})"
      ],
      "execution_count": null,
      "outputs": []
    },
    {
      "cell_type": "code",
      "metadata": {
        "id": "PYU9ojnw27Ai"
      },
      "source": [
        "df_flights_module = df_flights_module.drop(columns=['origin','origin_city_name','dest','dest_city_name','total_add_gtime','first_dep_time'])\n"
      ],
      "execution_count": null,
      "outputs": []
    },
    {
      "cell_type": "code",
      "metadata": {
        "id": "XHtGbOSX3k3N"
      },
      "source": [
        "# drop colay related to delays \n",
        "df_flights_module = df_flights_module.drop(columns=['carrier_delay', 'weather_delay', 'nas_delay','security_delay', 'late_aircraft_delay','no_name'])"
      ],
      "execution_count": null,
      "outputs": []
    },
    {
      "cell_type": "code",
      "metadata": {
        "id": "ML104ViG3cf2"
      },
      "source": [
        "# frop colums relatest o time (redundance), cancel code, dup, crs_time\n",
        "df_flights_module = df_flights_module.drop(columns=['crs_dep_time','cancellation_code','dup','crs_elapsed_time'])"
      ],
      "execution_count": null,
      "outputs": []
    },
    {
      "cell_type": "code",
      "metadata": {
        "id": "ixp7w-tA4lIn"
      },
      "source": [
        "# Binalize arr_delay\n",
        "def delay(x):\n",
        "  if -70<= x <= 0 :\n",
        "    return 1\n",
        "  elif 1<x <=60:\n",
        "    return 2\n",
        "  elif 61<= x <=180:\n",
        "    return 3\n",
        "  elif 181<= x <=420:\n",
        "    return 4\n",
        "  else: return 5\n",
        "\n",
        "df_flights_module['flight_delayed'] = df_flights_module['arr_delay'].apply(delay)"
      ],
      "execution_count": null,
      "outputs": []
    },
    {
      "cell_type": "code",
      "metadata": {
        "id": "ZZccYVH_413O"
      },
      "source": [
        "# drop colums for arr_delay\n",
        "df_flights_module = df_flights_module.drop(columns=['arr_delay'])"
      ],
      "execution_count": null,
      "outputs": []
    },
    {
      "cell_type": "code",
      "metadata": {
        "id": "im5UndOa1CUp"
      },
      "source": [
        "# Create columns for month and week day\n",
        "df_flights_module['month'] = df_flights_module['fl_date'].dt.month\n",
        "df_flights_module['week_day'] = df_flights_module['fl_date'].dt.weekday"
      ],
      "execution_count": null,
      "outputs": []
    },
    {
      "cell_type": "code",
      "metadata": {
        "id": "fXYsqIvFRtfd"
      },
      "source": [
        "# here I created the last file:\n",
        "df_flights_module = pd.read_csv('df_flights_module_ final.csv')\n",
        "df_flights_module = df_flights_module.drop(columns=('Unnamed: 0'))"
      ],
      "execution_count": null,
      "outputs": []
    },
    {
      "cell_type": "code",
      "metadata": {
        "id": "TfSZrLveOHQ6"
      },
      "source": [
        "df_flights_module = df_flights_module.drop(columns=['dep_delay'])"
      ],
      "execution_count": null,
      "outputs": []
    },
    {
      "cell_type": "code",
      "metadata": {
        "colab": {
          "base_uri": "https://localhost:8080/"
        },
        "id": "tfCp37s7MlI-",
        "outputId": "8ef53cb2-5016-458c-b2dd-8997bdcff267"
      },
      "source": [
        "df_flights_module['op_unique_carrier'].unique()"
      ],
      "execution_count": null,
      "outputs": [
        {
          "output_type": "execute_result",
          "data": {
            "text/plain": [
              "array(['DL', 'YX', 'UA', 'WN', 'YV', 'OO', 'EV', 'NK', 'PT', 'OH', 'B6',\n",
              "       'AA', 'AS', 'CP', '9E', 'G7', 'AX', 'HA', 'MQ', 'F9', 'QX', 'ZW',\n",
              "       'VX', 'G4', 'C5'], dtype=object)"
            ]
          },
          "metadata": {
            "tags": []
          },
          "execution_count": 35
        }
      ]
    },
    {
      "cell_type": "code",
      "metadata": {
        "id": "NsRLqomLMlBb"
      },
      "source": [
        "df_flights_module= df_flights_module.replace({\"op_unique_carrier\" : {'DL': 1 ,'YX': 2,'UA': 3,'WN': 4,'YV': 5,'OO': 6,'EV': 7, 'NK': 8, 'PT': 9, 'OH': 10, 'B6': 11, \n",
        "                                                       'AA': 12, 'AS': 13, 'CP': 14, '9E': 15, 'G7': 16, 'AX': 17, 'HA': 18, 'MQ': 19, 'F9': 20, 'QX': 21, 'ZW': 22,\n",
        "                                                       'VX': 23, 'G4': 24, 'C5': 25}})"
      ],
      "execution_count": null,
      "outputs": []
    },
    {
      "cell_type": "code",
      "metadata": {
        "id": "YN5IukQkSQub"
      },
      "source": [
        "df_flights_module = df_flights_module.drop(columns=['actual_elapsed_time'])"
      ],
      "execution_count": null,
      "outputs": []
    },
    {
      "cell_type": "code",
      "metadata": {
        "id": "scjjHjyzMk5Z"
      },
      "source": [
        "# Category the columns\n",
        "df_flights_module['op_unique_carrier'] = df_flights_module['op_unique_carrier'].astype('category')\n",
        "df_flights_module['origin_airport_id'] = df_flights_module['origin_airport_id'].astype('category')\n",
        "df_flights_module['dest_airport_id'] = df_flights_module['dest_airport_id'].astype('category')\n",
        "df_flights_module['cancelled'] = df_flights_module['cancelled'].astype('category')\n",
        "df_flights_module['diverted'] = df_flights_module['diverted'].astype('category')\n",
        "df_flights_module['month'] = df_flights_module['month'].astype('category')\n",
        "df_flights_module['week_day'] = df_flights_module['week_day'].astype('category')\n",
        "df_flights_module['origin_state'] = df_flights_module['origin_state'].astype('category')\n",
        "df_flights_module['dest_state'] = df_flights_module['dest_state'].astype('category')\n",
        "df_flights_module['flight_delayed'] = df_flights_module['flight_delayed'].astype('category')\n",
        "df_flights_module['arr_time'] = df_flights_module['arr_time'].astype('category')\n",
        "df_flights_module['dep_time'] = df_flights_module['dep_time'].astype('category')"
      ],
      "execution_count": null,
      "outputs": []
    },
    {
      "cell_type": "code",
      "metadata": {
        "id": "UmBXbXiaUcAu"
      },
      "source": [
        "df_flights_module = df_flights_module.drop(columns=('fl_date'))"
      ],
      "execution_count": null,
      "outputs": []
    },
    {
      "cell_type": "code",
      "metadata": {
        "id": "QY6YtKV0V1mJ"
      },
      "source": [
        "df_flights_module['snow'] = pd.to_numeric(df_flights_module.snow,  errors='coerce')\n",
        "df_flights_module['rain'] = pd.to_numeric(df_flights_module.rain,  errors='coerce')\n",
        "df_flights_module['visibility'] = pd.to_numeric(df_flights_module.visibility,  errors='coerce')\n",
        "df_flights_module['wind'] = pd.to_numeric(df_flights_module.wind,  errors='coerce')\n"
      ],
      "execution_count": null,
      "outputs": []
    },
    {
      "cell_type": "code",
      "metadata": {
        "colab": {
          "base_uri": "https://localhost:8080/"
        },
        "id": "M1KBtgx9Mk1u",
        "outputId": "052ad8c0-7087-4c4f-eb14-7fadd8ca9109"
      },
      "source": [
        "df_flights_module.dtypes"
      ],
      "execution_count": null,
      "outputs": [
        {
          "output_type": "execute_result",
          "data": {
            "text/plain": [
              "op_unique_carrier        category\n",
              "origin_airport_id        category\n",
              "dest_airport_id          category\n",
              "dep_time                 category\n",
              "taxi_out                  float64\n",
              "taxi_in                   float64\n",
              "arr_time                 category\n",
              "cancelled                category\n",
              "diverted                 category\n",
              "air_time                  float64\n",
              "distance                  float64\n",
              "rain                      float64\n",
              "snow                      float64\n",
              "visibility                float64\n",
              "wind                      float64\n",
              "month                    category\n",
              "week_day                 category\n",
              "delay_average_carries     float64\n",
              "origin_state             category\n",
              "dest_state               category\n",
              "flight_delayed           category\n",
              "dtype: object"
            ]
          },
          "metadata": {
            "tags": []
          },
          "execution_count": 66
        }
      ]
    },
    {
      "cell_type": "code",
      "metadata": {
        "colab": {
          "base_uri": "https://localhost:8080/",
          "height": 439
        },
        "id": "81NN3LeUMknk",
        "outputId": "ec312170-cc49-47cd-de28-7dfe5484a109"
      },
      "source": [
        "df_flights_module"
      ],
      "execution_count": null,
      "outputs": [
        {
          "output_type": "execute_result",
          "data": {
            "text/html": [
              "<div>\n",
              "<style scoped>\n",
              "    .dataframe tbody tr th:only-of-type {\n",
              "        vertical-align: middle;\n",
              "    }\n",
              "\n",
              "    .dataframe tbody tr th {\n",
              "        vertical-align: top;\n",
              "    }\n",
              "\n",
              "    .dataframe thead th {\n",
              "        text-align: right;\n",
              "    }\n",
              "</style>\n",
              "<table border=\"1\" class=\"dataframe\">\n",
              "  <thead>\n",
              "    <tr style=\"text-align: right;\">\n",
              "      <th></th>\n",
              "      <th>op_unique_carrier</th>\n",
              "      <th>origin_airport_id</th>\n",
              "      <th>dest_airport_id</th>\n",
              "      <th>dep_time</th>\n",
              "      <th>taxi_out</th>\n",
              "      <th>taxi_in</th>\n",
              "      <th>arr_time</th>\n",
              "      <th>cancelled</th>\n",
              "      <th>diverted</th>\n",
              "      <th>air_time</th>\n",
              "      <th>distance</th>\n",
              "      <th>rain</th>\n",
              "      <th>snow</th>\n",
              "      <th>visibility</th>\n",
              "      <th>wind</th>\n",
              "      <th>month</th>\n",
              "      <th>week_day</th>\n",
              "      <th>delay_average_carries</th>\n",
              "      <th>origin_state</th>\n",
              "      <th>dest_state</th>\n",
              "      <th>flight_delayed</th>\n",
              "    </tr>\n",
              "  </thead>\n",
              "  <tbody>\n",
              "    <tr>\n",
              "      <th>0</th>\n",
              "      <td>1</td>\n",
              "      <td>10397</td>\n",
              "      <td>15304</td>\n",
              "      <td>8.0</td>\n",
              "      <td>21.0</td>\n",
              "      <td>3.0</td>\n",
              "      <td>10.0</td>\n",
              "      <td>0.0</td>\n",
              "      <td>0.0</td>\n",
              "      <td>63.0</td>\n",
              "      <td>406.0</td>\n",
              "      <td>7.5</td>\n",
              "      <td>0.0</td>\n",
              "      <td>9</td>\n",
              "      <td>10</td>\n",
              "      <td>7</td>\n",
              "      <td>0</td>\n",
              "      <td>0.686165</td>\n",
              "      <td>6</td>\n",
              "      <td>6</td>\n",
              "      <td>1</td>\n",
              "    </tr>\n",
              "    <tr>\n",
              "      <th>1</th>\n",
              "      <td>1</td>\n",
              "      <td>10397</td>\n",
              "      <td>10423</td>\n",
              "      <td>13.0</td>\n",
              "      <td>12.0</td>\n",
              "      <td>8.0</td>\n",
              "      <td>14.0</td>\n",
              "      <td>0.0</td>\n",
              "      <td>0.0</td>\n",
              "      <td>108.0</td>\n",
              "      <td>813.0</td>\n",
              "      <td>0.0</td>\n",
              "      <td>0.0</td>\n",
              "      <td>10</td>\n",
              "      <td>12</td>\n",
              "      <td>6</td>\n",
              "      <td>3</td>\n",
              "      <td>0.686165</td>\n",
              "      <td>6</td>\n",
              "      <td>5</td>\n",
              "      <td>1</td>\n",
              "    </tr>\n",
              "    <tr>\n",
              "      <th>2</th>\n",
              "      <td>2</td>\n",
              "      <td>10693</td>\n",
              "      <td>11057</td>\n",
              "      <td>14.0</td>\n",
              "      <td>12.0</td>\n",
              "      <td>8.0</td>\n",
              "      <td>17.0</td>\n",
              "      <td>0.0</td>\n",
              "      <td>0.0</td>\n",
              "      <td>56.0</td>\n",
              "      <td>328.0</td>\n",
              "      <td>0.0</td>\n",
              "      <td>0.0</td>\n",
              "      <td>10</td>\n",
              "      <td>5</td>\n",
              "      <td>11</td>\n",
              "      <td>5</td>\n",
              "      <td>2.621795</td>\n",
              "      <td>1</td>\n",
              "      <td>6</td>\n",
              "      <td>1</td>\n",
              "    </tr>\n",
              "    <tr>\n",
              "      <th>3</th>\n",
              "      <td>3</td>\n",
              "      <td>12264</td>\n",
              "      <td>12892</td>\n",
              "      <td>17.0</td>\n",
              "      <td>15.0</td>\n",
              "      <td>7.0</td>\n",
              "      <td>19.0</td>\n",
              "      <td>0.0</td>\n",
              "      <td>0.0</td>\n",
              "      <td>298.0</td>\n",
              "      <td>2288.0</td>\n",
              "      <td>0.0</td>\n",
              "      <td>0.0</td>\n",
              "      <td>10</td>\n",
              "      <td>5</td>\n",
              "      <td>12</td>\n",
              "      <td>5</td>\n",
              "      <td>4.988605</td>\n",
              "      <td>6</td>\n",
              "      <td>8</td>\n",
              "      <td>1</td>\n",
              "    </tr>\n",
              "    <tr>\n",
              "      <th>4</th>\n",
              "      <td>4</td>\n",
              "      <td>10693</td>\n",
              "      <td>10397</td>\n",
              "      <td>13.0</td>\n",
              "      <td>10.0</td>\n",
              "      <td>6.0</td>\n",
              "      <td>15.0</td>\n",
              "      <td>0.0</td>\n",
              "      <td>0.0</td>\n",
              "      <td>38.0</td>\n",
              "      <td>214.0</td>\n",
              "      <td>0.0</td>\n",
              "      <td>0.0</td>\n",
              "      <td>10</td>\n",
              "      <td>14</td>\n",
              "      <td>3</td>\n",
              "      <td>2</td>\n",
              "      <td>4.285845</td>\n",
              "      <td>1</td>\n",
              "      <td>6</td>\n",
              "      <td>1</td>\n",
              "    </tr>\n",
              "    <tr>\n",
              "      <th>...</th>\n",
              "      <td>...</td>\n",
              "      <td>...</td>\n",
              "      <td>...</td>\n",
              "      <td>...</td>\n",
              "      <td>...</td>\n",
              "      <td>...</td>\n",
              "      <td>...</td>\n",
              "      <td>...</td>\n",
              "      <td>...</td>\n",
              "      <td>...</td>\n",
              "      <td>...</td>\n",
              "      <td>...</td>\n",
              "      <td>...</td>\n",
              "      <td>...</td>\n",
              "      <td>...</td>\n",
              "      <td>...</td>\n",
              "      <td>...</td>\n",
              "      <td>...</td>\n",
              "      <td>...</td>\n",
              "      <td>...</td>\n",
              "      <td>...</td>\n",
              "    </tr>\n",
              "    <tr>\n",
              "      <th>35076</th>\n",
              "      <td>12</td>\n",
              "      <td>13495</td>\n",
              "      <td>11298</td>\n",
              "      <td>12.0</td>\n",
              "      <td>19.0</td>\n",
              "      <td>10.0</td>\n",
              "      <td>14.0</td>\n",
              "      <td>0.0</td>\n",
              "      <td>0.0</td>\n",
              "      <td>71.0</td>\n",
              "      <td>447.0</td>\n",
              "      <td>0.2</td>\n",
              "      <td>0.0</td>\n",
              "      <td>10</td>\n",
              "      <td>6</td>\n",
              "      <td>10</td>\n",
              "      <td>1</td>\n",
              "      <td>5.468287</td>\n",
              "      <td>5</td>\n",
              "      <td>5</td>\n",
              "      <td>1</td>\n",
              "    </tr>\n",
              "    <tr>\n",
              "      <th>35077</th>\n",
              "      <td>6</td>\n",
              "      <td>14747</td>\n",
              "      <td>11259</td>\n",
              "      <td>11.0</td>\n",
              "      <td>30.0</td>\n",
              "      <td>7.0</td>\n",
              "      <td>18.0</td>\n",
              "      <td>0.0</td>\n",
              "      <td>0.0</td>\n",
              "      <td>242.0</td>\n",
              "      <td>1670.0</td>\n",
              "      <td>1.9</td>\n",
              "      <td>0.0</td>\n",
              "      <td>10</td>\n",
              "      <td>8</td>\n",
              "      <td>6</td>\n",
              "      <td>6</td>\n",
              "      <td>11.327017</td>\n",
              "      <td>4</td>\n",
              "      <td>5</td>\n",
              "      <td>2</td>\n",
              "    </tr>\n",
              "    <tr>\n",
              "      <th>35078</th>\n",
              "      <td>12</td>\n",
              "      <td>11057</td>\n",
              "      <td>13930</td>\n",
              "      <td>7.0</td>\n",
              "      <td>62.0</td>\n",
              "      <td>15.0</td>\n",
              "      <td>9.0</td>\n",
              "      <td>0.0</td>\n",
              "      <td>0.0</td>\n",
              "      <td>92.0</td>\n",
              "      <td>599.0</td>\n",
              "      <td>1.0</td>\n",
              "      <td>2.7</td>\n",
              "      <td>3</td>\n",
              "      <td>23</td>\n",
              "      <td>12</td>\n",
              "      <td>6</td>\n",
              "      <td>5.468287</td>\n",
              "      <td>6</td>\n",
              "      <td>1</td>\n",
              "      <td>2</td>\n",
              "    </tr>\n",
              "    <tr>\n",
              "      <th>35079</th>\n",
              "      <td>1</td>\n",
              "      <td>10397</td>\n",
              "      <td>14683</td>\n",
              "      <td>11.0</td>\n",
              "      <td>21.0</td>\n",
              "      <td>4.0</td>\n",
              "      <td>12.0</td>\n",
              "      <td>0.0</td>\n",
              "      <td>0.0</td>\n",
              "      <td>114.0</td>\n",
              "      <td>874.0</td>\n",
              "      <td>0.0</td>\n",
              "      <td>0.0</td>\n",
              "      <td>10</td>\n",
              "      <td>34</td>\n",
              "      <td>5</td>\n",
              "      <td>5</td>\n",
              "      <td>0.686165</td>\n",
              "      <td>6</td>\n",
              "      <td>5</td>\n",
              "      <td>1</td>\n",
              "    </tr>\n",
              "    <tr>\n",
              "      <th>35080</th>\n",
              "      <td>17</td>\n",
              "      <td>11540</td>\n",
              "      <td>11292</td>\n",
              "      <td>12.0</td>\n",
              "      <td>16.0</td>\n",
              "      <td>7.0</td>\n",
              "      <td>14.0</td>\n",
              "      <td>0.0</td>\n",
              "      <td>0.0</td>\n",
              "      <td>84.0</td>\n",
              "      <td>563.0</td>\n",
              "      <td></td>\n",
              "      <td></td>\n",
              "      <td></td>\n",
              "      <td></td>\n",
              "      <td>12</td>\n",
              "      <td>0</td>\n",
              "      <td>9.131183</td>\n",
              "      <td>5</td>\n",
              "      <td>7</td>\n",
              "      <td>1</td>\n",
              "    </tr>\n",
              "  </tbody>\n",
              "</table>\n",
              "<p>35081 rows × 21 columns</p>\n",
              "</div>"
            ],
            "text/plain": [
              "      op_unique_carrier origin_airport_id  ... dest_state flight_delayed\n",
              "0                     1             10397  ...          6              1\n",
              "1                     1             10397  ...          5              1\n",
              "2                     2             10693  ...          6              1\n",
              "3                     3             12264  ...          8              1\n",
              "4                     4             10693  ...          6              1\n",
              "...                 ...               ...  ...        ...            ...\n",
              "35076                12             13495  ...          5              1\n",
              "35077                 6             14747  ...          5              2\n",
              "35078                12             11057  ...          1              2\n",
              "35079                 1             10397  ...          5              1\n",
              "35080                17             11540  ...          7              1\n",
              "\n",
              "[35081 rows x 21 columns]"
            ]
          },
          "metadata": {
            "tags": []
          },
          "execution_count": 43
        }
      ]
    },
    {
      "cell_type": "code",
      "metadata": {
        "id": "EKd0tDvHdiQd"
      },
      "source": [
        "# Filling the null values\n",
        "df_flights_module[\"air_time\"] = df_flights_module[\"air_time\"].fillna(df_flights_module[\"air_time\"].mean())\n",
        "df_flights_module[\"taxi_in\"] = df_flights_module[\"taxi_in\"].fillna(df_flights_module[\"taxi_in\"].mean())\n",
        "df_flights_module[\"taxi_out\"] = df_flights_module[\"taxi_out\"].fillna(df_flights_module[\"taxi_out\"].mean())\n",
        "df_flights_module[\"wind\"] = df_flights_module[\"wind\"].fillna(df_flights_module[\"wind\"].mean())\n",
        "df_flights_module[\"visibility\"] = df_flights_module[\"visibility\"].fillna(df_flights_module[\"visibility\"].mean())\n",
        "df_flights_module[\"snow\"] = df_flights_module[\"snow\"].fillna(df_flights_module[\"snow\"].mean())\n",
        "df_flights_module[\"rain\"] = df_flights_module[\"wind\"].fillna(df_flights_module[\"rain\"].mean())"
      ],
      "execution_count": null,
      "outputs": []
    },
    {
      "cell_type": "code",
      "metadata": {
        "id": "Tm-QX1-ZfZ2R"
      },
      "source": [
        "df_flights_module[\"arr_time\"] = df_flights_module[\"arr_time\"].fillna(df_flights_module[\"arr_time\"].mode().iloc[0])\n",
        "df_flights_module[\"dep_time\"] = df_flights_module[\"dep_time\"].fillna(df_flights_module[\"dep_time\"].mode().iloc[0])\n"
      ],
      "execution_count": null,
      "outputs": []
    },
    {
      "cell_type": "code",
      "metadata": {
        "colab": {
          "base_uri": "https://localhost:8080/",
          "height": 514
        },
        "id": "l4qoJNTpcayx",
        "outputId": "f5546230-4012-4959-9c6a-2fe7a39ff824"
      },
      "source": [
        "# checking fo =r miising values\n",
        "total = df_flights_module.isnull().sum().sort_values(ascending=False)\n",
        "percent = (df_flights_module.isnull().sum()/df_flights_module.isnull().count()).sort_values(ascending=False)\n",
        "missing_data = pd.concat([total, percent],axis=1, keys=['Total','Percent'])\n",
        "missing_data.head(15)"
      ],
      "execution_count": null,
      "outputs": [
        {
          "output_type": "execute_result",
          "data": {
            "text/html": [
              "<div>\n",
              "<style scoped>\n",
              "    .dataframe tbody tr th:only-of-type {\n",
              "        vertical-align: middle;\n",
              "    }\n",
              "\n",
              "    .dataframe tbody tr th {\n",
              "        vertical-align: top;\n",
              "    }\n",
              "\n",
              "    .dataframe thead th {\n",
              "        text-align: right;\n",
              "    }\n",
              "</style>\n",
              "<table border=\"1\" class=\"dataframe\">\n",
              "  <thead>\n",
              "    <tr style=\"text-align: right;\">\n",
              "      <th></th>\n",
              "      <th>Total</th>\n",
              "      <th>Percent</th>\n",
              "    </tr>\n",
              "  </thead>\n",
              "  <tbody>\n",
              "    <tr>\n",
              "      <th>flight_delayed</th>\n",
              "      <td>0</td>\n",
              "      <td>0.0</td>\n",
              "    </tr>\n",
              "    <tr>\n",
              "      <th>air_time</th>\n",
              "      <td>0</td>\n",
              "      <td>0.0</td>\n",
              "    </tr>\n",
              "    <tr>\n",
              "      <th>origin_airport_id</th>\n",
              "      <td>0</td>\n",
              "      <td>0.0</td>\n",
              "    </tr>\n",
              "    <tr>\n",
              "      <th>dest_airport_id</th>\n",
              "      <td>0</td>\n",
              "      <td>0.0</td>\n",
              "    </tr>\n",
              "    <tr>\n",
              "      <th>dep_time</th>\n",
              "      <td>0</td>\n",
              "      <td>0.0</td>\n",
              "    </tr>\n",
              "    <tr>\n",
              "      <th>taxi_out</th>\n",
              "      <td>0</td>\n",
              "      <td>0.0</td>\n",
              "    </tr>\n",
              "    <tr>\n",
              "      <th>taxi_in</th>\n",
              "      <td>0</td>\n",
              "      <td>0.0</td>\n",
              "    </tr>\n",
              "    <tr>\n",
              "      <th>arr_time</th>\n",
              "      <td>0</td>\n",
              "      <td>0.0</td>\n",
              "    </tr>\n",
              "    <tr>\n",
              "      <th>cancelled</th>\n",
              "      <td>0</td>\n",
              "      <td>0.0</td>\n",
              "    </tr>\n",
              "    <tr>\n",
              "      <th>diverted</th>\n",
              "      <td>0</td>\n",
              "      <td>0.0</td>\n",
              "    </tr>\n",
              "    <tr>\n",
              "      <th>distance</th>\n",
              "      <td>0</td>\n",
              "      <td>0.0</td>\n",
              "    </tr>\n",
              "    <tr>\n",
              "      <th>dest_state</th>\n",
              "      <td>0</td>\n",
              "      <td>0.0</td>\n",
              "    </tr>\n",
              "    <tr>\n",
              "      <th>rain</th>\n",
              "      <td>0</td>\n",
              "      <td>0.0</td>\n",
              "    </tr>\n",
              "    <tr>\n",
              "      <th>snow</th>\n",
              "      <td>0</td>\n",
              "      <td>0.0</td>\n",
              "    </tr>\n",
              "    <tr>\n",
              "      <th>visibility</th>\n",
              "      <td>0</td>\n",
              "      <td>0.0</td>\n",
              "    </tr>\n",
              "  </tbody>\n",
              "</table>\n",
              "</div>"
            ],
            "text/plain": [
              "                   Total  Percent\n",
              "flight_delayed         0      0.0\n",
              "air_time               0      0.0\n",
              "origin_airport_id      0      0.0\n",
              "dest_airport_id        0      0.0\n",
              "dep_time               0      0.0\n",
              "taxi_out               0      0.0\n",
              "taxi_in                0      0.0\n",
              "arr_time               0      0.0\n",
              "cancelled              0      0.0\n",
              "diverted               0      0.0\n",
              "distance               0      0.0\n",
              "dest_state             0      0.0\n",
              "rain                   0      0.0\n",
              "snow                   0      0.0\n",
              "visibility             0      0.0"
            ]
          },
          "metadata": {
            "tags": []
          },
          "execution_count": 98
        }
      ]
    },
    {
      "cell_type": "code",
      "metadata": {
        "id": "Z6je7G6j1Ccw"
      },
      "source": [
        "df_flights_module.to_csv('df_flights_module_Final_Rev_2.csv')"
      ],
      "execution_count": null,
      "outputs": []
    },
    {
      "cell_type": "markdown",
      "metadata": {
        "id": "EaGYlKZ0qMpW"
      },
      "source": [
        "___\n",
        "___\n"
      ]
    },
    {
      "cell_type": "markdown",
      "metadata": {
        "id": "sT0T7JyQbbrt"
      },
      "source": [
        "### Clustering - K-Means\r\n"
      ]
    },
    {
      "cell_type": "code",
      "metadata": {
        "id": "tT7Qwb_5pMiT"
      },
      "source": [
        "df_flights_module = pd.read_csv('df_flights_module_Final_Rev_2.csv')\n",
        "df_flights_module = df_flights_module.drop(columns=('Unnamed: 0'))"
      ],
      "execution_count": null,
      "outputs": []
    },
    {
      "cell_type": "code",
      "metadata": {
        "id": "QlvonF1LbcVR"
      },
      "source": [
        "# scaling\n",
        "from sklearn.preprocessing import MinMaxScaler \n",
        "scaler = MinMaxScaler()\n",
        "df_flights_module_scaled = pd.DataFrame(scaler.fit_transform(df_flights_module), columns = df_flights_module.columns)"
      ],
      "execution_count": null,
      "outputs": []
    },
    {
      "cell_type": "code",
      "metadata": {
        "colab": {
          "base_uri": "https://localhost:8080/",
          "height": 513
        },
        "id": "k8JP6lNMbghO",
        "outputId": "207de7f2-b473-42e9-b0f2-8c85b1dac645"
      },
      "source": [
        "# elbow plot\n",
        "#import matplotlib\n",
        "import matplotlib.pyplot as plt\n",
        "# elbow rule\n",
        "def plot_inertia(df):\n",
        "    distortions = []\n",
        "    for i in range(1, 11):\n",
        "        km = KMeans(n_clusters=i,\n",
        "                    n_init=10,\n",
        "                    random_state=0)\n",
        "        km.fit(df)\n",
        "        distortions.append(km.inertia_)\n",
        "    fig, ax = plt.subplots(figsize=(15,8))\n",
        "    ax.plot(range(1,11), distortions, marker='o')\n",
        "    ax.set_xlabel('Number of clusters')\n",
        "    ax.set_ylabel('Distortion')\n",
        "    ax.set_title('Elbow method')\n",
        "    plt.show()\n",
        "plot_inertia(df_flights_module_scaled)"
      ],
      "execution_count": null,
      "outputs": [
        {
          "output_type": "display_data",
          "data": {
            "image/png": "[encoded data removed]",
            "text/plain": [
              "<Figure size 1080x576 with 1 Axes>"
            ]
          },
          "metadata": {
            "tags": [],
            "needs_background": "light"
          }
        }
      ]
    },
    {
      "cell_type": "code",
      "metadata": {
        "id": "z2OX1fmsyYJv"
      },
      "source": [
        "from sklearn.cluster import KMeans\n",
        "kmeans = KMeans(n_clusters=2, random_state=0)"
      ],
      "execution_count": null,
      "outputs": []
    },
    {
      "cell_type": "code",
      "metadata": {
        "id": "nklLFCcObglr"
      },
      "source": [
        "km = KMeans(n_clusters = 8,\n",
        "            n_init=10,\n",
        "            random_state=0)"
      ],
      "execution_count": null,
      "outputs": []
    },
    {
      "cell_type": "code",
      "metadata": {
        "id": "4EdtVnKzyvKK"
      },
      "source": [
        "y_km = km.fit_predict(df_flights_module_scaled)"
      ],
      "execution_count": null,
      "outputs": []
    },
    {
      "cell_type": "code",
      "metadata": {
        "colab": {
          "base_uri": "https://localhost:8080/"
        },
        "id": "P8mK_8fduJVg",
        "outputId": "699a0c34-8ffe-459c-d819-3df3eac6e0f9"
      },
      "source": [
        "km.labels_"
      ],
      "execution_count": null,
      "outputs": [
        {
          "output_type": "execute_result",
          "data": {
            "text/plain": [
              "array([2, 1, 5, ..., 0, 0, 2], dtype=int32)"
            ]
          },
          "metadata": {
            "tags": []
          },
          "execution_count": 118
        }
      ]
    },
    {
      "cell_type": "code",
      "metadata": {
        "id": "LUfzLoSduVM2"
      },
      "source": [
        "df_flights_module['K-mean_clusters'] = km.labels_"
      ],
      "execution_count": null,
      "outputs": []
    },
    {
      "cell_type": "code",
      "metadata": {
        "id": "ec-InlBibgpF"
      },
      "source": [
        "y_km = km.fit_predict(df_flights_module_scaled)"
      ],
      "execution_count": null,
      "outputs": []
    },
    {
      "cell_type": "code",
      "metadata": {
        "id": "8fnuwbtlbgwI",
        "colab": {
          "base_uri": "https://localhost:8080/",
          "height": 456
        },
        "outputId": "f53a21df-decb-4409-a397-8c9200269444"
      },
      "source": [
        "df_flights_module"
      ],
      "execution_count": null,
      "outputs": [
        {
          "output_type": "execute_result",
          "data": {
            "text/html": [
              "<div>\n",
              "<style scoped>\n",
              "    .dataframe tbody tr th:only-of-type {\n",
              "        vertical-align: middle;\n",
              "    }\n",
              "\n",
              "    .dataframe tbody tr th {\n",
              "        vertical-align: top;\n",
              "    }\n",
              "\n",
              "    .dataframe thead th {\n",
              "        text-align: right;\n",
              "    }\n",
              "</style>\n",
              "<table border=\"1\" class=\"dataframe\">\n",
              "  <thead>\n",
              "    <tr style=\"text-align: right;\">\n",
              "      <th></th>\n",
              "      <th>op_unique_carrier</th>\n",
              "      <th>origin_airport_id</th>\n",
              "      <th>dest_airport_id</th>\n",
              "      <th>dep_time</th>\n",
              "      <th>taxi_out</th>\n",
              "      <th>taxi_in</th>\n",
              "      <th>arr_time</th>\n",
              "      <th>cancelled</th>\n",
              "      <th>diverted</th>\n",
              "      <th>air_time</th>\n",
              "      <th>distance</th>\n",
              "      <th>rain</th>\n",
              "      <th>snow</th>\n",
              "      <th>visibility</th>\n",
              "      <th>wind</th>\n",
              "      <th>month</th>\n",
              "      <th>week_day</th>\n",
              "      <th>delay_average_carries</th>\n",
              "      <th>origin_state</th>\n",
              "      <th>dest_state</th>\n",
              "      <th>flight_delayed</th>\n",
              "      <th>K-mean_clusters</th>\n",
              "    </tr>\n",
              "  </thead>\n",
              "  <tbody>\n",
              "    <tr>\n",
              "      <th>0</th>\n",
              "      <td>1</td>\n",
              "      <td>10397</td>\n",
              "      <td>15304</td>\n",
              "      <td>8.0</td>\n",
              "      <td>21.0</td>\n",
              "      <td>3.0</td>\n",
              "      <td>10.0</td>\n",
              "      <td>0.0</td>\n",
              "      <td>0.0</td>\n",
              "      <td>63.0</td>\n",
              "      <td>406.0</td>\n",
              "      <td>10.00000</td>\n",
              "      <td>0.000000</td>\n",
              "      <td>9.000000</td>\n",
              "      <td>10.00000</td>\n",
              "      <td>7</td>\n",
              "      <td>0</td>\n",
              "      <td>0.686165</td>\n",
              "      <td>6</td>\n",
              "      <td>6</td>\n",
              "      <td>1</td>\n",
              "      <td>2</td>\n",
              "    </tr>\n",
              "    <tr>\n",
              "      <th>1</th>\n",
              "      <td>1</td>\n",
              "      <td>10397</td>\n",
              "      <td>10423</td>\n",
              "      <td>13.0</td>\n",
              "      <td>12.0</td>\n",
              "      <td>8.0</td>\n",
              "      <td>14.0</td>\n",
              "      <td>0.0</td>\n",
              "      <td>0.0</td>\n",
              "      <td>108.0</td>\n",
              "      <td>813.0</td>\n",
              "      <td>12.00000</td>\n",
              "      <td>0.000000</td>\n",
              "      <td>10.000000</td>\n",
              "      <td>12.00000</td>\n",
              "      <td>6</td>\n",
              "      <td>3</td>\n",
              "      <td>0.686165</td>\n",
              "      <td>6</td>\n",
              "      <td>5</td>\n",
              "      <td>1</td>\n",
              "      <td>1</td>\n",
              "    </tr>\n",
              "    <tr>\n",
              "      <th>2</th>\n",
              "      <td>2</td>\n",
              "      <td>10693</td>\n",
              "      <td>11057</td>\n",
              "      <td>14.0</td>\n",
              "      <td>12.0</td>\n",
              "      <td>8.0</td>\n",
              "      <td>17.0</td>\n",
              "      <td>0.0</td>\n",
              "      <td>0.0</td>\n",
              "      <td>56.0</td>\n",
              "      <td>328.0</td>\n",
              "      <td>5.00000</td>\n",
              "      <td>0.000000</td>\n",
              "      <td>10.000000</td>\n",
              "      <td>5.00000</td>\n",
              "      <td>11</td>\n",
              "      <td>5</td>\n",
              "      <td>2.621795</td>\n",
              "      <td>1</td>\n",
              "      <td>6</td>\n",
              "      <td>1</td>\n",
              "      <td>5</td>\n",
              "    </tr>\n",
              "    <tr>\n",
              "      <th>3</th>\n",
              "      <td>3</td>\n",
              "      <td>12264</td>\n",
              "      <td>12892</td>\n",
              "      <td>17.0</td>\n",
              "      <td>15.0</td>\n",
              "      <td>7.0</td>\n",
              "      <td>19.0</td>\n",
              "      <td>0.0</td>\n",
              "      <td>0.0</td>\n",
              "      <td>298.0</td>\n",
              "      <td>2288.0</td>\n",
              "      <td>5.00000</td>\n",
              "      <td>0.000000</td>\n",
              "      <td>10.000000</td>\n",
              "      <td>5.00000</td>\n",
              "      <td>12</td>\n",
              "      <td>5</td>\n",
              "      <td>4.988605</td>\n",
              "      <td>6</td>\n",
              "      <td>8</td>\n",
              "      <td>1</td>\n",
              "      <td>5</td>\n",
              "    </tr>\n",
              "    <tr>\n",
              "      <th>4</th>\n",
              "      <td>4</td>\n",
              "      <td>10693</td>\n",
              "      <td>10397</td>\n",
              "      <td>13.0</td>\n",
              "      <td>10.0</td>\n",
              "      <td>6.0</td>\n",
              "      <td>15.0</td>\n",
              "      <td>0.0</td>\n",
              "      <td>0.0</td>\n",
              "      <td>38.0</td>\n",
              "      <td>214.0</td>\n",
              "      <td>14.00000</td>\n",
              "      <td>0.000000</td>\n",
              "      <td>10.000000</td>\n",
              "      <td>14.00000</td>\n",
              "      <td>3</td>\n",
              "      <td>2</td>\n",
              "      <td>4.285845</td>\n",
              "      <td>1</td>\n",
              "      <td>6</td>\n",
              "      <td>1</td>\n",
              "      <td>4</td>\n",
              "    </tr>\n",
              "    <tr>\n",
              "      <th>...</th>\n",
              "      <td>...</td>\n",
              "      <td>...</td>\n",
              "      <td>...</td>\n",
              "      <td>...</td>\n",
              "      <td>...</td>\n",
              "      <td>...</td>\n",
              "      <td>...</td>\n",
              "      <td>...</td>\n",
              "      <td>...</td>\n",
              "      <td>...</td>\n",
              "      <td>...</td>\n",
              "      <td>...</td>\n",
              "      <td>...</td>\n",
              "      <td>...</td>\n",
              "      <td>...</td>\n",
              "      <td>...</td>\n",
              "      <td>...</td>\n",
              "      <td>...</td>\n",
              "      <td>...</td>\n",
              "      <td>...</td>\n",
              "      <td>...</td>\n",
              "      <td>...</td>\n",
              "    </tr>\n",
              "    <tr>\n",
              "      <th>35076</th>\n",
              "      <td>12</td>\n",
              "      <td>13495</td>\n",
              "      <td>11298</td>\n",
              "      <td>12.0</td>\n",
              "      <td>19.0</td>\n",
              "      <td>10.0</td>\n",
              "      <td>14.0</td>\n",
              "      <td>0.0</td>\n",
              "      <td>0.0</td>\n",
              "      <td>71.0</td>\n",
              "      <td>447.0</td>\n",
              "      <td>6.00000</td>\n",
              "      <td>0.000000</td>\n",
              "      <td>10.000000</td>\n",
              "      <td>6.00000</td>\n",
              "      <td>10</td>\n",
              "      <td>1</td>\n",
              "      <td>5.468287</td>\n",
              "      <td>5</td>\n",
              "      <td>5</td>\n",
              "      <td>1</td>\n",
              "      <td>2</td>\n",
              "    </tr>\n",
              "    <tr>\n",
              "      <th>35077</th>\n",
              "      <td>6</td>\n",
              "      <td>14747</td>\n",
              "      <td>11259</td>\n",
              "      <td>11.0</td>\n",
              "      <td>30.0</td>\n",
              "      <td>7.0</td>\n",
              "      <td>18.0</td>\n",
              "      <td>0.0</td>\n",
              "      <td>0.0</td>\n",
              "      <td>242.0</td>\n",
              "      <td>1670.0</td>\n",
              "      <td>8.00000</td>\n",
              "      <td>0.000000</td>\n",
              "      <td>10.000000</td>\n",
              "      <td>8.00000</td>\n",
              "      <td>6</td>\n",
              "      <td>6</td>\n",
              "      <td>11.327017</td>\n",
              "      <td>4</td>\n",
              "      <td>5</td>\n",
              "      <td>2</td>\n",
              "      <td>1</td>\n",
              "    </tr>\n",
              "    <tr>\n",
              "      <th>35078</th>\n",
              "      <td>12</td>\n",
              "      <td>11057</td>\n",
              "      <td>13930</td>\n",
              "      <td>7.0</td>\n",
              "      <td>62.0</td>\n",
              "      <td>15.0</td>\n",
              "      <td>9.0</td>\n",
              "      <td>0.0</td>\n",
              "      <td>0.0</td>\n",
              "      <td>92.0</td>\n",
              "      <td>599.0</td>\n",
              "      <td>23.00000</td>\n",
              "      <td>2.700000</td>\n",
              "      <td>3.000000</td>\n",
              "      <td>23.00000</td>\n",
              "      <td>12</td>\n",
              "      <td>6</td>\n",
              "      <td>5.468287</td>\n",
              "      <td>6</td>\n",
              "      <td>1</td>\n",
              "      <td>2</td>\n",
              "      <td>0</td>\n",
              "    </tr>\n",
              "    <tr>\n",
              "      <th>35079</th>\n",
              "      <td>1</td>\n",
              "      <td>10397</td>\n",
              "      <td>14683</td>\n",
              "      <td>11.0</td>\n",
              "      <td>21.0</td>\n",
              "      <td>4.0</td>\n",
              "      <td>12.0</td>\n",
              "      <td>0.0</td>\n",
              "      <td>0.0</td>\n",
              "      <td>114.0</td>\n",
              "      <td>874.0</td>\n",
              "      <td>34.00000</td>\n",
              "      <td>0.000000</td>\n",
              "      <td>10.000000</td>\n",
              "      <td>34.00000</td>\n",
              "      <td>5</td>\n",
              "      <td>5</td>\n",
              "      <td>0.686165</td>\n",
              "      <td>6</td>\n",
              "      <td>5</td>\n",
              "      <td>1</td>\n",
              "      <td>0</td>\n",
              "    </tr>\n",
              "    <tr>\n",
              "      <th>35080</th>\n",
              "      <td>17</td>\n",
              "      <td>11540</td>\n",
              "      <td>11292</td>\n",
              "      <td>12.0</td>\n",
              "      <td>16.0</td>\n",
              "      <td>7.0</td>\n",
              "      <td>14.0</td>\n",
              "      <td>0.0</td>\n",
              "      <td>0.0</td>\n",
              "      <td>84.0</td>\n",
              "      <td>563.0</td>\n",
              "      <td>11.28095</td>\n",
              "      <td>0.074796</td>\n",
              "      <td>10.284464</td>\n",
              "      <td>11.28095</td>\n",
              "      <td>12</td>\n",
              "      <td>0</td>\n",
              "      <td>9.131183</td>\n",
              "      <td>5</td>\n",
              "      <td>7</td>\n",
              "      <td>1</td>\n",
              "      <td>2</td>\n",
              "    </tr>\n",
              "  </tbody>\n",
              "</table>\n",
              "<p>35081 rows × 22 columns</p>\n",
              "</div>"
            ],
            "text/plain": [
              "       op_unique_carrier  origin_airport_id  ...  flight_delayed  K-mean_clusters\n",
              "0                      1              10397  ...               1                2\n",
              "1                      1              10397  ...               1                1\n",
              "2                      2              10693  ...               1                5\n",
              "3                      3              12264  ...               1                5\n",
              "4                      4              10693  ...               1                4\n",
              "...                  ...                ...  ...             ...              ...\n",
              "35076                 12              13495  ...               1                2\n",
              "35077                  6              14747  ...               2                1\n",
              "35078                 12              11057  ...               2                0\n",
              "35079                  1              10397  ...               1                0\n",
              "35080                 17              11540  ...               1                2\n",
              "\n",
              "[35081 rows x 22 columns]"
            ]
          },
          "metadata": {
            "tags": []
          },
          "execution_count": 120
        }
      ]
    },
    {
      "cell_type": "code",
      "metadata": {
        "id": "XNZlMQxxbgzQ"
      },
      "source": [
        "df_flights_module['K-mean_clusters'] = df_flights_module['K-mean_clusters'].astype('category')"
      ],
      "execution_count": null,
      "outputs": []
    },
    {
      "cell_type": "code",
      "metadata": {
        "id": "xJdyhVDnvamv"
      },
      "source": [
        "#Save and loar point\n",
        "# df_flights_module.to_csv('df_flights_module_Final_Rev_3.csv')\n",
        "\n",
        "df_flights_module = pd.read_csv('df_flights_module_Final_Rev_3.csv')\n",
        "df_flights_module = df_flights_module.drop(columns=('Unnamed: 0'))"
      ],
      "execution_count": 8,
      "outputs": []
    },
    {
      "cell_type": "code",
      "metadata": {
        "id": "eE5xqhxzNkgZ"
      },
      "source": [
        "df_flights_module.to_csv('df_flights_module_Final_Rev_4.csv')\n"
      ],
      "execution_count": 18,
      "outputs": []
    },
    {
      "cell_type": "code",
      "metadata": {
        "colab": {
          "base_uri": "https://localhost:8080/",
          "height": 439
        },
        "id": "_oel1OamNGJu",
        "outputId": "acf09e24-cab0-41b0-bb36-e32fae7ebf23"
      },
      "source": [
        "df_flights_module"
      ],
      "execution_count": 37,
      "outputs": [
        {
          "output_type": "execute_result",
          "data": {
            "text/html": [
              "<div>\n",
              "<style scoped>\n",
              "    .dataframe tbody tr th:only-of-type {\n",
              "        vertical-align: middle;\n",
              "    }\n",
              "\n",
              "    .dataframe tbody tr th {\n",
              "        vertical-align: top;\n",
              "    }\n",
              "\n",
              "    .dataframe thead th {\n",
              "        text-align: right;\n",
              "    }\n",
              "</style>\n",
              "<table border=\"1\" class=\"dataframe\">\n",
              "  <thead>\n",
              "    <tr style=\"text-align: right;\">\n",
              "      <th></th>\n",
              "      <th>op_unique_carrier</th>\n",
              "      <th>origin_airport_id</th>\n",
              "      <th>dest_airport_id</th>\n",
              "      <th>dep_time</th>\n",
              "      <th>arr_time</th>\n",
              "      <th>distance</th>\n",
              "      <th>rain</th>\n",
              "      <th>snow</th>\n",
              "      <th>visibility</th>\n",
              "      <th>wind</th>\n",
              "      <th>month</th>\n",
              "      <th>week_day</th>\n",
              "      <th>delay_average_carries</th>\n",
              "      <th>origin_state</th>\n",
              "      <th>dest_state</th>\n",
              "      <th>flight_delayed</th>\n",
              "    </tr>\n",
              "  </thead>\n",
              "  <tbody>\n",
              "    <tr>\n",
              "      <th>0</th>\n",
              "      <td>1</td>\n",
              "      <td>10397</td>\n",
              "      <td>15304</td>\n",
              "      <td>8.0</td>\n",
              "      <td>10.0</td>\n",
              "      <td>406.0</td>\n",
              "      <td>10.00000</td>\n",
              "      <td>0.000000</td>\n",
              "      <td>9.000000</td>\n",
              "      <td>10.00000</td>\n",
              "      <td>7</td>\n",
              "      <td>0</td>\n",
              "      <td>0.686165</td>\n",
              "      <td>6</td>\n",
              "      <td>6</td>\n",
              "      <td>1</td>\n",
              "    </tr>\n",
              "    <tr>\n",
              "      <th>1</th>\n",
              "      <td>1</td>\n",
              "      <td>10397</td>\n",
              "      <td>10423</td>\n",
              "      <td>13.0</td>\n",
              "      <td>14.0</td>\n",
              "      <td>813.0</td>\n",
              "      <td>12.00000</td>\n",
              "      <td>0.000000</td>\n",
              "      <td>10.000000</td>\n",
              "      <td>12.00000</td>\n",
              "      <td>6</td>\n",
              "      <td>3</td>\n",
              "      <td>0.686165</td>\n",
              "      <td>6</td>\n",
              "      <td>5</td>\n",
              "      <td>1</td>\n",
              "    </tr>\n",
              "    <tr>\n",
              "      <th>2</th>\n",
              "      <td>2</td>\n",
              "      <td>10693</td>\n",
              "      <td>11057</td>\n",
              "      <td>14.0</td>\n",
              "      <td>17.0</td>\n",
              "      <td>328.0</td>\n",
              "      <td>5.00000</td>\n",
              "      <td>0.000000</td>\n",
              "      <td>10.000000</td>\n",
              "      <td>5.00000</td>\n",
              "      <td>11</td>\n",
              "      <td>5</td>\n",
              "      <td>2.621795</td>\n",
              "      <td>1</td>\n",
              "      <td>6</td>\n",
              "      <td>1</td>\n",
              "    </tr>\n",
              "    <tr>\n",
              "      <th>3</th>\n",
              "      <td>3</td>\n",
              "      <td>12264</td>\n",
              "      <td>12892</td>\n",
              "      <td>17.0</td>\n",
              "      <td>19.0</td>\n",
              "      <td>2288.0</td>\n",
              "      <td>5.00000</td>\n",
              "      <td>0.000000</td>\n",
              "      <td>10.000000</td>\n",
              "      <td>5.00000</td>\n",
              "      <td>12</td>\n",
              "      <td>5</td>\n",
              "      <td>4.988605</td>\n",
              "      <td>6</td>\n",
              "      <td>8</td>\n",
              "      <td>1</td>\n",
              "    </tr>\n",
              "    <tr>\n",
              "      <th>4</th>\n",
              "      <td>4</td>\n",
              "      <td>10693</td>\n",
              "      <td>10397</td>\n",
              "      <td>13.0</td>\n",
              "      <td>15.0</td>\n",
              "      <td>214.0</td>\n",
              "      <td>14.00000</td>\n",
              "      <td>0.000000</td>\n",
              "      <td>10.000000</td>\n",
              "      <td>14.00000</td>\n",
              "      <td>3</td>\n",
              "      <td>2</td>\n",
              "      <td>4.285845</td>\n",
              "      <td>1</td>\n",
              "      <td>6</td>\n",
              "      <td>1</td>\n",
              "    </tr>\n",
              "    <tr>\n",
              "      <th>...</th>\n",
              "      <td>...</td>\n",
              "      <td>...</td>\n",
              "      <td>...</td>\n",
              "      <td>...</td>\n",
              "      <td>...</td>\n",
              "      <td>...</td>\n",
              "      <td>...</td>\n",
              "      <td>...</td>\n",
              "      <td>...</td>\n",
              "      <td>...</td>\n",
              "      <td>...</td>\n",
              "      <td>...</td>\n",
              "      <td>...</td>\n",
              "      <td>...</td>\n",
              "      <td>...</td>\n",
              "      <td>...</td>\n",
              "    </tr>\n",
              "    <tr>\n",
              "      <th>35076</th>\n",
              "      <td>12</td>\n",
              "      <td>13495</td>\n",
              "      <td>11298</td>\n",
              "      <td>12.0</td>\n",
              "      <td>14.0</td>\n",
              "      <td>447.0</td>\n",
              "      <td>6.00000</td>\n",
              "      <td>0.000000</td>\n",
              "      <td>10.000000</td>\n",
              "      <td>6.00000</td>\n",
              "      <td>10</td>\n",
              "      <td>1</td>\n",
              "      <td>5.468287</td>\n",
              "      <td>5</td>\n",
              "      <td>5</td>\n",
              "      <td>1</td>\n",
              "    </tr>\n",
              "    <tr>\n",
              "      <th>35077</th>\n",
              "      <td>6</td>\n",
              "      <td>14747</td>\n",
              "      <td>11259</td>\n",
              "      <td>11.0</td>\n",
              "      <td>18.0</td>\n",
              "      <td>1670.0</td>\n",
              "      <td>8.00000</td>\n",
              "      <td>0.000000</td>\n",
              "      <td>10.000000</td>\n",
              "      <td>8.00000</td>\n",
              "      <td>6</td>\n",
              "      <td>6</td>\n",
              "      <td>11.327017</td>\n",
              "      <td>4</td>\n",
              "      <td>5</td>\n",
              "      <td>2</td>\n",
              "    </tr>\n",
              "    <tr>\n",
              "      <th>35078</th>\n",
              "      <td>12</td>\n",
              "      <td>11057</td>\n",
              "      <td>13930</td>\n",
              "      <td>7.0</td>\n",
              "      <td>9.0</td>\n",
              "      <td>599.0</td>\n",
              "      <td>23.00000</td>\n",
              "      <td>2.700000</td>\n",
              "      <td>3.000000</td>\n",
              "      <td>23.00000</td>\n",
              "      <td>12</td>\n",
              "      <td>6</td>\n",
              "      <td>5.468287</td>\n",
              "      <td>6</td>\n",
              "      <td>1</td>\n",
              "      <td>2</td>\n",
              "    </tr>\n",
              "    <tr>\n",
              "      <th>35079</th>\n",
              "      <td>1</td>\n",
              "      <td>10397</td>\n",
              "      <td>14683</td>\n",
              "      <td>11.0</td>\n",
              "      <td>12.0</td>\n",
              "      <td>874.0</td>\n",
              "      <td>34.00000</td>\n",
              "      <td>0.000000</td>\n",
              "      <td>10.000000</td>\n",
              "      <td>34.00000</td>\n",
              "      <td>5</td>\n",
              "      <td>5</td>\n",
              "      <td>0.686165</td>\n",
              "      <td>6</td>\n",
              "      <td>5</td>\n",
              "      <td>1</td>\n",
              "    </tr>\n",
              "    <tr>\n",
              "      <th>35080</th>\n",
              "      <td>17</td>\n",
              "      <td>11540</td>\n",
              "      <td>11292</td>\n",
              "      <td>12.0</td>\n",
              "      <td>14.0</td>\n",
              "      <td>563.0</td>\n",
              "      <td>11.28095</td>\n",
              "      <td>0.074796</td>\n",
              "      <td>10.284464</td>\n",
              "      <td>11.28095</td>\n",
              "      <td>12</td>\n",
              "      <td>0</td>\n",
              "      <td>9.131183</td>\n",
              "      <td>5</td>\n",
              "      <td>7</td>\n",
              "      <td>1</td>\n",
              "    </tr>\n",
              "  </tbody>\n",
              "</table>\n",
              "<p>35081 rows × 16 columns</p>\n",
              "</div>"
            ],
            "text/plain": [
              "       op_unique_carrier  origin_airport_id  ...  dest_state  flight_delayed\n",
              "0                      1              10397  ...           6               1\n",
              "1                      1              10397  ...           5               1\n",
              "2                      2              10693  ...           6               1\n",
              "3                      3              12264  ...           8               1\n",
              "4                      4              10693  ...           6               1\n",
              "...                  ...                ...  ...         ...             ...\n",
              "35076                 12              13495  ...           5               1\n",
              "35077                  6              14747  ...           5               2\n",
              "35078                 12              11057  ...           1               2\n",
              "35079                  1              10397  ...           5               1\n",
              "35080                 17              11540  ...           7               1\n",
              "\n",
              "[35081 rows x 16 columns]"
            ]
          },
          "metadata": {
            "tags": []
          },
          "execution_count": 37
        }
      ]
    },
    {
      "cell_type": "code",
      "metadata": {
        "id": "ex-3CD8SOEQ1"
      },
      "source": [
        "df_flights_module = df_flights_module.drop(columns=['taxi_out','taxi_in','cancelled','diverted','air_time','K-mean_clusters'])"
      ],
      "execution_count": 13,
      "outputs": []
    },
    {
      "cell_type": "code",
      "metadata": {
        "id": "0__tDgfBz0gt"
      },
      "source": [
        "# scaling\n",
        "from sklearn.preprocessing import MinMaxScaler \n",
        "scaler = MinMaxScaler()\n",
        "df_flights_module_scaled = pd.DataFrame(scaler.fit_transform(df_flights_module), columns = df_flights_module.columns)"
      ],
      "execution_count": null,
      "outputs": []
    },
    {
      "cell_type": "code",
      "metadata": {
        "id": "YE9qhFbY1HOa"
      },
      "source": [
        "# Creating Dataframe for split\n",
        "X = df_flights_module_scaled.drop(columns=('flight_delayed'))\n",
        "y = df_flights_module['flight_delayed']"
      ],
      "execution_count": null,
      "outputs": []
    },
    {
      "cell_type": "code",
      "metadata": {
        "id": "-OmpNw0kz0LX"
      },
      "source": [
        ""
      ],
      "execution_count": null,
      "outputs": []
    },
    {
      "cell_type": "code",
      "metadata": {
        "id": "nByRwiCvzz6Y"
      },
      "source": [
        ""
      ],
      "execution_count": null,
      "outputs": []
    },
    {
      "cell_type": "markdown",
      "metadata": {
        "id": "TBbQ_mOxvbbE"
      },
      "source": [
        "___\n",
        "___\n",
        "\n",
        "## Modeling With Clustering "
      ]
    },
    {
      "cell_type": "code",
      "metadata": {
        "id": "ZlhQRU4Iz0SS"
      },
      "source": [
        "# split X and y into training and testing sets\n",
        "from sklearn.model_selection import train_test_split\n",
        "X_train,X_test,y_train,y_test=train_test_split(X,y,test_size=0.25,random_state=0)"
      ],
      "execution_count": null,
      "outputs": []
    },
    {
      "cell_type": "markdown",
      "metadata": {
        "id": "EpmmsNMrkWaa"
      },
      "source": [
        "#### Logistic Regression"
      ]
    },
    {
      "cell_type": "code",
      "metadata": {
        "colab": {
          "base_uri": "https://localhost:8080/"
        },
        "id": "y1CzXTmtvknT",
        "outputId": "ff330611-05e4-4ba8-9d37-e73fa4a354d2"
      },
      "source": [
        "from sklearn.linear_model import LogisticRegression\n",
        "\n",
        "# instantiate the model (using the default parameters)\n",
        "logreg = LogisticRegression()\n",
        "\n",
        "# fit the model with data\n",
        "logreg.fit(X_train,y_train)\n",
        "\n",
        "\n",
        "y_pred =logreg.predict(X_test)"
      ],
      "execution_count": null,
      "outputs": [
        {
          "output_type": "stream",
          "text": [
            "/usr/local/lib/python3.6/dist-packages/sklearn/linear_model/_logistic.py:940: ConvergenceWarning:\n",
            "\n",
            "lbfgs failed to converge (status=1):\n",
            "STOP: TOTAL NO. of ITERATIONS REACHED LIMIT.\n",
            "\n",
            "Increase the number of iterations (max_iter) or scale the data as shown in:\n",
            "    https://scikit-learn.org/stable/modules/preprocessing.html\n",
            "Please also refer to the documentation for alternative solver options:\n",
            "    https://scikit-learn.org/stable/modules/linear_model.html#logistic-regression\n",
            "\n"
          ],
          "name": "stderr"
        }
      ]
    },
    {
      "cell_type": "code",
      "metadata": {
        "colab": {
          "base_uri": "https://localhost:8080/"
        },
        "id": "4IkqIWp9vkke",
        "outputId": "7a051692-8a90-4f75-9eae-bc2d75b7ffb1"
      },
      "source": [
        "# import accuracy_score from sklearn\n",
        "from sklearn.metrics import accuracy_score\n",
        "\n",
        "# compute accuracy\n",
        "accuracy_test = accuracy_score(y_test,y_pred)\n",
        "\n",
        "print( accuracy_test)"
      ],
      "execution_count": null,
      "outputs": [
        {
          "output_type": "stream",
          "text": [
            "0.7211264394025767\n"
          ],
          "name": "stdout"
        }
      ]
    },
    {
      "cell_type": "code",
      "metadata": {
        "colab": {
          "base_uri": "https://localhost:8080/"
        },
        "id": "6Z-fFe8qvkhr",
        "outputId": "2e31f996-4f09-4e89-dbd2-f119d67732f3"
      },
      "source": [
        "# import f1_score from sklearn\n",
        "from sklearn.metrics import f1_score\n",
        "\n",
        "# compute f1_score\n",
        "f1_score = f1_score(y_test,y_pred, average='micro',)\n",
        "\n",
        "print(f1_score)"
      ],
      "execution_count": null,
      "outputs": [
        {
          "output_type": "stream",
          "text": [
            "0.7211264394025768\n"
          ],
          "name": "stdout"
        }
      ]
    },
    {
      "cell_type": "code",
      "metadata": {
        "colab": {
          "base_uri": "https://localhost:8080/"
        },
        "id": "sDapO7wXvkeL",
        "outputId": "35ee9bcc-28e0-4d49-8d34-64802e23d39b"
      },
      "source": [
        "from sklearn.metrics import classification_report\n",
        "y_pred = logreg.predict(X_test)\n",
        "print(classification_report(y_test,y_pred))"
      ],
      "execution_count": null,
      "outputs": [
        {
          "output_type": "stream",
          "text": [
            "              precision    recall  f1-score   support\n",
            "\n",
            "           1       0.73      0.95      0.83      5551\n",
            "           2       0.62      0.31      0.41      2321\n",
            "           3       0.50      0.00      0.01       494\n",
            "           4       1.00      0.06      0.11        86\n",
            "           5       0.93      0.97      0.95       319\n",
            "\n",
            "    accuracy                           0.72      8771\n",
            "   macro avg       0.76      0.46      0.46      8771\n",
            "weighted avg       0.70      0.72      0.67      8771\n",
            "\n"
          ],
          "name": "stdout"
        }
      ]
    },
    {
      "cell_type": "markdown",
      "metadata": {
        "id": "c72NmYO7lOqt"
      },
      "source": [
        "#### Naive Regression"
      ]
    },
    {
      "cell_type": "code",
      "metadata": {
        "id": "1iKub3rBvkbD"
      },
      "source": [
        "from sklearn.naive_bayes import GaussianNB\n",
        "clf = GaussianNB()\n",
        "clf.fit(X_train, y_train)\n",
        "y_pred_naive = clf.predict(X_test)"
      ],
      "execution_count": null,
      "outputs": []
    },
    {
      "cell_type": "code",
      "metadata": {
        "colab": {
          "base_uri": "https://localhost:8080/"
        },
        "id": "eluy23vQlWIh",
        "outputId": "891d7ec5-8439-44c4-b513-5196ef77a3d3"
      },
      "source": [
        "# import accuracy_score from sklearn\n",
        "from sklearn.metrics import accuracy_score\n",
        "\n",
        "# compute accuracy\n",
        "accuracy = accuracy_score(y_test,y_pred_naive)\n",
        "\n",
        "print(accuracy)"
      ],
      "execution_count": null,
      "outputs": [
        {
          "output_type": "stream",
          "text": [
            "0.6806521491278076\n"
          ],
          "name": "stdout"
        }
      ]
    },
    {
      "cell_type": "code",
      "metadata": {
        "colab": {
          "base_uri": "https://localhost:8080/"
        },
        "id": "13yyznoVlWL3",
        "outputId": "dc40f011-fb36-4fac-ad61-b3b7b6400cfc"
      },
      "source": [
        "# import f1_score from sklearn\n",
        "from sklearn.metrics import f1_score\n",
        "\n",
        "# compute f1_score\n",
        "f1_score = f1_score(y_test,y_pred_naive, average='micro',)\n",
        "\n",
        "print(f1_score)"
      ],
      "execution_count": null,
      "outputs": [
        {
          "output_type": "stream",
          "text": [
            "0.6806521491278076\n"
          ],
          "name": "stdout"
        }
      ]
    },
    {
      "cell_type": "code",
      "metadata": {
        "colab": {
          "base_uri": "https://localhost:8080/"
        },
        "id": "vpewW1WllWPM",
        "outputId": "ad2db1f2-8454-49d0-a42d-3b512be750a4"
      },
      "source": [
        "from sklearn.metrics import classification_report\n",
        "y_pred = clf.predict(X_test)\n",
        "print(classification_report(y_test,y_pred))"
      ],
      "execution_count": null,
      "outputs": [
        {
          "output_type": "stream",
          "text": [
            "              precision    recall  f1-score   support\n",
            "\n",
            "           1       0.71      0.93      0.80      5551\n",
            "           2       0.56      0.26      0.36      2321\n",
            "           3       0.33      0.11      0.16       494\n",
            "           4       0.08      0.07      0.07        86\n",
            "           5       0.98      0.45      0.62       319\n",
            "\n",
            "    accuracy                           0.68      8771\n",
            "   macro avg       0.53      0.36      0.40      8771\n",
            "weighted avg       0.65      0.68      0.63      8771\n",
            "\n"
          ],
          "name": "stdout"
        }
      ]
    },
    {
      "cell_type": "markdown",
      "metadata": {
        "id": "LIYNcqC6lq7N"
      },
      "source": [
        "#### XGBoost"
      ]
    },
    {
      "cell_type": "code",
      "metadata": {
        "colab": {
          "base_uri": "https://localhost:8080/"
        },
        "id": "tx4mO9oulWSb",
        "outputId": "5a7f382b-fd24-4a33-f80f-ebdffe3fbedf"
      },
      "source": [
        "from sklearn.ensemble import GradientBoostingClassifier\n",
        "GBosst = GradientBoostingClassifier(n_estimators=100, learning_rate=1.0,  \n",
        "                                 max_depth=1, random_state=0).fit(X_train, y_train)\n",
        "GBosst.score(X_test, y_test)"
      ],
      "execution_count": null,
      "outputs": [
        {
          "output_type": "execute_result",
          "data": {
            "text/plain": [
              "0.684756584197925"
            ]
          },
          "metadata": {
            "tags": []
          },
          "execution_count": 19
        }
      ]
    },
    {
      "cell_type": "code",
      "metadata": {
        "id": "sjEnF-1UvkXp"
      },
      "source": [
        "y_pred_Gboost = GBosst.predict(X_test)"
      ],
      "execution_count": null,
      "outputs": []
    },
    {
      "cell_type": "code",
      "metadata": {
        "colab": {
          "base_uri": "https://localhost:8080/"
        },
        "id": "SiONwCGkvkOR",
        "outputId": "2110b99a-76a4-470d-b93e-f0f96a4d6b70"
      },
      "source": [
        "# import accuracy_score from sklearn\n",
        "from sklearn.metrics import accuracy_score\n",
        "\n",
        "# compute accuracy\n",
        "accuracy = accuracy_score(y_test,y_pred_Gboost)\n",
        "\n",
        "print(accuracy)"
      ],
      "execution_count": null,
      "outputs": [
        {
          "output_type": "stream",
          "text": [
            "0.684756584197925\n"
          ],
          "name": "stdout"
        }
      ]
    },
    {
      "cell_type": "code",
      "metadata": {
        "colab": {
          "base_uri": "https://localhost:8080/"
        },
        "id": "jTJ393WHvkGc",
        "outputId": "c651eab9-882e-4f18-e49b-6c3bf579e114"
      },
      "source": [
        "# import f1_score from sklearn\n",
        "from sklearn.metrics import f1_score\n",
        "\n",
        "# compute f1_score\n",
        "f1_score = f1_score(y_test,y_pred_Gboost, average='micro',)\n",
        "\n",
        "print(f1_score)"
      ],
      "execution_count": null,
      "outputs": [
        {
          "output_type": "stream",
          "text": [
            "0.684756584197925\n"
          ],
          "name": "stdout"
        }
      ]
    },
    {
      "cell_type": "code",
      "metadata": {
        "colab": {
          "base_uri": "https://localhost:8080/"
        },
        "id": "UfMRQ2SCvaQB",
        "outputId": "69e4ac5b-9abc-4f3b-dbae-dd7eb7344513"
      },
      "source": [
        "from sklearn.metrics import classification_report\n",
        "y_pred = GBosst.predict(X_test)\n",
        "print(classification_report(y_test,y_pred))"
      ],
      "execution_count": null,
      "outputs": [
        {
          "output_type": "stream",
          "text": [
            "              precision    recall  f1-score   support\n",
            "\n",
            "           1       0.73      0.94      0.82      5551\n",
            "           2       0.59      0.31      0.41      2321\n",
            "           3       0.45      0.08      0.14       494\n",
            "           4       0.09      0.38      0.15        86\n",
            "           5       0.00      0.00      0.00       319\n",
            "\n",
            "    accuracy                           0.68      8771\n",
            "   macro avg       0.37      0.34      0.30      8771\n",
            "weighted avg       0.65      0.68      0.64      8771\n",
            "\n"
          ],
          "name": "stdout"
        },
        {
          "output_type": "stream",
          "text": [
            "/usr/local/lib/python3.6/dist-packages/sklearn/metrics/_classification.py:1272: UndefinedMetricWarning:\n",
            "\n",
            "Precision and F-score are ill-defined and being set to 0.0 in labels with no predicted samples. Use `zero_division` parameter to control this behavior.\n",
            "\n"
          ],
          "name": "stderr"
        }
      ]
    },
    {
      "cell_type": "markdown",
      "metadata": {
        "id": "4yJERSwamRoO"
      },
      "source": [
        "#### Random Forest"
      ]
    },
    {
      "cell_type": "code",
      "metadata": {
        "id": "eDE8GDTCmBGP"
      },
      "source": [
        "from sklearn.ensemble import RandomForestClassifier\n",
        "\n",
        "random_f = RandomForestClassifier(n_estimators=100)\n",
        "\n",
        "random_f.fit(X_train, y_train)\n",
        "y_pred_Ran = random_f.predict(X_test)"
      ],
      "execution_count": null,
      "outputs": []
    },
    {
      "cell_type": "code",
      "metadata": {
        "colab": {
          "base_uri": "https://localhost:8080/"
        },
        "id": "jjma3RyumBKc",
        "outputId": "17370ce5-6c96-4bac-93f9-dffcb18354c5"
      },
      "source": [
        "# import accuracy_score from sklearn\n",
        "from sklearn.metrics import accuracy_score\n",
        "\n",
        "# compute accuracy\n",
        "accuracy = accuracy_score(y_test,y_pred_Ran)\n",
        "\n",
        "print(accuracy)"
      ],
      "execution_count": null,
      "outputs": [
        {
          "output_type": "stream",
          "text": [
            "0.7218105119142629\n"
          ],
          "name": "stdout"
        }
      ]
    },
    {
      "cell_type": "code",
      "metadata": {
        "colab": {
          "base_uri": "https://localhost:8080/"
        },
        "id": "nn8yBh30mBOc",
        "outputId": "67755733-776a-40f3-bd2d-ae4e2084b7bd"
      },
      "source": [
        "# import f1_score from sklearn\n",
        "from sklearn.metrics import f1_score\n",
        "\n",
        "# compute f1_score\n",
        "f1_score = f1_score(y_test,y_pred_Ran, average='macro',)\n",
        "\n",
        "print(f1_score)"
      ],
      "execution_count": null,
      "outputs": [
        {
          "output_type": "stream",
          "text": [
            "0.510399851843993\n"
          ],
          "name": "stdout"
        }
      ]
    },
    {
      "cell_type": "code",
      "metadata": {
        "colab": {
          "base_uri": "https://localhost:8080/"
        },
        "id": "LuIT0ICDmBSS",
        "outputId": "5c063345-d0de-4e8a-cfc4-edbe47a9be7a"
      },
      "source": [
        "from sklearn.metrics import classification_report\n",
        "y_pred = random_f.predict(X_test)\n",
        "print(classification_report(y_test,y_pred))"
      ],
      "execution_count": null,
      "outputs": [
        {
          "output_type": "stream",
          "text": [
            "              precision    recall  f1-score   support\n",
            "\n",
            "           1       0.73      0.94      0.82      5551\n",
            "           2       0.60      0.33      0.42      2321\n",
            "           3       0.63      0.05      0.10       494\n",
            "           4       0.92      0.14      0.24        86\n",
            "           5       0.94      1.00      0.97       319\n",
            "\n",
            "    accuracy                           0.72      8771\n",
            "   macro avg       0.77      0.49      0.51      8771\n",
            "weighted avg       0.70      0.72      0.68      8771\n",
            "\n"
          ],
          "name": "stdout"
        }
      ]
    },
    {
      "cell_type": "markdown",
      "metadata": {
        "id": "4BN-9GhaobMh"
      },
      "source": [
        "### Cross-Validation"
      ]
    },
    {
      "cell_type": "code",
      "metadata": {
        "id": "wPxKgkcHmBbZ"
      },
      "source": [
        "from sklearn.model_selection import cross_val_score"
      ],
      "execution_count": null,
      "outputs": []
    },
    {
      "cell_type": "markdown",
      "metadata": {
        "id": "zgUXSKt4pTma"
      },
      "source": [
        "#### Logistic Regression"
      ]
    },
    {
      "cell_type": "code",
      "metadata": {
        "colab": {
          "base_uri": "https://localhost:8080/"
        },
        "id": "W-EPVORYmBfF",
        "outputId": "a7e7afd0-28d0-4348-f840-0c884b2c493a"
      },
      "source": [
        "log_red = cross_val_score(logreg,X,y, cv=5)\n"
      ],
      "execution_count": null,
      "outputs": [
        {
          "output_type": "stream",
          "text": [
            "/usr/local/lib/python3.6/dist-packages/sklearn/linear_model/_logistic.py:940: ConvergenceWarning:\n",
            "\n",
            "lbfgs failed to converge (status=1):\n",
            "STOP: TOTAL NO. of ITERATIONS REACHED LIMIT.\n",
            "\n",
            "Increase the number of iterations (max_iter) or scale the data as shown in:\n",
            "    https://scikit-learn.org/stable/modules/preprocessing.html\n",
            "Please also refer to the documentation for alternative solver options:\n",
            "    https://scikit-learn.org/stable/modules/linear_model.html#logistic-regression\n",
            "\n",
            "/usr/local/lib/python3.6/dist-packages/sklearn/linear_model/_logistic.py:940: ConvergenceWarning:\n",
            "\n",
            "lbfgs failed to converge (status=1):\n",
            "STOP: TOTAL NO. of ITERATIONS REACHED LIMIT.\n",
            "\n",
            "Increase the number of iterations (max_iter) or scale the data as shown in:\n",
            "    https://scikit-learn.org/stable/modules/preprocessing.html\n",
            "Please also refer to the documentation for alternative solver options:\n",
            "    https://scikit-learn.org/stable/modules/linear_model.html#logistic-regression\n",
            "\n",
            "/usr/local/lib/python3.6/dist-packages/sklearn/linear_model/_logistic.py:940: ConvergenceWarning:\n",
            "\n",
            "lbfgs failed to converge (status=1):\n",
            "STOP: TOTAL NO. of ITERATIONS REACHED LIMIT.\n",
            "\n",
            "Increase the number of iterations (max_iter) or scale the data as shown in:\n",
            "    https://scikit-learn.org/stable/modules/preprocessing.html\n",
            "Please also refer to the documentation for alternative solver options:\n",
            "    https://scikit-learn.org/stable/modules/linear_model.html#logistic-regression\n",
            "\n",
            "/usr/local/lib/python3.6/dist-packages/sklearn/linear_model/_logistic.py:940: ConvergenceWarning:\n",
            "\n",
            "lbfgs failed to converge (status=1):\n",
            "STOP: TOTAL NO. of ITERATIONS REACHED LIMIT.\n",
            "\n",
            "Increase the number of iterations (max_iter) or scale the data as shown in:\n",
            "    https://scikit-learn.org/stable/modules/preprocessing.html\n",
            "Please also refer to the documentation for alternative solver options:\n",
            "    https://scikit-learn.org/stable/modules/linear_model.html#logistic-regression\n",
            "\n",
            "/usr/local/lib/python3.6/dist-packages/sklearn/linear_model/_logistic.py:940: ConvergenceWarning:\n",
            "\n",
            "lbfgs failed to converge (status=1):\n",
            "STOP: TOTAL NO. of ITERATIONS REACHED LIMIT.\n",
            "\n",
            "Increase the number of iterations (max_iter) or scale the data as shown in:\n",
            "    https://scikit-learn.org/stable/modules/preprocessing.html\n",
            "Please also refer to the documentation for alternative solver options:\n",
            "    https://scikit-learn.org/stable/modules/linear_model.html#logistic-regression\n",
            "\n"
          ],
          "name": "stderr"
        }
      ]
    },
    {
      "cell_type": "code",
      "metadata": {
        "colab": {
          "base_uri": "https://localhost:8080/"
        },
        "id": "XCfROomWmBt5",
        "outputId": "feccbf89-f7ad-4988-ae84-bf5f25f14eda"
      },
      "source": [
        "print(f'Cross-validates with Logistc regression:\\nMean\\t{log_red.mean()}\\nSTD:\\t{log_red.std()}')"
      ],
      "execution_count": null,
      "outputs": [
        {
          "output_type": "stream",
          "text": [
            "Cross-validates with Logistc regression:\n",
            "Mean\t0.7268036218930114\n",
            "STD:\t0.0020266355508904246\n"
          ],
          "name": "stdout"
        }
      ]
    },
    {
      "cell_type": "markdown",
      "metadata": {
        "id": "f3mWaRlwq-_r"
      },
      "source": [
        "#### Naive Regression"
      ]
    },
    {
      "cell_type": "code",
      "metadata": {
        "id": "3FYHYN06mBxr"
      },
      "source": [
        "naive = cross_val_score(clf,X,y, cv=5)"
      ],
      "execution_count": null,
      "outputs": []
    },
    {
      "cell_type": "code",
      "metadata": {
        "colab": {
          "base_uri": "https://localhost:8080/"
        },
        "id": "eVPvODuNmB1d",
        "outputId": "c4b7bc10-3a9d-4cbd-d25c-e2dea6f1e3e3"
      },
      "source": [
        "print(f'Cross-validates with Naive Bayers:\\nMean\\t{naive.mean()}\\nSTD:\\t{naive.std()}')"
      ],
      "execution_count": null,
      "outputs": [
        {
          "output_type": "stream",
          "text": [
            "Cross-validates with Naive Bayers:\n",
            "Mean\t0.6875230930454123\n",
            "STD:\t0.004437030371625047\n"
          ],
          "name": "stdout"
        }
      ]
    },
    {
      "cell_type": "markdown",
      "metadata": {
        "id": "hGLerobvrWRX"
      },
      "source": [
        "#### XGBoost"
      ]
    },
    {
      "cell_type": "code",
      "metadata": {
        "id": "jew3NfzBrU2A"
      },
      "source": [
        "xgboost = cross_val_score(GBosst,X,y, cv=5)"
      ],
      "execution_count": null,
      "outputs": []
    },
    {
      "cell_type": "code",
      "metadata": {
        "colab": {
          "base_uri": "https://localhost:8080/"
        },
        "id": "TCGST2KarU5k",
        "outputId": "1c188c63-7bc7-49a4-b5e1-3d5c8a062153"
      },
      "source": [
        "print(f'Cross-validates with XGBoost:\\nMean\\t{xgboost.mean()}\\nSTD:\\t{xgboost.std()}')"
      ],
      "execution_count": null,
      "outputs": [
        {
          "output_type": "stream",
          "text": [
            "Cross-validates with XGBoost:\n",
            "Mean\t0.6936803989139262\n",
            "STD:\t0.0048526632044641185\n"
          ],
          "name": "stdout"
        }
      ]
    },
    {
      "cell_type": "markdown",
      "metadata": {
        "id": "_kvezKP-sBV4"
      },
      "source": [
        "#### Random Forest"
      ]
    },
    {
      "cell_type": "code",
      "metadata": {
        "id": "UnLtr7h3rU9a"
      },
      "source": [
        "rand_cross = cross_val_score(random_f,X,y, cv=5)"
      ],
      "execution_count": null,
      "outputs": []
    },
    {
      "cell_type": "code",
      "metadata": {
        "colab": {
          "base_uri": "https://localhost:8080/"
        },
        "id": "xP5jpyKfrVCb",
        "outputId": "404dea12-fe80-4bb1-eaf6-bf514f1d5833"
      },
      "source": [
        "print(f'Cross-validates with Randon Forest:\\nMean\\t{rand_cross.mean()}\\nSTD:\\t{rand_cross.std()}')"
      ],
      "execution_count": null,
      "outputs": [
        {
          "output_type": "stream",
          "text": [
            "Cross-validates with Randon Forest:\n",
            "Mean\t0.7291696505424439\n",
            "STD:\t0.0031542911970739687\n"
          ],
          "name": "stdout"
        }
      ]
    },
    {
      "cell_type": "markdown",
      "metadata": {
        "id": "IwUuv99FtaaX"
      },
      "source": [
        "### Hyperparamenter tuning"
      ]
    },
    {
      "cell_type": "code",
      "metadata": {
        "id": "GMI9fGxnu8xH"
      },
      "source": [
        "from sklearn.model_selection import GridSearchCV"
      ],
      "execution_count": null,
      "outputs": []
    },
    {
      "cell_type": "markdown",
      "metadata": {
        "id": "okUA_6U-tviR"
      },
      "source": [
        "#### Logistic Regression"
      ]
    },
    {
      "cell_type": "code",
      "metadata": {
        "colab": {
          "base_uri": "https://localhost:8080/"
        },
        "id": "4zhnXvPhxsYV",
        "outputId": "47efb190-2ac0-4cbc-8a8c-c2c47ec8c856"
      },
      "source": [
        "logreg.get_params(deep=True)"
      ],
      "execution_count": null,
      "outputs": [
        {
          "output_type": "execute_result",
          "data": {
            "text/plain": [
              "{'C': 1.0,\n",
              " 'class_weight': None,\n",
              " 'dual': False,\n",
              " 'fit_intercept': True,\n",
              " 'intercept_scaling': 1,\n",
              " 'l1_ratio': None,\n",
              " 'max_iter': 100,\n",
              " 'multi_class': 'auto',\n",
              " 'n_jobs': None,\n",
              " 'penalty': 'l2',\n",
              " 'random_state': None,\n",
              " 'solver': 'lbfgs',\n",
              " 'tol': 0.0001,\n",
              " 'verbose': 0,\n",
              " 'warm_start': False}"
            ]
          },
          "metadata": {
            "tags": []
          },
          "execution_count": 39
        }
      ]
    },
    {
      "cell_type": "code",
      "metadata": {
        "id": "-GRsyLqyrVGJ"
      },
      "source": [
        "# # Make a dictionary with model arguments as keys and lists of grid settings as values\n",
        "# param_grid = {\n",
        "#     'penalty' : ['l1', 'l2'],\n",
        "#     'C' : np.logspace(-4, 4, 20),\n",
        "#     'solver' : ['liblinear']}\n",
        "\n",
        "\n",
        "# grid_logistic = GridSearchCV(estimator=logreg, param_grid=param_grid, cv= 5, verbose=1, n_jobs=-1) # verbose=1 -> print results, n_jobs=-1 -> use all processors in parallel\n",
        "# grid_result = grid_logistic.fit(X_train,y_train)\n"
      ],
      "execution_count": null,
      "outputs": []
    },
    {
      "cell_type": "code",
      "metadata": {
        "id": "Oyv3sHtO07Os"
      },
      "source": [
        "# best_result = grid_logistic.best_score_\n",
        "# best_penalty = grid_logistic.best_params_['penalty']\n",
        "# best_C = grid_logistic.best_params_['C']\n",
        "# best_solver = grid_logistic.best_params_['solver']\n",
        "# print(f'Best score:\\t{best_result}\\nBest penalty:\\t{best_penalty}\\nBest C:\\t{best_C}\\nnBest solver:\\t{best_solver}\\n')"
      ],
      "execution_count": null,
      "outputs": []
    },
    {
      "cell_type": "code",
      "metadata": {
        "id": "Ag9jrRtHrVJ2"
      },
      "source": [
        "from sklearn.linear_model import LogisticRegression\n",
        "\n",
        "# instantiate the model (using the default parameters)\n",
        "logreg = LogisticRegression(penalty='l2',C=1438.44988828766,solver='liblinear')\n",
        "\n",
        "# fit the model with data\n",
        "logreg.fit(X_train,y_train)\n",
        "\n",
        "\n",
        "y_pred =logreg.predict(X_test)"
      ],
      "execution_count": null,
      "outputs": []
    },
    {
      "cell_type": "code",
      "metadata": {
        "colab": {
          "base_uri": "https://localhost:8080/"
        },
        "id": "ewWwKbc6rVNj",
        "outputId": "1d5da96e-352f-42f9-b942-b95d2ea4f098"
      },
      "source": [
        "from sklearn.metrics import accuracy_score\n",
        "\n",
        "# compute accuracy\n",
        "accuracy_test = accuracy_score(y_test,y_pred)\n",
        "\n",
        "print( accuracy_test)"
      ],
      "execution_count": null,
      "outputs": [
        {
          "output_type": "stream",
          "text": [
            "0.7206703910614525\n"
          ],
          "name": "stdout"
        }
      ]
    },
    {
      "cell_type": "code",
      "metadata": {
        "colab": {
          "base_uri": "https://localhost:8080/"
        },
        "id": "qRKkPAcKrVRM",
        "outputId": "583c1698-601f-40fc-de6c-d200fbfb07ba"
      },
      "source": [
        "from sklearn.metrics import classification_report\n",
        "y_pred = logreg.predict(X_test)\n",
        "print(classification_report(y_test,y_pred))"
      ],
      "execution_count": null,
      "outputs": [
        {
          "output_type": "stream",
          "text": [
            "              precision    recall  f1-score   support\n",
            "\n",
            "           1       0.73      0.95      0.83      5551\n",
            "           2       0.62      0.31      0.41      2321\n",
            "           3       0.00      0.00      0.00       494\n",
            "           4       1.00      0.02      0.05        86\n",
            "           5       0.95      0.97      0.96       319\n",
            "\n",
            "    accuracy                           0.72      8771\n",
            "   macro avg       0.66      0.45      0.45      8771\n",
            "weighted avg       0.67      0.72      0.67      8771\n",
            "\n"
          ],
          "name": "stdout"
        },
        {
          "output_type": "stream",
          "text": [
            "/usr/local/lib/python3.6/dist-packages/sklearn/metrics/_classification.py:1272: UndefinedMetricWarning:\n",
            "\n",
            "Precision and F-score are ill-defined and being set to 0.0 in labels with no predicted samples. Use `zero_division` parameter to control this behavior.\n",
            "\n"
          ],
          "name": "stderr"
        }
      ]
    },
    {
      "cell_type": "markdown",
      "metadata": {
        "id": "2HK17LpM5pXh"
      },
      "source": [
        "#### Naive Regression"
      ]
    },
    {
      "cell_type": "code",
      "metadata": {
        "id": "ihNus5xK5wdj"
      },
      "source": [
        "clf.get_params(deep=True)"
      ],
      "execution_count": null,
      "outputs": []
    },
    {
      "cell_type": "code",
      "metadata": {
        "id": "FQA9Kd_crVWT"
      },
      "source": [
        "# # Make a dictionary with model arguments as keys and lists of grid settings as values\n",
        "# param_grid = {\n",
        "#   'var_smoothing': np.logspace(0,-9, num=100)\n",
        "#   }\n",
        "\n",
        "# k_folds = 5\n",
        "\n",
        "# grid_naive = GridSearchCV(estimator=clf, param_grid=param_grid, cv=k_folds, verbose=1, n_jobs=-1) # verbose=1 -> print results, n_jobs=-1 -> use all processors in parallel\n",
        "# grid_result_naive = grid_naive.fit(X_train, y_train)\n"
      ],
      "execution_count": null,
      "outputs": []
    },
    {
      "cell_type": "code",
      "metadata": {
        "id": "vxcBHvHurMmL"
      },
      "source": [
        "# best_result = grid_naive.best_score_\n",
        "# best_smoothing = grid_naive.best_params_['var_smoothing']\n",
        "\n",
        "# print(f'Best score:\\t{best_result}\\nBest var_smoothing:\\t{best_smoothing}')"
      ],
      "execution_count": null,
      "outputs": []
    },
    {
      "cell_type": "code",
      "metadata": {
        "id": "bPKcSuaW8OmE"
      },
      "source": [
        "from sklearn.naive_bayes import GaussianNB\n",
        "clf = GaussianNB(var_smoothing = 3.5111917342151277e-08)\n",
        "clf.fit(X_train, y_train)\n",
        "y_pred_naive = clf.predict(X_test)"
      ],
      "execution_count": null,
      "outputs": []
    },
    {
      "cell_type": "code",
      "metadata": {
        "colab": {
          "base_uri": "https://localhost:8080/"
        },
        "id": "GlgPeXjL8Oix",
        "outputId": "70203793-4a36-4dba-ac62-9c2a18e60e04"
      },
      "source": [
        "from sklearn.metrics import accuracy_score\n",
        "\n",
        "# compute accuracy\n",
        "accuracy = accuracy_score(y_test,y_pred_naive)\n",
        "\n",
        "print(accuracy)"
      ],
      "execution_count": null,
      "outputs": [
        {
          "output_type": "stream",
          "text": [
            "0.6806521491278076\n"
          ],
          "name": "stdout"
        }
      ]
    },
    {
      "cell_type": "code",
      "metadata": {
        "colab": {
          "base_uri": "https://localhost:8080/"
        },
        "id": "6RrR44RR8Ofa",
        "outputId": "a9c35cb4-8074-4046-d864-cd743b9e5180"
      },
      "source": [
        "from sklearn.metrics import classification_report\n",
        "y_pred = clf.predict(X_test)\n",
        "print(classification_report(y_test,y_pred))"
      ],
      "execution_count": null,
      "outputs": [
        {
          "output_type": "stream",
          "text": [
            "              precision    recall  f1-score   support\n",
            "\n",
            "           1       0.71      0.93      0.80      5551\n",
            "           2       0.56      0.26      0.36      2321\n",
            "           3       0.33      0.11      0.16       494\n",
            "           4       0.08      0.07      0.07        86\n",
            "           5       0.98      0.45      0.62       319\n",
            "\n",
            "    accuracy                           0.68      8771\n",
            "   macro avg       0.53      0.36      0.40      8771\n",
            "weighted avg       0.65      0.68      0.63      8771\n",
            "\n"
          ],
          "name": "stdout"
        }
      ]
    },
    {
      "cell_type": "markdown",
      "metadata": {
        "id": "OMbKcOxjCOoH"
      },
      "source": [
        "## Modeling without clustering"
      ]
    },
    {
      "cell_type": "code",
      "metadata": {
        "id": "inbjVQ-JF-_h"
      },
      "source": [
        "# scaling\n",
        "from sklearn.preprocessing import MinMaxScaler \n",
        "scaler = MinMaxScaler()\n",
        "df_flights_module_scaled = pd.DataFrame(scaler.fit_transform(df_flights_module), columns = df_flights_module.columns)"
      ],
      "execution_count": null,
      "outputs": []
    },
    {
      "cell_type": "code",
      "metadata": {
        "id": "EJ0jS8zPCOPY"
      },
      "source": [
        "X_nc = df_flights_module_scaled.drop(columns=(['flight_delayed','K-mean_clusters']))\n",
        "y_nc = df_flights_module['flight_delayed']"
      ],
      "execution_count": null,
      "outputs": []
    },
    {
      "cell_type": "code",
      "metadata": {
        "id": "RrOs-2JbGHJ8"
      },
      "source": [
        "# split X and y into training and testing sets\n",
        "from sklearn.model_selection import train_test_split\n",
        "X_train,X_test,y_train,y_test=train_test_split(X,y,test_size=0.25,random_state=0)"
      ],
      "execution_count": null,
      "outputs": []
    },
    {
      "cell_type": "markdown",
      "metadata": {
        "id": "vEal7EUSH6gQ"
      },
      "source": [
        "#### Logsitic Regression"
      ]
    },
    {
      "cell_type": "code",
      "metadata": {
        "colab": {
          "base_uri": "https://localhost:8080/"
        },
        "id": "K-0OB79OF3nj",
        "outputId": "463e9673-c2ed-458e-9c71-c800b1432281"
      },
      "source": [
        "from sklearn.linear_model import LogisticRegression\n",
        "\n",
        "# instantiate the model (using the default parameters)\n",
        "logreg_nc = LogisticRegression()\n",
        "\n",
        "# fit the model with data\n",
        "logreg_nc.fit(X_train,y_train)\n",
        "\n",
        "\n",
        "y_pred =logreg_nc.predict(X_test)"
      ],
      "execution_count": null,
      "outputs": [
        {
          "output_type": "stream",
          "text": [
            "/usr/local/lib/python3.6/dist-packages/sklearn/linear_model/_logistic.py:940: ConvergenceWarning:\n",
            "\n",
            "lbfgs failed to converge (status=1):\n",
            "STOP: TOTAL NO. of ITERATIONS REACHED LIMIT.\n",
            "\n",
            "Increase the number of iterations (max_iter) or scale the data as shown in:\n",
            "    https://scikit-learn.org/stable/modules/preprocessing.html\n",
            "Please also refer to the documentation for alternative solver options:\n",
            "    https://scikit-learn.org/stable/modules/linear_model.html#logistic-regression\n",
            "\n"
          ],
          "name": "stderr"
        }
      ]
    },
    {
      "cell_type": "code",
      "metadata": {
        "colab": {
          "base_uri": "https://localhost:8080/"
        },
        "id": "17Bp2laBJL3e",
        "outputId": "8f177766-13d7-4dec-e50d-97cf684e55b1"
      },
      "source": [
        "# import accuracy_score from sklearn\n",
        "from sklearn.metrics import accuracy_score\n",
        "\n",
        "# compute accuracy\n",
        "accuracy_test = accuracy_score(y_test,y_pred)\n",
        "\n",
        "print( accuracy_test)"
      ],
      "execution_count": null,
      "outputs": [
        {
          "output_type": "stream",
          "text": [
            "0.7211264394025767\n"
          ],
          "name": "stdout"
        }
      ]
    },
    {
      "cell_type": "code",
      "metadata": {
        "colab": {
          "base_uri": "https://localhost:8080/"
        },
        "id": "9P_l8Lv7F3kC",
        "outputId": "9c194fd4-e7d3-4288-ef58-0cd8f0539b7c"
      },
      "source": [
        "from sklearn.metrics import classification_report\n",
        "y_pred = logreg_nc.predict(X_test)\n",
        "print(classification_report(y_test,y_pred))"
      ],
      "execution_count": null,
      "outputs": [
        {
          "output_type": "stream",
          "text": [
            "              precision    recall  f1-score   support\n",
            "\n",
            "           1       0.73      0.95      0.83      5551\n",
            "           2       0.62      0.31      0.41      2321\n",
            "           3       0.50      0.00      0.01       494\n",
            "           4       1.00      0.06      0.11        86\n",
            "           5       0.93      0.97      0.95       319\n",
            "\n",
            "    accuracy                           0.72      8771\n",
            "   macro avg       0.76      0.46      0.46      8771\n",
            "weighted avg       0.70      0.72      0.67      8771\n",
            "\n"
          ],
          "name": "stdout"
        }
      ]
    },
    {
      "cell_type": "markdown",
      "metadata": {
        "id": "g0tu36FHIFLN"
      },
      "source": [
        "#### Naive Regression"
      ]
    },
    {
      "cell_type": "code",
      "metadata": {
        "id": "y2itYvf_F3gl"
      },
      "source": [
        "from sklearn.naive_bayes import GaussianNB\n",
        "clf_nc = GaussianNB()\n",
        "clf_nc.fit(X_train, y_train)\n",
        "y_pred_naive = clf_nc.predict(X_test)"
      ],
      "execution_count": null,
      "outputs": []
    },
    {
      "cell_type": "code",
      "metadata": {
        "colab": {
          "base_uri": "https://localhost:8080/"
        },
        "id": "aU5BfDeNF3dG",
        "outputId": "1495391d-8526-4959-ec77-191b21573e31"
      },
      "source": [
        "from sklearn.metrics import accuracy_score\n",
        "\n",
        "# compute accuracy\n",
        "accuracy = accuracy_score(y_test,y_pred_naive)\n",
        "\n",
        "print(accuracy)"
      ],
      "execution_count": null,
      "outputs": [
        {
          "output_type": "stream",
          "text": [
            "0.6806521491278076\n"
          ],
          "name": "stdout"
        }
      ]
    },
    {
      "cell_type": "code",
      "metadata": {
        "colab": {
          "base_uri": "https://localhost:8080/"
        },
        "id": "mnXhuTvXF3Zm",
        "outputId": "ab8e6f07-6979-4624-d03f-0ac433d261b9"
      },
      "source": [
        "from sklearn.metrics import classification_report\n",
        "y_pred = clf.predict(X_test)\n",
        "print(classification_report(y_test,y_pred))"
      ],
      "execution_count": null,
      "outputs": [
        {
          "output_type": "stream",
          "text": [
            "              precision    recall  f1-score   support\n",
            "\n",
            "           1       0.71      0.93      0.80      5551\n",
            "           2       0.56      0.26      0.36      2321\n",
            "           3       0.33      0.11      0.16       494\n",
            "           4       0.08      0.07      0.07        86\n",
            "           5       0.98      0.45      0.62       319\n",
            "\n",
            "    accuracy                           0.68      8771\n",
            "   macro avg       0.53      0.36      0.40      8771\n",
            "weighted avg       0.65      0.68      0.63      8771\n",
            "\n"
          ],
          "name": "stdout"
        }
      ]
    },
    {
      "cell_type": "markdown",
      "metadata": {
        "id": "RKXxYf-IIY5f"
      },
      "source": [
        "#### XGBoost"
      ]
    },
    {
      "cell_type": "code",
      "metadata": {
        "colab": {
          "base_uri": "https://localhost:8080/"
        },
        "id": "5ZPgRWH0F3WE",
        "outputId": "0fcf5c72-c938-4941-ddd9-677280d3fb45"
      },
      "source": [
        "from sklearn.ensemble import GradientBoostingClassifier\n",
        "GBosst_nc = GradientBoostingClassifier(n_estimators=100, learning_rate=1.0,  \n",
        "                                 max_depth=1, random_state=0).fit(X_train, y_train)\n",
        "GBosst_nc.score(X_test, y_test)"
      ],
      "execution_count": null,
      "outputs": [
        {
          "output_type": "execute_result",
          "data": {
            "text/plain": [
              "0.684756584197925"
            ]
          },
          "metadata": {
            "tags": []
          },
          "execution_count": 57
        }
      ]
    },
    {
      "cell_type": "code",
      "metadata": {
        "id": "aBYRUS4ZF3Sq"
      },
      "source": [
        "y_pred_Gboost = GBosst_nc.predict(X_test)"
      ],
      "execution_count": null,
      "outputs": []
    },
    {
      "cell_type": "code",
      "metadata": {
        "colab": {
          "base_uri": "https://localhost:8080/"
        },
        "id": "LBIXetHQF3PE",
        "outputId": "fd884c91-d67e-42fd-fa31-174624836b00"
      },
      "source": [
        "# import accuracy_score from sklearn\n",
        "from sklearn.metrics import accuracy_score\n",
        "\n",
        "# compute accuracy\n",
        "accuracy = accuracy_score(y_test,y_pred_Gboost)\n",
        "\n",
        "print(accuracy)"
      ],
      "execution_count": null,
      "outputs": [
        {
          "output_type": "stream",
          "text": [
            "0.684756584197925\n"
          ],
          "name": "stdout"
        }
      ]
    },
    {
      "cell_type": "code",
      "metadata": {
        "colab": {
          "base_uri": "https://localhost:8080/"
        },
        "id": "ZVGbMQ3yF3Ls",
        "outputId": "13da31b2-248f-4b9d-f129-0531440213d3"
      },
      "source": [
        "from sklearn.metrics import classification_report\n",
        "y_pred = GBosst_nc.predict(X_test)\n",
        "print(classification_report(y_test,y_pred))"
      ],
      "execution_count": null,
      "outputs": [
        {
          "output_type": "stream",
          "text": [
            "              precision    recall  f1-score   support\n",
            "\n",
            "           1       0.73      0.94      0.82      5551\n",
            "           2       0.59      0.31      0.41      2321\n",
            "           3       0.45      0.08      0.14       494\n",
            "           4       0.09      0.38      0.15        86\n",
            "           5       0.00      0.00      0.00       319\n",
            "\n",
            "    accuracy                           0.68      8771\n",
            "   macro avg       0.37      0.34      0.30      8771\n",
            "weighted avg       0.65      0.68      0.64      8771\n",
            "\n"
          ],
          "name": "stdout"
        },
        {
          "output_type": "stream",
          "text": [
            "/usr/local/lib/python3.6/dist-packages/sklearn/metrics/_classification.py:1272: UndefinedMetricWarning:\n",
            "\n",
            "Precision and F-score are ill-defined and being set to 0.0 in labels with no predicted samples. Use `zero_division` parameter to control this behavior.\n",
            "\n"
          ],
          "name": "stderr"
        }
      ]
    },
    {
      "cell_type": "markdown",
      "metadata": {
        "id": "p6zJM2-eIj9c"
      },
      "source": [
        "#### Random Forest"
      ]
    },
    {
      "cell_type": "code",
      "metadata": {
        "id": "JRF5Ye_jF3Gm"
      },
      "source": [
        "from sklearn.ensemble import RandomForestClassifier\n",
        "\n",
        "random_f_nc = RandomForestClassifier(n_estimators=100)\n",
        "\n",
        "random_f_nc.fit(X_train, y_train)\n",
        "y_pred_Ran_nc = random_f_nc.predict(X_test)"
      ],
      "execution_count": null,
      "outputs": []
    },
    {
      "cell_type": "code",
      "metadata": {
        "colab": {
          "base_uri": "https://localhost:8080/"
        },
        "id": "PyQMOI_XF3DD",
        "outputId": "01b8ef01-d978-475d-f052-d0c97c6e2d6c"
      },
      "source": [
        "from sklearn.metrics import accuracy_score\n",
        "\n",
        "# compute accuracy\n",
        "accuracy = accuracy_score(y_test,y_pred_Ran)\n",
        "\n",
        "print(accuracy)"
      ],
      "execution_count": null,
      "outputs": [
        {
          "output_type": "stream",
          "text": [
            "0.7218105119142629\n"
          ],
          "name": "stdout"
        }
      ]
    },
    {
      "cell_type": "code",
      "metadata": {
        "colab": {
          "base_uri": "https://localhost:8080/"
        },
        "id": "enGYEYZPF2_f",
        "outputId": "5c52d63b-b843-4e18-f704-25589056a0c3"
      },
      "source": [
        "from sklearn.metrics import classification_report\n",
        "y_pred = random_f_nc.predict(X_test)\n",
        "print(classification_report(y_test,y_pred))"
      ],
      "execution_count": null,
      "outputs": [
        {
          "output_type": "stream",
          "text": [
            "              precision    recall  f1-score   support\n",
            "\n",
            "           1       0.73      0.94      0.83      5551\n",
            "           2       0.61      0.33      0.43      2321\n",
            "           3       0.69      0.05      0.09       494\n",
            "           4       0.81      0.15      0.25        86\n",
            "           5       0.94      0.99      0.96       319\n",
            "\n",
            "    accuracy                           0.72      8771\n",
            "   macro avg       0.76      0.49      0.51      8771\n",
            "weighted avg       0.71      0.72      0.68      8771\n",
            "\n"
          ],
          "name": "stdout"
        }
      ]
    },
    {
      "cell_type": "markdown",
      "metadata": {
        "id": "gy4j0782KSbC"
      },
      "source": [
        "### Cross-Validation\n"
      ]
    },
    {
      "cell_type": "markdown",
      "metadata": {
        "id": "kUu82EHhKVis"
      },
      "source": [
        "#### Logistic Regression"
      ]
    },
    {
      "cell_type": "code",
      "metadata": {
        "colab": {
          "base_uri": "https://localhost:8080/"
        },
        "id": "m64QPVupKM51",
        "outputId": "0ea60b54-f716-483a-848b-b97d36628414"
      },
      "source": [
        "log_red = cross_val_score(logreg_nc,X,y, cv=5)"
      ],
      "execution_count": null,
      "outputs": [
        {
          "output_type": "stream",
          "text": [
            "/usr/local/lib/python3.6/dist-packages/sklearn/linear_model/_logistic.py:940: ConvergenceWarning:\n",
            "\n",
            "lbfgs failed to converge (status=1):\n",
            "STOP: TOTAL NO. of ITERATIONS REACHED LIMIT.\n",
            "\n",
            "Increase the number of iterations (max_iter) or scale the data as shown in:\n",
            "    https://scikit-learn.org/stable/modules/preprocessing.html\n",
            "Please also refer to the documentation for alternative solver options:\n",
            "    https://scikit-learn.org/stable/modules/linear_model.html#logistic-regression\n",
            "\n",
            "/usr/local/lib/python3.6/dist-packages/sklearn/linear_model/_logistic.py:940: ConvergenceWarning:\n",
            "\n",
            "lbfgs failed to converge (status=1):\n",
            "STOP: TOTAL NO. of ITERATIONS REACHED LIMIT.\n",
            "\n",
            "Increase the number of iterations (max_iter) or scale the data as shown in:\n",
            "    https://scikit-learn.org/stable/modules/preprocessing.html\n",
            "Please also refer to the documentation for alternative solver options:\n",
            "    https://scikit-learn.org/stable/modules/linear_model.html#logistic-regression\n",
            "\n",
            "/usr/local/lib/python3.6/dist-packages/sklearn/linear_model/_logistic.py:940: ConvergenceWarning:\n",
            "\n",
            "lbfgs failed to converge (status=1):\n",
            "STOP: TOTAL NO. of ITERATIONS REACHED LIMIT.\n",
            "\n",
            "Increase the number of iterations (max_iter) or scale the data as shown in:\n",
            "    https://scikit-learn.org/stable/modules/preprocessing.html\n",
            "Please also refer to the documentation for alternative solver options:\n",
            "    https://scikit-learn.org/stable/modules/linear_model.html#logistic-regression\n",
            "\n",
            "/usr/local/lib/python3.6/dist-packages/sklearn/linear_model/_logistic.py:940: ConvergenceWarning:\n",
            "\n",
            "lbfgs failed to converge (status=1):\n",
            "STOP: TOTAL NO. of ITERATIONS REACHED LIMIT.\n",
            "\n",
            "Increase the number of iterations (max_iter) or scale the data as shown in:\n",
            "    https://scikit-learn.org/stable/modules/preprocessing.html\n",
            "Please also refer to the documentation for alternative solver options:\n",
            "    https://scikit-learn.org/stable/modules/linear_model.html#logistic-regression\n",
            "\n",
            "/usr/local/lib/python3.6/dist-packages/sklearn/linear_model/_logistic.py:940: ConvergenceWarning:\n",
            "\n",
            "lbfgs failed to converge (status=1):\n",
            "STOP: TOTAL NO. of ITERATIONS REACHED LIMIT.\n",
            "\n",
            "Increase the number of iterations (max_iter) or scale the data as shown in:\n",
            "    https://scikit-learn.org/stable/modules/preprocessing.html\n",
            "Please also refer to the documentation for alternative solver options:\n",
            "    https://scikit-learn.org/stable/modules/linear_model.html#logistic-regression\n",
            "\n"
          ],
          "name": "stderr"
        }
      ]
    },
    {
      "cell_type": "code",
      "metadata": {
        "colab": {
          "base_uri": "https://localhost:8080/"
        },
        "id": "Bi4RXKnKKNGW",
        "outputId": "d74548f6-810b-4324-b91a-156553315f45"
      },
      "source": [
        "print(f'Cross-validates with Logistc regression:\\nMean\\t{log_red.mean()}\\nSTD:\\t{log_red.std()}')"
      ],
      "execution_count": null,
      "outputs": [
        {
          "output_type": "stream",
          "text": [
            "Cross-validates with Logistc regression:\n",
            "Mean\t0.7268036218930114\n",
            "STD:\t0.0020266355508904246\n"
          ],
          "name": "stdout"
        }
      ]
    },
    {
      "cell_type": "markdown",
      "metadata": {
        "id": "Rcli1LlGKyk9"
      },
      "source": [
        "#### Naive Regression"
      ]
    },
    {
      "cell_type": "code",
      "metadata": {
        "id": "329sqnzdKNKq"
      },
      "source": [
        "naive = cross_val_score(clf_nc,X,y, cv=5)"
      ],
      "execution_count": null,
      "outputs": []
    },
    {
      "cell_type": "code",
      "metadata": {
        "colab": {
          "base_uri": "https://localhost:8080/"
        },
        "id": "LGuk9KfnKNPJ",
        "outputId": "bc1c58e3-9915-4e92-c90e-9b7696530697"
      },
      "source": [
        "print(f'Cross-validates with Naive Bayers:\\nMean\\t{naive.mean()}\\nSTD:\\t{naive.std()}')"
      ],
      "execution_count": null,
      "outputs": [
        {
          "output_type": "stream",
          "text": [
            "Cross-validates with Naive Bayers:\n",
            "Mean\t0.6875230930454123\n",
            "STD:\t0.004437030371625047\n"
          ],
          "name": "stdout"
        }
      ]
    },
    {
      "cell_type": "markdown",
      "metadata": {
        "id": "m0GJ4zgfK2DS"
      },
      "source": [
        "#### XGBoost"
      ]
    },
    {
      "cell_type": "code",
      "metadata": {
        "id": "1mnpptmPKOK3"
      },
      "source": [
        "xgboost = cross_val_score(GBosst_nc,X,y, cv=5)"
      ],
      "execution_count": null,
      "outputs": []
    },
    {
      "cell_type": "code",
      "metadata": {
        "colab": {
          "base_uri": "https://localhost:8080/"
        },
        "id": "AAUMq9b1KOST",
        "outputId": "be475889-a7d5-4156-8d05-439231040941"
      },
      "source": [
        "print(f'Cross-validates with XGBoost:\\nMean\\t{xgboost.mean()}\\nSTD:\\t{xgboost.std()}')"
      ],
      "execution_count": null,
      "outputs": [
        {
          "output_type": "stream",
          "text": [
            "Cross-validates with XGBoost:\n",
            "Mean\t0.6936803989139262\n",
            "STD:\t0.0048526632044641185\n"
          ],
          "name": "stdout"
        }
      ]
    },
    {
      "cell_type": "code",
      "metadata": {
        "id": "HzyzhkgzKOW1"
      },
      "source": [
        "rand_cross = cross_val_score(random_f_nc,X,y, cv=5)"
      ],
      "execution_count": null,
      "outputs": []
    },
    {
      "cell_type": "code",
      "metadata": {
        "colab": {
          "base_uri": "https://localhost:8080/"
        },
        "id": "TQk8U55tKObi",
        "outputId": "839b1c44-7c73-4dbe-8ae6-f1b04762c301"
      },
      "source": [
        "print(f'Cross-validates with Randon Forest:\\nMean\\t{rand_cross.mean()}\\nSTD:\\t{rand_cross.std()}')"
      ],
      "execution_count": null,
      "outputs": [
        {
          "output_type": "stream",
          "text": [
            "Cross-validates with Randon Forest:\n",
            "Mean\t0.7298252785343429\n",
            "STD:\t0.002580467821620922\n"
          ],
          "name": "stdout"
        }
      ]
    },
    {
      "cell_type": "markdown",
      "metadata": {
        "id": "P_ISaO2wNQsG"
      },
      "source": [
        "### Randon Forest"
      ]
    },
    {
      "cell_type": "code",
      "metadata": {
        "id": "q-8PCBDhKOg1"
      },
      "source": [
        "rand_cross = cross_val_score(random_f_nc,X,y, cv=5)"
      ],
      "execution_count": null,
      "outputs": []
    },
    {
      "cell_type": "code",
      "metadata": {
        "colab": {
          "base_uri": "https://localhost:8080/"
        },
        "id": "bVGNloloKOlZ",
        "outputId": "97b4c0ed-e355-416b-d960-e9ae618b0195"
      },
      "source": [
        "print(f'Cross-validates with Randon Forest:\\nMean\\t{rand_cross.mean()}\\nSTD:\\t{rand_cross.std()}')"
      ],
      "execution_count": null,
      "outputs": [
        {
          "output_type": "stream",
          "text": [
            "Cross-validates with Randon Forest:\n",
            "Mean\t0.7276018096790187\n",
            "STD:\t0.0014842782713624105\n"
          ],
          "name": "stdout"
        }
      ]
    },
    {
      "cell_type": "code",
      "metadata": {
        "id": "m6M6jLf4KO2K"
      },
      "source": [
        ""
      ],
      "execution_count": null,
      "outputs": []
    },
    {
      "cell_type": "markdown",
      "metadata": {
        "id": "MjcIJYvsMcxF"
      },
      "source": [
        "### Hyperparamenters Tuning"
      ]
    },
    {
      "cell_type": "code",
      "metadata": {
        "id": "hn2rfGkdMasC"
      },
      "source": [
        "from sklearn.model_selection import GridSearchCV"
      ],
      "execution_count": null,
      "outputs": []
    },
    {
      "cell_type": "markdown",
      "metadata": {
        "id": "wuCx1D9AMasU"
      },
      "source": [
        "#### Logistic Regression"
      ]
    },
    {
      "cell_type": "code",
      "metadata": {
        "colab": {
          "base_uri": "https://localhost:8080/"
        },
        "id": "muBdnZpqMasU",
        "outputId": "b97386b9-0562-4b0d-f33a-5766560be3d1"
      },
      "source": [
        "logreg.get_params(deep=True)"
      ],
      "execution_count": null,
      "outputs": [
        {
          "output_type": "execute_result",
          "data": {
            "text/plain": [
              "{'C': 1438.44988828766,\n",
              " 'class_weight': None,\n",
              " 'dual': False,\n",
              " 'fit_intercept': True,\n",
              " 'intercept_scaling': 1,\n",
              " 'l1_ratio': None,\n",
              " 'max_iter': 100,\n",
              " 'multi_class': 'auto',\n",
              " 'n_jobs': None,\n",
              " 'penalty': 'l2',\n",
              " 'random_state': None,\n",
              " 'solver': 'liblinear',\n",
              " 'tol': 0.0001,\n",
              " 'verbose': 0,\n",
              " 'warm_start': False}"
            ]
          },
          "metadata": {
            "tags": []
          },
          "execution_count": 75
        }
      ]
    },
    {
      "cell_type": "code",
      "metadata": {
        "id": "uIIOZB-hMasV"
      },
      "source": [
        "# Make a dictionary with model arguments as keys and lists of grid settings as values\n",
        "# param_grid = {\n",
        "#     'penalty' : ['l1', 'l2'],\n",
        "#     'C' : np.logspace(-4, 4, 20),\n",
        "#     'solver' : ['liblinear']}\n",
        "\n",
        "\n",
        "# grid_logistic = GridSearchCV(estimator=logreg_nc, param_grid=param_grid, cv= 5, verbose=1, n_jobs=-1) # verbose=1 -> print results, n_jobs=-1 -> use all processors in parallel\n",
        "# grid_result = grid_logistic.fit(X_train,y_train)\n"
      ],
      "execution_count": null,
      "outputs": []
    },
    {
      "cell_type": "code",
      "metadata": {
        "id": "kRlMegsQMasW"
      },
      "source": [
        "# best_result = grid_logistic.best_score_\n",
        "# best_penalty = grid_logistic.best_params_['penalty']\n",
        "# best_C = grid_logistic.best_params_['C']\n",
        "# best_solver = grid_logistic.best_params_['solver']\n",
        "# print(f'Best score:\\t{best_result}\\nBest penalty:\\t{best_penalty}\\nBest C:\\t{best_C}\\nnBest solver:\\t{best_solver}\\n')"
      ],
      "execution_count": null,
      "outputs": []
    },
    {
      "cell_type": "code",
      "metadata": {
        "id": "-IMt4sBdMxf4"
      },
      "source": [
        "from sklearn.linear_model import LogisticRegression\n",
        "\n",
        "# instantiate the model (using the default parameters)\n",
        "logreg = LogisticRegression(penalty='l1',C=3792.690190732246,solver='liblinear')\n",
        "\n",
        "# fit the model with data\n",
        "logreg.fit(X_train,y_train)\n",
        "\n",
        "\n",
        "y_pred =logreg.predict(X_test)"
      ],
      "execution_count": null,
      "outputs": []
    },
    {
      "cell_type": "code",
      "metadata": {
        "colab": {
          "base_uri": "https://localhost:8080/"
        },
        "id": "z0_V1FwuMxf4",
        "outputId": "462d17a8-c5c3-4ecf-ea33-383feec299e3"
      },
      "source": [
        "from sklearn.metrics import accuracy_score\n",
        "\n",
        "# compute accuracy\n",
        "accuracy_test = accuracy_score(y_test,y_pred)\n",
        "\n",
        "print( accuracy_test)"
      ],
      "execution_count": null,
      "outputs": [
        {
          "output_type": "stream",
          "text": [
            "0.7207844031467335\n"
          ],
          "name": "stdout"
        }
      ]
    },
    {
      "cell_type": "code",
      "metadata": {
        "colab": {
          "base_uri": "https://localhost:8080/"
        },
        "id": "z4T8NQc6Mxf5",
        "outputId": "889421bb-1a31-48cf-f2ea-fe7bca391946"
      },
      "source": [
        "from sklearn.metrics import classification_report\n",
        "y_pred = logreg_nc.predict(X_test)\n",
        "print(classification_report(y_test,y_pred))"
      ],
      "execution_count": null,
      "outputs": [
        {
          "output_type": "stream",
          "text": [
            "              precision    recall  f1-score   support\n",
            "\n",
            "           1       0.73      0.95      0.83      5551\n",
            "           2       0.62      0.31      0.41      2321\n",
            "           3       0.50      0.00      0.01       494\n",
            "           4       1.00      0.06      0.11        86\n",
            "           5       0.93      0.97      0.95       319\n",
            "\n",
            "    accuracy                           0.72      8771\n",
            "   macro avg       0.76      0.46      0.46      8771\n",
            "weighted avg       0.70      0.72      0.67      8771\n",
            "\n"
          ],
          "name": "stdout"
        }
      ]
    },
    {
      "cell_type": "markdown",
      "metadata": {
        "id": "rmIu-FonMxf5"
      },
      "source": [
        "#### Naive Regression"
      ]
    },
    {
      "cell_type": "code",
      "metadata": {
        "colab": {
          "base_uri": "https://localhost:8080/"
        },
        "id": "irSnVZo0Mxf6",
        "outputId": "124d5fe8-50f5-4fd7-902f-50ff6af49330"
      },
      "source": [
        "clf.get_params(deep=True)"
      ],
      "execution_count": null,
      "outputs": [
        {
          "output_type": "execute_result",
          "data": {
            "text/plain": [
              "{'priors': None, 'var_smoothing': 3.5111917342151277e-08}"
            ]
          },
          "metadata": {
            "tags": []
          },
          "execution_count": 81
        }
      ]
    },
    {
      "cell_type": "code",
      "metadata": {
        "id": "cf1myzp5Mxf6"
      },
      "source": [
        "# # Make a dictionary with model arguments as keys and lists of grid settings as values\n",
        "# param_grid = {\n",
        "#   'var_smoothing': np.logspace(0,-9, num=100)\n",
        "#   }\n",
        "\n",
        "# k_folds = 5\n",
        "\n",
        "# grid_naive = GridSearchCV(estimator=clf_nc, param_grid=param_grid, cv=k_folds, verbose=1, n_jobs=-1) # verbose=1 -> print results, n_jobs=-1 -> use all processors in parallel\n",
        "# grid_result_naive = grid_naive.fit(X_train, y_train)\n"
      ],
      "execution_count": null,
      "outputs": []
    },
    {
      "cell_type": "code",
      "metadata": {
        "id": "UZV1Ly6UMxf6"
      },
      "source": [
        "# best_result = grid_naive.best_score_\n",
        "# best_smoothing = grid_naive.best_params_['var_smoothing']\n",
        "\n",
        "# print(f'Best score:\\t{best_result}\\nBest var_smoothing:\\t{best_smoothing}')"
      ],
      "execution_count": null,
      "outputs": []
    },
    {
      "cell_type": "code",
      "metadata": {
        "id": "hgjevvlHMxf7"
      },
      "source": [
        "from sklearn.naive_bayes import GaussianNB\n",
        "clf = GaussianNB(var_smoothing = 0.01)\n",
        "clf.fit(X_train, y_train)\n",
        "y_pred_naive = clf.predict(X_test)"
      ],
      "execution_count": null,
      "outputs": []
    },
    {
      "cell_type": "code",
      "metadata": {
        "colab": {
          "base_uri": "https://localhost:8080/"
        },
        "id": "lGigct0DMxf7",
        "outputId": "7a7d00c6-c37c-499a-ceb8-af93efa213b8"
      },
      "source": [
        "from sklearn.metrics import accuracy_score\n",
        "\n",
        "# compute accuracy\n",
        "accuracy = accuracy_score(y_test,y_pred_naive)\n",
        "\n",
        "print(accuracy)"
      ],
      "execution_count": null,
      "outputs": [
        {
          "output_type": "stream",
          "text": [
            "0.6900011401208528\n"
          ],
          "name": "stdout"
        }
      ]
    },
    {
      "cell_type": "code",
      "metadata": {
        "colab": {
          "base_uri": "https://localhost:8080/"
        },
        "id": "yNfz6TidMxf7",
        "outputId": "4ebaa16f-cebf-4025-ce67-8ceb9fc3389f"
      },
      "source": [
        "from sklearn.metrics import classification_report\n",
        "y_pred = clf.predict(X_test)\n",
        "print(classification_report(y_test,y_pred))"
      ],
      "execution_count": null,
      "outputs": [
        {
          "output_type": "stream",
          "text": [
            "              precision    recall  f1-score   support\n",
            "\n",
            "           1       0.70      0.96      0.81      5551\n",
            "           2       0.63      0.22      0.32      2321\n",
            "           3       0.41      0.10      0.16       494\n",
            "           4       0.17      0.08      0.11        86\n",
            "           5       0.98      0.45      0.62       319\n",
            "\n",
            "    accuracy                           0.69      8771\n",
            "   macro avg       0.58      0.36      0.40      8771\n",
            "weighted avg       0.67      0.69      0.63      8771\n",
            "\n"
          ],
          "name": "stdout"
        }
      ]
    },
    {
      "cell_type": "markdown",
      "metadata": {
        "id": "p4zmJbYRQBHu"
      },
      "source": [
        "#### XGBoost"
      ]
    },
    {
      "cell_type": "code",
      "metadata": {
        "colab": {
          "base_uri": "https://localhost:8080/"
        },
        "id": "RUEQuLhGQQLq",
        "outputId": "328bad1a-eec2-4f98-f880-f58f22571f72"
      },
      "source": [
        "GBosst_nc.get_params(deep=True)"
      ],
      "execution_count": null,
      "outputs": [
        {
          "output_type": "execute_result",
          "data": {
            "text/plain": [
              "{'ccp_alpha': 0.0,\n",
              " 'criterion': 'friedman_mse',\n",
              " 'init': None,\n",
              " 'learning_rate': 1.0,\n",
              " 'loss': 'deviance',\n",
              " 'max_depth': 1,\n",
              " 'max_features': None,\n",
              " 'max_leaf_nodes': None,\n",
              " 'min_impurity_decrease': 0.0,\n",
              " 'min_impurity_split': None,\n",
              " 'min_samples_leaf': 1,\n",
              " 'min_samples_split': 2,\n",
              " 'min_weight_fraction_leaf': 0.0,\n",
              " 'n_estimators': 100,\n",
              " 'n_iter_no_change': None,\n",
              " 'presort': 'deprecated',\n",
              " 'random_state': 0,\n",
              " 'subsample': 1.0,\n",
              " 'tol': 0.0001,\n",
              " 'validation_fraction': 0.1,\n",
              " 'verbose': 0,\n",
              " 'warm_start': False}"
            ]
          },
          "metadata": {
            "tags": []
          },
          "execution_count": 87
        }
      ]
    },
    {
      "cell_type": "code",
      "metadata": {
        "id": "iYeSQGHRKO7A"
      },
      "source": [
        "# param_grid = {\n",
        "#   \"learning_rate\"    : [ 0.5, 1.0, 1.5] ,\n",
        "#   \"max_depth\"        : [ 1, 5, 10],\n",
        "#   'n_estimators': [ 50, 100, 150],\n",
        "#   \"ccp_alpha\"            : [ 0.0, 0.1, 0.2 ]\n",
        "# }\n",
        "\n",
        "# k_folds = 5\n",
        "\n",
        "# grid_naive = GridSearchCV(estimator=GBosst_nc, param_grid=param_grid, cv=k_folds, verbose=1, n_jobs=-1) # verbose=1 -> print results, n_jobs=-1 -> use all processors in parallel\n",
        "# grid_result_naive = grid_naive.fit(X_train, y_train)"
      ],
      "execution_count": null,
      "outputs": []
    },
    {
      "cell_type": "code",
      "metadata": {
        "id": "0HIiitxBKPEh"
      },
      "source": [
        "# best_result = grid_naive.best_score_\n",
        "# best_learning_rate = grid_naive.best_params_['learning_rate']\n",
        "# best_max_depth = grid_naive.best_params_['max_depth']\n",
        "# best_n_estimators = grid_naive.best_params_['n_estimators']\n",
        "# best_n_ccp_alpha = grid_naive.best_params_['ccp_alpha']\n",
        "# print(f'Best score:\\t{best_result}\\nBest learning_rate:\\t{best_learning_rate}\\nBest max_depth:\\t{best_max_depth}\\nnBest estimators:\\t{best_n_estimators}\\nbest_n_ccp_alpha:\\t{best_n_ccp_alpha}')"
      ],
      "execution_count": null,
      "outputs": []
    },
    {
      "cell_type": "code",
      "metadata": {
        "colab": {
          "base_uri": "https://localhost:8080/"
        },
        "id": "oA5k4bb8KPJl",
        "outputId": "2d936d47-e38e-4e4b-cee9-72eac57a8648"
      },
      "source": [
        "from sklearn.ensemble import GradientBoostingClassifier\n",
        "GBosst_nc = GradientBoostingClassifier(n_estimators=150, learning_rate=0.5,  \n",
        "                                 max_depth=1, random_state=0).fit(X_train, y_train)\n",
        "GBosst_nc.score(X_test, y_test)"
      ],
      "execution_count": null,
      "outputs": [
        {
          "output_type": "execute_result",
          "data": {
            "text/plain": [
              "0.7214684756584198"
            ]
          },
          "metadata": {
            "tags": []
          },
          "execution_count": 90
        }
      ]
    },
    {
      "cell_type": "code",
      "metadata": {
        "id": "KnQd6ANCKPfK"
      },
      "source": [
        "y_pred_Gboost = GBosst_nc.predict(X_test)"
      ],
      "execution_count": null,
      "outputs": []
    },
    {
      "cell_type": "code",
      "metadata": {
        "colab": {
          "base_uri": "https://localhost:8080/"
        },
        "id": "g9tl0VQ9UtOR",
        "outputId": "be9cb92a-36ef-48b9-f9b8-aaf8b2b0cff2"
      },
      "source": [
        "# import accuracy_score from sklearn\n",
        "from sklearn.metrics import accuracy_score\n",
        "\n",
        "# compute accuracy\n",
        "accuracy = accuracy_score(y_test,y_pred_Gboost)\n",
        "\n",
        "print(accuracy)"
      ],
      "execution_count": null,
      "outputs": [
        {
          "output_type": "stream",
          "text": [
            "0.7214684756584198\n"
          ],
          "name": "stdout"
        }
      ]
    },
    {
      "cell_type": "code",
      "metadata": {
        "colab": {
          "base_uri": "https://localhost:8080/"
        },
        "id": "DA06mF_rKPjE",
        "outputId": "b154fd73-cb35-4ae2-a2c2-a5e6db66a642"
      },
      "source": [
        "from sklearn.metrics import classification_report\n",
        "y_pred = GBosst_nc.predict(X_test)\n",
        "print(classification_report(y_test,y_pred))"
      ],
      "execution_count": null,
      "outputs": [
        {
          "output_type": "stream",
          "text": [
            "              precision    recall  f1-score   support\n",
            "\n",
            "           1       0.73      0.94      0.82      5551\n",
            "           2       0.61      0.31      0.42      2321\n",
            "           3       0.59      0.08      0.14       494\n",
            "           4       0.00      0.00      0.00        86\n",
            "           5       0.91      1.00      0.95       319\n",
            "\n",
            "    accuracy                           0.72      8771\n",
            "   macro avg       0.57      0.47      0.47      8771\n",
            "weighted avg       0.69      0.72      0.67      8771\n",
            "\n"
          ],
          "name": "stdout"
        },
        {
          "output_type": "stream",
          "text": [
            "/usr/local/lib/python3.6/dist-packages/sklearn/metrics/_classification.py:1272: UndefinedMetricWarning:\n",
            "\n",
            "Precision and F-score are ill-defined and being set to 0.0 in labels with no predicted samples. Use `zero_division` parameter to control this behavior.\n",
            "\n"
          ],
          "name": "stderr"
        }
      ]
    },
    {
      "cell_type": "code",
      "metadata": {
        "id": "1SqmgFlHdVMI"
      },
      "source": [
        ""
      ],
      "execution_count": null,
      "outputs": []
    },
    {
      "cell_type": "markdown",
      "metadata": {
        "id": "qBrcIwN1U_-i"
      },
      "source": [
        "#### Random Forest"
      ]
    },
    {
      "cell_type": "code",
      "metadata": {
        "colab": {
          "base_uri": "https://localhost:8080/"
        },
        "id": "jd5GEvzHWP_C",
        "outputId": "55935b9a-995a-40b6-b836-6549acee35fe"
      },
      "source": [
        "random_f_nc.get_params(deep=True)"
      ],
      "execution_count": null,
      "outputs": [
        {
          "output_type": "execute_result",
          "data": {
            "text/plain": [
              "{'bootstrap': True,\n",
              " 'ccp_alpha': 0.0,\n",
              " 'class_weight': None,\n",
              " 'criterion': 'gini',\n",
              " 'max_depth': None,\n",
              " 'max_features': 'auto',\n",
              " 'max_leaf_nodes': None,\n",
              " 'max_samples': None,\n",
              " 'min_impurity_decrease': 0.0,\n",
              " 'min_impurity_split': None,\n",
              " 'min_samples_leaf': 1,\n",
              " 'min_samples_split': 2,\n",
              " 'min_weight_fraction_leaf': 0.0,\n",
              " 'n_estimators': 100,\n",
              " 'n_jobs': None,\n",
              " 'oob_score': False,\n",
              " 'random_state': None,\n",
              " 'verbose': 0,\n",
              " 'warm_start': False}"
            ]
          },
          "metadata": {
            "tags": []
          },
          "execution_count": 94
        }
      ]
    },
    {
      "cell_type": "code",
      "metadata": {
        "colab": {
          "base_uri": "https://localhost:8080/",
          "height": 956
        },
        "id": "Wdz4g2ksKPrr",
        "outputId": "f97e1e11-2e94-4214-d2e8-ec012b0e1a1a"
      },
      "source": [
        "# # Make a dictionary with model arguments as keys and lists of grid settings as values\n",
        "# param_grid = {\n",
        "#     'max_depth' : [2,4,5,10,20,50],\n",
        "#     'n_estimators':[100, 1000, 10000,],\n",
        "#     'min_samples_split' : [5, 10, 50, 100]\n",
        "# }\n",
        "# k_folds = 5\n",
        "\n",
        "# grid = GridSearchCV(estimator=random_f_nc, param_grid=param_grid, cv=k_folds, verbose=1, n_jobs=-1) # verbose=1 -> print results, n_jobs=-1 -> use all processors in parallel\n",
        "# grid_result_ = grid.fit(X_train, y_train)"
      ],
      "execution_count": null,
      "outputs": [
        {
          "output_type": "stream",
          "text": [
            "Fitting 5 folds for each of 72 candidates, totalling 360 fits\n"
          ],
          "name": "stdout"
        },
        {
          "output_type": "stream",
          "text": [
            "[Parallel(n_jobs=-1)]: Using backend LokyBackend with 2 concurrent workers.\n",
            "[Parallel(n_jobs=-1)]: Done  46 tasks      | elapsed: 12.6min\n",
            "/usr/local/lib/python3.6/dist-packages/joblib/externals/loky/process_executor.py:691: UserWarning:\n",
            "\n",
            "A worker stopped while some jobs were given to the executor. This can be caused by a too short worker timeout or by a memory leak.\n",
            "\n",
            "[Parallel(n_jobs=-1)]: Done 196 tasks      | elapsed: 85.3min\n",
            "exception calling callback for <Future at 0x7f771c6517f0 state=finished raised TerminatedWorkerError>\n",
            "Traceback (most recent call last):\n",
            "  File \"/usr/local/lib/python3.6/dist-packages/joblib/externals/loky/_base.py\", line 625, in _invoke_callbacks\n",
            "    callback(self)\n",
            "  File \"/usr/local/lib/python3.6/dist-packages/joblib/parallel.py\", line 359, in __call__\n",
            "    self.parallel.dispatch_next()\n",
            "  File \"/usr/local/lib/python3.6/dist-packages/joblib/parallel.py\", line 792, in dispatch_next\n",
            "    if not self.dispatch_one_batch(self._original_iterator):\n",
            "  File \"/usr/local/lib/python3.6/dist-packages/joblib/parallel.py\", line 859, in dispatch_one_batch\n",
            "    self._dispatch(tasks)\n",
            "  File \"/usr/local/lib/python3.6/dist-packages/joblib/parallel.py\", line 777, in _dispatch\n",
            "    job = self._backend.apply_async(batch, callback=cb)\n",
            "  File \"/usr/local/lib/python3.6/dist-packages/joblib/_parallel_backends.py\", line 531, in apply_async\n",
            "    future = self._workers.submit(SafeFunction(func))\n",
            "  File \"/usr/local/lib/python3.6/dist-packages/joblib/externals/loky/reusable_executor.py\", line 178, in submit\n",
            "    fn, *args, **kwargs)\n",
            "  File \"/usr/local/lib/python3.6/dist-packages/joblib/externals/loky/process_executor.py\", line 1102, in submit\n",
            "    raise self._flags.broken\n",
            "joblib.externals.loky.process_executor.TerminatedWorkerError: A worker process managed by the executor was unexpectedly terminated. This could be caused by a segmentation fault while calling the function or by an excessive memory usage causing the Operating System to kill the worker.\n",
            "\n",
            "The exit codes of the workers are {SIGKILL(-9)}\n"
          ],
          "name": "stderr"
        },
        {
          "output_type": "error",
          "ename": "TerminatedWorkerError",
          "evalue": "ignored",
          "traceback": [
            "\u001b[0;31m---------------------------------------------------------------------------\u001b[0m",
            "\u001b[0;31mTerminatedWorkerError\u001b[0m                     Traceback (most recent call last)",
            "\u001b[0;32m<ipython-input-101-a0bdce426908>\u001b[0m in \u001b[0;36m<module>\u001b[0;34m()\u001b[0m\n\u001b[1;32m      8\u001b[0m \u001b[0;34m\u001b[0m\u001b[0m\n\u001b[1;32m      9\u001b[0m \u001b[0mgrid\u001b[0m \u001b[0;34m=\u001b[0m \u001b[0mGridSearchCV\u001b[0m\u001b[0;34m(\u001b[0m\u001b[0mestimator\u001b[0m\u001b[0;34m=\u001b[0m\u001b[0mrandom_f_nc\u001b[0m\u001b[0;34m,\u001b[0m \u001b[0mparam_grid\u001b[0m\u001b[0;34m=\u001b[0m\u001b[0mparam_grid\u001b[0m\u001b[0;34m,\u001b[0m \u001b[0mcv\u001b[0m\u001b[0;34m=\u001b[0m\u001b[0mk_folds\u001b[0m\u001b[0;34m,\u001b[0m \u001b[0mverbose\u001b[0m\u001b[0;34m=\u001b[0m\u001b[0;36m1\u001b[0m\u001b[0;34m,\u001b[0m \u001b[0mn_jobs\u001b[0m\u001b[0;34m=\u001b[0m\u001b[0;34m-\u001b[0m\u001b[0;36m1\u001b[0m\u001b[0;34m)\u001b[0m \u001b[0;31m# verbose=1 -> print results, n_jobs=-1 -> use all processors in parallel\u001b[0m\u001b[0;34m\u001b[0m\u001b[0;34m\u001b[0m\u001b[0m\n\u001b[0;32m---> 10\u001b[0;31m \u001b[0mgrid_result_\u001b[0m \u001b[0;34m=\u001b[0m \u001b[0mgrid\u001b[0m\u001b[0;34m.\u001b[0m\u001b[0mfit\u001b[0m\u001b[0;34m(\u001b[0m\u001b[0mX_train\u001b[0m\u001b[0;34m,\u001b[0m \u001b[0my_train\u001b[0m\u001b[0;34m)\u001b[0m\u001b[0;34m\u001b[0m\u001b[0;34m\u001b[0m\u001b[0m\n\u001b[0m",
            "\u001b[0;32m/usr/local/lib/python3.6/dist-packages/sklearn/model_selection/_search.py\u001b[0m in \u001b[0;36mfit\u001b[0;34m(self, X, y, groups, **fit_params)\u001b[0m\n\u001b[1;32m    708\u001b[0m                 \u001b[0;32mreturn\u001b[0m \u001b[0mresults\u001b[0m\u001b[0;34m\u001b[0m\u001b[0;34m\u001b[0m\u001b[0m\n\u001b[1;32m    709\u001b[0m \u001b[0;34m\u001b[0m\u001b[0m\n\u001b[0;32m--> 710\u001b[0;31m             \u001b[0mself\u001b[0m\u001b[0;34m.\u001b[0m\u001b[0m_run_search\u001b[0m\u001b[0;34m(\u001b[0m\u001b[0mevaluate_candidates\u001b[0m\u001b[0;34m)\u001b[0m\u001b[0;34m\u001b[0m\u001b[0;34m\u001b[0m\u001b[0m\n\u001b[0m\u001b[1;32m    711\u001b[0m \u001b[0;34m\u001b[0m\u001b[0m\n\u001b[1;32m    712\u001b[0m         \u001b[0;31m# For multi-metric evaluation, store the best_index_, best_params_ and\u001b[0m\u001b[0;34m\u001b[0m\u001b[0;34m\u001b[0m\u001b[0;34m\u001b[0m\u001b[0m\n",
            "\u001b[0;32m/usr/local/lib/python3.6/dist-packages/sklearn/model_selection/_search.py\u001b[0m in \u001b[0;36m_run_search\u001b[0;34m(self, evaluate_candidates)\u001b[0m\n\u001b[1;32m   1149\u001b[0m     \u001b[0;32mdef\u001b[0m \u001b[0m_run_search\u001b[0m\u001b[0;34m(\u001b[0m\u001b[0mself\u001b[0m\u001b[0;34m,\u001b[0m \u001b[0mevaluate_candidates\u001b[0m\u001b[0;34m)\u001b[0m\u001b[0;34m:\u001b[0m\u001b[0;34m\u001b[0m\u001b[0;34m\u001b[0m\u001b[0m\n\u001b[1;32m   1150\u001b[0m         \u001b[0;34m\"\"\"Search all candidates in param_grid\"\"\"\u001b[0m\u001b[0;34m\u001b[0m\u001b[0;34m\u001b[0m\u001b[0m\n\u001b[0;32m-> 1151\u001b[0;31m         \u001b[0mevaluate_candidates\u001b[0m\u001b[0;34m(\u001b[0m\u001b[0mParameterGrid\u001b[0m\u001b[0;34m(\u001b[0m\u001b[0mself\u001b[0m\u001b[0;34m.\u001b[0m\u001b[0mparam_grid\u001b[0m\u001b[0;34m)\u001b[0m\u001b[0;34m)\u001b[0m\u001b[0;34m\u001b[0m\u001b[0;34m\u001b[0m\u001b[0m\n\u001b[0m\u001b[1;32m   1152\u001b[0m \u001b[0;34m\u001b[0m\u001b[0m\n\u001b[1;32m   1153\u001b[0m \u001b[0;34m\u001b[0m\u001b[0m\n",
            "\u001b[0;32m/usr/local/lib/python3.6/dist-packages/sklearn/model_selection/_search.py\u001b[0m in \u001b[0;36mevaluate_candidates\u001b[0;34m(candidate_params)\u001b[0m\n\u001b[1;32m    687\u001b[0m                                \u001b[0;32mfor\u001b[0m \u001b[0mparameters\u001b[0m\u001b[0;34m,\u001b[0m \u001b[0;34m(\u001b[0m\u001b[0mtrain\u001b[0m\u001b[0;34m,\u001b[0m \u001b[0mtest\u001b[0m\u001b[0;34m)\u001b[0m\u001b[0;34m\u001b[0m\u001b[0;34m\u001b[0m\u001b[0m\n\u001b[1;32m    688\u001b[0m                                in product(candidate_params,\n\u001b[0;32m--> 689\u001b[0;31m                                           cv.split(X, y, groups)))\n\u001b[0m\u001b[1;32m    690\u001b[0m \u001b[0;34m\u001b[0m\u001b[0m\n\u001b[1;32m    691\u001b[0m                 \u001b[0;32mif\u001b[0m \u001b[0mlen\u001b[0m\u001b[0;34m(\u001b[0m\u001b[0mout\u001b[0m\u001b[0;34m)\u001b[0m \u001b[0;34m<\u001b[0m \u001b[0;36m1\u001b[0m\u001b[0;34m:\u001b[0m\u001b[0;34m\u001b[0m\u001b[0;34m\u001b[0m\u001b[0m\n",
            "\u001b[0;32m/usr/local/lib/python3.6/dist-packages/joblib/parallel.py\u001b[0m in \u001b[0;36m__call__\u001b[0;34m(self, iterable)\u001b[0m\n\u001b[1;32m   1052\u001b[0m \u001b[0;34m\u001b[0m\u001b[0m\n\u001b[1;32m   1053\u001b[0m             \u001b[0;32mwith\u001b[0m \u001b[0mself\u001b[0m\u001b[0;34m.\u001b[0m\u001b[0m_backend\u001b[0m\u001b[0;34m.\u001b[0m\u001b[0mretrieval_context\u001b[0m\u001b[0;34m(\u001b[0m\u001b[0;34m)\u001b[0m\u001b[0;34m:\u001b[0m\u001b[0;34m\u001b[0m\u001b[0;34m\u001b[0m\u001b[0m\n\u001b[0;32m-> 1054\u001b[0;31m                 \u001b[0mself\u001b[0m\u001b[0;34m.\u001b[0m\u001b[0mretrieve\u001b[0m\u001b[0;34m(\u001b[0m\u001b[0;34m)\u001b[0m\u001b[0;34m\u001b[0m\u001b[0;34m\u001b[0m\u001b[0m\n\u001b[0m\u001b[1;32m   1055\u001b[0m             \u001b[0;31m# Make sure that we get a last message telling us we are done\u001b[0m\u001b[0;34m\u001b[0m\u001b[0;34m\u001b[0m\u001b[0;34m\u001b[0m\u001b[0m\n\u001b[1;32m   1056\u001b[0m             \u001b[0melapsed_time\u001b[0m \u001b[0;34m=\u001b[0m \u001b[0mtime\u001b[0m\u001b[0;34m.\u001b[0m\u001b[0mtime\u001b[0m\u001b[0;34m(\u001b[0m\u001b[0;34m)\u001b[0m \u001b[0;34m-\u001b[0m \u001b[0mself\u001b[0m\u001b[0;34m.\u001b[0m\u001b[0m_start_time\u001b[0m\u001b[0;34m\u001b[0m\u001b[0;34m\u001b[0m\u001b[0m\n",
            "\u001b[0;32m/usr/local/lib/python3.6/dist-packages/joblib/parallel.py\u001b[0m in \u001b[0;36mretrieve\u001b[0;34m(self)\u001b[0m\n\u001b[1;32m    931\u001b[0m             \u001b[0;32mtry\u001b[0m\u001b[0;34m:\u001b[0m\u001b[0;34m\u001b[0m\u001b[0;34m\u001b[0m\u001b[0m\n\u001b[1;32m    932\u001b[0m                 \u001b[0;32mif\u001b[0m \u001b[0mgetattr\u001b[0m\u001b[0;34m(\u001b[0m\u001b[0mself\u001b[0m\u001b[0;34m.\u001b[0m\u001b[0m_backend\u001b[0m\u001b[0;34m,\u001b[0m \u001b[0;34m'supports_timeout'\u001b[0m\u001b[0;34m,\u001b[0m \u001b[0;32mFalse\u001b[0m\u001b[0;34m)\u001b[0m\u001b[0;34m:\u001b[0m\u001b[0;34m\u001b[0m\u001b[0;34m\u001b[0m\u001b[0m\n\u001b[0;32m--> 933\u001b[0;31m                     \u001b[0mself\u001b[0m\u001b[0;34m.\u001b[0m\u001b[0m_output\u001b[0m\u001b[0;34m.\u001b[0m\u001b[0mextend\u001b[0m\u001b[0;34m(\u001b[0m\u001b[0mjob\u001b[0m\u001b[0;34m.\u001b[0m\u001b[0mget\u001b[0m\u001b[0;34m(\u001b[0m\u001b[0mtimeout\u001b[0m\u001b[0;34m=\u001b[0m\u001b[0mself\u001b[0m\u001b[0;34m.\u001b[0m\u001b[0mtimeout\u001b[0m\u001b[0;34m)\u001b[0m\u001b[0;34m)\u001b[0m\u001b[0;34m\u001b[0m\u001b[0;34m\u001b[0m\u001b[0m\n\u001b[0m\u001b[1;32m    934\u001b[0m                 \u001b[0;32melse\u001b[0m\u001b[0;34m:\u001b[0m\u001b[0;34m\u001b[0m\u001b[0;34m\u001b[0m\u001b[0m\n\u001b[1;32m    935\u001b[0m                     \u001b[0mself\u001b[0m\u001b[0;34m.\u001b[0m\u001b[0m_output\u001b[0m\u001b[0;34m.\u001b[0m\u001b[0mextend\u001b[0m\u001b[0;34m(\u001b[0m\u001b[0mjob\u001b[0m\u001b[0;34m.\u001b[0m\u001b[0mget\u001b[0m\u001b[0;34m(\u001b[0m\u001b[0;34m)\u001b[0m\u001b[0;34m)\u001b[0m\u001b[0;34m\u001b[0m\u001b[0;34m\u001b[0m\u001b[0m\n",
            "\u001b[0;32m/usr/local/lib/python3.6/dist-packages/joblib/_parallel_backends.py\u001b[0m in \u001b[0;36mwrap_future_result\u001b[0;34m(future, timeout)\u001b[0m\n\u001b[1;32m    540\u001b[0m         AsyncResults.get from multiprocessing.\"\"\"\n\u001b[1;32m    541\u001b[0m         \u001b[0;32mtry\u001b[0m\u001b[0;34m:\u001b[0m\u001b[0;34m\u001b[0m\u001b[0;34m\u001b[0m\u001b[0m\n\u001b[0;32m--> 542\u001b[0;31m             \u001b[0;32mreturn\u001b[0m \u001b[0mfuture\u001b[0m\u001b[0;34m.\u001b[0m\u001b[0mresult\u001b[0m\u001b[0;34m(\u001b[0m\u001b[0mtimeout\u001b[0m\u001b[0;34m=\u001b[0m\u001b[0mtimeout\u001b[0m\u001b[0;34m)\u001b[0m\u001b[0;34m\u001b[0m\u001b[0;34m\u001b[0m\u001b[0m\n\u001b[0m\u001b[1;32m    543\u001b[0m         \u001b[0;32mexcept\u001b[0m \u001b[0mCfTimeoutError\u001b[0m \u001b[0;32mas\u001b[0m \u001b[0me\u001b[0m\u001b[0;34m:\u001b[0m\u001b[0;34m\u001b[0m\u001b[0;34m\u001b[0m\u001b[0m\n\u001b[1;32m    544\u001b[0m             \u001b[0;32mraise\u001b[0m \u001b[0mTimeoutError\u001b[0m \u001b[0;32mfrom\u001b[0m \u001b[0me\u001b[0m\u001b[0;34m\u001b[0m\u001b[0;34m\u001b[0m\u001b[0m\n",
            "\u001b[0;32m/usr/lib/python3.6/concurrent/futures/_base.py\u001b[0m in \u001b[0;36mresult\u001b[0;34m(self, timeout)\u001b[0m\n\u001b[1;32m    430\u001b[0m                 \u001b[0;32mraise\u001b[0m \u001b[0mCancelledError\u001b[0m\u001b[0;34m(\u001b[0m\u001b[0;34m)\u001b[0m\u001b[0;34m\u001b[0m\u001b[0;34m\u001b[0m\u001b[0m\n\u001b[1;32m    431\u001b[0m             \u001b[0;32melif\u001b[0m \u001b[0mself\u001b[0m\u001b[0;34m.\u001b[0m\u001b[0m_state\u001b[0m \u001b[0;34m==\u001b[0m \u001b[0mFINISHED\u001b[0m\u001b[0;34m:\u001b[0m\u001b[0;34m\u001b[0m\u001b[0;34m\u001b[0m\u001b[0m\n\u001b[0;32m--> 432\u001b[0;31m                 \u001b[0;32mreturn\u001b[0m \u001b[0mself\u001b[0m\u001b[0;34m.\u001b[0m\u001b[0m__get_result\u001b[0m\u001b[0;34m(\u001b[0m\u001b[0;34m)\u001b[0m\u001b[0;34m\u001b[0m\u001b[0;34m\u001b[0m\u001b[0m\n\u001b[0m\u001b[1;32m    433\u001b[0m             \u001b[0;32melse\u001b[0m\u001b[0;34m:\u001b[0m\u001b[0;34m\u001b[0m\u001b[0;34m\u001b[0m\u001b[0m\n\u001b[1;32m    434\u001b[0m                 \u001b[0;32mraise\u001b[0m \u001b[0mTimeoutError\u001b[0m\u001b[0;34m(\u001b[0m\u001b[0;34m)\u001b[0m\u001b[0;34m\u001b[0m\u001b[0;34m\u001b[0m\u001b[0m\n",
            "\u001b[0;32m/usr/lib/python3.6/concurrent/futures/_base.py\u001b[0m in \u001b[0;36m__get_result\u001b[0;34m(self)\u001b[0m\n\u001b[1;32m    382\u001b[0m     \u001b[0;32mdef\u001b[0m \u001b[0m__get_result\u001b[0m\u001b[0;34m(\u001b[0m\u001b[0mself\u001b[0m\u001b[0;34m)\u001b[0m\u001b[0;34m:\u001b[0m\u001b[0;34m\u001b[0m\u001b[0;34m\u001b[0m\u001b[0m\n\u001b[1;32m    383\u001b[0m         \u001b[0;32mif\u001b[0m \u001b[0mself\u001b[0m\u001b[0;34m.\u001b[0m\u001b[0m_exception\u001b[0m\u001b[0;34m:\u001b[0m\u001b[0;34m\u001b[0m\u001b[0;34m\u001b[0m\u001b[0m\n\u001b[0;32m--> 384\u001b[0;31m             \u001b[0;32mraise\u001b[0m \u001b[0mself\u001b[0m\u001b[0;34m.\u001b[0m\u001b[0m_exception\u001b[0m\u001b[0;34m\u001b[0m\u001b[0;34m\u001b[0m\u001b[0m\n\u001b[0m\u001b[1;32m    385\u001b[0m         \u001b[0;32melse\u001b[0m\u001b[0;34m:\u001b[0m\u001b[0;34m\u001b[0m\u001b[0;34m\u001b[0m\u001b[0m\n\u001b[1;32m    386\u001b[0m             \u001b[0;32mreturn\u001b[0m \u001b[0mself\u001b[0m\u001b[0;34m.\u001b[0m\u001b[0m_result\u001b[0m\u001b[0;34m\u001b[0m\u001b[0;34m\u001b[0m\u001b[0m\n",
            "\u001b[0;32m/usr/local/lib/python3.6/dist-packages/joblib/externals/loky/_base.py\u001b[0m in \u001b[0;36m_invoke_callbacks\u001b[0;34m(self)\u001b[0m\n\u001b[1;32m    623\u001b[0m         \u001b[0;32mfor\u001b[0m \u001b[0mcallback\u001b[0m \u001b[0;32min\u001b[0m \u001b[0mself\u001b[0m\u001b[0;34m.\u001b[0m\u001b[0m_done_callbacks\u001b[0m\u001b[0;34m:\u001b[0m\u001b[0;34m\u001b[0m\u001b[0;34m\u001b[0m\u001b[0m\n\u001b[1;32m    624\u001b[0m             \u001b[0;32mtry\u001b[0m\u001b[0;34m:\u001b[0m\u001b[0;34m\u001b[0m\u001b[0;34m\u001b[0m\u001b[0m\n\u001b[0;32m--> 625\u001b[0;31m                 \u001b[0mcallback\u001b[0m\u001b[0;34m(\u001b[0m\u001b[0mself\u001b[0m\u001b[0;34m)\u001b[0m\u001b[0;34m\u001b[0m\u001b[0;34m\u001b[0m\u001b[0m\n\u001b[0m\u001b[1;32m    626\u001b[0m             \u001b[0;32mexcept\u001b[0m \u001b[0mBaseException\u001b[0m\u001b[0;34m:\u001b[0m\u001b[0;34m\u001b[0m\u001b[0;34m\u001b[0m\u001b[0m\n\u001b[1;32m    627\u001b[0m                 \u001b[0mLOGGER\u001b[0m\u001b[0;34m.\u001b[0m\u001b[0mexception\u001b[0m\u001b[0;34m(\u001b[0m\u001b[0;34m'exception calling callback for %r'\u001b[0m\u001b[0;34m,\u001b[0m \u001b[0mself\u001b[0m\u001b[0;34m)\u001b[0m\u001b[0;34m\u001b[0m\u001b[0;34m\u001b[0m\u001b[0m\n",
            "\u001b[0;32m/usr/local/lib/python3.6/dist-packages/joblib/parallel.py\u001b[0m in \u001b[0;36m__call__\u001b[0;34m(self, out)\u001b[0m\n\u001b[1;32m    357\u001b[0m         \u001b[0;32mwith\u001b[0m \u001b[0mself\u001b[0m\u001b[0;34m.\u001b[0m\u001b[0mparallel\u001b[0m\u001b[0;34m.\u001b[0m\u001b[0m_lock\u001b[0m\u001b[0;34m:\u001b[0m\u001b[0;34m\u001b[0m\u001b[0;34m\u001b[0m\u001b[0m\n\u001b[1;32m    358\u001b[0m             \u001b[0;32mif\u001b[0m \u001b[0mself\u001b[0m\u001b[0;34m.\u001b[0m\u001b[0mparallel\u001b[0m\u001b[0;34m.\u001b[0m\u001b[0m_original_iterator\u001b[0m \u001b[0;32mis\u001b[0m \u001b[0;32mnot\u001b[0m \u001b[0;32mNone\u001b[0m\u001b[0;34m:\u001b[0m\u001b[0;34m\u001b[0m\u001b[0;34m\u001b[0m\u001b[0m\n\u001b[0;32m--> 359\u001b[0;31m                 \u001b[0mself\u001b[0m\u001b[0;34m.\u001b[0m\u001b[0mparallel\u001b[0m\u001b[0;34m.\u001b[0m\u001b[0mdispatch_next\u001b[0m\u001b[0;34m(\u001b[0m\u001b[0;34m)\u001b[0m\u001b[0;34m\u001b[0m\u001b[0;34m\u001b[0m\u001b[0m\n\u001b[0m\u001b[1;32m    360\u001b[0m \u001b[0;34m\u001b[0m\u001b[0m\n\u001b[1;32m    361\u001b[0m \u001b[0;34m\u001b[0m\u001b[0m\n",
            "\u001b[0;32m/usr/local/lib/python3.6/dist-packages/joblib/parallel.py\u001b[0m in \u001b[0;36mdispatch_next\u001b[0;34m(self)\u001b[0m\n\u001b[1;32m    790\u001b[0m \u001b[0;34m\u001b[0m\u001b[0m\n\u001b[1;32m    791\u001b[0m         \"\"\"\n\u001b[0;32m--> 792\u001b[0;31m         \u001b[0;32mif\u001b[0m \u001b[0;32mnot\u001b[0m \u001b[0mself\u001b[0m\u001b[0;34m.\u001b[0m\u001b[0mdispatch_one_batch\u001b[0m\u001b[0;34m(\u001b[0m\u001b[0mself\u001b[0m\u001b[0;34m.\u001b[0m\u001b[0m_original_iterator\u001b[0m\u001b[0;34m)\u001b[0m\u001b[0;34m:\u001b[0m\u001b[0;34m\u001b[0m\u001b[0;34m\u001b[0m\u001b[0m\n\u001b[0m\u001b[1;32m    793\u001b[0m             \u001b[0mself\u001b[0m\u001b[0;34m.\u001b[0m\u001b[0m_iterating\u001b[0m \u001b[0;34m=\u001b[0m \u001b[0;32mFalse\u001b[0m\u001b[0;34m\u001b[0m\u001b[0;34m\u001b[0m\u001b[0m\n\u001b[1;32m    794\u001b[0m             \u001b[0mself\u001b[0m\u001b[0;34m.\u001b[0m\u001b[0m_original_iterator\u001b[0m \u001b[0;34m=\u001b[0m \u001b[0;32mNone\u001b[0m\u001b[0;34m\u001b[0m\u001b[0;34m\u001b[0m\u001b[0m\n",
            "\u001b[0;32m/usr/local/lib/python3.6/dist-packages/joblib/parallel.py\u001b[0m in \u001b[0;36mdispatch_one_batch\u001b[0;34m(self, iterator)\u001b[0m\n\u001b[1;32m    857\u001b[0m                 \u001b[0;32mreturn\u001b[0m \u001b[0;32mFalse\u001b[0m\u001b[0;34m\u001b[0m\u001b[0;34m\u001b[0m\u001b[0m\n\u001b[1;32m    858\u001b[0m             \u001b[0;32melse\u001b[0m\u001b[0;34m:\u001b[0m\u001b[0;34m\u001b[0m\u001b[0;34m\u001b[0m\u001b[0m\n\u001b[0;32m--> 859\u001b[0;31m                 \u001b[0mself\u001b[0m\u001b[0;34m.\u001b[0m\u001b[0m_dispatch\u001b[0m\u001b[0;34m(\u001b[0m\u001b[0mtasks\u001b[0m\u001b[0;34m)\u001b[0m\u001b[0;34m\u001b[0m\u001b[0;34m\u001b[0m\u001b[0m\n\u001b[0m\u001b[1;32m    860\u001b[0m                 \u001b[0;32mreturn\u001b[0m \u001b[0;32mTrue\u001b[0m\u001b[0;34m\u001b[0m\u001b[0;34m\u001b[0m\u001b[0m\n\u001b[1;32m    861\u001b[0m \u001b[0;34m\u001b[0m\u001b[0m\n",
            "\u001b[0;32m/usr/local/lib/python3.6/dist-packages/joblib/parallel.py\u001b[0m in \u001b[0;36m_dispatch\u001b[0;34m(self, batch)\u001b[0m\n\u001b[1;32m    775\u001b[0m         \u001b[0;32mwith\u001b[0m \u001b[0mself\u001b[0m\u001b[0;34m.\u001b[0m\u001b[0m_lock\u001b[0m\u001b[0;34m:\u001b[0m\u001b[0;34m\u001b[0m\u001b[0;34m\u001b[0m\u001b[0m\n\u001b[1;32m    776\u001b[0m             \u001b[0mjob_idx\u001b[0m \u001b[0;34m=\u001b[0m \u001b[0mlen\u001b[0m\u001b[0;34m(\u001b[0m\u001b[0mself\u001b[0m\u001b[0;34m.\u001b[0m\u001b[0m_jobs\u001b[0m\u001b[0;34m)\u001b[0m\u001b[0;34m\u001b[0m\u001b[0;34m\u001b[0m\u001b[0m\n\u001b[0;32m--> 777\u001b[0;31m             \u001b[0mjob\u001b[0m \u001b[0;34m=\u001b[0m \u001b[0mself\u001b[0m\u001b[0;34m.\u001b[0m\u001b[0m_backend\u001b[0m\u001b[0;34m.\u001b[0m\u001b[0mapply_async\u001b[0m\u001b[0;34m(\u001b[0m\u001b[0mbatch\u001b[0m\u001b[0;34m,\u001b[0m \u001b[0mcallback\u001b[0m\u001b[0;34m=\u001b[0m\u001b[0mcb\u001b[0m\u001b[0;34m)\u001b[0m\u001b[0;34m\u001b[0m\u001b[0;34m\u001b[0m\u001b[0m\n\u001b[0m\u001b[1;32m    778\u001b[0m             \u001b[0;31m# A job can complete so quickly than its callback is\u001b[0m\u001b[0;34m\u001b[0m\u001b[0;34m\u001b[0m\u001b[0;34m\u001b[0m\u001b[0m\n\u001b[1;32m    779\u001b[0m             \u001b[0;31m# called before we get here, causing self._jobs to\u001b[0m\u001b[0;34m\u001b[0m\u001b[0;34m\u001b[0m\u001b[0;34m\u001b[0m\u001b[0m\n",
            "\u001b[0;32m/usr/local/lib/python3.6/dist-packages/joblib/_parallel_backends.py\u001b[0m in \u001b[0;36mapply_async\u001b[0;34m(self, func, callback)\u001b[0m\n\u001b[1;32m    529\u001b[0m     \u001b[0;32mdef\u001b[0m \u001b[0mapply_async\u001b[0m\u001b[0;34m(\u001b[0m\u001b[0mself\u001b[0m\u001b[0;34m,\u001b[0m \u001b[0mfunc\u001b[0m\u001b[0;34m,\u001b[0m \u001b[0mcallback\u001b[0m\u001b[0;34m=\u001b[0m\u001b[0;32mNone\u001b[0m\u001b[0;34m)\u001b[0m\u001b[0;34m:\u001b[0m\u001b[0;34m\u001b[0m\u001b[0;34m\u001b[0m\u001b[0m\n\u001b[1;32m    530\u001b[0m         \u001b[0;34m\"\"\"Schedule a func to be run\"\"\"\u001b[0m\u001b[0;34m\u001b[0m\u001b[0;34m\u001b[0m\u001b[0m\n\u001b[0;32m--> 531\u001b[0;31m         \u001b[0mfuture\u001b[0m \u001b[0;34m=\u001b[0m \u001b[0mself\u001b[0m\u001b[0;34m.\u001b[0m\u001b[0m_workers\u001b[0m\u001b[0;34m.\u001b[0m\u001b[0msubmit\u001b[0m\u001b[0;34m(\u001b[0m\u001b[0mSafeFunction\u001b[0m\u001b[0;34m(\u001b[0m\u001b[0mfunc\u001b[0m\u001b[0;34m)\u001b[0m\u001b[0;34m)\u001b[0m\u001b[0;34m\u001b[0m\u001b[0;34m\u001b[0m\u001b[0m\n\u001b[0m\u001b[1;32m    532\u001b[0m         \u001b[0mfuture\u001b[0m\u001b[0;34m.\u001b[0m\u001b[0mget\u001b[0m \u001b[0;34m=\u001b[0m \u001b[0mfunctools\u001b[0m\u001b[0;34m.\u001b[0m\u001b[0mpartial\u001b[0m\u001b[0;34m(\u001b[0m\u001b[0mself\u001b[0m\u001b[0;34m.\u001b[0m\u001b[0mwrap_future_result\u001b[0m\u001b[0;34m,\u001b[0m \u001b[0mfuture\u001b[0m\u001b[0;34m)\u001b[0m\u001b[0;34m\u001b[0m\u001b[0;34m\u001b[0m\u001b[0m\n\u001b[1;32m    533\u001b[0m         \u001b[0;32mif\u001b[0m \u001b[0mcallback\u001b[0m \u001b[0;32mis\u001b[0m \u001b[0;32mnot\u001b[0m \u001b[0;32mNone\u001b[0m\u001b[0;34m:\u001b[0m\u001b[0;34m\u001b[0m\u001b[0;34m\u001b[0m\u001b[0m\n",
            "\u001b[0;32m/usr/local/lib/python3.6/dist-packages/joblib/externals/loky/reusable_executor.py\u001b[0m in \u001b[0;36msubmit\u001b[0;34m(self, fn, *args, **kwargs)\u001b[0m\n\u001b[1;32m    176\u001b[0m         \u001b[0;32mwith\u001b[0m \u001b[0mself\u001b[0m\u001b[0;34m.\u001b[0m\u001b[0m_submit_resize_lock\u001b[0m\u001b[0;34m:\u001b[0m\u001b[0;34m\u001b[0m\u001b[0;34m\u001b[0m\u001b[0m\n\u001b[1;32m    177\u001b[0m             return super(_ReusablePoolExecutor, self).submit(\n\u001b[0;32m--> 178\u001b[0;31m                 fn, *args, **kwargs)\n\u001b[0m\u001b[1;32m    179\u001b[0m \u001b[0;34m\u001b[0m\u001b[0m\n\u001b[1;32m    180\u001b[0m     \u001b[0;32mdef\u001b[0m \u001b[0m_resize\u001b[0m\u001b[0;34m(\u001b[0m\u001b[0mself\u001b[0m\u001b[0;34m,\u001b[0m \u001b[0mmax_workers\u001b[0m\u001b[0;34m)\u001b[0m\u001b[0;34m:\u001b[0m\u001b[0;34m\u001b[0m\u001b[0;34m\u001b[0m\u001b[0m\n",
            "\u001b[0;32m/usr/local/lib/python3.6/dist-packages/joblib/externals/loky/process_executor.py\u001b[0m in \u001b[0;36msubmit\u001b[0;34m(self, fn, *args, **kwargs)\u001b[0m\n\u001b[1;32m   1100\u001b[0m         \u001b[0;32mwith\u001b[0m \u001b[0mself\u001b[0m\u001b[0;34m.\u001b[0m\u001b[0m_flags\u001b[0m\u001b[0;34m.\u001b[0m\u001b[0mshutdown_lock\u001b[0m\u001b[0;34m:\u001b[0m\u001b[0;34m\u001b[0m\u001b[0;34m\u001b[0m\u001b[0m\n\u001b[1;32m   1101\u001b[0m             \u001b[0;32mif\u001b[0m \u001b[0mself\u001b[0m\u001b[0;34m.\u001b[0m\u001b[0m_flags\u001b[0m\u001b[0;34m.\u001b[0m\u001b[0mbroken\u001b[0m \u001b[0;32mis\u001b[0m \u001b[0;32mnot\u001b[0m \u001b[0;32mNone\u001b[0m\u001b[0;34m:\u001b[0m\u001b[0;34m\u001b[0m\u001b[0;34m\u001b[0m\u001b[0m\n\u001b[0;32m-> 1102\u001b[0;31m                 \u001b[0;32mraise\u001b[0m \u001b[0mself\u001b[0m\u001b[0;34m.\u001b[0m\u001b[0m_flags\u001b[0m\u001b[0;34m.\u001b[0m\u001b[0mbroken\u001b[0m\u001b[0;34m\u001b[0m\u001b[0;34m\u001b[0m\u001b[0m\n\u001b[0m\u001b[1;32m   1103\u001b[0m             \u001b[0;32mif\u001b[0m \u001b[0mself\u001b[0m\u001b[0;34m.\u001b[0m\u001b[0m_flags\u001b[0m\u001b[0;34m.\u001b[0m\u001b[0mshutdown\u001b[0m\u001b[0;34m:\u001b[0m\u001b[0;34m\u001b[0m\u001b[0;34m\u001b[0m\u001b[0m\n\u001b[1;32m   1104\u001b[0m                 raise ShutdownExecutorError(\n",
            "\u001b[0;31mTerminatedWorkerError\u001b[0m: A worker process managed by the executor was unexpectedly terminated. This could be caused by a segmentation fault while calling the function or by an excessive memory usage causing the Operating System to kill the worker.\n\nThe exit codes of the workers are {SIGKILL(-9)}"
          ]
        }
      ]
    },
    {
      "cell_type": "code",
      "metadata": {
        "id": "iCUrwb6sYnPz"
      },
      "source": [
        ""
      ],
      "execution_count": null,
      "outputs": []
    },
    {
      "cell_type": "code",
      "metadata": {
        "id": "4HZPL9r-Ym8t"
      },
      "source": [
        ""
      ],
      "execution_count": null,
      "outputs": []
    },
    {
      "cell_type": "code",
      "metadata": {
        "id": "56yb37SzKPwC"
      },
      "source": [
        ""
      ],
      "execution_count": null,
      "outputs": []
    },
    {
      "cell_type": "code",
      "metadata": {
        "id": "koDaKxS_KP0k"
      },
      "source": [
        ""
      ],
      "execution_count": null,
      "outputs": []
    },
    {
      "cell_type": "markdown",
      "metadata": {
        "id": "sBKHzlbmgZDT"
      },
      "source": [
        "tes\n"
      ]
    },
    {
      "cell_type": "markdown",
      "metadata": {
        "id": "Eu0hp9FevbPp"
      },
      "source": [
        "## SMOTE"
      ]
    },
    {
      "cell_type": "code",
      "metadata": {
        "colab": {
          "base_uri": "https://localhost:8080/"
        },
        "id": "j0rVyoxVvfBZ",
        "outputId": "620b7a08-fa66-4203-d3b3-3e20559bd722"
      },
      "source": [
        "from pandas import read_csv\n",
        "from collections import Counter\n",
        "from matplotlib import pyplot\n",
        "from sklearn.preprocessing import LabelEncoder\n",
        "from imblearn.over_sampling import SMOTE"
      ],
      "execution_count": null,
      "outputs": [
        {
          "output_type": "stream",
          "text": [
            "/usr/local/lib/python3.6/dist-packages/sklearn/externals/six.py:31: FutureWarning:\n",
            "\n",
            "The module is deprecated in version 0.21 and will be removed in version 0.23 since we've dropped support for Python 2.7. Please rely on the official version of six (https://pypi.org/project/six/).\n",
            "\n",
            "/usr/local/lib/python3.6/dist-packages/sklearn/utils/deprecation.py:144: FutureWarning:\n",
            "\n",
            "The sklearn.neighbors.base module is  deprecated in version 0.22 and will be removed in version 0.24. The corresponding classes / functions should instead be imported from sklearn.neighbors. Anything that cannot be imported from sklearn.neighbors is now part of the private API.\n",
            "\n"
          ],
          "name": "stderr"
        }
      ]
    },
    {
      "cell_type": "code",
      "metadata": {
        "colab": {
          "base_uri": "https://localhost:8080/",
          "height": 350
        },
        "id": "FiqrjYg2ve4j",
        "outputId": "a6fbac79-2998-4bb2-e95f-c37326edf0a9"
      },
      "source": [
        "# label encode the target variable\n",
        "y = LabelEncoder().fit_transform(y)\n",
        "# summarize distribution\n",
        "counter = Counter(y)\n",
        "for k,v in counter.items():\n",
        "\tper = v / len(y) * 100\n",
        "\tprint('Class=%d, n=%d (%.3f%%)' % (k, v, per))\n",
        "# plot the distribution\n",
        "pyplot.bar(counter.keys(), counter.values())\n",
        "pyplot.show()"
      ],
      "execution_count": null,
      "outputs": [
        {
          "output_type": "stream",
          "text": [
            "Class=0, n=22317 (63.616%)\n",
            "Class=1, n=9328 (26.590%)\n",
            "Class=4, n=1301 (3.709%)\n",
            "Class=2, n=1797 (5.122%)\n",
            "Class=3, n=338 (0.963%)\n"
          ],
          "name": "stdout"
        },
        {
          "output_type": "display_data",
          "data": {
            "image/png": "[encoded data removed]",
            "text/plain": [
              "<Figure size 432x288 with 1 Axes>"
            ]
          },
          "metadata": {
            "tags": [],
            "needs_background": "light"
          }
        }
      ]
    },
    {
      "cell_type": "code",
      "metadata": {
        "colab": {
          "base_uri": "https://localhost:8080/",
          "height": 642
        },
        "id": "FL0t6cEOvqsJ",
        "outputId": "f49d534a-d2f4-489b-ddc2-3a40606229c4"
      },
      "source": [
        "# transform the dataset\n",
        "oversample = SMOTE()\n",
        "X, y = oversample.fit_resample(X_train, y_train)\n",
        "# summarize distribution\n",
        "counter = Counter(y)\n",
        "for k,v in counter.items():\n",
        "\tper = v / len(y) * 100\n",
        "\tprint('Class=%d, n=%d (%.3f%%)' % (k, v, per))\n",
        "# plot the distribution\n",
        "pyplot.bar(counter.keys(), counter.values())\n",
        "pyplot.show()"
      ],
      "execution_count": null,
      "outputs": [
        {
          "output_type": "stream",
          "text": [
            "/usr/local/lib/python3.6/dist-packages/sklearn/utils/deprecation.py:87: FutureWarning:\n",
            "\n",
            "Function safe_indexing is deprecated; safe_indexing is deprecated in version 0.22 and will be removed in version 0.24.\n",
            "\n",
            "/usr/local/lib/python3.6/dist-packages/sklearn/utils/deprecation.py:87: FutureWarning:\n",
            "\n",
            "Function safe_indexing is deprecated; safe_indexing is deprecated in version 0.22 and will be removed in version 0.24.\n",
            "\n",
            "/usr/local/lib/python3.6/dist-packages/sklearn/utils/deprecation.py:87: FutureWarning:\n",
            "\n",
            "Function safe_indexing is deprecated; safe_indexing is deprecated in version 0.22 and will be removed in version 0.24.\n",
            "\n",
            "/usr/local/lib/python3.6/dist-packages/sklearn/utils/deprecation.py:87: FutureWarning:\n",
            "\n",
            "Function safe_indexing is deprecated; safe_indexing is deprecated in version 0.22 and will be removed in version 0.24.\n",
            "\n"
          ],
          "name": "stderr"
        },
        {
          "output_type": "stream",
          "text": [
            "Class=2, n=16766 (20.000%)\n",
            "Class=3, n=16766 (20.000%)\n",
            "Class=1, n=16766 (20.000%)\n",
            "Class=5, n=16766 (20.000%)\n",
            "Class=4, n=16766 (20.000%)\n"
          ],
          "name": "stdout"
        },
        {
          "output_type": "display_data",
          "data": {
            "image/png": "[encoded data removed]",
            "text/plain": [
              "<Figure size 432x288 with 1 Axes>"
            ]
          },
          "metadata": {
            "tags": [],
            "needs_background": "light"
          }
        }
      ]
    },
    {
      "cell_type": "code",
      "metadata": {
        "id": "C6crfvCovu7A"
      },
      "source": [
        ""
      ],
      "execution_count": null,
      "outputs": []
    },
    {
      "cell_type": "code",
      "metadata": {
        "id": "Dj5OsXfJvuww"
      },
      "source": [
        ""
      ],
      "execution_count": null,
      "outputs": []
    },
    {
      "cell_type": "markdown",
      "metadata": {
        "id": "NQtK62kIZ8XR"
      },
      "source": [
        "## Modeling for continuos values"
      ]
    },
    {
      "cell_type": "code",
      "metadata": {
        "id": "xCyJYCEEbpQA"
      },
      "source": [
        "from sklearn.metrics import r2_score"
      ],
      "execution_count": null,
      "outputs": []
    },
    {
      "cell_type": "code",
      "metadata": {
        "id": "iJp2BDgxabFX"
      },
      "source": [
        "list_bins_mean = [ -35, 30.5, 120.5, 300.5, 1060]"
      ],
      "execution_count": null,
      "outputs": []
    },
    {
      "cell_type": "markdown",
      "metadata": {
        "id": "2PTWt2WXaReh"
      },
      "source": [
        "#### Logistic Regression"
      ]
    },
    {
      "cell_type": "code",
      "metadata": {
        "id": "lUABPFYbZ6-b"
      },
      "source": [
        "from sklearn.linear_model import LogisticRegression\n",
        "\n",
        "# instantiate the model (using the default parameters)\n",
        "logreg = LogisticRegression(penalty='l1',C=3792.690190732246,solver='liblinear')\n",
        "\n",
        "# fit the model with data\n",
        "logreg.fit(X_train,y_train)\n",
        "\n",
        "\n",
        "y_pred =logreg.predict_proba(X_test)"
      ],
      "execution_count": null,
      "outputs": []
    },
    {
      "cell_type": "code",
      "metadata": {
        "id": "8mkp9X6EZ66d"
      },
      "source": [
        "y_pred_log = y_pred.dot(list_bins_mean)"
      ],
      "execution_count": null,
      "outputs": []
    },
    {
      "cell_type": "code",
      "metadata": {
        "colab": {
          "base_uri": "https://localhost:8080/"
        },
        "id": "A7VOI3zIZ62g",
        "outputId": "527749e1-a4b4-4166-ffef-e62ad1be4fa7"
      },
      "source": [
        "r2_y_pred_log = r2_score(y_test, y_pred_log, multioutput='variance_weighted')\n",
        "print( r2_y_pred_log) "
      ],
      "execution_count": null,
      "outputs": [
        {
          "output_type": "stream",
          "text": [
            "-28986.93330461265\n"
          ],
          "name": "stdout"
        }
      ]
    },
    {
      "cell_type": "markdown",
      "metadata": {
        "id": "pNonogp5dVAH"
      },
      "source": [
        "### XGBoost"
      ]
    },
    {
      "cell_type": "code",
      "metadata": {
        "id": "dNlp7PF-Z6ym"
      },
      "source": [
        "from sklearn.ensemble import GradientBoostingClassifier\n",
        "GBosst_nc = GradientBoostingClassifier(n_estimators=100, learning_rate=1.0,  \n",
        "                                 max_depth=1, random_state=0).fit(X_train, y_train)\n",
        "y_pred_G = GBosst_nc.predict_prob(X_test)"
      ],
      "execution_count": null,
      "outputs": []
    },
    {
      "cell_type": "code",
      "metadata": {
        "id": "aoV7u6mLZ6tl"
      },
      "source": [
        "y_pred_Gboost = y_y_pred_Gpred.dot(list_bins_mean)"
      ],
      "execution_count": null,
      "outputs": []
    },
    {
      "cell_type": "code",
      "metadata": {
        "id": "lq9yH4GHZ6pM"
      },
      "source": [
        "r2_y_pred_Gboost = r2_score(y_test, y_pred_Gboost, multioutput='variance_weighted')\n",
        "print( r2_y_pred_Gboost) "
      ],
      "execution_count": null,
      "outputs": []
    },
    {
      "cell_type": "markdown",
      "metadata": {
        "id": "aEAKhnUN7n3K"
      },
      "source": [
        "### Random Forest"
      ]
    },
    {
      "cell_type": "code",
      "metadata": {
        "id": "tfq5uXY0Z6kw"
      },
      "source": [
        "from sklearn.ensemble import RandomForestClassifier\n",
        "\n",
        "random_f_nc = RandomForestClassifier(n_estimators=100)\n",
        "\n",
        "random_f.fit(X_train, y_train)\n",
        "y_pred_Ran_nc = random_f.predict_proba(X_test)"
      ],
      "execution_count": null,
      "outputs": []
    },
    {
      "cell_type": "code",
      "metadata": {
        "id": "5Tdog4p2Z6gD"
      },
      "source": [
        "r2_y_pred_Gboost = r2_score(y_test, y_pred_Gboost, multioutput='variance_weighted')\n",
        "print( r2_y_pred_Gboost) "
      ],
      "execution_count": null,
      "outputs": []
    },
    {
      "cell_type": "code",
      "metadata": {
        "id": "bLUoLdQDZ6bl"
      },
      "source": [
        ""
      ],
      "execution_count": null,
      "outputs": []
    },
    {
      "cell_type": "code",
      "metadata": {
        "id": "Tb2YW4UBZ6WC"
      },
      "source": [
        ""
      ],
      "execution_count": null,
      "outputs": []
    },
    {
      "cell_type": "code",
      "metadata": {
        "id": "ZS2G9Jg5Z6QM"
      },
      "source": [
        ""
      ],
      "execution_count": null,
      "outputs": []
    },
    {
      "cell_type": "code",
      "metadata": {
        "id": "7YvNRhdqZ6MA"
      },
      "source": [
        ""
      ],
      "execution_count": null,
      "outputs": []
    },
    {
      "cell_type": "code",
      "metadata": {
        "id": "ymKpdLk2Z6HK"
      },
      "source": [
        ""
      ],
      "execution_count": null,
      "outputs": []
    },
    {
      "cell_type": "code",
      "metadata": {
        "id": "aOVtOeUNZ6DN"
      },
      "source": [
        ""
      ],
      "execution_count": null,
      "outputs": []
    },
    {
      "cell_type": "code",
      "metadata": {
        "id": "UcvEQfQ7Z5-Q"
      },
      "source": [
        ""
      ],
      "execution_count": null,
      "outputs": []
    },
    {
      "cell_type": "code",
      "metadata": {
        "id": "6BiC-gD_KP49"
      },
      "source": [
        ""
      ],
      "execution_count": null,
      "outputs": []
    },
    {
      "cell_type": "markdown",
      "metadata": {
        "id": "O39RaJv7qOjR"
      },
      "source": [
        "___\n",
        "___\n",
        "### Weather API"
      ]
    },
    {
      "cell_type": "code",
      "metadata": {
        "id": "ukEptdz-iVR4"
      },
      "source": [
        "for k in range(38,35080):\n",
        "  try:\n",
        "    file_name = df_flights_pre['dest_city_name'].iloc[k][:-4]\n",
        "    df_city_weather = pd.read_csv(f'{file_name}.csv')\n",
        "  except FileNotFoundError:\n",
        "    print(file_name)\n",
        "    k = k+1\n",
        "    continue\n",
        "  for j in range(0,1459):\n",
        "    if df_city_weather['date_time'].iloc[j][:-9] == df_flights_pre['fl_date'].iloc[k]:\n",
        "      df_flights_pre['snow'].iloc[k] = df_city_weather['totalSnow_cm'].iloc[j]\n",
        "      df_flights_pre['wind'].iloc[k] = df_city_weather['windspeedKmph'].iloc[j]\n",
        "      df_flights_pre['visibility'].iloc[k] = df_city_weather['visibility'].iloc[j]\n",
        "      df_flights_pre['rain'].iloc[k] = df_city_weather['precipMM'].iloc[j]"
      ],
      "execution_count": null,
      "outputs": []
    },
    {
      "cell_type": "code",
      "metadata": {
        "id": "yNtg-Fc3p95q"
      },
      "source": [
        "pip install wwo-hist"
      ],
      "execution_count": null,
      "outputs": []
    },
    {
      "cell_type": "code",
      "metadata": {
        "id": "khGtkJns_Zbw"
      },
      "source": [
        "# df_flights_pre\n",
        "name = df_flights_pre['dest_city_name'].str.contains('/')\n",
        "df_flights_pre_test = df_flights_pre[name]"
      ],
      "execution_count": null,
      "outputs": []
    },
    {
      "cell_type": "code",
      "metadata": {
        "id": "0Y5BdOtnuS8l"
      },
      "source": [
        "df_flights_pre_test['dest_city_name'].unique()"
      ],
      "execution_count": null,
      "outputs": []
    },
    {
      "cell_type": "code",
      "metadata": {
        "id": "Utt05V4tmLMx"
      },
      "source": [
        "\n",
        "from wwo_hist import retrieve_hist_data\n",
        "\n",
        "frequency=24\n",
        "start_date = '01-JAN-2018'\n",
        "end_date = '31-DEC-2019'\n",
        "api_key = 'fbf6f36be62d47f984463151211201'\n",
        "location_list = ['CapeGirardeau,MO']\n",
        "hist_weather_data = retrieve_hist_data(api_key,\n",
        "                                location_list,\n",
        "                                start_date,\n",
        "                                end_date,\n",
        "                                frequency,\n",
        "                                location_label = False,\n",
        "                                export_csv = False,\n",
        "                                store_df  = True)"
      ],
      "execution_count": null,
      "outputs": []
    },
    {
      "cell_type": "code",
      "metadata": {
        "id": "iJSD0CfJrJnZ"
      },
      "source": [
        "hist_weather_data[0].to_csv('Cape Girardeau.csv')"
      ],
      "execution_count": null,
      "outputs": []
    },
    {
      "cell_type": "code",
      "metadata": {
        "id": "adDZ2Ap7sGAT"
      },
      "source": [
        "name = df_flights_pre['dest_city_name'].str.contains('Tampa')\n",
        "\n",
        "df_flights_pre[name]"
      ],
      "execution_count": null,
      "outputs": []
    },
    {
      "cell_type": "code",
      "metadata": {
        "id": "wrwjmWbSiVVE"
      },
      "source": [
        ""
      ],
      "execution_count": null,
      "outputs": []
    },
    {
      "cell_type": "code",
      "metadata": {
        "id": "WvXJbI-NiVY-"
      },
      "source": [
        "df_flights_test = pd.read_csv('df_flights_test_weather_Rev4.csv')\n",
        "df_flights_test = df_flights_test.drop(columns=('Unnamed: 0'))"
      ],
      "execution_count": 62,
      "outputs": []
    },
    {
      "cell_type": "markdown",
      "metadata": {
        "id": "HXppee2h0cMy"
      },
      "source": [
        "###Previsions"
      ]
    },
    {
      "cell_type": "code",
      "metadata": {
        "colab": {
          "base_uri": "https://localhost:8080/",
          "height": 439
        },
        "id": "TEM8fLeJ19NL",
        "outputId": "5caa92ae-7043-40fc-8ac3-3ea5ae93ee1c"
      },
      "source": [
        "df_flights_test"
      ],
      "execution_count": 63,
      "outputs": [
        {
          "output_type": "execute_result",
          "data": {
            "text/html": [
              "<div>\n",
              "<style scoped>\n",
              "    .dataframe tbody tr th:only-of-type {\n",
              "        vertical-align: middle;\n",
              "    }\n",
              "\n",
              "    .dataframe tbody tr th {\n",
              "        vertical-align: top;\n",
              "    }\n",
              "\n",
              "    .dataframe thead th {\n",
              "        text-align: right;\n",
              "    }\n",
              "</style>\n",
              "<table border=\"1\" class=\"dataframe\">\n",
              "  <thead>\n",
              "    <tr style=\"text-align: right;\">\n",
              "      <th></th>\n",
              "      <th>op_unique_carrier</th>\n",
              "      <th>origin_airport_id</th>\n",
              "      <th>dest_airport_id</th>\n",
              "      <th>crs_dep_time</th>\n",
              "      <th>crs_elapsed_time</th>\n",
              "      <th>distance</th>\n",
              "      <th>month</th>\n",
              "      <th>week_day</th>\n",
              "      <th>origin_state</th>\n",
              "      <th>dest_state</th>\n",
              "      <th>rain</th>\n",
              "      <th>snow</th>\n",
              "      <th>visibility</th>\n",
              "      <th>wind</th>\n",
              "      <th>delay_average_carries</th>\n",
              "      <th>crs_arr_time</th>\n",
              "    </tr>\n",
              "  </thead>\n",
              "  <tbody>\n",
              "    <tr>\n",
              "      <th>0</th>\n",
              "      <td>4</td>\n",
              "      <td>13891</td>\n",
              "      <td>14771</td>\n",
              "      <td>18.0</td>\n",
              "      <td>95</td>\n",
              "      <td>363</td>\n",
              "      <td>1</td>\n",
              "      <td>2</td>\n",
              "      <td>8</td>\n",
              "      <td>8</td>\n",
              "      <td>0.0</td>\n",
              "      <td>0.0</td>\n",
              "      <td>10</td>\n",
              "      <td>10</td>\n",
              "      <td>4.285845</td>\n",
              "      <td>19.0</td>\n",
              "    </tr>\n",
              "    <tr>\n",
              "      <th>1</th>\n",
              "      <td>4</td>\n",
              "      <td>13891</td>\n",
              "      <td>14771</td>\n",
              "      <td>12.0</td>\n",
              "      <td>90</td>\n",
              "      <td>363</td>\n",
              "      <td>1</td>\n",
              "      <td>2</td>\n",
              "      <td>8</td>\n",
              "      <td>8</td>\n",
              "      <td>0.0</td>\n",
              "      <td>0.0</td>\n",
              "      <td>10</td>\n",
              "      <td>10</td>\n",
              "      <td>4.285845</td>\n",
              "      <td>13.0</td>\n",
              "    </tr>\n",
              "    <tr>\n",
              "      <th>2</th>\n",
              "      <td>4</td>\n",
              "      <td>13891</td>\n",
              "      <td>14831</td>\n",
              "      <td>20.0</td>\n",
              "      <td>70</td>\n",
              "      <td>333</td>\n",
              "      <td>1</td>\n",
              "      <td>2</td>\n",
              "      <td>8</td>\n",
              "      <td>8</td>\n",
              "      <td>0.0</td>\n",
              "      <td>0.0</td>\n",
              "      <td>10</td>\n",
              "      <td>18</td>\n",
              "      <td>4.285845</td>\n",
              "      <td>21.0</td>\n",
              "    </tr>\n",
              "    <tr>\n",
              "      <th>3</th>\n",
              "      <td>4</td>\n",
              "      <td>13891</td>\n",
              "      <td>14831</td>\n",
              "      <td>13.0</td>\n",
              "      <td>75</td>\n",
              "      <td>333</td>\n",
              "      <td>1</td>\n",
              "      <td>2</td>\n",
              "      <td>8</td>\n",
              "      <td>8</td>\n",
              "      <td>0.0</td>\n",
              "      <td>0.0</td>\n",
              "      <td>10</td>\n",
              "      <td>18</td>\n",
              "      <td>4.285845</td>\n",
              "      <td>15.0</td>\n",
              "    </tr>\n",
              "    <tr>\n",
              "      <th>4</th>\n",
              "      <td>4</td>\n",
              "      <td>13891</td>\n",
              "      <td>14831</td>\n",
              "      <td>9.0</td>\n",
              "      <td>80</td>\n",
              "      <td>333</td>\n",
              "      <td>1</td>\n",
              "      <td>2</td>\n",
              "      <td>8</td>\n",
              "      <td>8</td>\n",
              "      <td>0.0</td>\n",
              "      <td>0.0</td>\n",
              "      <td>10</td>\n",
              "      <td>18</td>\n",
              "      <td>4.285845</td>\n",
              "      <td>10.0</td>\n",
              "    </tr>\n",
              "    <tr>\n",
              "      <th>...</th>\n",
              "      <td>...</td>\n",
              "      <td>...</td>\n",
              "      <td>...</td>\n",
              "      <td>...</td>\n",
              "      <td>...</td>\n",
              "      <td>...</td>\n",
              "      <td>...</td>\n",
              "      <td>...</td>\n",
              "      <td>...</td>\n",
              "      <td>...</td>\n",
              "      <td>...</td>\n",
              "      <td>...</td>\n",
              "      <td>...</td>\n",
              "      <td>...</td>\n",
              "      <td>...</td>\n",
              "      <td>...</td>\n",
              "    </tr>\n",
              "    <tr>\n",
              "      <th>150618</th>\n",
              "      <td>15</td>\n",
              "      <td>11433</td>\n",
              "      <td>12478</td>\n",
              "      <td>18.0</td>\n",
              "      <td>117</td>\n",
              "      <td>509</td>\n",
              "      <td>1</td>\n",
              "      <td>1</td>\n",
              "      <td>2</td>\n",
              "      <td>3</td>\n",
              "      <td>0.2</td>\n",
              "      <td>0.0</td>\n",
              "      <td>7</td>\n",
              "      <td>12</td>\n",
              "      <td>4.489633</td>\n",
              "      <td>20.0</td>\n",
              "    </tr>\n",
              "    <tr>\n",
              "      <th>150619</th>\n",
              "      <td>15</td>\n",
              "      <td>11996</td>\n",
              "      <td>12953</td>\n",
              "      <td>6.0</td>\n",
              "      <td>119</td>\n",
              "      <td>610</td>\n",
              "      <td>1</td>\n",
              "      <td>1</td>\n",
              "      <td>6</td>\n",
              "      <td>3</td>\n",
              "      <td>0.2</td>\n",
              "      <td>0.0</td>\n",
              "      <td>7</td>\n",
              "      <td>12</td>\n",
              "      <td>4.489633</td>\n",
              "      <td>8.0</td>\n",
              "    </tr>\n",
              "    <tr>\n",
              "      <th>150620</th>\n",
              "      <td>15</td>\n",
              "      <td>10397</td>\n",
              "      <td>15919</td>\n",
              "      <td>17.0</td>\n",
              "      <td>121</td>\n",
              "      <td>589</td>\n",
              "      <td>1</td>\n",
              "      <td>1</td>\n",
              "      <td>6</td>\n",
              "      <td>5</td>\n",
              "      <td>2.8</td>\n",
              "      <td>0.0</td>\n",
              "      <td>10</td>\n",
              "      <td>15</td>\n",
              "      <td>4.489633</td>\n",
              "      <td>18.0</td>\n",
              "    </tr>\n",
              "    <tr>\n",
              "      <th>150621</th>\n",
              "      <td>15</td>\n",
              "      <td>15919</td>\n",
              "      <td>10397</td>\n",
              "      <td>19.0</td>\n",
              "      <td>114</td>\n",
              "      <td>589</td>\n",
              "      <td>1</td>\n",
              "      <td>1</td>\n",
              "      <td>5</td>\n",
              "      <td>6</td>\n",
              "      <td>0.5</td>\n",
              "      <td>0.0</td>\n",
              "      <td>10</td>\n",
              "      <td>18</td>\n",
              "      <td>4.489633</td>\n",
              "      <td>21.0</td>\n",
              "    </tr>\n",
              "    <tr>\n",
              "      <th>150622</th>\n",
              "      <td>15</td>\n",
              "      <td>14321</td>\n",
              "      <td>12953</td>\n",
              "      <td>6.0</td>\n",
              "      <td>101</td>\n",
              "      <td>269</td>\n",
              "      <td>1</td>\n",
              "      <td>1</td>\n",
              "      <td>3</td>\n",
              "      <td>3</td>\n",
              "      <td>0.2</td>\n",
              "      <td>0.0</td>\n",
              "      <td>7</td>\n",
              "      <td>12</td>\n",
              "      <td>4.489633</td>\n",
              "      <td>7.0</td>\n",
              "    </tr>\n",
              "  </tbody>\n",
              "</table>\n",
              "<p>150623 rows × 16 columns</p>\n",
              "</div>"
            ],
            "text/plain": [
              "        op_unique_carrier  ...  crs_arr_time\n",
              "0                       4  ...          19.0\n",
              "1                       4  ...          13.0\n",
              "2                       4  ...          21.0\n",
              "3                       4  ...          15.0\n",
              "4                       4  ...          10.0\n",
              "...                   ...  ...           ...\n",
              "150618                 15  ...          20.0\n",
              "150619                 15  ...           8.0\n",
              "150620                 15  ...          18.0\n",
              "150621                 15  ...          21.0\n",
              "150622                 15  ...           7.0\n",
              "\n",
              "[150623 rows x 16 columns]"
            ]
          },
          "metadata": {
            "tags": []
          },
          "execution_count": 63
        }
      ]
    },
    {
      "cell_type": "code",
      "metadata": {
        "id": "JHqPUqe42d4i"
      },
      "source": [
        "df_flights_test_final = pd.read_csv('df_flights_test_jan_7_featured.csv')\n",
        "df_flights_test_final = df_flights_test_final.drop(columns=('Unnamed: 0'))"
      ],
      "execution_count": 64,
      "outputs": []
    },
    {
      "cell_type": "code",
      "metadata": {
        "colab": {
          "base_uri": "https://localhost:8080/",
          "height": 609
        },
        "id": "l7J0hhmW2vkE",
        "outputId": "cef419e0-fc11-4a19-d1b3-b17abd9cbedf"
      },
      "source": [
        "df_flights_test_final"
      ],
      "execution_count": 65,
      "outputs": [
        {
          "output_type": "execute_result",
          "data": {
            "text/html": [
              "<div>\n",
              "<style scoped>\n",
              "    .dataframe tbody tr th:only-of-type {\n",
              "        vertical-align: middle;\n",
              "    }\n",
              "\n",
              "    .dataframe tbody tr th {\n",
              "        vertical-align: top;\n",
              "    }\n",
              "\n",
              "    .dataframe thead th {\n",
              "        text-align: right;\n",
              "    }\n",
              "</style>\n",
              "<table border=\"1\" class=\"dataframe\">\n",
              "  <thead>\n",
              "    <tr style=\"text-align: right;\">\n",
              "      <th></th>\n",
              "      <th>fl_date</th>\n",
              "      <th>op_unique_carrier</th>\n",
              "      <th>origin_airport_id</th>\n",
              "      <th>origin</th>\n",
              "      <th>origin_city_name</th>\n",
              "      <th>dest_airport_id</th>\n",
              "      <th>dest</th>\n",
              "      <th>dest_city_name</th>\n",
              "      <th>crs_dep_time</th>\n",
              "      <th>crs_elapsed_time</th>\n",
              "      <th>distance</th>\n",
              "      <th>month</th>\n",
              "      <th>week_day</th>\n",
              "      <th>origin_state</th>\n",
              "      <th>dest_state</th>\n",
              "    </tr>\n",
              "  </thead>\n",
              "  <tbody>\n",
              "    <tr>\n",
              "      <th>0</th>\n",
              "      <td>2020-01-01</td>\n",
              "      <td>WN</td>\n",
              "      <td>13891</td>\n",
              "      <td>ONT</td>\n",
              "      <td>Ontario, CA</td>\n",
              "      <td>14771</td>\n",
              "      <td>SFO</td>\n",
              "      <td>San Francisco, CA</td>\n",
              "      <td>18.0</td>\n",
              "      <td>95</td>\n",
              "      <td>363</td>\n",
              "      <td>1</td>\n",
              "      <td>2</td>\n",
              "      <td>8</td>\n",
              "      <td>8</td>\n",
              "    </tr>\n",
              "    <tr>\n",
              "      <th>1</th>\n",
              "      <td>2020-01-01</td>\n",
              "      <td>WN</td>\n",
              "      <td>13891</td>\n",
              "      <td>ONT</td>\n",
              "      <td>Ontario, CA</td>\n",
              "      <td>14771</td>\n",
              "      <td>SFO</td>\n",
              "      <td>San Francisco, CA</td>\n",
              "      <td>12.0</td>\n",
              "      <td>90</td>\n",
              "      <td>363</td>\n",
              "      <td>1</td>\n",
              "      <td>2</td>\n",
              "      <td>8</td>\n",
              "      <td>8</td>\n",
              "    </tr>\n",
              "    <tr>\n",
              "      <th>2</th>\n",
              "      <td>2020-01-01</td>\n",
              "      <td>WN</td>\n",
              "      <td>13891</td>\n",
              "      <td>ONT</td>\n",
              "      <td>Ontario, CA</td>\n",
              "      <td>14831</td>\n",
              "      <td>SJC</td>\n",
              "      <td>San Jose, CA</td>\n",
              "      <td>20.0</td>\n",
              "      <td>70</td>\n",
              "      <td>333</td>\n",
              "      <td>1</td>\n",
              "      <td>2</td>\n",
              "      <td>8</td>\n",
              "      <td>8</td>\n",
              "    </tr>\n",
              "    <tr>\n",
              "      <th>3</th>\n",
              "      <td>2020-01-01</td>\n",
              "      <td>WN</td>\n",
              "      <td>13891</td>\n",
              "      <td>ONT</td>\n",
              "      <td>Ontario, CA</td>\n",
              "      <td>14831</td>\n",
              "      <td>SJC</td>\n",
              "      <td>San Jose, CA</td>\n",
              "      <td>13.0</td>\n",
              "      <td>75</td>\n",
              "      <td>333</td>\n",
              "      <td>1</td>\n",
              "      <td>2</td>\n",
              "      <td>8</td>\n",
              "      <td>8</td>\n",
              "    </tr>\n",
              "    <tr>\n",
              "      <th>4</th>\n",
              "      <td>2020-01-01</td>\n",
              "      <td>WN</td>\n",
              "      <td>13891</td>\n",
              "      <td>ONT</td>\n",
              "      <td>Ontario, CA</td>\n",
              "      <td>14831</td>\n",
              "      <td>SJC</td>\n",
              "      <td>San Jose, CA</td>\n",
              "      <td>9.0</td>\n",
              "      <td>80</td>\n",
              "      <td>333</td>\n",
              "      <td>1</td>\n",
              "      <td>2</td>\n",
              "      <td>8</td>\n",
              "      <td>8</td>\n",
              "    </tr>\n",
              "    <tr>\n",
              "      <th>...</th>\n",
              "      <td>...</td>\n",
              "      <td>...</td>\n",
              "      <td>...</td>\n",
              "      <td>...</td>\n",
              "      <td>...</td>\n",
              "      <td>...</td>\n",
              "      <td>...</td>\n",
              "      <td>...</td>\n",
              "      <td>...</td>\n",
              "      <td>...</td>\n",
              "      <td>...</td>\n",
              "      <td>...</td>\n",
              "      <td>...</td>\n",
              "      <td>...</td>\n",
              "      <td>...</td>\n",
              "    </tr>\n",
              "    <tr>\n",
              "      <th>150618</th>\n",
              "      <td>2020-01-07</td>\n",
              "      <td>9E</td>\n",
              "      <td>11433</td>\n",
              "      <td>DTW</td>\n",
              "      <td>Detroit, MI</td>\n",
              "      <td>12478</td>\n",
              "      <td>JFK</td>\n",
              "      <td>New York, NY</td>\n",
              "      <td>18.0</td>\n",
              "      <td>117</td>\n",
              "      <td>509</td>\n",
              "      <td>1</td>\n",
              "      <td>1</td>\n",
              "      <td>2</td>\n",
              "      <td>3</td>\n",
              "    </tr>\n",
              "    <tr>\n",
              "      <th>150619</th>\n",
              "      <td>2020-01-07</td>\n",
              "      <td>9E</td>\n",
              "      <td>11996</td>\n",
              "      <td>GSP</td>\n",
              "      <td>Greer, SC</td>\n",
              "      <td>12953</td>\n",
              "      <td>LGA</td>\n",
              "      <td>New York, NY</td>\n",
              "      <td>6.0</td>\n",
              "      <td>119</td>\n",
              "      <td>610</td>\n",
              "      <td>1</td>\n",
              "      <td>1</td>\n",
              "      <td>6</td>\n",
              "      <td>3</td>\n",
              "    </tr>\n",
              "    <tr>\n",
              "      <th>150620</th>\n",
              "      <td>2020-01-07</td>\n",
              "      <td>9E</td>\n",
              "      <td>10397</td>\n",
              "      <td>ATL</td>\n",
              "      <td>Atlanta, GA</td>\n",
              "      <td>15919</td>\n",
              "      <td>XNA</td>\n",
              "      <td>Fayetteville, AR</td>\n",
              "      <td>17.0</td>\n",
              "      <td>121</td>\n",
              "      <td>589</td>\n",
              "      <td>1</td>\n",
              "      <td>1</td>\n",
              "      <td>6</td>\n",
              "      <td>5</td>\n",
              "    </tr>\n",
              "    <tr>\n",
              "      <th>150621</th>\n",
              "      <td>2020-01-07</td>\n",
              "      <td>9E</td>\n",
              "      <td>15919</td>\n",
              "      <td>XNA</td>\n",
              "      <td>Fayetteville, AR</td>\n",
              "      <td>10397</td>\n",
              "      <td>ATL</td>\n",
              "      <td>Atlanta, GA</td>\n",
              "      <td>19.0</td>\n",
              "      <td>114</td>\n",
              "      <td>589</td>\n",
              "      <td>1</td>\n",
              "      <td>1</td>\n",
              "      <td>5</td>\n",
              "      <td>6</td>\n",
              "    </tr>\n",
              "    <tr>\n",
              "      <th>150622</th>\n",
              "      <td>2020-01-07</td>\n",
              "      <td>9E</td>\n",
              "      <td>14321</td>\n",
              "      <td>PWM</td>\n",
              "      <td>Portland, ME</td>\n",
              "      <td>12953</td>\n",
              "      <td>LGA</td>\n",
              "      <td>New York, NY</td>\n",
              "      <td>6.0</td>\n",
              "      <td>101</td>\n",
              "      <td>269</td>\n",
              "      <td>1</td>\n",
              "      <td>1</td>\n",
              "      <td>3</td>\n",
              "      <td>3</td>\n",
              "    </tr>\n",
              "  </tbody>\n",
              "</table>\n",
              "<p>150623 rows × 15 columns</p>\n",
              "</div>"
            ],
            "text/plain": [
              "           fl_date op_unique_carrier  ...  origin_state dest_state\n",
              "0       2020-01-01                WN  ...             8          8\n",
              "1       2020-01-01                WN  ...             8          8\n",
              "2       2020-01-01                WN  ...             8          8\n",
              "3       2020-01-01                WN  ...             8          8\n",
              "4       2020-01-01                WN  ...             8          8\n",
              "...            ...               ...  ...           ...        ...\n",
              "150618  2020-01-07                9E  ...             2          3\n",
              "150619  2020-01-07                9E  ...             6          3\n",
              "150620  2020-01-07                9E  ...             6          5\n",
              "150621  2020-01-07                9E  ...             5          6\n",
              "150622  2020-01-07                9E  ...             3          3\n",
              "\n",
              "[150623 rows x 15 columns]"
            ]
          },
          "metadata": {
            "tags": []
          },
          "execution_count": 65
        }
      ]
    },
    {
      "cell_type": "markdown",
      "metadata": {
        "id": "To2CBvn4-RCV"
      },
      "source": [
        ""
      ]
    },
    {
      "cell_type": "code",
      "metadata": {
        "id": "JN57bBJLM8vA"
      },
      "source": [
        "df_pred  = pd.read_csv('final_pred.csv')\n",
        "df_pred = df_pred.drop(columns=('Unnamed: 0'))"
      ],
      "execution_count": 66,
      "outputs": []
    },
    {
      "cell_type": "code",
      "metadata": {
        "colab": {
          "base_uri": "https://localhost:8080/",
          "height": 419
        },
        "id": "fjBErn7qM8rh",
        "outputId": "d847bb19-df54-49fb-8ebc-7c9a9b0e51f0"
      },
      "source": [
        "df_pred"
      ],
      "execution_count": 28,
      "outputs": [
        {
          "output_type": "execute_result",
          "data": {
            "text/html": [
              "<div>\n",
              "<style scoped>\n",
              "    .dataframe tbody tr th:only-of-type {\n",
              "        vertical-align: middle;\n",
              "    }\n",
              "\n",
              "    .dataframe tbody tr th {\n",
              "        vertical-align: top;\n",
              "    }\n",
              "\n",
              "    .dataframe thead th {\n",
              "        text-align: right;\n",
              "    }\n",
              "</style>\n",
              "<table border=\"1\" class=\"dataframe\">\n",
              "  <thead>\n",
              "    <tr style=\"text-align: right;\">\n",
              "      <th></th>\n",
              "      <th>0</th>\n",
              "    </tr>\n",
              "  </thead>\n",
              "  <tbody>\n",
              "    <tr>\n",
              "      <th>0</th>\n",
              "      <td>0.340384</td>\n",
              "    </tr>\n",
              "    <tr>\n",
              "      <th>1</th>\n",
              "      <td>-11.823826</td>\n",
              "    </tr>\n",
              "    <tr>\n",
              "      <th>2</th>\n",
              "      <td>1.148412</td>\n",
              "    </tr>\n",
              "    <tr>\n",
              "      <th>3</th>\n",
              "      <td>-2.429248</td>\n",
              "    </tr>\n",
              "    <tr>\n",
              "      <th>4</th>\n",
              "      <td>-11.148761</td>\n",
              "    </tr>\n",
              "    <tr>\n",
              "      <th>...</th>\n",
              "      <td>...</td>\n",
              "    </tr>\n",
              "    <tr>\n",
              "      <th>95208</th>\n",
              "      <td>-17.088016</td>\n",
              "    </tr>\n",
              "    <tr>\n",
              "      <th>95209</th>\n",
              "      <td>4.632367</td>\n",
              "    </tr>\n",
              "    <tr>\n",
              "      <th>95210</th>\n",
              "      <td>-8.400677</td>\n",
              "    </tr>\n",
              "    <tr>\n",
              "      <th>95211</th>\n",
              "      <td>-16.089737</td>\n",
              "    </tr>\n",
              "    <tr>\n",
              "      <th>95212</th>\n",
              "      <td>-6.589515</td>\n",
              "    </tr>\n",
              "  </tbody>\n",
              "</table>\n",
              "<p>95213 rows × 1 columns</p>\n",
              "</div>"
            ],
            "text/plain": [
              "               0\n",
              "0       0.340384\n",
              "1     -11.823826\n",
              "2       1.148412\n",
              "3      -2.429248\n",
              "4     -11.148761\n",
              "...          ...\n",
              "95208 -17.088016\n",
              "95209   4.632367\n",
              "95210  -8.400677\n",
              "95211 -16.089737\n",
              "95212  -6.589515\n",
              "\n",
              "[95213 rows x 1 columns]"
            ]
          },
          "metadata": {
            "tags": []
          },
          "execution_count": 28
        }
      ]
    },
    {
      "cell_type": "code",
      "metadata": {
        "id": "EaTvzpaGM8ny"
      },
      "source": [
        "final_list = pd.merge(df_flights_test_final, df_pred, left_index=True, right_index=True, how=\"left\")"
      ],
      "execution_count": 77,
      "outputs": []
    },
    {
      "cell_type": "code",
      "metadata": {
        "id": "Y66Wc_FEM8j8"
      },
      "source": [
        "final_list = final_list.rename(columns=({'0': 'predicted_delay'}))\n",
        "\n"
      ],
      "execution_count": 78,
      "outputs": []
    },
    {
      "cell_type": "code",
      "metadata": {
        "colab": {
          "base_uri": "https://localhost:8080/",
          "height": 609
        },
        "id": "91XBgnUt-XO6",
        "outputId": "8b73dac8-f452-4807-8621-10ba0ba5df9b"
      },
      "source": [
        "final_list"
      ],
      "execution_count": 79,
      "outputs": [
        {
          "output_type": "execute_result",
          "data": {
            "text/html": [
              "<div>\n",
              "<style scoped>\n",
              "    .dataframe tbody tr th:only-of-type {\n",
              "        vertical-align: middle;\n",
              "    }\n",
              "\n",
              "    .dataframe tbody tr th {\n",
              "        vertical-align: top;\n",
              "    }\n",
              "\n",
              "    .dataframe thead th {\n",
              "        text-align: right;\n",
              "    }\n",
              "</style>\n",
              "<table border=\"1\" class=\"dataframe\">\n",
              "  <thead>\n",
              "    <tr style=\"text-align: right;\">\n",
              "      <th></th>\n",
              "      <th>fl_date</th>\n",
              "      <th>op_unique_carrier</th>\n",
              "      <th>origin_airport_id</th>\n",
              "      <th>origin</th>\n",
              "      <th>origin_city_name</th>\n",
              "      <th>dest_airport_id</th>\n",
              "      <th>dest</th>\n",
              "      <th>dest_city_name</th>\n",
              "      <th>crs_dep_time</th>\n",
              "      <th>crs_elapsed_time</th>\n",
              "      <th>distance</th>\n",
              "      <th>month</th>\n",
              "      <th>week_day</th>\n",
              "      <th>origin_state</th>\n",
              "      <th>dest_state</th>\n",
              "      <th>predicted_delay</th>\n",
              "    </tr>\n",
              "  </thead>\n",
              "  <tbody>\n",
              "    <tr>\n",
              "      <th>0</th>\n",
              "      <td>2020-01-01</td>\n",
              "      <td>WN</td>\n",
              "      <td>13891</td>\n",
              "      <td>ONT</td>\n",
              "      <td>Ontario, CA</td>\n",
              "      <td>14771</td>\n",
              "      <td>SFO</td>\n",
              "      <td>San Francisco, CA</td>\n",
              "      <td>18.0</td>\n",
              "      <td>95</td>\n",
              "      <td>363</td>\n",
              "      <td>1</td>\n",
              "      <td>2</td>\n",
              "      <td>8</td>\n",
              "      <td>8</td>\n",
              "      <td>0.340384</td>\n",
              "    </tr>\n",
              "    <tr>\n",
              "      <th>1</th>\n",
              "      <td>2020-01-01</td>\n",
              "      <td>WN</td>\n",
              "      <td>13891</td>\n",
              "      <td>ONT</td>\n",
              "      <td>Ontario, CA</td>\n",
              "      <td>14771</td>\n",
              "      <td>SFO</td>\n",
              "      <td>San Francisco, CA</td>\n",
              "      <td>12.0</td>\n",
              "      <td>90</td>\n",
              "      <td>363</td>\n",
              "      <td>1</td>\n",
              "      <td>2</td>\n",
              "      <td>8</td>\n",
              "      <td>8</td>\n",
              "      <td>-11.823826</td>\n",
              "    </tr>\n",
              "    <tr>\n",
              "      <th>2</th>\n",
              "      <td>2020-01-01</td>\n",
              "      <td>WN</td>\n",
              "      <td>13891</td>\n",
              "      <td>ONT</td>\n",
              "      <td>Ontario, CA</td>\n",
              "      <td>14831</td>\n",
              "      <td>SJC</td>\n",
              "      <td>San Jose, CA</td>\n",
              "      <td>20.0</td>\n",
              "      <td>70</td>\n",
              "      <td>333</td>\n",
              "      <td>1</td>\n",
              "      <td>2</td>\n",
              "      <td>8</td>\n",
              "      <td>8</td>\n",
              "      <td>1.148412</td>\n",
              "    </tr>\n",
              "    <tr>\n",
              "      <th>3</th>\n",
              "      <td>2020-01-01</td>\n",
              "      <td>WN</td>\n",
              "      <td>13891</td>\n",
              "      <td>ONT</td>\n",
              "      <td>Ontario, CA</td>\n",
              "      <td>14831</td>\n",
              "      <td>SJC</td>\n",
              "      <td>San Jose, CA</td>\n",
              "      <td>13.0</td>\n",
              "      <td>75</td>\n",
              "      <td>333</td>\n",
              "      <td>1</td>\n",
              "      <td>2</td>\n",
              "      <td>8</td>\n",
              "      <td>8</td>\n",
              "      <td>-2.429248</td>\n",
              "    </tr>\n",
              "    <tr>\n",
              "      <th>4</th>\n",
              "      <td>2020-01-01</td>\n",
              "      <td>WN</td>\n",
              "      <td>13891</td>\n",
              "      <td>ONT</td>\n",
              "      <td>Ontario, CA</td>\n",
              "      <td>14831</td>\n",
              "      <td>SJC</td>\n",
              "      <td>San Jose, CA</td>\n",
              "      <td>9.0</td>\n",
              "      <td>80</td>\n",
              "      <td>333</td>\n",
              "      <td>1</td>\n",
              "      <td>2</td>\n",
              "      <td>8</td>\n",
              "      <td>8</td>\n",
              "      <td>-11.148761</td>\n",
              "    </tr>\n",
              "    <tr>\n",
              "      <th>...</th>\n",
              "      <td>...</td>\n",
              "      <td>...</td>\n",
              "      <td>...</td>\n",
              "      <td>...</td>\n",
              "      <td>...</td>\n",
              "      <td>...</td>\n",
              "      <td>...</td>\n",
              "      <td>...</td>\n",
              "      <td>...</td>\n",
              "      <td>...</td>\n",
              "      <td>...</td>\n",
              "      <td>...</td>\n",
              "      <td>...</td>\n",
              "      <td>...</td>\n",
              "      <td>...</td>\n",
              "      <td>...</td>\n",
              "    </tr>\n",
              "    <tr>\n",
              "      <th>150618</th>\n",
              "      <td>2020-01-07</td>\n",
              "      <td>9E</td>\n",
              "      <td>11433</td>\n",
              "      <td>DTW</td>\n",
              "      <td>Detroit, MI</td>\n",
              "      <td>12478</td>\n",
              "      <td>JFK</td>\n",
              "      <td>New York, NY</td>\n",
              "      <td>18.0</td>\n",
              "      <td>117</td>\n",
              "      <td>509</td>\n",
              "      <td>1</td>\n",
              "      <td>1</td>\n",
              "      <td>2</td>\n",
              "      <td>3</td>\n",
              "      <td>NaN</td>\n",
              "    </tr>\n",
              "    <tr>\n",
              "      <th>150619</th>\n",
              "      <td>2020-01-07</td>\n",
              "      <td>9E</td>\n",
              "      <td>11996</td>\n",
              "      <td>GSP</td>\n",
              "      <td>Greer, SC</td>\n",
              "      <td>12953</td>\n",
              "      <td>LGA</td>\n",
              "      <td>New York, NY</td>\n",
              "      <td>6.0</td>\n",
              "      <td>119</td>\n",
              "      <td>610</td>\n",
              "      <td>1</td>\n",
              "      <td>1</td>\n",
              "      <td>6</td>\n",
              "      <td>3</td>\n",
              "      <td>NaN</td>\n",
              "    </tr>\n",
              "    <tr>\n",
              "      <th>150620</th>\n",
              "      <td>2020-01-07</td>\n",
              "      <td>9E</td>\n",
              "      <td>10397</td>\n",
              "      <td>ATL</td>\n",
              "      <td>Atlanta, GA</td>\n",
              "      <td>15919</td>\n",
              "      <td>XNA</td>\n",
              "      <td>Fayetteville, AR</td>\n",
              "      <td>17.0</td>\n",
              "      <td>121</td>\n",
              "      <td>589</td>\n",
              "      <td>1</td>\n",
              "      <td>1</td>\n",
              "      <td>6</td>\n",
              "      <td>5</td>\n",
              "      <td>NaN</td>\n",
              "    </tr>\n",
              "    <tr>\n",
              "      <th>150621</th>\n",
              "      <td>2020-01-07</td>\n",
              "      <td>9E</td>\n",
              "      <td>15919</td>\n",
              "      <td>XNA</td>\n",
              "      <td>Fayetteville, AR</td>\n",
              "      <td>10397</td>\n",
              "      <td>ATL</td>\n",
              "      <td>Atlanta, GA</td>\n",
              "      <td>19.0</td>\n",
              "      <td>114</td>\n",
              "      <td>589</td>\n",
              "      <td>1</td>\n",
              "      <td>1</td>\n",
              "      <td>5</td>\n",
              "      <td>6</td>\n",
              "      <td>NaN</td>\n",
              "    </tr>\n",
              "    <tr>\n",
              "      <th>150622</th>\n",
              "      <td>2020-01-07</td>\n",
              "      <td>9E</td>\n",
              "      <td>14321</td>\n",
              "      <td>PWM</td>\n",
              "      <td>Portland, ME</td>\n",
              "      <td>12953</td>\n",
              "      <td>LGA</td>\n",
              "      <td>New York, NY</td>\n",
              "      <td>6.0</td>\n",
              "      <td>101</td>\n",
              "      <td>269</td>\n",
              "      <td>1</td>\n",
              "      <td>1</td>\n",
              "      <td>3</td>\n",
              "      <td>3</td>\n",
              "      <td>NaN</td>\n",
              "    </tr>\n",
              "  </tbody>\n",
              "</table>\n",
              "<p>150623 rows × 16 columns</p>\n",
              "</div>"
            ],
            "text/plain": [
              "           fl_date op_unique_carrier  ...  dest_state predicted_delay\n",
              "0       2020-01-01                WN  ...           8        0.340384\n",
              "1       2020-01-01                WN  ...           8      -11.823826\n",
              "2       2020-01-01                WN  ...           8        1.148412\n",
              "3       2020-01-01                WN  ...           8       -2.429248\n",
              "4       2020-01-01                WN  ...           8      -11.148761\n",
              "...            ...               ...  ...         ...             ...\n",
              "150618  2020-01-07                9E  ...           3             NaN\n",
              "150619  2020-01-07                9E  ...           3             NaN\n",
              "150620  2020-01-07                9E  ...           5             NaN\n",
              "150621  2020-01-07                9E  ...           6             NaN\n",
              "150622  2020-01-07                9E  ...           3             NaN\n",
              "\n",
              "[150623 rows x 16 columns]"
            ]
          },
          "metadata": {
            "tags": []
          },
          "execution_count": 79
        }
      ]
    },
    {
      "cell_type": "code",
      "metadata": {
        "colab": {
          "base_uri": "https://localhost:8080/"
        },
        "id": "2QlB2tt8-bAD",
        "outputId": "59945a89-86e4-4cae-e908-5187663df4e0"
      },
      "source": [
        "mkt_carrier_fl_num"
      ],
      "execution_count": 80,
      "outputs": [
        {
          "output_type": "execute_result",
          "data": {
            "text/plain": [
              "0         5888\n",
              "1         6276\n",
              "2         4598\n",
              "3         4761\n",
              "4         5162\n",
              "          ... \n",
              "150618    4813\n",
              "150619    4814\n",
              "150620    4815\n",
              "150621    4815\n",
              "150622    4816\n",
              "Name: mkt_carrier_fl_num, Length: 150623, dtype: int64"
            ]
          },
          "metadata": {
            "tags": []
          },
          "execution_count": 80
        }
      ]
    },
    {
      "cell_type": "code",
      "metadata": {
        "id": "ETe7vIkG69rB"
      },
      "source": [
        "final_list_sub = pd.merge(final_list, mkt_carrier_fl_num, left_index=True, right_index=True)\n"
      ],
      "execution_count": 81,
      "outputs": []
    },
    {
      "cell_type": "code",
      "metadata": {
        "id": "Vn3oE0o09E-Y"
      },
      "source": [
        "final_list_sub = final_list_sub[['fl_date','op_unique_carrier','mkt_carrier_fl_num','origin','dest','predicted_delay']]"
      ],
      "execution_count": 82,
      "outputs": []
    },
    {
      "cell_type": "code",
      "metadata": {
        "id": "XrrOlWje-4c7"
      },
      "source": [
        "# Filling the null values\n",
        "final_list_sub[\"predicted_delay\"] = final_list_sub[\"predicted_delay\"].fillna(final_list_sub[\"predicted_delay\"].median())\n"
      ],
      "execution_count": 83,
      "outputs": []
    },
    {
      "cell_type": "markdown",
      "metadata": {
        "id": "a1HhtIOx_fpM"
      },
      "source": [
        "Final List"
      ]
    },
    {
      "cell_type": "code",
      "metadata": {
        "id": "9PCiXXrD-18d"
      },
      "source": [
        "final_list_sub = final_list_sub.set_index('fl_date')"
      ],
      "execution_count": 85,
      "outputs": []
    },
    {
      "cell_type": "code",
      "metadata": {
        "colab": {
          "base_uri": "https://localhost:8080/",
          "height": 450
        },
        "id": "ZZdZojj7_JgX",
        "outputId": "b47f6a61-48a1-4e4c-b0ea-bafa5307ce32"
      },
      "source": [
        "final_list_sub"
      ],
      "execution_count": 86,
      "outputs": [
        {
          "output_type": "execute_result",
          "data": {
            "text/html": [
              "<div>\n",
              "<style scoped>\n",
              "    .dataframe tbody tr th:only-of-type {\n",
              "        vertical-align: middle;\n",
              "    }\n",
              "\n",
              "    .dataframe tbody tr th {\n",
              "        vertical-align: top;\n",
              "    }\n",
              "\n",
              "    .dataframe thead th {\n",
              "        text-align: right;\n",
              "    }\n",
              "</style>\n",
              "<table border=\"1\" class=\"dataframe\">\n",
              "  <thead>\n",
              "    <tr style=\"text-align: right;\">\n",
              "      <th></th>\n",
              "      <th>op_unique_carrier</th>\n",
              "      <th>mkt_carrier_fl_num</th>\n",
              "      <th>origin</th>\n",
              "      <th>dest</th>\n",
              "      <th>predicted_delay</th>\n",
              "    </tr>\n",
              "    <tr>\n",
              "      <th>fl_date</th>\n",
              "      <th></th>\n",
              "      <th></th>\n",
              "      <th></th>\n",
              "      <th></th>\n",
              "      <th></th>\n",
              "    </tr>\n",
              "  </thead>\n",
              "  <tbody>\n",
              "    <tr>\n",
              "      <th>2020-01-01</th>\n",
              "      <td>WN</td>\n",
              "      <td>5888</td>\n",
              "      <td>ONT</td>\n",
              "      <td>SFO</td>\n",
              "      <td>0.340384</td>\n",
              "    </tr>\n",
              "    <tr>\n",
              "      <th>2020-01-01</th>\n",
              "      <td>WN</td>\n",
              "      <td>6276</td>\n",
              "      <td>ONT</td>\n",
              "      <td>SFO</td>\n",
              "      <td>-11.823826</td>\n",
              "    </tr>\n",
              "    <tr>\n",
              "      <th>2020-01-01</th>\n",
              "      <td>WN</td>\n",
              "      <td>4598</td>\n",
              "      <td>ONT</td>\n",
              "      <td>SJC</td>\n",
              "      <td>1.148412</td>\n",
              "    </tr>\n",
              "    <tr>\n",
              "      <th>2020-01-01</th>\n",
              "      <td>WN</td>\n",
              "      <td>4761</td>\n",
              "      <td>ONT</td>\n",
              "      <td>SJC</td>\n",
              "      <td>-2.429248</td>\n",
              "    </tr>\n",
              "    <tr>\n",
              "      <th>2020-01-01</th>\n",
              "      <td>WN</td>\n",
              "      <td>5162</td>\n",
              "      <td>ONT</td>\n",
              "      <td>SJC</td>\n",
              "      <td>-11.148761</td>\n",
              "    </tr>\n",
              "    <tr>\n",
              "      <th>...</th>\n",
              "      <td>...</td>\n",
              "      <td>...</td>\n",
              "      <td>...</td>\n",
              "      <td>...</td>\n",
              "      <td>...</td>\n",
              "    </tr>\n",
              "    <tr>\n",
              "      <th>2020-01-07</th>\n",
              "      <td>9E</td>\n",
              "      <td>4813</td>\n",
              "      <td>DTW</td>\n",
              "      <td>JFK</td>\n",
              "      <td>-3.917438</td>\n",
              "    </tr>\n",
              "    <tr>\n",
              "      <th>2020-01-07</th>\n",
              "      <td>9E</td>\n",
              "      <td>4814</td>\n",
              "      <td>GSP</td>\n",
              "      <td>LGA</td>\n",
              "      <td>-3.917438</td>\n",
              "    </tr>\n",
              "    <tr>\n",
              "      <th>2020-01-07</th>\n",
              "      <td>9E</td>\n",
              "      <td>4815</td>\n",
              "      <td>ATL</td>\n",
              "      <td>XNA</td>\n",
              "      <td>-3.917438</td>\n",
              "    </tr>\n",
              "    <tr>\n",
              "      <th>2020-01-07</th>\n",
              "      <td>9E</td>\n",
              "      <td>4815</td>\n",
              "      <td>XNA</td>\n",
              "      <td>ATL</td>\n",
              "      <td>-3.917438</td>\n",
              "    </tr>\n",
              "    <tr>\n",
              "      <th>2020-01-07</th>\n",
              "      <td>9E</td>\n",
              "      <td>4816</td>\n",
              "      <td>PWM</td>\n",
              "      <td>LGA</td>\n",
              "      <td>-3.917438</td>\n",
              "    </tr>\n",
              "  </tbody>\n",
              "</table>\n",
              "<p>150623 rows × 5 columns</p>\n",
              "</div>"
            ],
            "text/plain": [
              "           op_unique_carrier  mkt_carrier_fl_num origin dest  predicted_delay\n",
              "fl_date                                                                      \n",
              "2020-01-01                WN                5888    ONT  SFO         0.340384\n",
              "2020-01-01                WN                6276    ONT  SFO       -11.823826\n",
              "2020-01-01                WN                4598    ONT  SJC         1.148412\n",
              "2020-01-01                WN                4761    ONT  SJC        -2.429248\n",
              "2020-01-01                WN                5162    ONT  SJC       -11.148761\n",
              "...                      ...                 ...    ...  ...              ...\n",
              "2020-01-07                9E                4813    DTW  JFK        -3.917438\n",
              "2020-01-07                9E                4814    GSP  LGA        -3.917438\n",
              "2020-01-07                9E                4815    ATL  XNA        -3.917438\n",
              "2020-01-07                9E                4815    XNA  ATL        -3.917438\n",
              "2020-01-07                9E                4816    PWM  LGA        -3.917438\n",
              "\n",
              "[150623 rows x 5 columns]"
            ]
          },
          "metadata": {
            "tags": []
          },
          "execution_count": 86
        }
      ]
    },
    {
      "cell_type": "code",
      "metadata": {
        "id": "v_M9EOil_Jcp"
      },
      "source": [
        "final_list_sub.to_csv('submission.csv')"
      ],
      "execution_count": 87,
      "outputs": []
    },
    {
      "cell_type": "code",
      "metadata": {
        "id": "R7orHf4a_JX5"
      },
      "source": [
        ""
      ],
      "execution_count": null,
      "outputs": []
    },
    {
      "cell_type": "code",
      "metadata": {
        "id": "lPQ45tNQ_JUV"
      },
      "source": [
        ""
      ],
      "execution_count": null,
      "outputs": []
    },
    {
      "cell_type": "code",
      "metadata": {
        "id": "vsxwO_5h_JQs"
      },
      "source": [
        ""
      ],
      "execution_count": null,
      "outputs": []
    },
    {
      "cell_type": "code",
      "metadata": {
        "id": "reFOaBHm_JM4"
      },
      "source": [
        ""
      ],
      "execution_count": null,
      "outputs": []
    },
    {
      "cell_type": "code",
      "metadata": {
        "id": "BtrS-ZloM8gI"
      },
      "source": [
        "test_1 = df_pred  = pd.read_csv('df_flights_test_weather_Rev4.csv')\n",
        "test_1 = test_1.drop(columns=('Unnamed: 0'))"
      ],
      "execution_count": 40,
      "outputs": []
    },
    {
      "cell_type": "code",
      "metadata": {
        "colab": {
          "base_uri": "https://localhost:8080/",
          "height": 439
        },
        "id": "gY3N2Eq5M8cq",
        "outputId": "f1cb378c-f377-4d3f-e347-3007a85a63d8"
      },
      "source": [
        "test_1"
      ],
      "execution_count": 41,
      "outputs": [
        {
          "output_type": "execute_result",
          "data": {
            "text/html": [
              "<div>\n",
              "<style scoped>\n",
              "    .dataframe tbody tr th:only-of-type {\n",
              "        vertical-align: middle;\n",
              "    }\n",
              "\n",
              "    .dataframe tbody tr th {\n",
              "        vertical-align: top;\n",
              "    }\n",
              "\n",
              "    .dataframe thead th {\n",
              "        text-align: right;\n",
              "    }\n",
              "</style>\n",
              "<table border=\"1\" class=\"dataframe\">\n",
              "  <thead>\n",
              "    <tr style=\"text-align: right;\">\n",
              "      <th></th>\n",
              "      <th>op_unique_carrier</th>\n",
              "      <th>origin_airport_id</th>\n",
              "      <th>dest_airport_id</th>\n",
              "      <th>crs_dep_time</th>\n",
              "      <th>crs_elapsed_time</th>\n",
              "      <th>distance</th>\n",
              "      <th>month</th>\n",
              "      <th>week_day</th>\n",
              "      <th>origin_state</th>\n",
              "      <th>dest_state</th>\n",
              "      <th>rain</th>\n",
              "      <th>snow</th>\n",
              "      <th>visibility</th>\n",
              "      <th>wind</th>\n",
              "      <th>delay_average_carries</th>\n",
              "      <th>crs_arr_time</th>\n",
              "    </tr>\n",
              "  </thead>\n",
              "  <tbody>\n",
              "    <tr>\n",
              "      <th>0</th>\n",
              "      <td>4</td>\n",
              "      <td>13891</td>\n",
              "      <td>14771</td>\n",
              "      <td>18.0</td>\n",
              "      <td>95</td>\n",
              "      <td>363</td>\n",
              "      <td>1</td>\n",
              "      <td>2</td>\n",
              "      <td>8</td>\n",
              "      <td>8</td>\n",
              "      <td>0.0</td>\n",
              "      <td>0.0</td>\n",
              "      <td>10</td>\n",
              "      <td>10</td>\n",
              "      <td>4.285845</td>\n",
              "      <td>19.0</td>\n",
              "    </tr>\n",
              "    <tr>\n",
              "      <th>1</th>\n",
              "      <td>4</td>\n",
              "      <td>13891</td>\n",
              "      <td>14771</td>\n",
              "      <td>12.0</td>\n",
              "      <td>90</td>\n",
              "      <td>363</td>\n",
              "      <td>1</td>\n",
              "      <td>2</td>\n",
              "      <td>8</td>\n",
              "      <td>8</td>\n",
              "      <td>0.0</td>\n",
              "      <td>0.0</td>\n",
              "      <td>10</td>\n",
              "      <td>10</td>\n",
              "      <td>4.285845</td>\n",
              "      <td>13.0</td>\n",
              "    </tr>\n",
              "    <tr>\n",
              "      <th>2</th>\n",
              "      <td>4</td>\n",
              "      <td>13891</td>\n",
              "      <td>14831</td>\n",
              "      <td>20.0</td>\n",
              "      <td>70</td>\n",
              "      <td>333</td>\n",
              "      <td>1</td>\n",
              "      <td>2</td>\n",
              "      <td>8</td>\n",
              "      <td>8</td>\n",
              "      <td>0.0</td>\n",
              "      <td>0.0</td>\n",
              "      <td>10</td>\n",
              "      <td>18</td>\n",
              "      <td>4.285845</td>\n",
              "      <td>21.0</td>\n",
              "    </tr>\n",
              "    <tr>\n",
              "      <th>3</th>\n",
              "      <td>4</td>\n",
              "      <td>13891</td>\n",
              "      <td>14831</td>\n",
              "      <td>13.0</td>\n",
              "      <td>75</td>\n",
              "      <td>333</td>\n",
              "      <td>1</td>\n",
              "      <td>2</td>\n",
              "      <td>8</td>\n",
              "      <td>8</td>\n",
              "      <td>0.0</td>\n",
              "      <td>0.0</td>\n",
              "      <td>10</td>\n",
              "      <td>18</td>\n",
              "      <td>4.285845</td>\n",
              "      <td>15.0</td>\n",
              "    </tr>\n",
              "    <tr>\n",
              "      <th>4</th>\n",
              "      <td>4</td>\n",
              "      <td>13891</td>\n",
              "      <td>14831</td>\n",
              "      <td>9.0</td>\n",
              "      <td>80</td>\n",
              "      <td>333</td>\n",
              "      <td>1</td>\n",
              "      <td>2</td>\n",
              "      <td>8</td>\n",
              "      <td>8</td>\n",
              "      <td>0.0</td>\n",
              "      <td>0.0</td>\n",
              "      <td>10</td>\n",
              "      <td>18</td>\n",
              "      <td>4.285845</td>\n",
              "      <td>10.0</td>\n",
              "    </tr>\n",
              "    <tr>\n",
              "      <th>...</th>\n",
              "      <td>...</td>\n",
              "      <td>...</td>\n",
              "      <td>...</td>\n",
              "      <td>...</td>\n",
              "      <td>...</td>\n",
              "      <td>...</td>\n",
              "      <td>...</td>\n",
              "      <td>...</td>\n",
              "      <td>...</td>\n",
              "      <td>...</td>\n",
              "      <td>...</td>\n",
              "      <td>...</td>\n",
              "      <td>...</td>\n",
              "      <td>...</td>\n",
              "      <td>...</td>\n",
              "      <td>...</td>\n",
              "    </tr>\n",
              "    <tr>\n",
              "      <th>150618</th>\n",
              "      <td>15</td>\n",
              "      <td>11433</td>\n",
              "      <td>12478</td>\n",
              "      <td>18.0</td>\n",
              "      <td>117</td>\n",
              "      <td>509</td>\n",
              "      <td>1</td>\n",
              "      <td>1</td>\n",
              "      <td>2</td>\n",
              "      <td>3</td>\n",
              "      <td>0.2</td>\n",
              "      <td>0.0</td>\n",
              "      <td>7</td>\n",
              "      <td>12</td>\n",
              "      <td>4.489633</td>\n",
              "      <td>20.0</td>\n",
              "    </tr>\n",
              "    <tr>\n",
              "      <th>150619</th>\n",
              "      <td>15</td>\n",
              "      <td>11996</td>\n",
              "      <td>12953</td>\n",
              "      <td>6.0</td>\n",
              "      <td>119</td>\n",
              "      <td>610</td>\n",
              "      <td>1</td>\n",
              "      <td>1</td>\n",
              "      <td>6</td>\n",
              "      <td>3</td>\n",
              "      <td>0.2</td>\n",
              "      <td>0.0</td>\n",
              "      <td>7</td>\n",
              "      <td>12</td>\n",
              "      <td>4.489633</td>\n",
              "      <td>8.0</td>\n",
              "    </tr>\n",
              "    <tr>\n",
              "      <th>150620</th>\n",
              "      <td>15</td>\n",
              "      <td>10397</td>\n",
              "      <td>15919</td>\n",
              "      <td>17.0</td>\n",
              "      <td>121</td>\n",
              "      <td>589</td>\n",
              "      <td>1</td>\n",
              "      <td>1</td>\n",
              "      <td>6</td>\n",
              "      <td>5</td>\n",
              "      <td>2.8</td>\n",
              "      <td>0.0</td>\n",
              "      <td>10</td>\n",
              "      <td>15</td>\n",
              "      <td>4.489633</td>\n",
              "      <td>18.0</td>\n",
              "    </tr>\n",
              "    <tr>\n",
              "      <th>150621</th>\n",
              "      <td>15</td>\n",
              "      <td>15919</td>\n",
              "      <td>10397</td>\n",
              "      <td>19.0</td>\n",
              "      <td>114</td>\n",
              "      <td>589</td>\n",
              "      <td>1</td>\n",
              "      <td>1</td>\n",
              "      <td>5</td>\n",
              "      <td>6</td>\n",
              "      <td>0.5</td>\n",
              "      <td>0.0</td>\n",
              "      <td>10</td>\n",
              "      <td>18</td>\n",
              "      <td>4.489633</td>\n",
              "      <td>21.0</td>\n",
              "    </tr>\n",
              "    <tr>\n",
              "      <th>150622</th>\n",
              "      <td>15</td>\n",
              "      <td>14321</td>\n",
              "      <td>12953</td>\n",
              "      <td>6.0</td>\n",
              "      <td>101</td>\n",
              "      <td>269</td>\n",
              "      <td>1</td>\n",
              "      <td>1</td>\n",
              "      <td>3</td>\n",
              "      <td>3</td>\n",
              "      <td>0.2</td>\n",
              "      <td>0.0</td>\n",
              "      <td>7</td>\n",
              "      <td>12</td>\n",
              "      <td>4.489633</td>\n",
              "      <td>7.0</td>\n",
              "    </tr>\n",
              "  </tbody>\n",
              "</table>\n",
              "<p>150623 rows × 16 columns</p>\n",
              "</div>"
            ],
            "text/plain": [
              "        op_unique_carrier  ...  crs_arr_time\n",
              "0                       4  ...          19.0\n",
              "1                       4  ...          13.0\n",
              "2                       4  ...          21.0\n",
              "3                       4  ...          15.0\n",
              "4                       4  ...          10.0\n",
              "...                   ...  ...           ...\n",
              "150618                 15  ...          20.0\n",
              "150619                 15  ...           8.0\n",
              "150620                 15  ...          18.0\n",
              "150621                 15  ...          21.0\n",
              "150622                 15  ...           7.0\n",
              "\n",
              "[150623 rows x 16 columns]"
            ]
          },
          "metadata": {
            "tags": []
          },
          "execution_count": 41
        }
      ]
    },
    {
      "cell_type": "code",
      "metadata": {
        "id": "6nD5FJ5sM8Xo"
      },
      "source": [
        "test_2 = df_pred  = pd.read_csv('df_flights_module_Final_Rev_4 -slack(1).csv')\n",
        "test_2 = test_2.drop(columns=('Unnamed: 0'))"
      ],
      "execution_count": 43,
      "outputs": []
    },
    {
      "cell_type": "code",
      "metadata": {
        "colab": {
          "base_uri": "https://localhost:8080/",
          "height": 439
        },
        "id": "sEhYAqcYM8Tf",
        "outputId": "658607dc-e456-460c-fab7-0fddabd21617"
      },
      "source": [
        "test_2"
      ],
      "execution_count": 44,
      "outputs": [
        {
          "output_type": "execute_result",
          "data": {
            "text/html": [
              "<div>\n",
              "<style scoped>\n",
              "    .dataframe tbody tr th:only-of-type {\n",
              "        vertical-align: middle;\n",
              "    }\n",
              "\n",
              "    .dataframe tbody tr th {\n",
              "        vertical-align: top;\n",
              "    }\n",
              "\n",
              "    .dataframe thead th {\n",
              "        text-align: right;\n",
              "    }\n",
              "</style>\n",
              "<table border=\"1\" class=\"dataframe\">\n",
              "  <thead>\n",
              "    <tr style=\"text-align: right;\">\n",
              "      <th></th>\n",
              "      <th>op_unique_carrier</th>\n",
              "      <th>origin_airport_id</th>\n",
              "      <th>dest_airport_id</th>\n",
              "      <th>dep_time</th>\n",
              "      <th>arr_time</th>\n",
              "      <th>distance</th>\n",
              "      <th>rain</th>\n",
              "      <th>snow</th>\n",
              "      <th>visibility</th>\n",
              "      <th>wind</th>\n",
              "      <th>month</th>\n",
              "      <th>week_day</th>\n",
              "      <th>delay_average_carries</th>\n",
              "      <th>origin_state</th>\n",
              "      <th>dest_state</th>\n",
              "      <th>flight_delayed</th>\n",
              "    </tr>\n",
              "  </thead>\n",
              "  <tbody>\n",
              "    <tr>\n",
              "      <th>0</th>\n",
              "      <td>1</td>\n",
              "      <td>10397</td>\n",
              "      <td>15304</td>\n",
              "      <td>8.0</td>\n",
              "      <td>10.0</td>\n",
              "      <td>406.0</td>\n",
              "      <td>10.00000</td>\n",
              "      <td>0.000000</td>\n",
              "      <td>9.000000</td>\n",
              "      <td>10.00000</td>\n",
              "      <td>7</td>\n",
              "      <td>0</td>\n",
              "      <td>0.686165</td>\n",
              "      <td>6</td>\n",
              "      <td>6</td>\n",
              "      <td>1</td>\n",
              "    </tr>\n",
              "    <tr>\n",
              "      <th>1</th>\n",
              "      <td>1</td>\n",
              "      <td>10397</td>\n",
              "      <td>10423</td>\n",
              "      <td>13.0</td>\n",
              "      <td>14.0</td>\n",
              "      <td>813.0</td>\n",
              "      <td>12.00000</td>\n",
              "      <td>0.000000</td>\n",
              "      <td>10.000000</td>\n",
              "      <td>12.00000</td>\n",
              "      <td>6</td>\n",
              "      <td>3</td>\n",
              "      <td>0.686165</td>\n",
              "      <td>6</td>\n",
              "      <td>5</td>\n",
              "      <td>1</td>\n",
              "    </tr>\n",
              "    <tr>\n",
              "      <th>2</th>\n",
              "      <td>2</td>\n",
              "      <td>10693</td>\n",
              "      <td>11057</td>\n",
              "      <td>14.0</td>\n",
              "      <td>17.0</td>\n",
              "      <td>328.0</td>\n",
              "      <td>5.00000</td>\n",
              "      <td>0.000000</td>\n",
              "      <td>10.000000</td>\n",
              "      <td>5.00000</td>\n",
              "      <td>11</td>\n",
              "      <td>5</td>\n",
              "      <td>2.621795</td>\n",
              "      <td>1</td>\n",
              "      <td>6</td>\n",
              "      <td>1</td>\n",
              "    </tr>\n",
              "    <tr>\n",
              "      <th>3</th>\n",
              "      <td>3</td>\n",
              "      <td>12264</td>\n",
              "      <td>12892</td>\n",
              "      <td>17.0</td>\n",
              "      <td>19.0</td>\n",
              "      <td>2288.0</td>\n",
              "      <td>5.00000</td>\n",
              "      <td>0.000000</td>\n",
              "      <td>10.000000</td>\n",
              "      <td>5.00000</td>\n",
              "      <td>12</td>\n",
              "      <td>5</td>\n",
              "      <td>4.988605</td>\n",
              "      <td>6</td>\n",
              "      <td>8</td>\n",
              "      <td>1</td>\n",
              "    </tr>\n",
              "    <tr>\n",
              "      <th>4</th>\n",
              "      <td>4</td>\n",
              "      <td>10693</td>\n",
              "      <td>10397</td>\n",
              "      <td>13.0</td>\n",
              "      <td>15.0</td>\n",
              "      <td>214.0</td>\n",
              "      <td>14.00000</td>\n",
              "      <td>0.000000</td>\n",
              "      <td>10.000000</td>\n",
              "      <td>14.00000</td>\n",
              "      <td>3</td>\n",
              "      <td>2</td>\n",
              "      <td>4.285845</td>\n",
              "      <td>1</td>\n",
              "      <td>6</td>\n",
              "      <td>1</td>\n",
              "    </tr>\n",
              "    <tr>\n",
              "      <th>...</th>\n",
              "      <td>...</td>\n",
              "      <td>...</td>\n",
              "      <td>...</td>\n",
              "      <td>...</td>\n",
              "      <td>...</td>\n",
              "      <td>...</td>\n",
              "      <td>...</td>\n",
              "      <td>...</td>\n",
              "      <td>...</td>\n",
              "      <td>...</td>\n",
              "      <td>...</td>\n",
              "      <td>...</td>\n",
              "      <td>...</td>\n",
              "      <td>...</td>\n",
              "      <td>...</td>\n",
              "      <td>...</td>\n",
              "    </tr>\n",
              "    <tr>\n",
              "      <th>35076</th>\n",
              "      <td>12</td>\n",
              "      <td>13495</td>\n",
              "      <td>11298</td>\n",
              "      <td>12.0</td>\n",
              "      <td>14.0</td>\n",
              "      <td>447.0</td>\n",
              "      <td>6.00000</td>\n",
              "      <td>0.000000</td>\n",
              "      <td>10.000000</td>\n",
              "      <td>6.00000</td>\n",
              "      <td>10</td>\n",
              "      <td>1</td>\n",
              "      <td>5.468287</td>\n",
              "      <td>5</td>\n",
              "      <td>5</td>\n",
              "      <td>1</td>\n",
              "    </tr>\n",
              "    <tr>\n",
              "      <th>35077</th>\n",
              "      <td>6</td>\n",
              "      <td>14747</td>\n",
              "      <td>11259</td>\n",
              "      <td>11.0</td>\n",
              "      <td>18.0</td>\n",
              "      <td>1670.0</td>\n",
              "      <td>8.00000</td>\n",
              "      <td>0.000000</td>\n",
              "      <td>10.000000</td>\n",
              "      <td>8.00000</td>\n",
              "      <td>6</td>\n",
              "      <td>6</td>\n",
              "      <td>11.327017</td>\n",
              "      <td>4</td>\n",
              "      <td>5</td>\n",
              "      <td>2</td>\n",
              "    </tr>\n",
              "    <tr>\n",
              "      <th>35078</th>\n",
              "      <td>12</td>\n",
              "      <td>11057</td>\n",
              "      <td>13930</td>\n",
              "      <td>7.0</td>\n",
              "      <td>9.0</td>\n",
              "      <td>599.0</td>\n",
              "      <td>23.00000</td>\n",
              "      <td>2.700000</td>\n",
              "      <td>3.000000</td>\n",
              "      <td>23.00000</td>\n",
              "      <td>12</td>\n",
              "      <td>6</td>\n",
              "      <td>5.468287</td>\n",
              "      <td>6</td>\n",
              "      <td>1</td>\n",
              "      <td>2</td>\n",
              "    </tr>\n",
              "    <tr>\n",
              "      <th>35079</th>\n",
              "      <td>1</td>\n",
              "      <td>10397</td>\n",
              "      <td>14683</td>\n",
              "      <td>11.0</td>\n",
              "      <td>12.0</td>\n",
              "      <td>874.0</td>\n",
              "      <td>34.00000</td>\n",
              "      <td>0.000000</td>\n",
              "      <td>10.000000</td>\n",
              "      <td>34.00000</td>\n",
              "      <td>5</td>\n",
              "      <td>5</td>\n",
              "      <td>0.686165</td>\n",
              "      <td>6</td>\n",
              "      <td>5</td>\n",
              "      <td>1</td>\n",
              "    </tr>\n",
              "    <tr>\n",
              "      <th>35080</th>\n",
              "      <td>17</td>\n",
              "      <td>11540</td>\n",
              "      <td>11292</td>\n",
              "      <td>12.0</td>\n",
              "      <td>14.0</td>\n",
              "      <td>563.0</td>\n",
              "      <td>11.28095</td>\n",
              "      <td>0.074796</td>\n",
              "      <td>10.284464</td>\n",
              "      <td>11.28095</td>\n",
              "      <td>12</td>\n",
              "      <td>0</td>\n",
              "      <td>9.131183</td>\n",
              "      <td>5</td>\n",
              "      <td>7</td>\n",
              "      <td>1</td>\n",
              "    </tr>\n",
              "  </tbody>\n",
              "</table>\n",
              "<p>35081 rows × 16 columns</p>\n",
              "</div>"
            ],
            "text/plain": [
              "       op_unique_carrier  origin_airport_id  ...  dest_state  flight_delayed\n",
              "0                      1              10397  ...           6               1\n",
              "1                      1              10397  ...           5               1\n",
              "2                      2              10693  ...           6               1\n",
              "3                      3              12264  ...           8               1\n",
              "4                      4              10693  ...           6               1\n",
              "...                  ...                ...  ...         ...             ...\n",
              "35076                 12              13495  ...           5               1\n",
              "35077                  6              14747  ...           5               2\n",
              "35078                 12              11057  ...           1               2\n",
              "35079                  1              10397  ...           5               1\n",
              "35080                 17              11540  ...           7               1\n",
              "\n",
              "[35081 rows x 16 columns]"
            ]
          },
          "metadata": {
            "tags": []
          },
          "execution_count": 44
        }
      ]
    },
    {
      "cell_type": "code",
      "metadata": {
        "id": "otjDpWeG5Kpf"
      },
      "source": [
        "test_3 = df_pred  = pd.read_csv('df_flights_test_jan_7_slack.csv')\n",
        "test_3 = test_3.drop(columns=('Unnamed: 0'))"
      ],
      "execution_count": 45,
      "outputs": []
    },
    {
      "cell_type": "code",
      "metadata": {
        "id": "-AXnprqt5Klq"
      },
      "source": [
        "mkt_carrier_fl_num = test_3['mkt_carrier_fl_num']"
      ],
      "execution_count": 55,
      "outputs": []
    },
    {
      "cell_type": "code",
      "metadata": {
        "id": "aNvjkmSY5Kho"
      },
      "source": [
        ""
      ],
      "execution_count": null,
      "outputs": []
    },
    {
      "cell_type": "code",
      "metadata": {
        "id": "IXtiQcGc5KdH"
      },
      "source": [
        ""
      ],
      "execution_count": null,
      "outputs": []
    },
    {
      "cell_type": "code",
      "metadata": {
        "id": "6TX4zmyWM8MV"
      },
      "source": [
        ""
      ],
      "execution_count": null,
      "outputs": []
    }
  ]
}