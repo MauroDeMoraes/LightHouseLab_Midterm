{
  "nbformat": 4,
  "nbformat_minor": 0,
  "metadata": {
    "colab": {
      "name": "Data_Exploration.ipynb",
      "provenance": [],
      "collapsed_sections": [],
      "authorship_tag": "ABX9TyNc5CTCy896eZYpsoZwgWl/",
      "include_colab_link": true
    },
    "kernelspec": {
      "name": "python3",
      "display_name": "Python 3"
    },
    "accelerator": "TPU"
  },
  "cells": [
    {
      "cell_type": "markdown",
      "metadata": {
        "id": "view-in-github",
        "colab_type": "text"
      },
      "source": [
        "<a href=\"https://colab.research.google.com/github/MauroDeMoraes/LightHouseLab_Midterm/blob/main/Data_Exploration.ipynb\" target=\"_parent\"><img src=\"https://colab.research.google.com/assets/colab-badge.svg\" alt=\"Open In Colab\"/></a>"
      ]
    },
    {
      "cell_type": "code",
      "metadata": {
        "id": "SeS4Nw64M0Lf"
      },
      "source": [
        ""
      ],
      "execution_count": 276,
      "outputs": []
    },
    {
      "cell_type": "code",
      "metadata": {
        "id": "BIW_ppoIWVDY"
      },
      "source": [
        "import pandas as pd\n",
        "import plotly.express as px\n",
        "from sklearn.decomposition import PCA\n",
        "import numpy as np\n",
        "import matplotlib.pyplot as plt\n",
        "import seaborn as sns\n"
      ],
      "execution_count": 277,
      "outputs": []
    },
    {
      "cell_type": "code",
      "metadata": {
        "colab": {
          "base_uri": "https://localhost:8080/"
        },
        "id": "eaV7XeqWJQxZ",
        "outputId": "c858a27e-7f0f-42ba-b703-84cd607f7516"
      },
      "source": [
        "pip install psycopg2-binary"
      ],
      "execution_count": 278,
      "outputs": [
        {
          "output_type": "stream",
          "text": [
            "Requirement already satisfied: psycopg2-binary in /usr/local/lib/python3.6/dist-packages (2.8.6)\n"
          ],
          "name": "stdout"
        }
      ]
    },
    {
      "cell_type": "code",
      "metadata": {
        "id": "DE5QAuxWWaT3"
      },
      "source": [
        "import psycopg2\n",
        "con= psycopg2.connect(database='mid_term_project', user='lhl_student',password='lhl_student',\\\n",
        "                      host='mid-term-project.ca2jkepgjpne.us-east-2.rds.amazonaws.com',port='5432')"
      ],
      "execution_count": 279,
      "outputs": []
    },
    {
      "cell_type": "code",
      "metadata": {
        "id": "f3nGw5swXh4t"
      },
      "source": [
        ""
      ],
      "execution_count": 279,
      "outputs": []
    },
    {
      "cell_type": "markdown",
      "metadata": {
        "id": "PAL23HpCXkMQ"
      },
      "source": [
        "## Exploratory Data Analysis\n",
        "\n",
        "Use this notebook to get familiar with the datasets we have. There is 10 questions we need to answer during the EDA.\n",
        "\n",
        "\n",
        "We shouldn't limit our EDA to these 10 questions. Let's be creative :)."
      ]
    },
    {
      "cell_type": "code",
      "metadata": {
        "id": "Zu8iANByWfgl"
      },
      "source": [
        "df_fuel_consumption = pd.read_sql_query(\"\"\"SELECT * FROM fuel_comsumption;\"\"\",con)"
      ],
      "execution_count": 280,
      "outputs": []
    },
    {
      "cell_type": "code",
      "metadata": {
        "colab": {
          "base_uri": "https://localhost:8080/",
          "height": 343
        },
        "id": "7eBewuoEW8U4",
        "outputId": "9df3693f-bcaa-4b8e-d216-7d521e1ef4d1"
      },
      "source": [
        "df_fuel_consumption.head()"
      ],
      "execution_count": 281,
      "outputs": [
        {
          "output_type": "execute_result",
          "data": {
            "text/html": [
              "<div>\n",
              "<style scoped>\n",
              "    .dataframe tbody tr th:only-of-type {\n",
              "        vertical-align: middle;\n",
              "    }\n",
              "\n",
              "    .dataframe tbody tr th {\n",
              "        vertical-align: top;\n",
              "    }\n",
              "\n",
              "    .dataframe thead th {\n",
              "        text-align: right;\n",
              "    }\n",
              "</style>\n",
              "<table border=\"1\" class=\"dataframe\">\n",
              "  <thead>\n",
              "    <tr style=\"text-align: right;\">\n",
              "      <th></th>\n",
              "      <th>month</th>\n",
              "      <th>airline_id</th>\n",
              "      <th>unique_carrier</th>\n",
              "      <th>carrier</th>\n",
              "      <th>carrier_name</th>\n",
              "      <th>carrier_group_new</th>\n",
              "      <th>sdomt_gallons</th>\n",
              "      <th>satl_gallons</th>\n",
              "      <th>spac_gallons</th>\n",
              "      <th>slat_gallons</th>\n",
              "      <th>sint_gallons</th>\n",
              "      <th>ts_gallons</th>\n",
              "      <th>tdomt_gallons</th>\n",
              "      <th>tint_gallons</th>\n",
              "      <th>total_gallons</th>\n",
              "      <th>sdomt_cost</th>\n",
              "      <th>satl_cost</th>\n",
              "      <th>spac_cost</th>\n",
              "      <th>slat_cost</th>\n",
              "      <th>sint_cost</th>\n",
              "      <th>ts_cost</th>\n",
              "      <th>tdomt_cost</th>\n",
              "      <th>tint_cost</th>\n",
              "      <th>total_cost</th>\n",
              "      <th>year</th>\n",
              "    </tr>\n",
              "  </thead>\n",
              "  <tbody>\n",
              "    <tr>\n",
              "      <th>0</th>\n",
              "      <td>1</td>\n",
              "      <td>NaN</td>\n",
              "      <td>None</td>\n",
              "      <td>0JQ</td>\n",
              "      <td>None</td>\n",
              "      <td>1</td>\n",
              "      <td>0.0</td>\n",
              "      <td>0.0</td>\n",
              "      <td>0.0</td>\n",
              "      <td>0.0</td>\n",
              "      <td>0.0</td>\n",
              "      <td>0.0</td>\n",
              "      <td>3000.0</td>\n",
              "      <td>0.0</td>\n",
              "      <td>3000.0</td>\n",
              "      <td>0.0</td>\n",
              "      <td>0.0</td>\n",
              "      <td>0.0</td>\n",
              "      <td>0.0</td>\n",
              "      <td>0.0</td>\n",
              "      <td>0.0</td>\n",
              "      <td>5100.0</td>\n",
              "      <td>0.0</td>\n",
              "      <td>5100.0</td>\n",
              "      <td>2016</td>\n",
              "    </tr>\n",
              "    <tr>\n",
              "      <th>1</th>\n",
              "      <td>1</td>\n",
              "      <td>21352.0</td>\n",
              "      <td>0WQ</td>\n",
              "      <td>0WQ</td>\n",
              "      <td>Avjet Corporation</td>\n",
              "      <td>1</td>\n",
              "      <td>0.0</td>\n",
              "      <td>0.0</td>\n",
              "      <td>0.0</td>\n",
              "      <td>0.0</td>\n",
              "      <td>0.0</td>\n",
              "      <td>0.0</td>\n",
              "      <td>163052.0</td>\n",
              "      <td>47060.0</td>\n",
              "      <td>210112.0</td>\n",
              "      <td>0.0</td>\n",
              "      <td>0.0</td>\n",
              "      <td>0.0</td>\n",
              "      <td>0.0</td>\n",
              "      <td>0.0</td>\n",
              "      <td>0.0</td>\n",
              "      <td>396216.0</td>\n",
              "      <td>140239.0</td>\n",
              "      <td>536455.0</td>\n",
              "      <td>2016</td>\n",
              "    </tr>\n",
              "    <tr>\n",
              "      <th>2</th>\n",
              "      <td>1</td>\n",
              "      <td>21645.0</td>\n",
              "      <td>23Q</td>\n",
              "      <td>23Q</td>\n",
              "      <td>Songbird Airways Inc.</td>\n",
              "      <td>1</td>\n",
              "      <td>0.0</td>\n",
              "      <td>0.0</td>\n",
              "      <td>0.0</td>\n",
              "      <td>0.0</td>\n",
              "      <td>0.0</td>\n",
              "      <td>0.0</td>\n",
              "      <td>0.0</td>\n",
              "      <td>0.0</td>\n",
              "      <td>0.0</td>\n",
              "      <td>0.0</td>\n",
              "      <td>0.0</td>\n",
              "      <td>0.0</td>\n",
              "      <td>0.0</td>\n",
              "      <td>0.0</td>\n",
              "      <td>0.0</td>\n",
              "      <td>0.0</td>\n",
              "      <td>0.0</td>\n",
              "      <td>0.0</td>\n",
              "      <td>2016</td>\n",
              "    </tr>\n",
              "    <tr>\n",
              "      <th>3</th>\n",
              "      <td>1</td>\n",
              "      <td>21652.0</td>\n",
              "      <td>27Q</td>\n",
              "      <td>27Q</td>\n",
              "      <td>Jet Aviation Flight Services, Inc.</td>\n",
              "      <td>1</td>\n",
              "      <td>0.0</td>\n",
              "      <td>0.0</td>\n",
              "      <td>0.0</td>\n",
              "      <td>0.0</td>\n",
              "      <td>0.0</td>\n",
              "      <td>0.0</td>\n",
              "      <td>0.0</td>\n",
              "      <td>0.0</td>\n",
              "      <td>0.0</td>\n",
              "      <td>0.0</td>\n",
              "      <td>0.0</td>\n",
              "      <td>0.0</td>\n",
              "      <td>0.0</td>\n",
              "      <td>0.0</td>\n",
              "      <td>0.0</td>\n",
              "      <td>0.0</td>\n",
              "      <td>0.0</td>\n",
              "      <td>0.0</td>\n",
              "      <td>2016</td>\n",
              "    </tr>\n",
              "    <tr>\n",
              "      <th>4</th>\n",
              "      <td>1</td>\n",
              "      <td>20408.0</td>\n",
              "      <td>5V</td>\n",
              "      <td>5V</td>\n",
              "      <td>Tatonduk Outfitters Limited d/b/a Everts Air A...</td>\n",
              "      <td>1</td>\n",
              "      <td>260848.0</td>\n",
              "      <td>0.0</td>\n",
              "      <td>0.0</td>\n",
              "      <td>0.0</td>\n",
              "      <td>0.0</td>\n",
              "      <td>260848.0</td>\n",
              "      <td>284362.0</td>\n",
              "      <td>0.0</td>\n",
              "      <td>284362.0</td>\n",
              "      <td>522405.0</td>\n",
              "      <td>0.0</td>\n",
              "      <td>0.0</td>\n",
              "      <td>0.0</td>\n",
              "      <td>0.0</td>\n",
              "      <td>522405.0</td>\n",
              "      <td>569497.0</td>\n",
              "      <td>0.0</td>\n",
              "      <td>569497.0</td>\n",
              "      <td>2016</td>\n",
              "    </tr>\n",
              "  </tbody>\n",
              "</table>\n",
              "</div>"
            ],
            "text/plain": [
              "   month  airline_id unique_carrier  ... tint_cost total_cost  year\n",
              "0      1         NaN           None  ...       0.0     5100.0  2016\n",
              "1      1     21352.0            0WQ  ...  140239.0   536455.0  2016\n",
              "2      1     21645.0            23Q  ...       0.0        0.0  2016\n",
              "3      1     21652.0            27Q  ...       0.0        0.0  2016\n",
              "4      1     20408.0             5V  ...       0.0   569497.0  2016\n",
              "\n",
              "[5 rows x 25 columns]"
            ]
          },
          "metadata": {
            "tags": []
          },
          "execution_count": 281
        }
      ]
    },
    {
      "cell_type": "code",
      "metadata": {
        "colab": {
          "base_uri": "https://localhost:8080/",
          "height": 17
        },
        "id": "Vcb7fYlzvJKe",
        "outputId": "52c51487-6676-49f6-cc5c-11d96c8dec37"
      },
      "source": [
        "from google.colab import files\n",
        "df_fuel_consumption.to_csv('df_fuel_consumption.csv') \n",
        "files.download('df_fuel_consumption.csv')\n"
      ],
      "execution_count": 397,
      "outputs": [
        {
          "output_type": "display_data",
          "data": {
            "application/javascript": [
              "\n",
              "    async function download(id, filename, size) {\n",
              "      if (!google.colab.kernel.accessAllowed) {\n",
              "        return;\n",
              "      }\n",
              "      const div = document.createElement('div');\n",
              "      const label = document.createElement('label');\n",
              "      label.textContent = `Downloading \"${filename}\": `;\n",
              "      div.appendChild(label);\n",
              "      const progress = document.createElement('progress');\n",
              "      progress.max = size;\n",
              "      div.appendChild(progress);\n",
              "      document.body.appendChild(div);\n",
              "\n",
              "      const buffers = [];\n",
              "      let downloaded = 0;\n",
              "\n",
              "      const channel = await google.colab.kernel.comms.open(id);\n",
              "      // Send a message to notify the kernel that we're ready.\n",
              "      channel.send({})\n",
              "\n",
              "      for await (const message of channel.messages) {\n",
              "        // Send a message to notify the kernel that we're ready.\n",
              "        channel.send({})\n",
              "        if (message.buffers) {\n",
              "          for (const buffer of message.buffers) {\n",
              "            buffers.push(buffer);\n",
              "            downloaded += buffer.byteLength;\n",
              "            progress.value = downloaded;\n",
              "          }\n",
              "        }\n",
              "      }\n",
              "      const blob = new Blob(buffers, {type: 'application/binary'});\n",
              "      const a = document.createElement('a');\n",
              "      a.href = window.URL.createObjectURL(blob);\n",
              "      a.download = filename;\n",
              "      div.appendChild(a);\n",
              "      a.click();\n",
              "      div.remove();\n",
              "    }\n",
              "  "
            ],
            "text/plain": [
              "<IPython.core.display.Javascript object>"
            ]
          },
          "metadata": {
            "tags": []
          }
        },
        {
          "output_type": "display_data",
          "data": {
            "application/javascript": [
              "download(\"download_79e33295-6144-43ee-a131-5497e6551a26\", \"df_fuel_consumption.csv\", 523590)"
            ],
            "text/plain": [
              "<IPython.core.display.Javascript object>"
            ]
          },
          "metadata": {
            "tags": []
          }
        }
      ]
    },
    {
      "cell_type": "code",
      "metadata": {
        "id": "FVu2rdeNXH3L"
      },
      "source": [
        "df_flights = pd.read_sql_query(\"\"\"SELECT * FROM flights ORDER BY RANDOM() LIMIT 60000;\"\"\",con)"
      ],
      "execution_count": 282,
      "outputs": []
    },
    {
      "cell_type": "code",
      "metadata": {
        "colab": {
          "base_uri": "https://localhost:8080/",
          "height": 17
        },
        "id": "cZqEB2xAXJuW",
        "outputId": "0ac5836b-b6d8-49f8-c721-9ca835fa1988"
      },
      "source": [
        "from google.colab import files\n",
        "df_flights.to_csv('df_flights.csv') \n",
        "files.download('df_flights.csv')\n"
      ],
      "execution_count": 398,
      "outputs": [
        {
          "output_type": "display_data",
          "data": {
            "application/javascript": [
              "\n",
              "    async function download(id, filename, size) {\n",
              "      if (!google.colab.kernel.accessAllowed) {\n",
              "        return;\n",
              "      }\n",
              "      const div = document.createElement('div');\n",
              "      const label = document.createElement('label');\n",
              "      label.textContent = `Downloading \"${filename}\": `;\n",
              "      div.appendChild(label);\n",
              "      const progress = document.createElement('progress');\n",
              "      progress.max = size;\n",
              "      div.appendChild(progress);\n",
              "      document.body.appendChild(div);\n",
              "\n",
              "      const buffers = [];\n",
              "      let downloaded = 0;\n",
              "\n",
              "      const channel = await google.colab.kernel.comms.open(id);\n",
              "      // Send a message to notify the kernel that we're ready.\n",
              "      channel.send({})\n",
              "\n",
              "      for await (const message of channel.messages) {\n",
              "        // Send a message to notify the kernel that we're ready.\n",
              "        channel.send({})\n",
              "        if (message.buffers) {\n",
              "          for (const buffer of message.buffers) {\n",
              "            buffers.push(buffer);\n",
              "            downloaded += buffer.byteLength;\n",
              "            progress.value = downloaded;\n",
              "          }\n",
              "        }\n",
              "      }\n",
              "      const blob = new Blob(buffers, {type: 'application/binary'});\n",
              "      const a = document.createElement('a');\n",
              "      a.href = window.URL.createObjectURL(blob);\n",
              "      a.download = filename;\n",
              "      div.appendChild(a);\n",
              "      a.click();\n",
              "      div.remove();\n",
              "    }\n",
              "  "
            ],
            "text/plain": [
              "<IPython.core.display.Javascript object>"
            ]
          },
          "metadata": {
            "tags": []
          }
        },
        {
          "output_type": "display_data",
          "data": {
            "application/javascript": [
              "download(\"download_87414806-7323-44fe-b802-a51c5c39e72e\", \"df_flights.csv\", 12382286)"
            ],
            "text/plain": [
              "<IPython.core.display.Javascript object>"
            ]
          },
          "metadata": {
            "tags": []
          }
        }
      ]
    },
    {
      "cell_type": "code",
      "metadata": {
        "id": "kDzrZRQGJrwl"
      },
      "source": [
        "df_flights['fl_date'] = pd.to_datetime(df_flights['fl_date'])"
      ],
      "execution_count": 284,
      "outputs": []
    },
    {
      "cell_type": "code",
      "metadata": {
        "colab": {
          "base_uri": "https://localhost:8080/",
          "height": 309
        },
        "id": "t7c-WEAhOPHy",
        "outputId": "89c96814-4c26-4408-efa3-48198926948b"
      },
      "source": [
        "df_flights.head()"
      ],
      "execution_count": 285,
      "outputs": [
        {
          "output_type": "execute_result",
          "data": {
            "text/html": [
              "<div>\n",
              "<style scoped>\n",
              "    .dataframe tbody tr th:only-of-type {\n",
              "        vertical-align: middle;\n",
              "    }\n",
              "\n",
              "    .dataframe tbody tr th {\n",
              "        vertical-align: top;\n",
              "    }\n",
              "\n",
              "    .dataframe thead th {\n",
              "        text-align: right;\n",
              "    }\n",
              "</style>\n",
              "<table border=\"1\" class=\"dataframe\">\n",
              "  <thead>\n",
              "    <tr style=\"text-align: right;\">\n",
              "      <th></th>\n",
              "      <th>fl_date</th>\n",
              "      <th>mkt_unique_carrier</th>\n",
              "      <th>branded_code_share</th>\n",
              "      <th>mkt_carrier</th>\n",
              "      <th>mkt_carrier_fl_num</th>\n",
              "      <th>op_unique_carrier</th>\n",
              "      <th>tail_num</th>\n",
              "      <th>op_carrier_fl_num</th>\n",
              "      <th>origin_airport_id</th>\n",
              "      <th>origin</th>\n",
              "      <th>origin_city_name</th>\n",
              "      <th>dest_airport_id</th>\n",
              "      <th>dest</th>\n",
              "      <th>dest_city_name</th>\n",
              "      <th>crs_dep_time</th>\n",
              "      <th>dep_time</th>\n",
              "      <th>dep_delay</th>\n",
              "      <th>taxi_out</th>\n",
              "      <th>wheels_off</th>\n",
              "      <th>wheels_on</th>\n",
              "      <th>taxi_in</th>\n",
              "      <th>crs_arr_time</th>\n",
              "      <th>arr_time</th>\n",
              "      <th>arr_delay</th>\n",
              "      <th>cancelled</th>\n",
              "      <th>cancellation_code</th>\n",
              "      <th>diverted</th>\n",
              "      <th>dup</th>\n",
              "      <th>crs_elapsed_time</th>\n",
              "      <th>actual_elapsed_time</th>\n",
              "      <th>air_time</th>\n",
              "      <th>flights</th>\n",
              "      <th>distance</th>\n",
              "      <th>carrier_delay</th>\n",
              "      <th>weather_delay</th>\n",
              "      <th>nas_delay</th>\n",
              "      <th>security_delay</th>\n",
              "      <th>late_aircraft_delay</th>\n",
              "      <th>first_dep_time</th>\n",
              "      <th>total_add_gtime</th>\n",
              "      <th>longest_add_gtime</th>\n",
              "      <th>no_name</th>\n",
              "    </tr>\n",
              "  </thead>\n",
              "  <tbody>\n",
              "    <tr>\n",
              "      <th>0</th>\n",
              "      <td>2019-07-29</td>\n",
              "      <td>DL</td>\n",
              "      <td>DL</td>\n",
              "      <td>DL</td>\n",
              "      <td>2607</td>\n",
              "      <td>DL</td>\n",
              "      <td>N3743H</td>\n",
              "      <td>2607</td>\n",
              "      <td>10397</td>\n",
              "      <td>ATL</td>\n",
              "      <td>Atlanta, GA</td>\n",
              "      <td>15304</td>\n",
              "      <td>TPA</td>\n",
              "      <td>Tampa, FL</td>\n",
              "      <td>830</td>\n",
              "      <td>828.0</td>\n",
              "      <td>-2.0</td>\n",
              "      <td>21.0</td>\n",
              "      <td>849.0</td>\n",
              "      <td>952.0</td>\n",
              "      <td>3.0</td>\n",
              "      <td>957</td>\n",
              "      <td>955.0</td>\n",
              "      <td>-2.0</td>\n",
              "      <td>0.0</td>\n",
              "      <td>None</td>\n",
              "      <td>0.0</td>\n",
              "      <td>N</td>\n",
              "      <td>87.0</td>\n",
              "      <td>87.0</td>\n",
              "      <td>63.0</td>\n",
              "      <td>1.0</td>\n",
              "      <td>406.0</td>\n",
              "      <td>NaN</td>\n",
              "      <td>NaN</td>\n",
              "      <td>NaN</td>\n",
              "      <td>NaN</td>\n",
              "      <td>NaN</td>\n",
              "      <td>None</td>\n",
              "      <td>NaN</td>\n",
              "      <td>NaN</td>\n",
              "      <td>None</td>\n",
              "    </tr>\n",
              "    <tr>\n",
              "      <th>1</th>\n",
              "      <td>2019-06-27</td>\n",
              "      <td>DL</td>\n",
              "      <td>DL</td>\n",
              "      <td>DL</td>\n",
              "      <td>881</td>\n",
              "      <td>DL</td>\n",
              "      <td>N373DX</td>\n",
              "      <td>881</td>\n",
              "      <td>10397</td>\n",
              "      <td>ATL</td>\n",
              "      <td>Atlanta, GA</td>\n",
              "      <td>10423</td>\n",
              "      <td>AUS</td>\n",
              "      <td>Austin, TX</td>\n",
              "      <td>1334</td>\n",
              "      <td>1337.0</td>\n",
              "      <td>3.0</td>\n",
              "      <td>12.0</td>\n",
              "      <td>1349.0</td>\n",
              "      <td>1437.0</td>\n",
              "      <td>8.0</td>\n",
              "      <td>1452</td>\n",
              "      <td>1445.0</td>\n",
              "      <td>-7.0</td>\n",
              "      <td>0.0</td>\n",
              "      <td>None</td>\n",
              "      <td>0.0</td>\n",
              "      <td>N</td>\n",
              "      <td>138.0</td>\n",
              "      <td>128.0</td>\n",
              "      <td>108.0</td>\n",
              "      <td>1.0</td>\n",
              "      <td>813.0</td>\n",
              "      <td>NaN</td>\n",
              "      <td>NaN</td>\n",
              "      <td>NaN</td>\n",
              "      <td>NaN</td>\n",
              "      <td>NaN</td>\n",
              "      <td>None</td>\n",
              "      <td>NaN</td>\n",
              "      <td>NaN</td>\n",
              "      <td>None</td>\n",
              "    </tr>\n",
              "    <tr>\n",
              "      <th>2</th>\n",
              "      <td>2019-01-31</td>\n",
              "      <td>HA</td>\n",
              "      <td>HA</td>\n",
              "      <td>HA</td>\n",
              "      <td>360</td>\n",
              "      <td>HA</td>\n",
              "      <td>N478HA</td>\n",
              "      <td>360</td>\n",
              "      <td>13830</td>\n",
              "      <td>OGG</td>\n",
              "      <td>Kahului, HI</td>\n",
              "      <td>12402</td>\n",
              "      <td>ITO</td>\n",
              "      <td>Hilo, HI</td>\n",
              "      <td>1721</td>\n",
              "      <td>1720.0</td>\n",
              "      <td>-1.0</td>\n",
              "      <td>7.0</td>\n",
              "      <td>1727.0</td>\n",
              "      <td>1751.0</td>\n",
              "      <td>6.0</td>\n",
              "      <td>1800</td>\n",
              "      <td>1757.0</td>\n",
              "      <td>-3.0</td>\n",
              "      <td>0.0</td>\n",
              "      <td>None</td>\n",
              "      <td>0.0</td>\n",
              "      <td>N</td>\n",
              "      <td>39.0</td>\n",
              "      <td>37.0</td>\n",
              "      <td>24.0</td>\n",
              "      <td>1.0</td>\n",
              "      <td>121.0</td>\n",
              "      <td>NaN</td>\n",
              "      <td>NaN</td>\n",
              "      <td>NaN</td>\n",
              "      <td>NaN</td>\n",
              "      <td>NaN</td>\n",
              "      <td>None</td>\n",
              "      <td>NaN</td>\n",
              "      <td>NaN</td>\n",
              "      <td>None</td>\n",
              "    </tr>\n",
              "    <tr>\n",
              "      <th>3</th>\n",
              "      <td>2019-05-14</td>\n",
              "      <td>G4</td>\n",
              "      <td>G4</td>\n",
              "      <td>G4</td>\n",
              "      <td>2953</td>\n",
              "      <td>G4</td>\n",
              "      <td>241NV</td>\n",
              "      <td>2953</td>\n",
              "      <td>11618</td>\n",
              "      <td>EWR</td>\n",
              "      <td>Newark, NJ</td>\n",
              "      <td>15412</td>\n",
              "      <td>TYS</td>\n",
              "      <td>Knoxville, TN</td>\n",
              "      <td>1100</td>\n",
              "      <td>1049.0</td>\n",
              "      <td>-11.0</td>\n",
              "      <td>34.0</td>\n",
              "      <td>1123.0</td>\n",
              "      <td>1256.0</td>\n",
              "      <td>7.0</td>\n",
              "      <td>1300</td>\n",
              "      <td>1303.0</td>\n",
              "      <td>3.0</td>\n",
              "      <td>0.0</td>\n",
              "      <td>None</td>\n",
              "      <td>0.0</td>\n",
              "      <td>N</td>\n",
              "      <td>120.0</td>\n",
              "      <td>134.0</td>\n",
              "      <td>93.0</td>\n",
              "      <td>1.0</td>\n",
              "      <td>631.0</td>\n",
              "      <td>NaN</td>\n",
              "      <td>NaN</td>\n",
              "      <td>NaN</td>\n",
              "      <td>NaN</td>\n",
              "      <td>NaN</td>\n",
              "      <td>None</td>\n",
              "      <td>NaN</td>\n",
              "      <td>NaN</td>\n",
              "      <td>None</td>\n",
              "    </tr>\n",
              "    <tr>\n",
              "      <th>4</th>\n",
              "      <td>2018-08-07</td>\n",
              "      <td>DL</td>\n",
              "      <td>DL</td>\n",
              "      <td>DL</td>\n",
              "      <td>2192</td>\n",
              "      <td>DL</td>\n",
              "      <td>N815DN</td>\n",
              "      <td>2192</td>\n",
              "      <td>15304</td>\n",
              "      <td>TPA</td>\n",
              "      <td>Tampa, FL</td>\n",
              "      <td>11433</td>\n",
              "      <td>DTW</td>\n",
              "      <td>Detroit, MI</td>\n",
              "      <td>623</td>\n",
              "      <td>619.0</td>\n",
              "      <td>-4.0</td>\n",
              "      <td>11.0</td>\n",
              "      <td>630.0</td>\n",
              "      <td>838.0</td>\n",
              "      <td>6.0</td>\n",
              "      <td>900</td>\n",
              "      <td>844.0</td>\n",
              "      <td>-16.0</td>\n",
              "      <td>0.0</td>\n",
              "      <td>None</td>\n",
              "      <td>0.0</td>\n",
              "      <td>N</td>\n",
              "      <td>157.0</td>\n",
              "      <td>145.0</td>\n",
              "      <td>128.0</td>\n",
              "      <td>1.0</td>\n",
              "      <td>983.0</td>\n",
              "      <td>NaN</td>\n",
              "      <td>NaN</td>\n",
              "      <td>NaN</td>\n",
              "      <td>NaN</td>\n",
              "      <td>NaN</td>\n",
              "      <td>None</td>\n",
              "      <td>NaN</td>\n",
              "      <td>NaN</td>\n",
              "      <td>None</td>\n",
              "    </tr>\n",
              "  </tbody>\n",
              "</table>\n",
              "</div>"
            ],
            "text/plain": [
              "     fl_date mkt_unique_carrier  ... longest_add_gtime no_name\n",
              "0 2019-07-29                 DL  ...               NaN    None\n",
              "1 2019-06-27                 DL  ...               NaN    None\n",
              "2 2019-01-31                 HA  ...               NaN    None\n",
              "3 2019-05-14                 G4  ...               NaN    None\n",
              "4 2018-08-07                 DL  ...               NaN    None\n",
              "\n",
              "[5 rows x 42 columns]"
            ]
          },
          "metadata": {
            "tags": []
          },
          "execution_count": 285
        }
      ]
    },
    {
      "cell_type": "code",
      "metadata": {
        "id": "32gbJQfTXNGj"
      },
      "source": [
        "df_passengers = pd.read_sql_query(\"\"\"SELECT * FROM passengers ORDER BY RANDOM() LIMIT 60000;\"\"\",con)"
      ],
      "execution_count": 286,
      "outputs": []
    },
    {
      "cell_type": "code",
      "metadata": {
        "colab": {
          "base_uri": "https://localhost:8080/",
          "height": 626
        },
        "id": "lmMKUw6UXQv0",
        "outputId": "91365d12-e42c-484c-9e2a-cba99d78ec22"
      },
      "source": [
        "df_passengers.shape\n",
        "df_passengers"
      ],
      "execution_count": 287,
      "outputs": [
        {
          "output_type": "execute_result",
          "data": {
            "text/html": [
              "<div>\n",
              "<style scoped>\n",
              "    .dataframe tbody tr th:only-of-type {\n",
              "        vertical-align: middle;\n",
              "    }\n",
              "\n",
              "    .dataframe tbody tr th {\n",
              "        vertical-align: top;\n",
              "    }\n",
              "\n",
              "    .dataframe thead th {\n",
              "        text-align: right;\n",
              "    }\n",
              "</style>\n",
              "<table border=\"1\" class=\"dataframe\">\n",
              "  <thead>\n",
              "    <tr style=\"text-align: right;\">\n",
              "      <th></th>\n",
              "      <th>departures_scheduled</th>\n",
              "      <th>departures_performed</th>\n",
              "      <th>payload</th>\n",
              "      <th>seats</th>\n",
              "      <th>passengers</th>\n",
              "      <th>freight</th>\n",
              "      <th>mail</th>\n",
              "      <th>distance</th>\n",
              "      <th>ramp_to_ramp</th>\n",
              "      <th>air_time</th>\n",
              "      <th>unique_carrier</th>\n",
              "      <th>airline_id</th>\n",
              "      <th>unique_carrier_name</th>\n",
              "      <th>region</th>\n",
              "      <th>carrier</th>\n",
              "      <th>carrier_name</th>\n",
              "      <th>carrier_group</th>\n",
              "      <th>carrier_group_new</th>\n",
              "      <th>origin_airport_id</th>\n",
              "      <th>origin_city_market_id</th>\n",
              "      <th>origin</th>\n",
              "      <th>origin_city_name</th>\n",
              "      <th>origin_country</th>\n",
              "      <th>origin_country_name</th>\n",
              "      <th>dest_airport_id</th>\n",
              "      <th>dest_city_market_id</th>\n",
              "      <th>dest</th>\n",
              "      <th>dest_city_name</th>\n",
              "      <th>dest_country</th>\n",
              "      <th>dest_country_name</th>\n",
              "      <th>aircraft_group</th>\n",
              "      <th>aircraft_type</th>\n",
              "      <th>aircraft_config</th>\n",
              "      <th>year</th>\n",
              "      <th>month</th>\n",
              "      <th>distance_group</th>\n",
              "      <th>class</th>\n",
              "      <th>data_source</th>\n",
              "    </tr>\n",
              "  </thead>\n",
              "  <tbody>\n",
              "    <tr>\n",
              "      <th>0</th>\n",
              "      <td>0.0</td>\n",
              "      <td>1.0</td>\n",
              "      <td>550.0</td>\n",
              "      <td>3.0</td>\n",
              "      <td>0.0</td>\n",
              "      <td>0.0</td>\n",
              "      <td>0.0</td>\n",
              "      <td>32.0</td>\n",
              "      <td>29.0</td>\n",
              "      <td>25.0</td>\n",
              "      <td>K2</td>\n",
              "      <td>21820</td>\n",
              "      <td>Paklook Air, Inc d/b/a/ Airlift Alaska d/b/a/ ...</td>\n",
              "      <td>D</td>\n",
              "      <td>K2</td>\n",
              "      <td>Paklook Air, Inc d/b/a/ Airlift Alaska d/b/a/ ...</td>\n",
              "      <td>1</td>\n",
              "      <td>5</td>\n",
              "      <td>11492</td>\n",
              "      <td>31492</td>\n",
              "      <td>EEK</td>\n",
              "      <td>Eek, AK</td>\n",
              "      <td>US</td>\n",
              "      <td>United States</td>\n",
              "      <td>12853</td>\n",
              "      <td>32853</td>\n",
              "      <td>KWN</td>\n",
              "      <td>Quinhagak, AK</td>\n",
              "      <td>US</td>\n",
              "      <td>United States</td>\n",
              "      <td>0</td>\n",
              "      <td>36</td>\n",
              "      <td>3</td>\n",
              "      <td>2019</td>\n",
              "      <td>3</td>\n",
              "      <td>1</td>\n",
              "      <td>F</td>\n",
              "      <td>DU</td>\n",
              "    </tr>\n",
              "    <tr>\n",
              "      <th>1</th>\n",
              "      <td>3.0</td>\n",
              "      <td>3.0</td>\n",
              "      <td>62920.0</td>\n",
              "      <td>228.0</td>\n",
              "      <td>160.0</td>\n",
              "      <td>0.0</td>\n",
              "      <td>0.0</td>\n",
              "      <td>245.0</td>\n",
              "      <td>228.0</td>\n",
              "      <td>153.0</td>\n",
              "      <td>OH</td>\n",
              "      <td>20397</td>\n",
              "      <td>PSA Airlines Inc.</td>\n",
              "      <td>D</td>\n",
              "      <td>OH</td>\n",
              "      <td>PSA Airlines Inc.</td>\n",
              "      <td>2</td>\n",
              "      <td>2</td>\n",
              "      <td>10990</td>\n",
              "      <td>30990</td>\n",
              "      <td>CHO</td>\n",
              "      <td>Charlottesville, VA</td>\n",
              "      <td>US</td>\n",
              "      <td>United States</td>\n",
              "      <td>11057</td>\n",
              "      <td>31057</td>\n",
              "      <td>CLT</td>\n",
              "      <td>Charlotte, NC</td>\n",
              "      <td>US</td>\n",
              "      <td>United States</td>\n",
              "      <td>6</td>\n",
              "      <td>638</td>\n",
              "      <td>1</td>\n",
              "      <td>2017</td>\n",
              "      <td>6</td>\n",
              "      <td>1</td>\n",
              "      <td>F</td>\n",
              "      <td>DU</td>\n",
              "    </tr>\n",
              "    <tr>\n",
              "      <th>2</th>\n",
              "      <td>0.0</td>\n",
              "      <td>1.0</td>\n",
              "      <td>34000.0</td>\n",
              "      <td>166.0</td>\n",
              "      <td>147.0</td>\n",
              "      <td>0.0</td>\n",
              "      <td>0.0</td>\n",
              "      <td>287.0</td>\n",
              "      <td>66.0</td>\n",
              "      <td>48.0</td>\n",
              "      <td>G4</td>\n",
              "      <td>20368</td>\n",
              "      <td>Allegiant Air</td>\n",
              "      <td>D</td>\n",
              "      <td>G4</td>\n",
              "      <td>Allegiant Air</td>\n",
              "      <td>3</td>\n",
              "      <td>3</td>\n",
              "      <td>12320</td>\n",
              "      <td>32320</td>\n",
              "      <td>ILG</td>\n",
              "      <td>Wilmington, DE</td>\n",
              "      <td>US</td>\n",
              "      <td>United States</td>\n",
              "      <td>14574</td>\n",
              "      <td>34574</td>\n",
              "      <td>ROA</td>\n",
              "      <td>Roanoke, VA</td>\n",
              "      <td>US</td>\n",
              "      <td>United States</td>\n",
              "      <td>6</td>\n",
              "      <td>655</td>\n",
              "      <td>1</td>\n",
              "      <td>2017</td>\n",
              "      <td>9</td>\n",
              "      <td>1</td>\n",
              "      <td>L</td>\n",
              "      <td>DU</td>\n",
              "    </tr>\n",
              "    <tr>\n",
              "      <th>3</th>\n",
              "      <td>0.0</td>\n",
              "      <td>1.0</td>\n",
              "      <td>6486.0</td>\n",
              "      <td>13.0</td>\n",
              "      <td>5.0</td>\n",
              "      <td>0.0</td>\n",
              "      <td>0.0</td>\n",
              "      <td>5812.0</td>\n",
              "      <td>0.0</td>\n",
              "      <td>0.0</td>\n",
              "      <td>0RQ</td>\n",
              "      <td>21309</td>\n",
              "      <td>TAG Aviation Espana S.L.</td>\n",
              "      <td>I</td>\n",
              "      <td>0RQ</td>\n",
              "      <td>TAG Aviation Espana S.L.</td>\n",
              "      <td>0</td>\n",
              "      <td>0</td>\n",
              "      <td>13156</td>\n",
              "      <td>31584</td>\n",
              "      <td>MAD</td>\n",
              "      <td>Madrid, Spain</td>\n",
              "      <td>ES</td>\n",
              "      <td>Spain</td>\n",
              "      <td>14771</td>\n",
              "      <td>32457</td>\n",
              "      <td>SFO</td>\n",
              "      <td>San Francisco, CA</td>\n",
              "      <td>US</td>\n",
              "      <td>United States</td>\n",
              "      <td>6</td>\n",
              "      <td>750</td>\n",
              "      <td>1</td>\n",
              "      <td>2016</td>\n",
              "      <td>12</td>\n",
              "      <td>12</td>\n",
              "      <td>L</td>\n",
              "      <td>IF</td>\n",
              "    </tr>\n",
              "    <tr>\n",
              "      <th>4</th>\n",
              "      <td>0.0</td>\n",
              "      <td>1.0</td>\n",
              "      <td>57000.0</td>\n",
              "      <td>0.0</td>\n",
              "      <td>0.0</td>\n",
              "      <td>0.0</td>\n",
              "      <td>0.0</td>\n",
              "      <td>128.0</td>\n",
              "      <td>48.0</td>\n",
              "      <td>36.0</td>\n",
              "      <td>GFQ</td>\n",
              "      <td>20166</td>\n",
              "      <td>Gulf And Caribbean Cargo</td>\n",
              "      <td>I</td>\n",
              "      <td>GFQ</td>\n",
              "      <td>Gulf And Caribbean Cargo</td>\n",
              "      <td>1</td>\n",
              "      <td>1</td>\n",
              "      <td>13514</td>\n",
              "      <td>33514</td>\n",
              "      <td>MTY</td>\n",
              "      <td>Monterrey, Mexico</td>\n",
              "      <td>MX</td>\n",
              "      <td>Mexico</td>\n",
              "      <td>13061</td>\n",
              "      <td>33038</td>\n",
              "      <td>LRD</td>\n",
              "      <td>Laredo, TX</td>\n",
              "      <td>US</td>\n",
              "      <td>United States</td>\n",
              "      <td>7</td>\n",
              "      <td>715</td>\n",
              "      <td>2</td>\n",
              "      <td>2019</td>\n",
              "      <td>1</td>\n",
              "      <td>1</td>\n",
              "      <td>P</td>\n",
              "      <td>IU</td>\n",
              "    </tr>\n",
              "    <tr>\n",
              "      <th>...</th>\n",
              "      <td>...</td>\n",
              "      <td>...</td>\n",
              "      <td>...</td>\n",
              "      <td>...</td>\n",
              "      <td>...</td>\n",
              "      <td>...</td>\n",
              "      <td>...</td>\n",
              "      <td>...</td>\n",
              "      <td>...</td>\n",
              "      <td>...</td>\n",
              "      <td>...</td>\n",
              "      <td>...</td>\n",
              "      <td>...</td>\n",
              "      <td>...</td>\n",
              "      <td>...</td>\n",
              "      <td>...</td>\n",
              "      <td>...</td>\n",
              "      <td>...</td>\n",
              "      <td>...</td>\n",
              "      <td>...</td>\n",
              "      <td>...</td>\n",
              "      <td>...</td>\n",
              "      <td>...</td>\n",
              "      <td>...</td>\n",
              "      <td>...</td>\n",
              "      <td>...</td>\n",
              "      <td>...</td>\n",
              "      <td>...</td>\n",
              "      <td>...</td>\n",
              "      <td>...</td>\n",
              "      <td>...</td>\n",
              "      <td>...</td>\n",
              "      <td>...</td>\n",
              "      <td>...</td>\n",
              "      <td>...</td>\n",
              "      <td>...</td>\n",
              "      <td>...</td>\n",
              "      <td>...</td>\n",
              "    </tr>\n",
              "    <tr>\n",
              "      <th>59995</th>\n",
              "      <td>117.0</td>\n",
              "      <td>87.0</td>\n",
              "      <td>4502620.0</td>\n",
              "      <td>15839.0</td>\n",
              "      <td>15156.0</td>\n",
              "      <td>3631.0</td>\n",
              "      <td>6630.0</td>\n",
              "      <td>1747.0</td>\n",
              "      <td>20438.0</td>\n",
              "      <td>18194.0</td>\n",
              "      <td>DL</td>\n",
              "      <td>19790</td>\n",
              "      <td>Delta Air Lines Inc.</td>\n",
              "      <td>D</td>\n",
              "      <td>DL</td>\n",
              "      <td>Delta Air Lines Inc.</td>\n",
              "      <td>3</td>\n",
              "      <td>3</td>\n",
              "      <td>12889</td>\n",
              "      <td>32211</td>\n",
              "      <td>LAS</td>\n",
              "      <td>Las Vegas, NV</td>\n",
              "      <td>US</td>\n",
              "      <td>United States</td>\n",
              "      <td>10397</td>\n",
              "      <td>30397</td>\n",
              "      <td>ATL</td>\n",
              "      <td>Atlanta, GA</td>\n",
              "      <td>US</td>\n",
              "      <td>United States</td>\n",
              "      <td>6</td>\n",
              "      <td>622</td>\n",
              "      <td>1</td>\n",
              "      <td>2015</td>\n",
              "      <td>6</td>\n",
              "      <td>4</td>\n",
              "      <td>F</td>\n",
              "      <td>DU</td>\n",
              "    </tr>\n",
              "    <tr>\n",
              "      <th>59996</th>\n",
              "      <td>65.0</td>\n",
              "      <td>65.0</td>\n",
              "      <td>2729772.0</td>\n",
              "      <td>11599.0</td>\n",
              "      <td>10216.0</td>\n",
              "      <td>2774.0</td>\n",
              "      <td>49147.0</td>\n",
              "      <td>413.0</td>\n",
              "      <td>5718.0</td>\n",
              "      <td>4293.0</td>\n",
              "      <td>UA</td>\n",
              "      <td>19977</td>\n",
              "      <td>United Air Lines Inc.</td>\n",
              "      <td>D</td>\n",
              "      <td>UA</td>\n",
              "      <td>United Air Lines Inc.</td>\n",
              "      <td>3</td>\n",
              "      <td>3</td>\n",
              "      <td>12264</td>\n",
              "      <td>30852</td>\n",
              "      <td>IAD</td>\n",
              "      <td>Washington, DC</td>\n",
              "      <td>US</td>\n",
              "      <td>United States</td>\n",
              "      <td>10721</td>\n",
              "      <td>30721</td>\n",
              "      <td>BOS</td>\n",
              "      <td>Boston, MA</td>\n",
              "      <td>US</td>\n",
              "      <td>United States</td>\n",
              "      <td>6</td>\n",
              "      <td>634</td>\n",
              "      <td>1</td>\n",
              "      <td>2017</td>\n",
              "      <td>4</td>\n",
              "      <td>1</td>\n",
              "      <td>F</td>\n",
              "      <td>DU</td>\n",
              "    </tr>\n",
              "    <tr>\n",
              "      <th>59997</th>\n",
              "      <td>10.0</td>\n",
              "      <td>9.0</td>\n",
              "      <td>159660.0</td>\n",
              "      <td>585.0</td>\n",
              "      <td>445.0</td>\n",
              "      <td>0.0</td>\n",
              "      <td>0.0</td>\n",
              "      <td>341.0</td>\n",
              "      <td>758.0</td>\n",
              "      <td>519.0</td>\n",
              "      <td>EV</td>\n",
              "      <td>20366</td>\n",
              "      <td>ExpressJet Airlines LLC</td>\n",
              "      <td>D</td>\n",
              "      <td>EV</td>\n",
              "      <td>ExpressJet Airlines Inc.</td>\n",
              "      <td>3</td>\n",
              "      <td>3</td>\n",
              "      <td>12448</td>\n",
              "      <td>32448</td>\n",
              "      <td>JAN</td>\n",
              "      <td>Jackson/Vicksburg, MS</td>\n",
              "      <td>US</td>\n",
              "      <td>United States</td>\n",
              "      <td>10397</td>\n",
              "      <td>30397</td>\n",
              "      <td>ATL</td>\n",
              "      <td>Atlanta, GA</td>\n",
              "      <td>US</td>\n",
              "      <td>United States</td>\n",
              "      <td>6</td>\n",
              "      <td>631</td>\n",
              "      <td>1</td>\n",
              "      <td>2017</td>\n",
              "      <td>6</td>\n",
              "      <td>1</td>\n",
              "      <td>F</td>\n",
              "      <td>DU</td>\n",
              "    </tr>\n",
              "    <tr>\n",
              "      <th>59998</th>\n",
              "      <td>7.0</td>\n",
              "      <td>6.0</td>\n",
              "      <td>243020.0</td>\n",
              "      <td>960.0</td>\n",
              "      <td>762.0</td>\n",
              "      <td>1848.0</td>\n",
              "      <td>10221.0</td>\n",
              "      <td>1535.0</td>\n",
              "      <td>1420.0</td>\n",
              "      <td>1255.0</td>\n",
              "      <td>DL</td>\n",
              "      <td>19790</td>\n",
              "      <td>Delta Air Lines Inc.</td>\n",
              "      <td>D</td>\n",
              "      <td>DL</td>\n",
              "      <td>Delta Air Lines Inc.</td>\n",
              "      <td>3</td>\n",
              "      <td>3</td>\n",
              "      <td>13487</td>\n",
              "      <td>31650</td>\n",
              "      <td>MSP</td>\n",
              "      <td>Minneapolis, MN</td>\n",
              "      <td>US</td>\n",
              "      <td>United States</td>\n",
              "      <td>12892</td>\n",
              "      <td>32575</td>\n",
              "      <td>LAX</td>\n",
              "      <td>Los Angeles, CA</td>\n",
              "      <td>US</td>\n",
              "      <td>United States</td>\n",
              "      <td>6</td>\n",
              "      <td>614</td>\n",
              "      <td>1</td>\n",
              "      <td>2015</td>\n",
              "      <td>11</td>\n",
              "      <td>4</td>\n",
              "      <td>F</td>\n",
              "      <td>DU</td>\n",
              "    </tr>\n",
              "    <tr>\n",
              "      <th>59999</th>\n",
              "      <td>88.0</td>\n",
              "      <td>88.0</td>\n",
              "      <td>3539400.0</td>\n",
              "      <td>14080.0</td>\n",
              "      <td>12506.0</td>\n",
              "      <td>17145.0</td>\n",
              "      <td>0.0</td>\n",
              "      <td>524.0</td>\n",
              "      <td>9028.0</td>\n",
              "      <td>6520.0</td>\n",
              "      <td>AA</td>\n",
              "      <td>19805</td>\n",
              "      <td>American Airlines Inc.</td>\n",
              "      <td>L</td>\n",
              "      <td>AA</td>\n",
              "      <td>American Airlines Inc.</td>\n",
              "      <td>3</td>\n",
              "      <td>3</td>\n",
              "      <td>13303</td>\n",
              "      <td>32467</td>\n",
              "      <td>MIA</td>\n",
              "      <td>Miami, FL</td>\n",
              "      <td>US</td>\n",
              "      <td>United States</td>\n",
              "      <td>13180</td>\n",
              "      <td>33180</td>\n",
              "      <td>MBJ</td>\n",
              "      <td>Montego Bay, Jamaica</td>\n",
              "      <td>JM</td>\n",
              "      <td>Jamaica</td>\n",
              "      <td>6</td>\n",
              "      <td>614</td>\n",
              "      <td>1</td>\n",
              "      <td>2018</td>\n",
              "      <td>7</td>\n",
              "      <td>2</td>\n",
              "      <td>F</td>\n",
              "      <td>IU</td>\n",
              "    </tr>\n",
              "  </tbody>\n",
              "</table>\n",
              "<p>60000 rows × 38 columns</p>\n",
              "</div>"
            ],
            "text/plain": [
              "       departures_scheduled  departures_performed  ...  class  data_source\n",
              "0                       0.0                   1.0  ...      F           DU\n",
              "1                       3.0                   3.0  ...      F           DU\n",
              "2                       0.0                   1.0  ...      L           DU\n",
              "3                       0.0                   1.0  ...      L           IF\n",
              "4                       0.0                   1.0  ...      P           IU\n",
              "...                     ...                   ...  ...    ...          ...\n",
              "59995                 117.0                  87.0  ...      F           DU\n",
              "59996                  65.0                  65.0  ...      F           DU\n",
              "59997                  10.0                   9.0  ...      F           DU\n",
              "59998                   7.0                   6.0  ...      F           DU\n",
              "59999                  88.0                  88.0  ...      F           IU\n",
              "\n",
              "[60000 rows x 38 columns]"
            ]
          },
          "metadata": {
            "tags": []
          },
          "execution_count": 287
        }
      ]
    },
    {
      "cell_type": "code",
      "metadata": {
        "colab": {
          "base_uri": "https://localhost:8080/",
          "height": 17
        },
        "id": "UUMkv0MWwPH2",
        "outputId": "5628ac29-aac1-4e7e-bd20-11080f22d592"
      },
      "source": [
        "from google.colab import files\n",
        "df_passengers.to_csv('df_passengers.csv') \n",
        "files.download('df_passengers.csv')"
      ],
      "execution_count": 400,
      "outputs": [
        {
          "output_type": "display_data",
          "data": {
            "application/javascript": [
              "\n",
              "    async function download(id, filename, size) {\n",
              "      if (!google.colab.kernel.accessAllowed) {\n",
              "        return;\n",
              "      }\n",
              "      const div = document.createElement('div');\n",
              "      const label = document.createElement('label');\n",
              "      label.textContent = `Downloading \"${filename}\": `;\n",
              "      div.appendChild(label);\n",
              "      const progress = document.createElement('progress');\n",
              "      progress.max = size;\n",
              "      div.appendChild(progress);\n",
              "      document.body.appendChild(div);\n",
              "\n",
              "      const buffers = [];\n",
              "      let downloaded = 0;\n",
              "\n",
              "      const channel = await google.colab.kernel.comms.open(id);\n",
              "      // Send a message to notify the kernel that we're ready.\n",
              "      channel.send({})\n",
              "\n",
              "      for await (const message of channel.messages) {\n",
              "        // Send a message to notify the kernel that we're ready.\n",
              "        channel.send({})\n",
              "        if (message.buffers) {\n",
              "          for (const buffer of message.buffers) {\n",
              "            buffers.push(buffer);\n",
              "            downloaded += buffer.byteLength;\n",
              "            progress.value = downloaded;\n",
              "          }\n",
              "        }\n",
              "      }\n",
              "      const blob = new Blob(buffers, {type: 'application/binary'});\n",
              "      const a = document.createElement('a');\n",
              "      a.href = window.URL.createObjectURL(blob);\n",
              "      a.download = filename;\n",
              "      div.appendChild(a);\n",
              "      a.click();\n",
              "      div.remove();\n",
              "    }\n",
              "  "
            ],
            "text/plain": [
              "<IPython.core.display.Javascript object>"
            ]
          },
          "metadata": {
            "tags": []
          }
        },
        {
          "output_type": "display_data",
          "data": {
            "application/javascript": [
              "download(\"download_5cc05d79-9bac-4150-953e-5caa13951b27\", \"df_passengers.csv\", 14900822)"
            ],
            "text/plain": [
              "<IPython.core.display.Javascript object>"
            ]
          },
          "metadata": {
            "tags": []
          }
        }
      ]
    },
    {
      "cell_type": "markdown",
      "metadata": {
        "id": "Roozv8IwXqGQ"
      },
      "source": [
        "#### **Task 1**: Test the hypothesis that the delay is from Normal distribution. and that **mean** of the delay is 0. Be careful about the outliers."
      ]
    },
    {
      "cell_type": "code",
      "metadata": {
        "id": "bvQY5cHmjTx8"
      },
      "source": [
        "x =df_flights[df_flights['arr_delay']>0]"
      ],
      "execution_count": 288,
      "outputs": []
    },
    {
      "cell_type": "code",
      "metadata": {
        "id": "ejA8kZtDj7JP"
      },
      "source": [
        "x = x['arr_delay']"
      ],
      "execution_count": 289,
      "outputs": []
    },
    {
      "cell_type": "code",
      "metadata": {
        "colab": {
          "base_uri": "https://localhost:8080/",
          "height": 552
        },
        "id": "Q41dkMPBj136",
        "outputId": "aa80c162-3170-47a6-a8df-8c21a5fb03dd"
      },
      "source": [
        "fig, ax = plt.subplots(figsize = (15,9))\n",
        "ax = sns.boxplot(x= x ,fliersize=15, )"
      ],
      "execution_count": 290,
      "outputs": [
        {
          "output_type": "display_data",
          "data": {
            "image/png": "[encoded data removed]",
            "text/plain": [
              "<Figure size 1080x648 with 1 Axes>"
            ]
          },
          "metadata": {
            "tags": [],
            "needs_background": "light"
          }
        }
      ]
    },
    {
      "cell_type": "code",
      "metadata": {
        "colab": {
          "base_uri": "https://localhost:8080/",
          "height": 297
        },
        "id": "TGhvIeD1Y6l6",
        "outputId": "d82f831c-742d-44de-a052-2c5fd4433917"
      },
      "source": [
        "data = df_flights[['arr_delay','air_time']]\n",
        "data.plot.scatter(x='arr_delay', y='air_time')\n"
      ],
      "execution_count": 291,
      "outputs": [
        {
          "output_type": "execute_result",
          "data": {
            "text/plain": [
              "<matplotlib.axes._subplots.AxesSubplot at 0x7f61674d6780>"
            ]
          },
          "metadata": {
            "tags": []
          },
          "execution_count": 291
        },
        {
          "output_type": "display_data",
          "data": {
            "image/png": "[encoded data removed]",
            "text/plain": [
              "<Figure size 432x288 with 1 Axes>"
            ]
          },
          "metadata": {
            "tags": [],
            "needs_background": "light"
          }
        }
      ]
    },
    {
      "cell_type": "code",
      "metadata": {
        "colab": {
          "base_uri": "https://localhost:8080/",
          "height": 552
        },
        "id": "uU_g4QRdg7fW",
        "outputId": "a9f035b3-665a-4976-99a3-b2125bb5e054"
      },
      "source": [
        "fig, ax = plt.subplots(figsize = (15,9))\n",
        "ax = sns.boxplot(x=df_flights['arr_delay'],fliersize=15, )"
      ],
      "execution_count": 292,
      "outputs": [
        {
          "output_type": "display_data",
          "data": {
            "image/png": "[encoded data removed]",
            "text/plain": [
              "<Figure size 1080x648 with 1 Axes>"
            ]
          },
          "metadata": {
            "tags": [],
            "needs_background": "light"
          }
        }
      ]
    },
    {
      "cell_type": "code",
      "metadata": {
        "colab": {
          "base_uri": "https://localhost:8080/",
          "height": 374
        },
        "id": "YwDbwCA2YVov",
        "outputId": "98594a74-1c52-4b11-982e-018483409370"
      },
      "source": [
        "# create the figure and axes, set the figure size\n",
        "fig, ax = plt.subplots(figsize = (10,6))\n",
        "\n",
        "# histogram\n",
        "ax.hist(x=df_flights['arr_delay'],bins=20)\n",
        "plt.show()"
      ],
      "execution_count": 293,
      "outputs": [
        {
          "output_type": "display_data",
          "data": {
            "image/png": "[encoded data removed]",
            "text/plain": [
              "<Figure size 720x432 with 1 Axes>"
            ]
          },
          "metadata": {
            "tags": [],
            "needs_background": "light"
          }
        }
      ]
    },
    {
      "cell_type": "code",
      "metadata": {
        "id": "Pue08fRgYWYZ"
      },
      "source": [
        ""
      ],
      "execution_count": 293,
      "outputs": []
    },
    {
      "cell_type": "markdown",
      "metadata": {
        "id": "3de-arJHXxoE"
      },
      "source": [
        "#### **Task 2**: Is average/median monthly delay different during the year? If yes, which are months with the biggest delays and what could be the reason?"
      ]
    },
    {
      "cell_type": "code",
      "metadata": {
        "id": "omoCD5epkntq"
      },
      "source": [
        "month_delay = df_flights[df_flights['arr_delay']>0]\n"
      ],
      "execution_count": 294,
      "outputs": []
    },
    {
      "cell_type": "code",
      "metadata": {
        "colab": {
          "base_uri": "https://localhost:8080/"
        },
        "id": "vw9KDxh2XRLh",
        "outputId": "f9d1ccb8-cc34-4395-ea88-e34a3d6aa5c5"
      },
      "source": [
        "month_delay['fl_date'].count()"
      ],
      "execution_count": 295,
      "outputs": [
        {
          "output_type": "execute_result",
          "data": {
            "text/plain": [
              "20313"
            ]
          },
          "metadata": {
            "tags": []
          },
          "execution_count": 295
        }
      ]
    },
    {
      "cell_type": "code",
      "metadata": {
        "colab": {
          "base_uri": "https://localhost:8080/"
        },
        "id": "j-Dr-W5WTQPn",
        "outputId": "8a4dfcd0-8208-4209-9d26-807c945b1f07"
      },
      "source": [
        "# month_delay = month_delay.groupby(pd.Grouper(freq=\"M\"))\n",
        "month_delay_gp = month_delay.groupby(month_delay['fl_date'].dt.strftime('%B'))['arr_delay'].mean().sort_values()\n",
        "month_delay_gp"
      ],
      "execution_count": 296,
      "outputs": [
        {
          "output_type": "execute_result",
          "data": {
            "text/plain": [
              "fl_date\n",
              "October      33.386941\n",
              "November     34.171824\n",
              "March        34.518160\n",
              "September    36.010043\n",
              "January      39.053630\n",
              "April        39.063725\n",
              "December     40.130337\n",
              "June         42.500766\n",
              "May          42.732838\n",
              "July         43.832733\n",
              "February     45.671765\n",
              "August       46.855888\n",
              "Name: arr_delay, dtype: float64"
            ]
          },
          "metadata": {
            "tags": []
          },
          "execution_count": 296
        }
      ]
    },
    {
      "cell_type": "code",
      "metadata": {
        "colab": {
          "base_uri": "https://localhost:8080/",
          "height": 421
        },
        "id": "JKWitDAtknBA",
        "outputId": "0273ee82-bb0f-406f-96ff-330d92d64d0e"
      },
      "source": [
        "df_plot = month_delay['fl_date'].dt.month.value_counts()\\\n",
        "                    .rename_axis('month')\\\n",
        "                    .to_frame('count_delays')\\\n",
        "                    .reset_index()\\\n",
        "                    .sort_values('month')\n",
        "df_plot"
      ],
      "execution_count": 297,
      "outputs": [
        {
          "output_type": "execute_result",
          "data": {
            "text/html": [
              "<div>\n",
              "<style scoped>\n",
              "    .dataframe tbody tr th:only-of-type {\n",
              "        vertical-align: middle;\n",
              "    }\n",
              "\n",
              "    .dataframe tbody tr th {\n",
              "        vertical-align: top;\n",
              "    }\n",
              "\n",
              "    .dataframe thead th {\n",
              "        text-align: right;\n",
              "    }\n",
              "</style>\n",
              "<table border=\"1\" class=\"dataframe\">\n",
              "  <thead>\n",
              "    <tr style=\"text-align: right;\">\n",
              "      <th></th>\n",
              "      <th>month</th>\n",
              "      <th>count_delays</th>\n",
              "    </tr>\n",
              "  </thead>\n",
              "  <tbody>\n",
              "    <tr>\n",
              "      <th>9</th>\n",
              "      <td>1</td>\n",
              "      <td>1529</td>\n",
              "    </tr>\n",
              "    <tr>\n",
              "      <th>8</th>\n",
              "      <td>2</td>\n",
              "      <td>1569</td>\n",
              "    </tr>\n",
              "    <tr>\n",
              "      <th>6</th>\n",
              "      <td>3</td>\n",
              "      <td>1652</td>\n",
              "    </tr>\n",
              "    <tr>\n",
              "      <th>7</th>\n",
              "      <td>4</td>\n",
              "      <td>1632</td>\n",
              "    </tr>\n",
              "    <tr>\n",
              "      <th>4</th>\n",
              "      <td>5</td>\n",
              "      <td>1748</td>\n",
              "    </tr>\n",
              "    <tr>\n",
              "      <th>0</th>\n",
              "      <td>6</td>\n",
              "      <td>1957</td>\n",
              "    </tr>\n",
              "    <tr>\n",
              "      <th>1</th>\n",
              "      <td>7</td>\n",
              "      <td>1943</td>\n",
              "    </tr>\n",
              "    <tr>\n",
              "      <th>2</th>\n",
              "      <td>8</td>\n",
              "      <td>1936</td>\n",
              "    </tr>\n",
              "    <tr>\n",
              "      <th>11</th>\n",
              "      <td>9</td>\n",
              "      <td>1394</td>\n",
              "    </tr>\n",
              "    <tr>\n",
              "      <th>5</th>\n",
              "      <td>10</td>\n",
              "      <td>1654</td>\n",
              "    </tr>\n",
              "    <tr>\n",
              "      <th>10</th>\n",
              "      <td>11</td>\n",
              "      <td>1519</td>\n",
              "    </tr>\n",
              "    <tr>\n",
              "      <th>3</th>\n",
              "      <td>12</td>\n",
              "      <td>1780</td>\n",
              "    </tr>\n",
              "  </tbody>\n",
              "</table>\n",
              "</div>"
            ],
            "text/plain": [
              "    month  count_delays\n",
              "9       1          1529\n",
              "8       2          1569\n",
              "6       3          1652\n",
              "7       4          1632\n",
              "4       5          1748\n",
              "0       6          1957\n",
              "1       7          1943\n",
              "2       8          1936\n",
              "11      9          1394\n",
              "5      10          1654\n",
              "10     11          1519\n",
              "3      12          1780"
            ]
          },
          "metadata": {
            "tags": []
          },
          "execution_count": 297
        }
      ]
    },
    {
      "cell_type": "code",
      "metadata": {
        "id": "ANemfwCzkqUf"
      },
      "source": [
        ""
      ],
      "execution_count": 297,
      "outputs": []
    },
    {
      "cell_type": "code",
      "metadata": {
        "id": "mMiBd5P4kqeI"
      },
      "source": [
        ""
      ],
      "execution_count": 297,
      "outputs": []
    },
    {
      "cell_type": "markdown",
      "metadata": {
        "id": "_BAd7_KLXxwK"
      },
      "source": [
        "#### **Task 3**: Does the weather affect the delay? \n",
        "Use the API to pull the weather information for flights. There is no need to get weather for ALL flights. We can choose the right representative sample. Let's focus on four weather types:\n",
        "- sunny\n",
        "- cloudy\n",
        "- rainy\n",
        "- snow.\n",
        "Test the hypothesis that these 4 delays are from the same distribution. If they are not, which ones are significantly different?"
      ]
    },
    {
      "cell_type": "code",
      "metadata": {
        "id": "XPnVx5SJOm_k"
      },
      "source": [
        "dep_delays_samples = df_flights[df_flights['dep_delay']>0]\n",
        "arr_delay_samples = df_flights[df_flights['arr_delay']>0]"
      ],
      "execution_count": 298,
      "outputs": []
    },
    {
      "cell_type": "code",
      "metadata": {
        "id": "RQgtbEHhWEuP"
      },
      "source": [
        "dep_Random_delays = dep_delays_samples.sample(n=100, random_state=1)\n",
        "arr_Random_delays = arr_delay_samples.sample(n=100, random_state=1)"
      ],
      "execution_count": 299,
      "outputs": []
    },
    {
      "cell_type": "code",
      "metadata": {
        "id": "slomHduUWF3a"
      },
      "source": [
        "import requests\n",
        "import json"
      ],
      "execution_count": 300,
      "outputs": []
    },
    {
      "cell_type": "code",
      "metadata": {
        "id": "-wh9DC9VWF6O"
      },
      "source": [
        "url = 'https://api.worldweatheronline.com/premium/v1/past-weather.ashx?'"
      ],
      "execution_count": 301,
      "outputs": []
    },
    {
      "cell_type": "code",
      "metadata": {
        "id": "NZqJjXELWF9l"
      },
      "source": [
        "dep_weather_list = []"
      ],
      "execution_count": 302,
      "outputs": []
    },
    {
      "cell_type": "markdown",
      "metadata": {
        "id": "Fn5zFlPmXx5o"
      },
      "source": [
        "#### **Task 4**: How taxi times changing during the day? Does higher traffic lead to bigger taxi times?"
      ]
    },
    {
      "cell_type": "code",
      "metadata": {
        "id": "tU2wYvcWgHGn"
      },
      "source": [
        "taxi_time = df_flights[['taxi_out','taxi_in','dep_time','arr_time']]"
      ],
      "execution_count": 303,
      "outputs": []
    },
    {
      "cell_type": "code",
      "metadata": {
        "colab": {
          "base_uri": "https://localhost:8080/",
          "height": 419
        },
        "id": "7uFRLk9SgHKS",
        "outputId": "0ff970c4-b3f3-49f2-cb29-05d1f7dc4ef7"
      },
      "source": [
        "taxi_time"
      ],
      "execution_count": 304,
      "outputs": [
        {
          "output_type": "execute_result",
          "data": {
            "text/html": [
              "<div>\n",
              "<style scoped>\n",
              "    .dataframe tbody tr th:only-of-type {\n",
              "        vertical-align: middle;\n",
              "    }\n",
              "\n",
              "    .dataframe tbody tr th {\n",
              "        vertical-align: top;\n",
              "    }\n",
              "\n",
              "    .dataframe thead th {\n",
              "        text-align: right;\n",
              "    }\n",
              "</style>\n",
              "<table border=\"1\" class=\"dataframe\">\n",
              "  <thead>\n",
              "    <tr style=\"text-align: right;\">\n",
              "      <th></th>\n",
              "      <th>taxi_out</th>\n",
              "      <th>taxi_in</th>\n",
              "      <th>dep_time</th>\n",
              "      <th>arr_time</th>\n",
              "    </tr>\n",
              "  </thead>\n",
              "  <tbody>\n",
              "    <tr>\n",
              "      <th>0</th>\n",
              "      <td>21.0</td>\n",
              "      <td>3.0</td>\n",
              "      <td>828.0</td>\n",
              "      <td>955.0</td>\n",
              "    </tr>\n",
              "    <tr>\n",
              "      <th>1</th>\n",
              "      <td>12.0</td>\n",
              "      <td>8.0</td>\n",
              "      <td>1337.0</td>\n",
              "      <td>1445.0</td>\n",
              "    </tr>\n",
              "    <tr>\n",
              "      <th>2</th>\n",
              "      <td>7.0</td>\n",
              "      <td>6.0</td>\n",
              "      <td>1720.0</td>\n",
              "      <td>1757.0</td>\n",
              "    </tr>\n",
              "    <tr>\n",
              "      <th>3</th>\n",
              "      <td>34.0</td>\n",
              "      <td>7.0</td>\n",
              "      <td>1049.0</td>\n",
              "      <td>1303.0</td>\n",
              "    </tr>\n",
              "    <tr>\n",
              "      <th>4</th>\n",
              "      <td>11.0</td>\n",
              "      <td>6.0</td>\n",
              "      <td>619.0</td>\n",
              "      <td>844.0</td>\n",
              "    </tr>\n",
              "    <tr>\n",
              "      <th>...</th>\n",
              "      <td>...</td>\n",
              "      <td>...</td>\n",
              "      <td>...</td>\n",
              "      <td>...</td>\n",
              "    </tr>\n",
              "    <tr>\n",
              "      <th>59995</th>\n",
              "      <td>16.0</td>\n",
              "      <td>4.0</td>\n",
              "      <td>1351.0</td>\n",
              "      <td>1515.0</td>\n",
              "    </tr>\n",
              "    <tr>\n",
              "      <th>59996</th>\n",
              "      <td>30.0</td>\n",
              "      <td>7.0</td>\n",
              "      <td>1149.0</td>\n",
              "      <td>1828.0</td>\n",
              "    </tr>\n",
              "    <tr>\n",
              "      <th>59997</th>\n",
              "      <td>62.0</td>\n",
              "      <td>15.0</td>\n",
              "      <td>742.0</td>\n",
              "      <td>931.0</td>\n",
              "    </tr>\n",
              "    <tr>\n",
              "      <th>59998</th>\n",
              "      <td>21.0</td>\n",
              "      <td>4.0</td>\n",
              "      <td>1124.0</td>\n",
              "      <td>1243.0</td>\n",
              "    </tr>\n",
              "    <tr>\n",
              "      <th>59999</th>\n",
              "      <td>16.0</td>\n",
              "      <td>7.0</td>\n",
              "      <td>1230.0</td>\n",
              "      <td>1417.0</td>\n",
              "    </tr>\n",
              "  </tbody>\n",
              "</table>\n",
              "<p>60000 rows × 4 columns</p>\n",
              "</div>"
            ],
            "text/plain": [
              "       taxi_out  taxi_in  dep_time  arr_time\n",
              "0          21.0      3.0     828.0     955.0\n",
              "1          12.0      8.0    1337.0    1445.0\n",
              "2           7.0      6.0    1720.0    1757.0\n",
              "3          34.0      7.0    1049.0    1303.0\n",
              "4          11.0      6.0     619.0     844.0\n",
              "...         ...      ...       ...       ...\n",
              "59995      16.0      4.0    1351.0    1515.0\n",
              "59996      30.0      7.0    1149.0    1828.0\n",
              "59997      62.0     15.0     742.0     931.0\n",
              "59998      21.0      4.0    1124.0    1243.0\n",
              "59999      16.0      7.0    1230.0    1417.0\n",
              "\n",
              "[60000 rows x 4 columns]"
            ]
          },
          "metadata": {
            "tags": []
          },
          "execution_count": 304
        }
      ]
    },
    {
      "cell_type": "code",
      "metadata": {
        "colab": {
          "base_uri": "https://localhost:8080/",
          "height": 691
        },
        "id": "3fHT5ogwgHNM",
        "outputId": "b935214a-3ecd-4827-fd93-01e72991f9d4"
      },
      "source": [
        "taxi_time['dep_time_hr'] = round(taxi_time['dep_time']/100)\n",
        "taxi_time['arr_time_hr'] = round(taxi_time['arr_time']/100)\n",
        "taxi_time.drop(columns=['dep_time','arr_time'])"
      ],
      "execution_count": 305,
      "outputs": [
        {
          "output_type": "stream",
          "text": [
            "/usr/local/lib/python3.6/dist-packages/ipykernel_launcher.py:1: SettingWithCopyWarning:\n",
            "\n",
            "\n",
            "A value is trying to be set on a copy of a slice from a DataFrame.\n",
            "Try using .loc[row_indexer,col_indexer] = value instead\n",
            "\n",
            "See the caveats in the documentation: https://pandas.pydata.org/pandas-docs/stable/user_guide/indexing.html#returning-a-view-versus-a-copy\n",
            "\n",
            "/usr/local/lib/python3.6/dist-packages/ipykernel_launcher.py:2: SettingWithCopyWarning:\n",
            "\n",
            "\n",
            "A value is trying to be set on a copy of a slice from a DataFrame.\n",
            "Try using .loc[row_indexer,col_indexer] = value instead\n",
            "\n",
            "See the caveats in the documentation: https://pandas.pydata.org/pandas-docs/stable/user_guide/indexing.html#returning-a-view-versus-a-copy\n",
            "\n"
          ],
          "name": "stderr"
        },
        {
          "output_type": "execute_result",
          "data": {
            "text/html": [
              "<div>\n",
              "<style scoped>\n",
              "    .dataframe tbody tr th:only-of-type {\n",
              "        vertical-align: middle;\n",
              "    }\n",
              "\n",
              "    .dataframe tbody tr th {\n",
              "        vertical-align: top;\n",
              "    }\n",
              "\n",
              "    .dataframe thead th {\n",
              "        text-align: right;\n",
              "    }\n",
              "</style>\n",
              "<table border=\"1\" class=\"dataframe\">\n",
              "  <thead>\n",
              "    <tr style=\"text-align: right;\">\n",
              "      <th></th>\n",
              "      <th>taxi_out</th>\n",
              "      <th>taxi_in</th>\n",
              "      <th>dep_time_hr</th>\n",
              "      <th>arr_time_hr</th>\n",
              "    </tr>\n",
              "  </thead>\n",
              "  <tbody>\n",
              "    <tr>\n",
              "      <th>0</th>\n",
              "      <td>21.0</td>\n",
              "      <td>3.0</td>\n",
              "      <td>8.0</td>\n",
              "      <td>10.0</td>\n",
              "    </tr>\n",
              "    <tr>\n",
              "      <th>1</th>\n",
              "      <td>12.0</td>\n",
              "      <td>8.0</td>\n",
              "      <td>13.0</td>\n",
              "      <td>14.0</td>\n",
              "    </tr>\n",
              "    <tr>\n",
              "      <th>2</th>\n",
              "      <td>7.0</td>\n",
              "      <td>6.0</td>\n",
              "      <td>17.0</td>\n",
              "      <td>18.0</td>\n",
              "    </tr>\n",
              "    <tr>\n",
              "      <th>3</th>\n",
              "      <td>34.0</td>\n",
              "      <td>7.0</td>\n",
              "      <td>10.0</td>\n",
              "      <td>13.0</td>\n",
              "    </tr>\n",
              "    <tr>\n",
              "      <th>4</th>\n",
              "      <td>11.0</td>\n",
              "      <td>6.0</td>\n",
              "      <td>6.0</td>\n",
              "      <td>8.0</td>\n",
              "    </tr>\n",
              "    <tr>\n",
              "      <th>...</th>\n",
              "      <td>...</td>\n",
              "      <td>...</td>\n",
              "      <td>...</td>\n",
              "      <td>...</td>\n",
              "    </tr>\n",
              "    <tr>\n",
              "      <th>59995</th>\n",
              "      <td>16.0</td>\n",
              "      <td>4.0</td>\n",
              "      <td>14.0</td>\n",
              "      <td>15.0</td>\n",
              "    </tr>\n",
              "    <tr>\n",
              "      <th>59996</th>\n",
              "      <td>30.0</td>\n",
              "      <td>7.0</td>\n",
              "      <td>11.0</td>\n",
              "      <td>18.0</td>\n",
              "    </tr>\n",
              "    <tr>\n",
              "      <th>59997</th>\n",
              "      <td>62.0</td>\n",
              "      <td>15.0</td>\n",
              "      <td>7.0</td>\n",
              "      <td>9.0</td>\n",
              "    </tr>\n",
              "    <tr>\n",
              "      <th>59998</th>\n",
              "      <td>21.0</td>\n",
              "      <td>4.0</td>\n",
              "      <td>11.0</td>\n",
              "      <td>12.0</td>\n",
              "    </tr>\n",
              "    <tr>\n",
              "      <th>59999</th>\n",
              "      <td>16.0</td>\n",
              "      <td>7.0</td>\n",
              "      <td>12.0</td>\n",
              "      <td>14.0</td>\n",
              "    </tr>\n",
              "  </tbody>\n",
              "</table>\n",
              "<p>60000 rows × 4 columns</p>\n",
              "</div>"
            ],
            "text/plain": [
              "       taxi_out  taxi_in  dep_time_hr  arr_time_hr\n",
              "0          21.0      3.0          8.0         10.0\n",
              "1          12.0      8.0         13.0         14.0\n",
              "2           7.0      6.0         17.0         18.0\n",
              "3          34.0      7.0         10.0         13.0\n",
              "4          11.0      6.0          6.0          8.0\n",
              "...         ...      ...          ...          ...\n",
              "59995      16.0      4.0         14.0         15.0\n",
              "59996      30.0      7.0         11.0         18.0\n",
              "59997      62.0     15.0          7.0          9.0\n",
              "59998      21.0      4.0         11.0         12.0\n",
              "59999      16.0      7.0         12.0         14.0\n",
              "\n",
              "[60000 rows x 4 columns]"
            ]
          },
          "metadata": {
            "tags": []
          },
          "execution_count": 305
        }
      ]
    },
    {
      "cell_type": "code",
      "metadata": {
        "colab": {
          "base_uri": "https://localhost:8080/",
          "height": 824
        },
        "id": "HgcOxq0BkozO",
        "outputId": "5582fc02-b8fd-49a9-f51f-4b1c88d0228f"
      },
      "source": [
        "dp_hour_taxi_time_count = taxi_time.groupby(['dep_time_hr']).count()['taxi_out'].reset_index().sort_values(by='dep_time_hr')\n",
        "                              \n",
        "dp_hour_taxi_time_count\n",
        "\n"
      ],
      "execution_count": 306,
      "outputs": [
        {
          "output_type": "execute_result",
          "data": {
            "text/html": [
              "<div>\n",
              "<style scoped>\n",
              "    .dataframe tbody tr th:only-of-type {\n",
              "        vertical-align: middle;\n",
              "    }\n",
              "\n",
              "    .dataframe tbody tr th {\n",
              "        vertical-align: top;\n",
              "    }\n",
              "\n",
              "    .dataframe thead th {\n",
              "        text-align: right;\n",
              "    }\n",
              "</style>\n",
              "<table border=\"1\" class=\"dataframe\">\n",
              "  <thead>\n",
              "    <tr style=\"text-align: right;\">\n",
              "      <th></th>\n",
              "      <th>dep_time_hr</th>\n",
              "      <th>taxi_out</th>\n",
              "    </tr>\n",
              "  </thead>\n",
              "  <tbody>\n",
              "    <tr>\n",
              "      <th>0</th>\n",
              "      <td>0.0</td>\n",
              "      <td>225</td>\n",
              "    </tr>\n",
              "    <tr>\n",
              "      <th>1</th>\n",
              "      <td>1.0</td>\n",
              "      <td>91</td>\n",
              "    </tr>\n",
              "    <tr>\n",
              "      <th>2</th>\n",
              "      <td>2.0</td>\n",
              "      <td>29</td>\n",
              "    </tr>\n",
              "    <tr>\n",
              "      <th>3</th>\n",
              "      <td>3.0</td>\n",
              "      <td>20</td>\n",
              "    </tr>\n",
              "    <tr>\n",
              "      <th>4</th>\n",
              "      <td>4.0</td>\n",
              "      <td>22</td>\n",
              "    </tr>\n",
              "    <tr>\n",
              "      <th>5</th>\n",
              "      <td>5.0</td>\n",
              "      <td>1261</td>\n",
              "    </tr>\n",
              "    <tr>\n",
              "      <th>6</th>\n",
              "      <td>6.0</td>\n",
              "      <td>4051</td>\n",
              "    </tr>\n",
              "    <tr>\n",
              "      <th>7</th>\n",
              "      <td>7.0</td>\n",
              "      <td>3712</td>\n",
              "    </tr>\n",
              "    <tr>\n",
              "      <th>8</th>\n",
              "      <td>8.0</td>\n",
              "      <td>3885</td>\n",
              "    </tr>\n",
              "    <tr>\n",
              "      <th>9</th>\n",
              "      <td>9.0</td>\n",
              "      <td>3262</td>\n",
              "    </tr>\n",
              "    <tr>\n",
              "      <th>10</th>\n",
              "      <td>10.0</td>\n",
              "      <td>3696</td>\n",
              "    </tr>\n",
              "    <tr>\n",
              "      <th>11</th>\n",
              "      <td>11.0</td>\n",
              "      <td>3363</td>\n",
              "    </tr>\n",
              "    <tr>\n",
              "      <th>12</th>\n",
              "      <td>12.0</td>\n",
              "      <td>3764</td>\n",
              "    </tr>\n",
              "    <tr>\n",
              "      <th>13</th>\n",
              "      <td>13.0</td>\n",
              "      <td>3286</td>\n",
              "    </tr>\n",
              "    <tr>\n",
              "      <th>14</th>\n",
              "      <td>14.0</td>\n",
              "      <td>3427</td>\n",
              "    </tr>\n",
              "    <tr>\n",
              "      <th>15</th>\n",
              "      <td>15.0</td>\n",
              "      <td>3468</td>\n",
              "    </tr>\n",
              "    <tr>\n",
              "      <th>16</th>\n",
              "      <td>16.0</td>\n",
              "      <td>3374</td>\n",
              "    </tr>\n",
              "    <tr>\n",
              "      <th>17</th>\n",
              "      <td>17.0</td>\n",
              "      <td>3663</td>\n",
              "    </tr>\n",
              "    <tr>\n",
              "      <th>18</th>\n",
              "      <td>18.0</td>\n",
              "      <td>3518</td>\n",
              "    </tr>\n",
              "    <tr>\n",
              "      <th>19</th>\n",
              "      <td>19.0</td>\n",
              "      <td>3023</td>\n",
              "    </tr>\n",
              "    <tr>\n",
              "      <th>20</th>\n",
              "      <td>20.0</td>\n",
              "      <td>3186</td>\n",
              "    </tr>\n",
              "    <tr>\n",
              "      <th>21</th>\n",
              "      <td>21.0</td>\n",
              "      <td>1976</td>\n",
              "    </tr>\n",
              "    <tr>\n",
              "      <th>22</th>\n",
              "      <td>22.0</td>\n",
              "      <td>1869</td>\n",
              "    </tr>\n",
              "    <tr>\n",
              "      <th>23</th>\n",
              "      <td>23.0</td>\n",
              "      <td>706</td>\n",
              "    </tr>\n",
              "    <tr>\n",
              "      <th>24</th>\n",
              "      <td>24.0</td>\n",
              "      <td>87</td>\n",
              "    </tr>\n",
              "  </tbody>\n",
              "</table>\n",
              "</div>"
            ],
            "text/plain": [
              "    dep_time_hr  taxi_out\n",
              "0           0.0       225\n",
              "1           1.0        91\n",
              "2           2.0        29\n",
              "3           3.0        20\n",
              "4           4.0        22\n",
              "5           5.0      1261\n",
              "6           6.0      4051\n",
              "7           7.0      3712\n",
              "8           8.0      3885\n",
              "9           9.0      3262\n",
              "10         10.0      3696\n",
              "11         11.0      3363\n",
              "12         12.0      3764\n",
              "13         13.0      3286\n",
              "14         14.0      3427\n",
              "15         15.0      3468\n",
              "16         16.0      3374\n",
              "17         17.0      3663\n",
              "18         18.0      3518\n",
              "19         19.0      3023\n",
              "20         20.0      3186\n",
              "21         21.0      1976\n",
              "22         22.0      1869\n",
              "23         23.0       706\n",
              "24         24.0        87"
            ]
          },
          "metadata": {
            "tags": []
          },
          "execution_count": 306
        }
      ]
    },
    {
      "cell_type": "code",
      "metadata": {
        "colab": {
          "base_uri": "https://localhost:8080/",
          "height": 824
        },
        "id": "MEnfrvVVgHSS",
        "outputId": "41633bba-8df9-4dcc-b57b-551b6238ba7c"
      },
      "source": [
        "dp_hour_taxi_time = taxi_time.groupby(taxi_time['dep_time_hr'])['taxi_out'].mean().reset_index()\n",
        "dp_hour_taxi_time"
      ],
      "execution_count": 307,
      "outputs": [
        {
          "output_type": "execute_result",
          "data": {
            "text/html": [
              "<div>\n",
              "<style scoped>\n",
              "    .dataframe tbody tr th:only-of-type {\n",
              "        vertical-align: middle;\n",
              "    }\n",
              "\n",
              "    .dataframe tbody tr th {\n",
              "        vertical-align: top;\n",
              "    }\n",
              "\n",
              "    .dataframe thead th {\n",
              "        text-align: right;\n",
              "    }\n",
              "</style>\n",
              "<table border=\"1\" class=\"dataframe\">\n",
              "  <thead>\n",
              "    <tr style=\"text-align: right;\">\n",
              "      <th></th>\n",
              "      <th>dep_time_hr</th>\n",
              "      <th>taxi_out</th>\n",
              "    </tr>\n",
              "  </thead>\n",
              "  <tbody>\n",
              "    <tr>\n",
              "      <th>0</th>\n",
              "      <td>0.0</td>\n",
              "      <td>16.635556</td>\n",
              "    </tr>\n",
              "    <tr>\n",
              "      <th>1</th>\n",
              "      <td>1.0</td>\n",
              "      <td>15.439560</td>\n",
              "    </tr>\n",
              "    <tr>\n",
              "      <th>2</th>\n",
              "      <td>2.0</td>\n",
              "      <td>12.862069</td>\n",
              "    </tr>\n",
              "    <tr>\n",
              "      <th>3</th>\n",
              "      <td>3.0</td>\n",
              "      <td>11.050000</td>\n",
              "    </tr>\n",
              "    <tr>\n",
              "      <th>4</th>\n",
              "      <td>4.0</td>\n",
              "      <td>15.045455</td>\n",
              "    </tr>\n",
              "    <tr>\n",
              "      <th>5</th>\n",
              "      <td>5.0</td>\n",
              "      <td>14.781126</td>\n",
              "    </tr>\n",
              "    <tr>\n",
              "      <th>6</th>\n",
              "      <td>6.0</td>\n",
              "      <td>16.787460</td>\n",
              "    </tr>\n",
              "    <tr>\n",
              "      <th>7</th>\n",
              "      <td>7.0</td>\n",
              "      <td>17.691002</td>\n",
              "    </tr>\n",
              "    <tr>\n",
              "      <th>8</th>\n",
              "      <td>8.0</td>\n",
              "      <td>19.030888</td>\n",
              "    </tr>\n",
              "    <tr>\n",
              "      <th>9</th>\n",
              "      <td>9.0</td>\n",
              "      <td>18.546597</td>\n",
              "    </tr>\n",
              "    <tr>\n",
              "      <th>10</th>\n",
              "      <td>10.0</td>\n",
              "      <td>18.136634</td>\n",
              "    </tr>\n",
              "    <tr>\n",
              "      <th>11</th>\n",
              "      <td>11.0</td>\n",
              "      <td>17.352959</td>\n",
              "    </tr>\n",
              "    <tr>\n",
              "      <th>12</th>\n",
              "      <td>12.0</td>\n",
              "      <td>17.009033</td>\n",
              "    </tr>\n",
              "    <tr>\n",
              "      <th>13</th>\n",
              "      <td>13.0</td>\n",
              "      <td>16.391662</td>\n",
              "    </tr>\n",
              "    <tr>\n",
              "      <th>14</th>\n",
              "      <td>14.0</td>\n",
              "      <td>16.798658</td>\n",
              "    </tr>\n",
              "    <tr>\n",
              "      <th>15</th>\n",
              "      <td>15.0</td>\n",
              "      <td>17.427624</td>\n",
              "    </tr>\n",
              "    <tr>\n",
              "      <th>16</th>\n",
              "      <td>16.0</td>\n",
              "      <td>17.480735</td>\n",
              "    </tr>\n",
              "    <tr>\n",
              "      <th>17</th>\n",
              "      <td>17.0</td>\n",
              "      <td>17.502048</td>\n",
              "    </tr>\n",
              "    <tr>\n",
              "      <th>18</th>\n",
              "      <td>18.0</td>\n",
              "      <td>18.381467</td>\n",
              "    </tr>\n",
              "    <tr>\n",
              "      <th>19</th>\n",
              "      <td>19.0</td>\n",
              "      <td>17.349653</td>\n",
              "    </tr>\n",
              "    <tr>\n",
              "      <th>20</th>\n",
              "      <td>20.0</td>\n",
              "      <td>18.178908</td>\n",
              "    </tr>\n",
              "    <tr>\n",
              "      <th>21</th>\n",
              "      <td>21.0</td>\n",
              "      <td>17.988866</td>\n",
              "    </tr>\n",
              "    <tr>\n",
              "      <th>22</th>\n",
              "      <td>22.0</td>\n",
              "      <td>17.308186</td>\n",
              "    </tr>\n",
              "    <tr>\n",
              "      <th>23</th>\n",
              "      <td>23.0</td>\n",
              "      <td>16.399433</td>\n",
              "    </tr>\n",
              "    <tr>\n",
              "      <th>24</th>\n",
              "      <td>24.0</td>\n",
              "      <td>16.321839</td>\n",
              "    </tr>\n",
              "  </tbody>\n",
              "</table>\n",
              "</div>"
            ],
            "text/plain": [
              "    dep_time_hr   taxi_out\n",
              "0           0.0  16.635556\n",
              "1           1.0  15.439560\n",
              "2           2.0  12.862069\n",
              "3           3.0  11.050000\n",
              "4           4.0  15.045455\n",
              "5           5.0  14.781126\n",
              "6           6.0  16.787460\n",
              "7           7.0  17.691002\n",
              "8           8.0  19.030888\n",
              "9           9.0  18.546597\n",
              "10         10.0  18.136634\n",
              "11         11.0  17.352959\n",
              "12         12.0  17.009033\n",
              "13         13.0  16.391662\n",
              "14         14.0  16.798658\n",
              "15         15.0  17.427624\n",
              "16         16.0  17.480735\n",
              "17         17.0  17.502048\n",
              "18         18.0  18.381467\n",
              "19         19.0  17.349653\n",
              "20         20.0  18.178908\n",
              "21         21.0  17.988866\n",
              "22         22.0  17.308186\n",
              "23         23.0  16.399433\n",
              "24         24.0  16.321839"
            ]
          },
          "metadata": {
            "tags": []
          },
          "execution_count": 307
        }
      ]
    },
    {
      "cell_type": "code",
      "metadata": {
        "colab": {
          "base_uri": "https://localhost:8080/",
          "height": 282
        },
        "id": "cVHCQK45gHVq",
        "outputId": "71052351-bd24-48fd-88bc-5d9e49931020"
      },
      "source": [
        "fig, ax = plt.subplots()\n",
        "ax.scatter(x = dp_hour_taxi_time['taxi_out'], y = dp_hour_taxi_time_count['taxi_out'])\n",
        "plt.ylabel('sum_time', fontsize=13)\n",
        "plt.xlabel('avg', fontsize=13)\n",
        "plt.show()"
      ],
      "execution_count": 308,
      "outputs": [
        {
          "output_type": "display_data",
          "data": {
            "image/png": "[encoded data removed]",
            "text/plain": [
              "<Figure size 432x288 with 1 Axes>"
            ]
          },
          "metadata": {
            "tags": [],
            "needs_background": "light"
          }
        }
      ]
    },
    {
      "cell_type": "markdown",
      "metadata": {
        "id": "0qViFUAvXyBM"
      },
      "source": [
        "#### **Task 5**: What is the average percentage of delays that is already created before departure? (aka are arrival delays caused by departure delays?) Are airlines able to lower the delay during the flights?"
      ]
    },
    {
      "cell_type": "code",
      "metadata": {
        "id": "wEDRizP5-3ch"
      },
      "source": [
        "dep_delay = df_flights[df_flights['dep_delay']>0]"
      ],
      "execution_count": 309,
      "outputs": []
    },
    {
      "cell_type": "code",
      "metadata": {
        "colab": {
          "base_uri": "https://localhost:8080/"
        },
        "id": "-4QcWcXM-4Bw",
        "outputId": "3bc70072-98e9-49e2-f81d-1ea3e28aaa3f"
      },
      "source": [
        "total_dep_delay = dep_delay.count()['dep_delay']\n",
        "total_dep_delay "
      ],
      "execution_count": 310,
      "outputs": [
        {
          "output_type": "execute_result",
          "data": {
            "text/plain": [
              "19864"
            ]
          },
          "metadata": {
            "tags": []
          },
          "execution_count": 310
        }
      ]
    },
    {
      "cell_type": "code",
      "metadata": {
        "id": "CTSAS3urAJ53"
      },
      "source": [
        "arr_delay_ = dep_delay[dep_delay['arr_delay']>0]"
      ],
      "execution_count": 311,
      "outputs": []
    },
    {
      "cell_type": "code",
      "metadata": {
        "colab": {
          "base_uri": "https://localhost:8080/"
        },
        "id": "SK1bCmvzAJ8x",
        "outputId": "c23f524d-ec83-4ec5-8d97-60126fad5e76"
      },
      "source": [
        "total_arr_delay_ = arr_delay_.count()['arr_delay']\n",
        "total_arr_delay_"
      ],
      "execution_count": 312,
      "outputs": [
        {
          "output_type": "execute_result",
          "data": {
            "text/plain": [
              "14473"
            ]
          },
          "metadata": {
            "tags": []
          },
          "execution_count": 312
        }
      ]
    },
    {
      "cell_type": "code",
      "metadata": {
        "colab": {
          "base_uri": "https://localhost:8080/",
          "height": 283
        },
        "id": "uPQY1mfaAKAy",
        "outputId": "073e55ca-e64a-4d7f-b27c-d69258180c2a"
      },
      "source": [
        "fig = plt.figure()\n",
        "s = fig.add_subplot(111)\n",
        "s.bar([1, 2], [total_dep_delay , total_arr_delay_], width=1, tick_label=['Dep_delay', 'Arr_delay'], align='center')\n"
      ],
      "execution_count": 313,
      "outputs": [
        {
          "output_type": "execute_result",
          "data": {
            "text/plain": [
              "<BarContainer object of 2 artists>"
            ]
          },
          "metadata": {
            "tags": []
          },
          "execution_count": 313
        },
        {
          "output_type": "display_data",
          "data": {
            "image/png": "[encoded data removed]",
            "text/plain": [
              "<Figure size 432x288 with 1 Axes>"
            ]
          },
          "metadata": {
            "tags": [],
            "needs_background": "light"
          }
        }
      ]
    },
    {
      "cell_type": "code",
      "metadata": {
        "id": "0o0rvJ-3AKIO"
      },
      "source": [
        ""
      ],
      "execution_count": 313,
      "outputs": []
    },
    {
      "cell_type": "code",
      "metadata": {
        "id": "9TjoPcxGAKK8"
      },
      "source": [
        ""
      ],
      "execution_count": 313,
      "outputs": []
    },
    {
      "cell_type": "markdown",
      "metadata": {
        "id": "Zh5uRECVXyP-"
      },
      "source": [
        "#### **Task 6**: How many states cover 50% of US air traffic? "
      ]
    },
    {
      "cell_type": "code",
      "metadata": {
        "id": "Fs46cYgmDfe6"
      },
      "source": [
        "df_trafic = df_flights[['origin_city_name']]"
      ],
      "execution_count": 314,
      "outputs": []
    },
    {
      "cell_type": "code",
      "metadata": {
        "colab": {
          "base_uri": "https://localhost:8080/",
          "height": 555
        },
        "id": "E6_lCemWDfnq",
        "outputId": "bc2f101d-0822-4c6d-86c5-66e8fb773778"
      },
      "source": [
        "df_trafic['state'] = df_trafic['origin_city_name'].str[-2:]\n",
        "df_trafic"
      ],
      "execution_count": 315,
      "outputs": [
        {
          "output_type": "stream",
          "text": [
            "/usr/local/lib/python3.6/dist-packages/ipykernel_launcher.py:1: SettingWithCopyWarning:\n",
            "\n",
            "\n",
            "A value is trying to be set on a copy of a slice from a DataFrame.\n",
            "Try using .loc[row_indexer,col_indexer] = value instead\n",
            "\n",
            "See the caveats in the documentation: https://pandas.pydata.org/pandas-docs/stable/user_guide/indexing.html#returning-a-view-versus-a-copy\n",
            "\n"
          ],
          "name": "stderr"
        },
        {
          "output_type": "execute_result",
          "data": {
            "text/html": [
              "<div>\n",
              "<style scoped>\n",
              "    .dataframe tbody tr th:only-of-type {\n",
              "        vertical-align: middle;\n",
              "    }\n",
              "\n",
              "    .dataframe tbody tr th {\n",
              "        vertical-align: top;\n",
              "    }\n",
              "\n",
              "    .dataframe thead th {\n",
              "        text-align: right;\n",
              "    }\n",
              "</style>\n",
              "<table border=\"1\" class=\"dataframe\">\n",
              "  <thead>\n",
              "    <tr style=\"text-align: right;\">\n",
              "      <th></th>\n",
              "      <th>origin_city_name</th>\n",
              "      <th>state</th>\n",
              "    </tr>\n",
              "  </thead>\n",
              "  <tbody>\n",
              "    <tr>\n",
              "      <th>0</th>\n",
              "      <td>Atlanta, GA</td>\n",
              "      <td>GA</td>\n",
              "    </tr>\n",
              "    <tr>\n",
              "      <th>1</th>\n",
              "      <td>Atlanta, GA</td>\n",
              "      <td>GA</td>\n",
              "    </tr>\n",
              "    <tr>\n",
              "      <th>2</th>\n",
              "      <td>Kahului, HI</td>\n",
              "      <td>HI</td>\n",
              "    </tr>\n",
              "    <tr>\n",
              "      <th>3</th>\n",
              "      <td>Newark, NJ</td>\n",
              "      <td>NJ</td>\n",
              "    </tr>\n",
              "    <tr>\n",
              "      <th>4</th>\n",
              "      <td>Tampa, FL</td>\n",
              "      <td>FL</td>\n",
              "    </tr>\n",
              "    <tr>\n",
              "      <th>...</th>\n",
              "      <td>...</td>\n",
              "      <td>...</td>\n",
              "    </tr>\n",
              "    <tr>\n",
              "      <th>59995</th>\n",
              "      <td>Oakland, CA</td>\n",
              "      <td>CA</td>\n",
              "    </tr>\n",
              "    <tr>\n",
              "      <th>59996</th>\n",
              "      <td>Seattle, WA</td>\n",
              "      <td>WA</td>\n",
              "    </tr>\n",
              "    <tr>\n",
              "      <th>59997</th>\n",
              "      <td>Charlotte, NC</td>\n",
              "      <td>NC</td>\n",
              "    </tr>\n",
              "    <tr>\n",
              "      <th>59998</th>\n",
              "      <td>Atlanta, GA</td>\n",
              "      <td>GA</td>\n",
              "    </tr>\n",
              "    <tr>\n",
              "      <th>59999</th>\n",
              "      <td>El Paso, TX</td>\n",
              "      <td>TX</td>\n",
              "    </tr>\n",
              "  </tbody>\n",
              "</table>\n",
              "<p>60000 rows × 2 columns</p>\n",
              "</div>"
            ],
            "text/plain": [
              "      origin_city_name state\n",
              "0          Atlanta, GA    GA\n",
              "1          Atlanta, GA    GA\n",
              "2          Kahului, HI    HI\n",
              "3           Newark, NJ    NJ\n",
              "4            Tampa, FL    FL\n",
              "...                ...   ...\n",
              "59995      Oakland, CA    CA\n",
              "59996      Seattle, WA    WA\n",
              "59997    Charlotte, NC    NC\n",
              "59998      Atlanta, GA    GA\n",
              "59999      El Paso, TX    TX\n",
              "\n",
              "[60000 rows x 2 columns]"
            ]
          },
          "metadata": {
            "tags": []
          },
          "execution_count": 315
        }
      ]
    },
    {
      "cell_type": "code",
      "metadata": {
        "id": "Y69r83DzGEja"
      },
      "source": [
        ""
      ],
      "execution_count": 315,
      "outputs": []
    },
    {
      "cell_type": "code",
      "metadata": {
        "colab": {
          "base_uri": "https://localhost:8080/",
          "height": 1000
        },
        "id": "fTzAOibmDfqx",
        "outputId": "a6f2d78e-0f24-4a02-fe2f-1226bbcb2ac7"
      },
      "source": [
        "total_state_flights_mean = df_trafic.groupby(by=['state']).count().reset_index().sort_values(by='origin_city_name')\n",
        "total_state_flights_mean"
      ],
      "execution_count": 316,
      "outputs": [
        {
          "output_type": "execute_result",
          "data": {
            "text/html": [
              "<div>\n",
              "<style scoped>\n",
              "    .dataframe tbody tr th:only-of-type {\n",
              "        vertical-align: middle;\n",
              "    }\n",
              "\n",
              "    .dataframe tbody tr th {\n",
              "        vertical-align: top;\n",
              "    }\n",
              "\n",
              "    .dataframe thead th {\n",
              "        text-align: right;\n",
              "    }\n",
              "</style>\n",
              "<table border=\"1\" class=\"dataframe\">\n",
              "  <thead>\n",
              "    <tr style=\"text-align: right;\">\n",
              "      <th></th>\n",
              "      <th>state</th>\n",
              "      <th>origin_city_name</th>\n",
              "    </tr>\n",
              "  </thead>\n",
              "  <tbody>\n",
              "    <tr>\n",
              "      <th>43</th>\n",
              "      <td>TT</td>\n",
              "      <td>13</td>\n",
              "    </tr>\n",
              "    <tr>\n",
              "      <th>47</th>\n",
              "      <td>VI</td>\n",
              "      <td>29</td>\n",
              "    </tr>\n",
              "    <tr>\n",
              "      <th>51</th>\n",
              "      <td>WV</td>\n",
              "      <td>69</td>\n",
              "    </tr>\n",
              "    <tr>\n",
              "      <th>52</th>\n",
              "      <td>WY</td>\n",
              "      <td>79</td>\n",
              "    </tr>\n",
              "    <tr>\n",
              "      <th>48</th>\n",
              "      <td>VT</td>\n",
              "      <td>79</td>\n",
              "    </tr>\n",
              "    <tr>\n",
              "      <th>29</th>\n",
              "      <td>NH</td>\n",
              "      <td>84</td>\n",
              "    </tr>\n",
              "    <tr>\n",
              "      <th>24</th>\n",
              "      <td>MS</td>\n",
              "      <td>97</td>\n",
              "    </tr>\n",
              "    <tr>\n",
              "      <th>41</th>\n",
              "      <td>SD</td>\n",
              "      <td>99</td>\n",
              "    </tr>\n",
              "    <tr>\n",
              "      <th>15</th>\n",
              "      <td>KS</td>\n",
              "      <td>125</td>\n",
              "    </tr>\n",
              "    <tr>\n",
              "      <th>27</th>\n",
              "      <td>ND</td>\n",
              "      <td>141</td>\n",
              "    </tr>\n",
              "    <tr>\n",
              "      <th>20</th>\n",
              "      <td>ME</td>\n",
              "      <td>145</td>\n",
              "    </tr>\n",
              "    <tr>\n",
              "      <th>39</th>\n",
              "      <td>RI</td>\n",
              "      <td>149</td>\n",
              "    </tr>\n",
              "    <tr>\n",
              "      <th>38</th>\n",
              "      <td>PR</td>\n",
              "      <td>217</td>\n",
              "    </tr>\n",
              "    <tr>\n",
              "      <th>2</th>\n",
              "      <td>AR</td>\n",
              "      <td>226</td>\n",
              "    </tr>\n",
              "    <tr>\n",
              "      <th>12</th>\n",
              "      <td>ID</td>\n",
              "      <td>227</td>\n",
              "    </tr>\n",
              "    <tr>\n",
              "      <th>6</th>\n",
              "      <td>CT</td>\n",
              "      <td>231</td>\n",
              "    </tr>\n",
              "    <tr>\n",
              "      <th>25</th>\n",
              "      <td>MT</td>\n",
              "      <td>239</td>\n",
              "    </tr>\n",
              "    <tr>\n",
              "      <th>31</th>\n",
              "      <td>NM</td>\n",
              "      <td>252</td>\n",
              "    </tr>\n",
              "    <tr>\n",
              "      <th>28</th>\n",
              "      <td>NE</td>\n",
              "      <td>256</td>\n",
              "    </tr>\n",
              "    <tr>\n",
              "      <th>11</th>\n",
              "      <td>IA</td>\n",
              "      <td>265</td>\n",
              "    </tr>\n",
              "    <tr>\n",
              "      <th>16</th>\n",
              "      <td>KY</td>\n",
              "      <td>306</td>\n",
              "    </tr>\n",
              "    <tr>\n",
              "      <th>0</th>\n",
              "      <td>AK</td>\n",
              "      <td>310</td>\n",
              "    </tr>\n",
              "    <tr>\n",
              "      <th>1</th>\n",
              "      <td>AL</td>\n",
              "      <td>334</td>\n",
              "    </tr>\n",
              "    <tr>\n",
              "      <th>35</th>\n",
              "      <td>OK</td>\n",
              "      <td>348</td>\n",
              "    </tr>\n",
              "    <tr>\n",
              "      <th>14</th>\n",
              "      <td>IN</td>\n",
              "      <td>519</td>\n",
              "    </tr>\n",
              "    <tr>\n",
              "      <th>46</th>\n",
              "      <td>VA</td>\n",
              "      <td>559</td>\n",
              "    </tr>\n",
              "    <tr>\n",
              "      <th>40</th>\n",
              "      <td>SC</td>\n",
              "      <td>559</td>\n",
              "    </tr>\n",
              "    <tr>\n",
              "      <th>50</th>\n",
              "      <td>WI</td>\n",
              "      <td>574</td>\n",
              "    </tr>\n",
              "    <tr>\n",
              "      <th>17</th>\n",
              "      <td>LA</td>\n",
              "      <td>658</td>\n",
              "    </tr>\n",
              "    <tr>\n",
              "      <th>19</th>\n",
              "      <td>MD</td>\n",
              "      <td>812</td>\n",
              "    </tr>\n",
              "    <tr>\n",
              "      <th>36</th>\n",
              "      <td>OR</td>\n",
              "      <td>860</td>\n",
              "    </tr>\n",
              "    <tr>\n",
              "      <th>10</th>\n",
              "      <td>HI</td>\n",
              "      <td>911</td>\n",
              "    </tr>\n",
              "    <tr>\n",
              "      <th>45</th>\n",
              "      <td>UT</td>\n",
              "      <td>995</td>\n",
              "    </tr>\n",
              "    <tr>\n",
              "      <th>42</th>\n",
              "      <td>TN</td>\n",
              "      <td>1051</td>\n",
              "    </tr>\n",
              "    <tr>\n",
              "      <th>23</th>\n",
              "      <td>MO</td>\n",
              "      <td>1163</td>\n",
              "    </tr>\n",
              "    <tr>\n",
              "      <th>30</th>\n",
              "      <td>NJ</td>\n",
              "      <td>1205</td>\n",
              "    </tr>\n",
              "    <tr>\n",
              "      <th>18</th>\n",
              "      <td>MA</td>\n",
              "      <td>1239</td>\n",
              "    </tr>\n",
              "    <tr>\n",
              "      <th>34</th>\n",
              "      <td>OH</td>\n",
              "      <td>1339</td>\n",
              "    </tr>\n",
              "    <tr>\n",
              "      <th>22</th>\n",
              "      <td>MN</td>\n",
              "      <td>1340</td>\n",
              "    </tr>\n",
              "    <tr>\n",
              "      <th>32</th>\n",
              "      <td>NV</td>\n",
              "      <td>1373</td>\n",
              "    </tr>\n",
              "    <tr>\n",
              "      <th>3</th>\n",
              "      <td>AZ</td>\n",
              "      <td>1541</td>\n",
              "    </tr>\n",
              "    <tr>\n",
              "      <th>21</th>\n",
              "      <td>MI</td>\n",
              "      <td>1663</td>\n",
              "    </tr>\n",
              "    <tr>\n",
              "      <th>49</th>\n",
              "      <td>WA</td>\n",
              "      <td>1701</td>\n",
              "    </tr>\n",
              "    <tr>\n",
              "      <th>7</th>\n",
              "      <td>DC</td>\n",
              "      <td>1749</td>\n",
              "    </tr>\n",
              "    <tr>\n",
              "      <th>37</th>\n",
              "      <td>PA</td>\n",
              "      <td>1838</td>\n",
              "    </tr>\n",
              "    <tr>\n",
              "      <th>5</th>\n",
              "      <td>CO</td>\n",
              "      <td>2410</td>\n",
              "    </tr>\n",
              "    <tr>\n",
              "      <th>26</th>\n",
              "      <td>NC</td>\n",
              "      <td>2678</td>\n",
              "    </tr>\n",
              "    <tr>\n",
              "      <th>33</th>\n",
              "      <td>NY</td>\n",
              "      <td>3065</td>\n",
              "    </tr>\n",
              "    <tr>\n",
              "      <th>9</th>\n",
              "      <td>GA</td>\n",
              "      <td>3200</td>\n",
              "    </tr>\n",
              "    <tr>\n",
              "      <th>13</th>\n",
              "      <td>IL</td>\n",
              "      <td>3815</td>\n",
              "    </tr>\n",
              "    <tr>\n",
              "      <th>8</th>\n",
              "      <td>FL</td>\n",
              "      <td>4369</td>\n",
              "    </tr>\n",
              "    <tr>\n",
              "      <th>44</th>\n",
              "      <td>TX</td>\n",
              "      <td>5946</td>\n",
              "    </tr>\n",
              "    <tr>\n",
              "      <th>4</th>\n",
              "      <td>CA</td>\n",
              "      <td>6548</td>\n",
              "    </tr>\n",
              "  </tbody>\n",
              "</table>\n",
              "</div>"
            ],
            "text/plain": [
              "   state  origin_city_name\n",
              "43    TT                13\n",
              "47    VI                29\n",
              "51    WV                69\n",
              "52    WY                79\n",
              "48    VT                79\n",
              "29    NH                84\n",
              "24    MS                97\n",
              "41    SD                99\n",
              "15    KS               125\n",
              "27    ND               141\n",
              "20    ME               145\n",
              "39    RI               149\n",
              "38    PR               217\n",
              "2     AR               226\n",
              "12    ID               227\n",
              "6     CT               231\n",
              "25    MT               239\n",
              "31    NM               252\n",
              "28    NE               256\n",
              "11    IA               265\n",
              "16    KY               306\n",
              "0     AK               310\n",
              "1     AL               334\n",
              "35    OK               348\n",
              "14    IN               519\n",
              "46    VA               559\n",
              "40    SC               559\n",
              "50    WI               574\n",
              "17    LA               658\n",
              "19    MD               812\n",
              "36    OR               860\n",
              "10    HI               911\n",
              "45    UT               995\n",
              "42    TN              1051\n",
              "23    MO              1163\n",
              "30    NJ              1205\n",
              "18    MA              1239\n",
              "34    OH              1339\n",
              "22    MN              1340\n",
              "32    NV              1373\n",
              "3     AZ              1541\n",
              "21    MI              1663\n",
              "49    WA              1701\n",
              "7     DC              1749\n",
              "37    PA              1838\n",
              "5     CO              2410\n",
              "26    NC              2678\n",
              "33    NY              3065\n",
              "9     GA              3200\n",
              "13    IL              3815\n",
              "8     FL              4369\n",
              "44    TX              5946\n",
              "4     CA              6548"
            ]
          },
          "metadata": {
            "tags": []
          },
          "execution_count": 316
        }
      ]
    },
    {
      "cell_type": "code",
      "metadata": {
        "id": "U5bjIBJaDfw4"
      },
      "source": [
        "total_state_flights_mean['origin_city_name'] = ((total_state_flights_mean['origin_city_name']/60000)*100)\n"
      ],
      "execution_count": 317,
      "outputs": []
    },
    {
      "cell_type": "code",
      "metadata": {
        "colab": {
          "base_uri": "https://localhost:8080/",
          "height": 855
        },
        "id": "dNMGpruxGlYm",
        "outputId": "179d110d-12aa-404a-9011-a3af927dea00"
      },
      "source": [
        "total_state_flights_mean.sort_values('origin_city_name',ascending=False).head(round(0.5*len(total_state_flights_mean)))"
      ],
      "execution_count": 318,
      "outputs": [
        {
          "output_type": "execute_result",
          "data": {
            "text/html": [
              "<div>\n",
              "<style scoped>\n",
              "    .dataframe tbody tr th:only-of-type {\n",
              "        vertical-align: middle;\n",
              "    }\n",
              "\n",
              "    .dataframe tbody tr th {\n",
              "        vertical-align: top;\n",
              "    }\n",
              "\n",
              "    .dataframe thead th {\n",
              "        text-align: right;\n",
              "    }\n",
              "</style>\n",
              "<table border=\"1\" class=\"dataframe\">\n",
              "  <thead>\n",
              "    <tr style=\"text-align: right;\">\n",
              "      <th></th>\n",
              "      <th>state</th>\n",
              "      <th>origin_city_name</th>\n",
              "    </tr>\n",
              "  </thead>\n",
              "  <tbody>\n",
              "    <tr>\n",
              "      <th>4</th>\n",
              "      <td>CA</td>\n",
              "      <td>10.913333</td>\n",
              "    </tr>\n",
              "    <tr>\n",
              "      <th>44</th>\n",
              "      <td>TX</td>\n",
              "      <td>9.910000</td>\n",
              "    </tr>\n",
              "    <tr>\n",
              "      <th>8</th>\n",
              "      <td>FL</td>\n",
              "      <td>7.281667</td>\n",
              "    </tr>\n",
              "    <tr>\n",
              "      <th>13</th>\n",
              "      <td>IL</td>\n",
              "      <td>6.358333</td>\n",
              "    </tr>\n",
              "    <tr>\n",
              "      <th>9</th>\n",
              "      <td>GA</td>\n",
              "      <td>5.333333</td>\n",
              "    </tr>\n",
              "    <tr>\n",
              "      <th>33</th>\n",
              "      <td>NY</td>\n",
              "      <td>5.108333</td>\n",
              "    </tr>\n",
              "    <tr>\n",
              "      <th>26</th>\n",
              "      <td>NC</td>\n",
              "      <td>4.463333</td>\n",
              "    </tr>\n",
              "    <tr>\n",
              "      <th>5</th>\n",
              "      <td>CO</td>\n",
              "      <td>4.016667</td>\n",
              "    </tr>\n",
              "    <tr>\n",
              "      <th>37</th>\n",
              "      <td>PA</td>\n",
              "      <td>3.063333</td>\n",
              "    </tr>\n",
              "    <tr>\n",
              "      <th>7</th>\n",
              "      <td>DC</td>\n",
              "      <td>2.915000</td>\n",
              "    </tr>\n",
              "    <tr>\n",
              "      <th>49</th>\n",
              "      <td>WA</td>\n",
              "      <td>2.835000</td>\n",
              "    </tr>\n",
              "    <tr>\n",
              "      <th>21</th>\n",
              "      <td>MI</td>\n",
              "      <td>2.771667</td>\n",
              "    </tr>\n",
              "    <tr>\n",
              "      <th>3</th>\n",
              "      <td>AZ</td>\n",
              "      <td>2.568333</td>\n",
              "    </tr>\n",
              "    <tr>\n",
              "      <th>32</th>\n",
              "      <td>NV</td>\n",
              "      <td>2.288333</td>\n",
              "    </tr>\n",
              "    <tr>\n",
              "      <th>22</th>\n",
              "      <td>MN</td>\n",
              "      <td>2.233333</td>\n",
              "    </tr>\n",
              "    <tr>\n",
              "      <th>34</th>\n",
              "      <td>OH</td>\n",
              "      <td>2.231667</td>\n",
              "    </tr>\n",
              "    <tr>\n",
              "      <th>18</th>\n",
              "      <td>MA</td>\n",
              "      <td>2.065000</td>\n",
              "    </tr>\n",
              "    <tr>\n",
              "      <th>30</th>\n",
              "      <td>NJ</td>\n",
              "      <td>2.008333</td>\n",
              "    </tr>\n",
              "    <tr>\n",
              "      <th>23</th>\n",
              "      <td>MO</td>\n",
              "      <td>1.938333</td>\n",
              "    </tr>\n",
              "    <tr>\n",
              "      <th>42</th>\n",
              "      <td>TN</td>\n",
              "      <td>1.751667</td>\n",
              "    </tr>\n",
              "    <tr>\n",
              "      <th>45</th>\n",
              "      <td>UT</td>\n",
              "      <td>1.658333</td>\n",
              "    </tr>\n",
              "    <tr>\n",
              "      <th>10</th>\n",
              "      <td>HI</td>\n",
              "      <td>1.518333</td>\n",
              "    </tr>\n",
              "    <tr>\n",
              "      <th>36</th>\n",
              "      <td>OR</td>\n",
              "      <td>1.433333</td>\n",
              "    </tr>\n",
              "    <tr>\n",
              "      <th>19</th>\n",
              "      <td>MD</td>\n",
              "      <td>1.353333</td>\n",
              "    </tr>\n",
              "    <tr>\n",
              "      <th>17</th>\n",
              "      <td>LA</td>\n",
              "      <td>1.096667</td>\n",
              "    </tr>\n",
              "    <tr>\n",
              "      <th>50</th>\n",
              "      <td>WI</td>\n",
              "      <td>0.956667</td>\n",
              "    </tr>\n",
              "  </tbody>\n",
              "</table>\n",
              "</div>"
            ],
            "text/plain": [
              "   state  origin_city_name\n",
              "4     CA         10.913333\n",
              "44    TX          9.910000\n",
              "8     FL          7.281667\n",
              "13    IL          6.358333\n",
              "9     GA          5.333333\n",
              "33    NY          5.108333\n",
              "26    NC          4.463333\n",
              "5     CO          4.016667\n",
              "37    PA          3.063333\n",
              "7     DC          2.915000\n",
              "49    WA          2.835000\n",
              "21    MI          2.771667\n",
              "3     AZ          2.568333\n",
              "32    NV          2.288333\n",
              "22    MN          2.233333\n",
              "34    OH          2.231667\n",
              "18    MA          2.065000\n",
              "30    NJ          2.008333\n",
              "23    MO          1.938333\n",
              "42    TN          1.751667\n",
              "45    UT          1.658333\n",
              "10    HI          1.518333\n",
              "36    OR          1.433333\n",
              "19    MD          1.353333\n",
              "17    LA          1.096667\n",
              "50    WI          0.956667"
            ]
          },
          "metadata": {
            "tags": []
          },
          "execution_count": 318
        }
      ]
    },
    {
      "cell_type": "markdown",
      "metadata": {
        "id": "Iw8fmbZ3XyT3"
      },
      "source": [
        "#### **Task 7**: Test the hypothesis whether planes fly faster when there is the departure delay?"
      ]
    },
    {
      "cell_type": "code",
      "metadata": {
        "id": "CTwbQAbEHWeq"
      },
      "source": [
        "dep_delay = df_flights[df_flights['dep_delay']>0]"
      ],
      "execution_count": 319,
      "outputs": []
    },
    {
      "cell_type": "code",
      "metadata": {
        "colab": {
          "base_uri": "https://localhost:8080/"
        },
        "id": "5mc0PcdyHWhm",
        "outputId": "145a43cc-13e7-49f2-c16f-a5514f0b7334"
      },
      "source": [
        "avg_flight_time_delay = dep_delay['air_time'].median()\n",
        "avg_flight_time_delay"
      ],
      "execution_count": 320,
      "outputs": [
        {
          "output_type": "execute_result",
          "data": {
            "text/plain": [
              "93.0"
            ]
          },
          "metadata": {
            "tags": []
          },
          "execution_count": 320
        }
      ]
    },
    {
      "cell_type": "code",
      "metadata": {
        "id": "IO973BCqHWmQ"
      },
      "source": [
        "on_time_flights = df_flights[df_flights['dep_delay']<=0]"
      ],
      "execution_count": 321,
      "outputs": []
    },
    {
      "cell_type": "code",
      "metadata": {
        "colab": {
          "base_uri": "https://localhost:8080/"
        },
        "id": "zWK60ZHrHWoH",
        "outputId": "ec734155-c8ae-496a-9426-4959e16e2ab0"
      },
      "source": [
        "avg_flight_time_on_time = on_time_flights['air_time'].median()\n",
        "avg_flight_time_on_time"
      ],
      "execution_count": 322,
      "outputs": [
        {
          "output_type": "execute_result",
          "data": {
            "text/plain": [
              "87.0"
            ]
          },
          "metadata": {
            "tags": []
          },
          "execution_count": 322
        }
      ]
    },
    {
      "cell_type": "code",
      "metadata": {
        "colab": {
          "base_uri": "https://localhost:8080/",
          "height": 408
        },
        "id": "xVHdiG2_K5nz",
        "outputId": "ce41a0b3-b9b5-419f-d9c8-dd8baab711c2"
      },
      "source": [
        "# Plot two lines with different scales on the same plot\n",
        "fig = plt.figure(figsize=(8, 5))\n",
        "line_weight = 3\n",
        "alpha = .5\n",
        "ax1 = fig.add_axes([0, 0, 1, 1])\n",
        "ax2 = fig.add_axes()\n",
        "# This is the magic that joins the x-axis\n",
        "ax2 = ax1.twinx()\n",
        "lns1 = ax1.plot(dep_delay['air_time'], color='blue', lw=line_weight, alpha=alpha, label='dep_delay')\n",
        "lns2 = ax2.plot(on_time_flights['air_time'], color='orange', lw=line_weight, alpha=alpha, label='on_time')\n",
        "# Solution for having two legends\n",
        "leg = lns1 + lns2\n",
        "labs = [l.get_label() for l in leg]\n",
        "ax1.legend(leg, labs, loc=0)\n",
        "        \n",
        "plt.show()"
      ],
      "execution_count": 323,
      "outputs": [
        {
          "output_type": "display_data",
          "data": {
            "image/png": "[encoded data removed]",
            "text/plain": [
              "<Figure size 576x360 with 2 Axes>"
            ]
          },
          "metadata": {
            "tags": [],
            "needs_background": "light"
          }
        }
      ]
    },
    {
      "cell_type": "markdown",
      "metadata": {
        "id": "KqVR-8XjXyWp"
      },
      "source": [
        "#### **Task 8**: When (which hour) do most 'LONG', 'SHORT', 'MEDIUM' haul flights take off?"
      ]
    },
    {
      "cell_type": "code",
      "metadata": {
        "colab": {
          "base_uri": "https://localhost:8080/"
        },
        "id": "DKp2aWoCMJxM",
        "outputId": "c7bba12e-ab22-448e-d448-0820ac6964cd"
      },
      "source": [
        "df_flights['air_time'].describe()"
      ],
      "execution_count": 324,
      "outputs": [
        {
          "output_type": "execute_result",
          "data": {
            "text/plain": [
              "count    58805.000000\n",
              "mean       107.779492\n",
              "std         69.508517\n",
              "min          9.000000\n",
              "25%         58.000000\n",
              "50%         89.000000\n",
              "75%        137.000000\n",
              "max        660.000000\n",
              "Name: air_time, dtype: float64"
            ]
          },
          "metadata": {
            "tags": []
          },
          "execution_count": 324
        }
      ]
    },
    {
      "cell_type": "code",
      "metadata": {
        "colab": {
          "base_uri": "https://localhost:8080/",
          "height": 419
        },
        "id": "RvBJn-BkMKjY",
        "outputId": "66600fab-f7c6-4c62-a64e-bcdb70850d64"
      },
      "source": [
        "flights_time = df_flights[['dep_time','air_time',]]\n",
        "flights_time"
      ],
      "execution_count": 325,
      "outputs": [
        {
          "output_type": "execute_result",
          "data": {
            "text/html": [
              "<div>\n",
              "<style scoped>\n",
              "    .dataframe tbody tr th:only-of-type {\n",
              "        vertical-align: middle;\n",
              "    }\n",
              "\n",
              "    .dataframe tbody tr th {\n",
              "        vertical-align: top;\n",
              "    }\n",
              "\n",
              "    .dataframe thead th {\n",
              "        text-align: right;\n",
              "    }\n",
              "</style>\n",
              "<table border=\"1\" class=\"dataframe\">\n",
              "  <thead>\n",
              "    <tr style=\"text-align: right;\">\n",
              "      <th></th>\n",
              "      <th>dep_time</th>\n",
              "      <th>air_time</th>\n",
              "    </tr>\n",
              "  </thead>\n",
              "  <tbody>\n",
              "    <tr>\n",
              "      <th>0</th>\n",
              "      <td>828.0</td>\n",
              "      <td>63.0</td>\n",
              "    </tr>\n",
              "    <tr>\n",
              "      <th>1</th>\n",
              "      <td>1337.0</td>\n",
              "      <td>108.0</td>\n",
              "    </tr>\n",
              "    <tr>\n",
              "      <th>2</th>\n",
              "      <td>1720.0</td>\n",
              "      <td>24.0</td>\n",
              "    </tr>\n",
              "    <tr>\n",
              "      <th>3</th>\n",
              "      <td>1049.0</td>\n",
              "      <td>93.0</td>\n",
              "    </tr>\n",
              "    <tr>\n",
              "      <th>4</th>\n",
              "      <td>619.0</td>\n",
              "      <td>128.0</td>\n",
              "    </tr>\n",
              "    <tr>\n",
              "      <th>...</th>\n",
              "      <td>...</td>\n",
              "      <td>...</td>\n",
              "    </tr>\n",
              "    <tr>\n",
              "      <th>59995</th>\n",
              "      <td>1351.0</td>\n",
              "      <td>64.0</td>\n",
              "    </tr>\n",
              "    <tr>\n",
              "      <th>59996</th>\n",
              "      <td>1149.0</td>\n",
              "      <td>242.0</td>\n",
              "    </tr>\n",
              "    <tr>\n",
              "      <th>59997</th>\n",
              "      <td>742.0</td>\n",
              "      <td>92.0</td>\n",
              "    </tr>\n",
              "    <tr>\n",
              "      <th>59998</th>\n",
              "      <td>1124.0</td>\n",
              "      <td>114.0</td>\n",
              "    </tr>\n",
              "    <tr>\n",
              "      <th>59999</th>\n",
              "      <td>1230.0</td>\n",
              "      <td>84.0</td>\n",
              "    </tr>\n",
              "  </tbody>\n",
              "</table>\n",
              "<p>60000 rows × 2 columns</p>\n",
              "</div>"
            ],
            "text/plain": [
              "       dep_time  air_time\n",
              "0         828.0      63.0\n",
              "1        1337.0     108.0\n",
              "2        1720.0      24.0\n",
              "3        1049.0      93.0\n",
              "4         619.0     128.0\n",
              "...         ...       ...\n",
              "59995    1351.0      64.0\n",
              "59996    1149.0     242.0\n",
              "59997     742.0      92.0\n",
              "59998    1124.0     114.0\n",
              "59999    1230.0      84.0\n",
              "\n",
              "[60000 rows x 2 columns]"
            ]
          },
          "metadata": {
            "tags": []
          },
          "execution_count": 325
        }
      ]
    },
    {
      "cell_type": "code",
      "metadata": {
        "id": "_8atGSKwMKmQ"
      },
      "source": [
        "def haul(x):\n",
        "  if x >137:\n",
        "    return 'LONG'\n",
        "  elif x <58:\n",
        "    return 'SHORT'\n",
        "  else:\n",
        "    return 'MEDIUM'"
      ],
      "execution_count": 326,
      "outputs": []
    },
    {
      "cell_type": "code",
      "metadata": {
        "colab": {
          "base_uri": "https://localhost:8080/"
        },
        "id": "mxJtz5STMKo2",
        "outputId": "a4d33ead-a05a-4367-be54-b534f706d157"
      },
      "source": [
        "flights_time['flight_time_dur'] = flights_time['air_time'].apply(haul)"
      ],
      "execution_count": 327,
      "outputs": [
        {
          "output_type": "stream",
          "text": [
            "/usr/local/lib/python3.6/dist-packages/ipykernel_launcher.py:1: SettingWithCopyWarning:\n",
            "\n",
            "\n",
            "A value is trying to be set on a copy of a slice from a DataFrame.\n",
            "Try using .loc[row_indexer,col_indexer] = value instead\n",
            "\n",
            "See the caveats in the documentation: https://pandas.pydata.org/pandas-docs/stable/user_guide/indexing.html#returning-a-view-versus-a-copy\n",
            "\n"
          ],
          "name": "stderr"
        }
      ]
    },
    {
      "cell_type": "code",
      "metadata": {
        "colab": {
          "base_uri": "https://localhost:8080/",
          "height": 419
        },
        "id": "XSRQ0i7gQRqz",
        "outputId": "5432cd89-1e70-4d77-d6d6-6e48343004f3"
      },
      "source": [
        "flights_time"
      ],
      "execution_count": 328,
      "outputs": [
        {
          "output_type": "execute_result",
          "data": {
            "text/html": [
              "<div>\n",
              "<style scoped>\n",
              "    .dataframe tbody tr th:only-of-type {\n",
              "        vertical-align: middle;\n",
              "    }\n",
              "\n",
              "    .dataframe tbody tr th {\n",
              "        vertical-align: top;\n",
              "    }\n",
              "\n",
              "    .dataframe thead th {\n",
              "        text-align: right;\n",
              "    }\n",
              "</style>\n",
              "<table border=\"1\" class=\"dataframe\">\n",
              "  <thead>\n",
              "    <tr style=\"text-align: right;\">\n",
              "      <th></th>\n",
              "      <th>dep_time</th>\n",
              "      <th>air_time</th>\n",
              "      <th>flight_time_dur</th>\n",
              "    </tr>\n",
              "  </thead>\n",
              "  <tbody>\n",
              "    <tr>\n",
              "      <th>0</th>\n",
              "      <td>828.0</td>\n",
              "      <td>63.0</td>\n",
              "      <td>MEDIUM</td>\n",
              "    </tr>\n",
              "    <tr>\n",
              "      <th>1</th>\n",
              "      <td>1337.0</td>\n",
              "      <td>108.0</td>\n",
              "      <td>MEDIUM</td>\n",
              "    </tr>\n",
              "    <tr>\n",
              "      <th>2</th>\n",
              "      <td>1720.0</td>\n",
              "      <td>24.0</td>\n",
              "      <td>SHORT</td>\n",
              "    </tr>\n",
              "    <tr>\n",
              "      <th>3</th>\n",
              "      <td>1049.0</td>\n",
              "      <td>93.0</td>\n",
              "      <td>MEDIUM</td>\n",
              "    </tr>\n",
              "    <tr>\n",
              "      <th>4</th>\n",
              "      <td>619.0</td>\n",
              "      <td>128.0</td>\n",
              "      <td>MEDIUM</td>\n",
              "    </tr>\n",
              "    <tr>\n",
              "      <th>...</th>\n",
              "      <td>...</td>\n",
              "      <td>...</td>\n",
              "      <td>...</td>\n",
              "    </tr>\n",
              "    <tr>\n",
              "      <th>59995</th>\n",
              "      <td>1351.0</td>\n",
              "      <td>64.0</td>\n",
              "      <td>MEDIUM</td>\n",
              "    </tr>\n",
              "    <tr>\n",
              "      <th>59996</th>\n",
              "      <td>1149.0</td>\n",
              "      <td>242.0</td>\n",
              "      <td>LONG</td>\n",
              "    </tr>\n",
              "    <tr>\n",
              "      <th>59997</th>\n",
              "      <td>742.0</td>\n",
              "      <td>92.0</td>\n",
              "      <td>MEDIUM</td>\n",
              "    </tr>\n",
              "    <tr>\n",
              "      <th>59998</th>\n",
              "      <td>1124.0</td>\n",
              "      <td>114.0</td>\n",
              "      <td>MEDIUM</td>\n",
              "    </tr>\n",
              "    <tr>\n",
              "      <th>59999</th>\n",
              "      <td>1230.0</td>\n",
              "      <td>84.0</td>\n",
              "      <td>MEDIUM</td>\n",
              "    </tr>\n",
              "  </tbody>\n",
              "</table>\n",
              "<p>60000 rows × 3 columns</p>\n",
              "</div>"
            ],
            "text/plain": [
              "       dep_time  air_time flight_time_dur\n",
              "0         828.0      63.0          MEDIUM\n",
              "1        1337.0     108.0          MEDIUM\n",
              "2        1720.0      24.0           SHORT\n",
              "3        1049.0      93.0          MEDIUM\n",
              "4         619.0     128.0          MEDIUM\n",
              "...         ...       ...             ...\n",
              "59995    1351.0      64.0          MEDIUM\n",
              "59996    1149.0     242.0            LONG\n",
              "59997     742.0      92.0          MEDIUM\n",
              "59998    1124.0     114.0          MEDIUM\n",
              "59999    1230.0      84.0          MEDIUM\n",
              "\n",
              "[60000 rows x 3 columns]"
            ]
          },
          "metadata": {
            "tags": []
          },
          "execution_count": 328
        }
      ]
    },
    {
      "cell_type": "code",
      "metadata": {
        "colab": {
          "base_uri": "https://localhost:8080/"
        },
        "id": "cT6KAE7SQcjj",
        "outputId": "88167c34-d898-4f42-e03f-3295b0f46326"
      },
      "source": [
        "flights_time['dep_time'] = round(flights_time['dep_time']/100)"
      ],
      "execution_count": 329,
      "outputs": [
        {
          "output_type": "stream",
          "text": [
            "/usr/local/lib/python3.6/dist-packages/ipykernel_launcher.py:1: SettingWithCopyWarning:\n",
            "\n",
            "\n",
            "A value is trying to be set on a copy of a slice from a DataFrame.\n",
            "Try using .loc[row_indexer,col_indexer] = value instead\n",
            "\n",
            "See the caveats in the documentation: https://pandas.pydata.org/pandas-docs/stable/user_guide/indexing.html#returning-a-view-versus-a-copy\n",
            "\n"
          ],
          "name": "stderr"
        }
      ]
    },
    {
      "cell_type": "code",
      "metadata": {
        "id": "BgvGbU4jPpZU"
      },
      "source": [
        "departure_time = flights_time.groupby(['flight_time_dur','dep_time']).count() #.agg({'dep_time':['median']})"
      ],
      "execution_count": 330,
      "outputs": []
    },
    {
      "cell_type": "code",
      "metadata": {
        "colab": {
          "base_uri": "https://localhost:8080/",
          "height": 545
        },
        "id": "4wkeOzMvPpsb",
        "outputId": "9ffce8a7-63d4-445c-c525-3818d42f9c0d"
      },
      "source": [
        "departure_time.groupby('flight_time_dur').head(5)"
      ],
      "execution_count": 331,
      "outputs": [
        {
          "output_type": "execute_result",
          "data": {
            "text/html": [
              "<div>\n",
              "<style scoped>\n",
              "    .dataframe tbody tr th:only-of-type {\n",
              "        vertical-align: middle;\n",
              "    }\n",
              "\n",
              "    .dataframe tbody tr th {\n",
              "        vertical-align: top;\n",
              "    }\n",
              "\n",
              "    .dataframe thead th {\n",
              "        text-align: right;\n",
              "    }\n",
              "</style>\n",
              "<table border=\"1\" class=\"dataframe\">\n",
              "  <thead>\n",
              "    <tr style=\"text-align: right;\">\n",
              "      <th></th>\n",
              "      <th></th>\n",
              "      <th>air_time</th>\n",
              "    </tr>\n",
              "    <tr>\n",
              "      <th>flight_time_dur</th>\n",
              "      <th>dep_time</th>\n",
              "      <th></th>\n",
              "    </tr>\n",
              "  </thead>\n",
              "  <tbody>\n",
              "    <tr>\n",
              "      <th rowspan=\"5\" valign=\"top\">LONG</th>\n",
              "      <th>0.0</th>\n",
              "      <td>147</td>\n",
              "    </tr>\n",
              "    <tr>\n",
              "      <th>1.0</th>\n",
              "      <td>60</td>\n",
              "    </tr>\n",
              "    <tr>\n",
              "      <th>2.0</th>\n",
              "      <td>23</td>\n",
              "    </tr>\n",
              "    <tr>\n",
              "      <th>3.0</th>\n",
              "      <td>17</td>\n",
              "    </tr>\n",
              "    <tr>\n",
              "      <th>4.0</th>\n",
              "      <td>9</td>\n",
              "    </tr>\n",
              "    <tr>\n",
              "      <th rowspan=\"5\" valign=\"top\">MEDIUM</th>\n",
              "      <th>0.0</th>\n",
              "      <td>47</td>\n",
              "    </tr>\n",
              "    <tr>\n",
              "      <th>1.0</th>\n",
              "      <td>24</td>\n",
              "    </tr>\n",
              "    <tr>\n",
              "      <th>2.0</th>\n",
              "      <td>4</td>\n",
              "    </tr>\n",
              "    <tr>\n",
              "      <th>3.0</th>\n",
              "      <td>2</td>\n",
              "    </tr>\n",
              "    <tr>\n",
              "      <th>4.0</th>\n",
              "      <td>8</td>\n",
              "    </tr>\n",
              "    <tr>\n",
              "      <th rowspan=\"5\" valign=\"top\">SHORT</th>\n",
              "      <th>0.0</th>\n",
              "      <td>30</td>\n",
              "    </tr>\n",
              "    <tr>\n",
              "      <th>1.0</th>\n",
              "      <td>6</td>\n",
              "    </tr>\n",
              "    <tr>\n",
              "      <th>2.0</th>\n",
              "      <td>2</td>\n",
              "    </tr>\n",
              "    <tr>\n",
              "      <th>3.0</th>\n",
              "      <td>1</td>\n",
              "    </tr>\n",
              "    <tr>\n",
              "      <th>4.0</th>\n",
              "      <td>5</td>\n",
              "    </tr>\n",
              "  </tbody>\n",
              "</table>\n",
              "</div>"
            ],
            "text/plain": [
              "                          air_time\n",
              "flight_time_dur dep_time          \n",
              "LONG            0.0            147\n",
              "                1.0             60\n",
              "                2.0             23\n",
              "                3.0             17\n",
              "                4.0              9\n",
              "MEDIUM          0.0             47\n",
              "                1.0             24\n",
              "                2.0              4\n",
              "                3.0              2\n",
              "                4.0              8\n",
              "SHORT           0.0             30\n",
              "                1.0              6\n",
              "                2.0              2\n",
              "                3.0              1\n",
              "                4.0              5"
            ]
          },
          "metadata": {
            "tags": []
          },
          "execution_count": 331
        }
      ]
    },
    {
      "cell_type": "code",
      "metadata": {
        "id": "4lW4wKtAPp2g"
      },
      "source": [
        ""
      ],
      "execution_count": 331,
      "outputs": []
    },
    {
      "cell_type": "markdown",
      "metadata": {
        "id": "ooFLo68uYK0V"
      },
      "source": [
        "#### **Task 9**: Find the top 10 the bussiest airports. Does the biggest number of flights mean that the biggest number of passengers went through the particular airport? How much traffic do these 10 airports cover?"
      ]
    },
    {
      "cell_type": "code",
      "metadata": {
        "id": "FCKvnkTDUief"
      },
      "source": [
        "list_dep = df_flights['origin']\n",
        "list_arr = df_flights['dest']\n",
        "total_list = list_dep.append(list_arr)"
      ],
      "execution_count": 332,
      "outputs": []
    },
    {
      "cell_type": "code",
      "metadata": {
        "id": "DP3cfFM0XA8i"
      },
      "source": [
        "total_list = pd.DataFrame(total_list, columns=['air_port'])"
      ],
      "execution_count": 333,
      "outputs": []
    },
    {
      "cell_type": "code",
      "metadata": {
        "id": "4yyPtiHqWYkO"
      },
      "source": [
        "top_10_air = total_list['air_port'].value_counts().rename_axis('air_port').to_frame('total_flights')\\\n",
        "                                  .reset_index().sort_values('total_flights', ascending = False)\n",
        "top_10_airp = top_10_air.head(10)"
      ],
      "execution_count": 334,
      "outputs": []
    },
    {
      "cell_type": "code",
      "metadata": {
        "id": "sEzq97xCaCV9"
      },
      "source": [
        "list_top_10 = ['ATL','ORD','DFW','DEN',\t'CLT','LAX', 'SEA','SFO','PHX','IAH'\t]"
      ],
      "execution_count": 335,
      "outputs": []
    },
    {
      "cell_type": "code",
      "metadata": {
        "id": "XjwrtXFPcSgm"
      },
      "source": [
        "dep = df_passengers[df_passengers['origin'].isin(list_top_10)]"
      ],
      "execution_count": 336,
      "outputs": []
    },
    {
      "cell_type": "code",
      "metadata": {
        "id": "Lj7bm3R3gE_B"
      },
      "source": [
        "arr = df_passengers[df_passengers['dest'].isin(list_top_10)]"
      ],
      "execution_count": 337,
      "outputs": []
    },
    {
      "cell_type": "code",
      "metadata": {
        "id": "MEMgvib1WUnW"
      },
      "source": [
        "pass_dep = dep[['origin','passengers']].rename(columns={'origin': 'air_port'})\n",
        "pass_arr = arr[['dest','passengers']].rename(columns={'dest': 'air_port'})\n",
        "list_of_top_airpot_pass = pass_dep.append(pass_arr)"
      ],
      "execution_count": 338,
      "outputs": []
    },
    {
      "cell_type": "code",
      "metadata": {
        "colab": {
          "base_uri": "https://localhost:8080/"
        },
        "id": "0CBS4ZH1Uij2",
        "outputId": "c7e4d831-4ddb-421c-aad8-0b778ac16611"
      },
      "source": [
        "total_pass_per_airp = list_of_top_airpot_pass.groupby(by='air_port').sum()['passengers']\n",
        "total_pass_per_airp"
      ],
      "execution_count": 339,
      "outputs": [
        {
          "output_type": "execute_result",
          "data": {
            "text/plain": [
              "air_port\n",
              "ATL    13600252.0\n",
              "CLT     5614999.0\n",
              "DEN     7134669.0\n",
              "DFW     8294103.0\n",
              "IAH     5236490.0\n",
              "LAX    10509225.0\n",
              "ORD     9926273.0\n",
              "PHX     5752034.0\n",
              "SEA     6068860.0\n",
              "SFO     7099819.0\n",
              "Name: passengers, dtype: float64"
            ]
          },
          "metadata": {
            "tags": []
          },
          "execution_count": 339
        }
      ]
    },
    {
      "cell_type": "code",
      "metadata": {
        "colab": {
          "base_uri": "https://localhost:8080/",
          "height": 359
        },
        "id": "a0EZMGXqTchj",
        "outputId": "2db52c8c-7b36-47e4-90e9-0af131338cb8"
      },
      "source": [
        "top_airport_pass = top_10_airp.merge(total_pass_per_airp,how='inner', on='air_port')\n",
        "top_airport_pass"
      ],
      "execution_count": 340,
      "outputs": [
        {
          "output_type": "execute_result",
          "data": {
            "text/html": [
              "<div>\n",
              "<style scoped>\n",
              "    .dataframe tbody tr th:only-of-type {\n",
              "        vertical-align: middle;\n",
              "    }\n",
              "\n",
              "    .dataframe tbody tr th {\n",
              "        vertical-align: top;\n",
              "    }\n",
              "\n",
              "    .dataframe thead th {\n",
              "        text-align: right;\n",
              "    }\n",
              "</style>\n",
              "<table border=\"1\" class=\"dataframe\">\n",
              "  <thead>\n",
              "    <tr style=\"text-align: right;\">\n",
              "      <th></th>\n",
              "      <th>air_port</th>\n",
              "      <th>total_flights</th>\n",
              "      <th>passengers</th>\n",
              "    </tr>\n",
              "  </thead>\n",
              "  <tbody>\n",
              "    <tr>\n",
              "      <th>0</th>\n",
              "      <td>ORD</td>\n",
              "      <td>5949</td>\n",
              "      <td>9926273.0</td>\n",
              "    </tr>\n",
              "    <tr>\n",
              "      <th>1</th>\n",
              "      <td>ATL</td>\n",
              "      <td>5925</td>\n",
              "      <td>13600252.0</td>\n",
              "    </tr>\n",
              "    <tr>\n",
              "      <th>2</th>\n",
              "      <td>DFW</td>\n",
              "      <td>4488</td>\n",
              "      <td>8294103.0</td>\n",
              "    </tr>\n",
              "    <tr>\n",
              "      <th>3</th>\n",
              "      <td>DEN</td>\n",
              "      <td>4167</td>\n",
              "      <td>7134669.0</td>\n",
              "    </tr>\n",
              "    <tr>\n",
              "      <th>4</th>\n",
              "      <td>LAX</td>\n",
              "      <td>3811</td>\n",
              "      <td>10509225.0</td>\n",
              "    </tr>\n",
              "    <tr>\n",
              "      <th>5</th>\n",
              "      <td>CLT</td>\n",
              "      <td>3693</td>\n",
              "      <td>5614999.0</td>\n",
              "    </tr>\n",
              "    <tr>\n",
              "      <th>6</th>\n",
              "      <td>SEA</td>\n",
              "      <td>2821</td>\n",
              "      <td>6068860.0</td>\n",
              "    </tr>\n",
              "    <tr>\n",
              "      <th>7</th>\n",
              "      <td>PHX</td>\n",
              "      <td>2734</td>\n",
              "      <td>5752034.0</td>\n",
              "    </tr>\n",
              "    <tr>\n",
              "      <th>8</th>\n",
              "      <td>SFO</td>\n",
              "      <td>2680</td>\n",
              "      <td>7099819.0</td>\n",
              "    </tr>\n",
              "    <tr>\n",
              "      <th>9</th>\n",
              "      <td>IAH</td>\n",
              "      <td>2680</td>\n",
              "      <td>5236490.0</td>\n",
              "    </tr>\n",
              "  </tbody>\n",
              "</table>\n",
              "</div>"
            ],
            "text/plain": [
              "  air_port  total_flights  passengers\n",
              "0      ORD           5949   9926273.0\n",
              "1      ATL           5925  13600252.0\n",
              "2      DFW           4488   8294103.0\n",
              "3      DEN           4167   7134669.0\n",
              "4      LAX           3811  10509225.0\n",
              "5      CLT           3693   5614999.0\n",
              "6      SEA           2821   6068860.0\n",
              "7      PHX           2734   5752034.0\n",
              "8      SFO           2680   7099819.0\n",
              "9      IAH           2680   5236490.0"
            ]
          },
          "metadata": {
            "tags": []
          },
          "execution_count": 340
        }
      ]
    },
    {
      "cell_type": "markdown",
      "metadata": {
        "id": "lFoi9kRdYK3J"
      },
      "source": [
        "#### **Task 10**: Do bigger delays lead to bigger fuel comsumption per passenger? \n",
        "We need to do four things to answer this as accurate as possible:\n",
        "- Find out average monthly delay per air carrier (monthly delay is sum of all delays in 1 month)\n",
        "- Find out distance covered monthly by different air carriers\n",
        "- Find out number of passengers that were carried by different air carriers\n",
        "- Find out total fuel comsumption per air carrier.\n",
        "\n",
        "Use this information to get the average fuel comsumption per passenger per km. Is this higher for the airlines with bigger average delays?"
      ]
    },
    {
      "cell_type": "code",
      "metadata": {
        "colab": {
          "base_uri": "https://localhost:8080/"
        },
        "id": "kv9bOGHX_0wq",
        "outputId": "43e20809-aed4-497c-c375-8a1723278fdc"
      },
      "source": [
        "df_flights.columns"
      ],
      "execution_count": 341,
      "outputs": [
        {
          "output_type": "execute_result",
          "data": {
            "text/plain": [
              "Index(['fl_date', 'mkt_unique_carrier', 'branded_code_share', 'mkt_carrier',\n",
              "       'mkt_carrier_fl_num', 'op_unique_carrier', 'tail_num',\n",
              "       'op_carrier_fl_num', 'origin_airport_id', 'origin', 'origin_city_name',\n",
              "       'dest_airport_id', 'dest', 'dest_city_name', 'crs_dep_time', 'dep_time',\n",
              "       'dep_delay', 'taxi_out', 'wheels_off', 'wheels_on', 'taxi_in',\n",
              "       'crs_arr_time', 'arr_time', 'arr_delay', 'cancelled',\n",
              "       'cancellation_code', 'diverted', 'dup', 'crs_elapsed_time',\n",
              "       'actual_elapsed_time', 'air_time', 'flights', 'distance',\n",
              "       'carrier_delay', 'weather_delay', 'nas_delay', 'security_delay',\n",
              "       'late_aircraft_delay', 'first_dep_time', 'total_add_gtime',\n",
              "       'longest_add_gtime', 'no_name'],\n",
              "      dtype='object')"
            ]
          },
          "metadata": {
            "tags": []
          },
          "execution_count": 341
        }
      ]
    },
    {
      "cell_type": "code",
      "metadata": {
        "colab": {
          "base_uri": "https://localhost:8080/"
        },
        "id": "fYZJ6tJekl2T",
        "outputId": "463bfd4f-9e8a-488f-886b-14ba2bc19da4"
      },
      "source": [
        "df_fuel_consumption.columns"
      ],
      "execution_count": 342,
      "outputs": [
        {
          "output_type": "execute_result",
          "data": {
            "text/plain": [
              "Index(['month', 'airline_id', 'unique_carrier', 'carrier', 'carrier_name',\n",
              "       'carrier_group_new', 'sdomt_gallons', 'satl_gallons', 'spac_gallons',\n",
              "       'slat_gallons', 'sint_gallons', 'ts_gallons', 'tdomt_gallons',\n",
              "       'tint_gallons', 'total_gallons', 'sdomt_cost', 'satl_cost', 'spac_cost',\n",
              "       'slat_cost', 'sint_cost', 'ts_cost', 'tdomt_cost', 'tint_cost',\n",
              "       'total_cost', 'year'],\n",
              "      dtype='object')"
            ]
          },
          "metadata": {
            "tags": []
          },
          "execution_count": 342
        }
      ]
    },
    {
      "cell_type": "code",
      "metadata": {
        "colab": {
          "base_uri": "https://localhost:8080/",
          "height": 450
        },
        "id": "DM5VhvDrhwSQ",
        "outputId": "15430053-cbe0-4aa8-eca1-e478e17bef58"
      },
      "source": [
        "#Monthe delay per carrier\n",
        "arr_delay = df_flights[df_flights['arr_delay']>0]\n",
        "delay_per_carries = pd.DataFrame(arr_delay.groupby(by=['mkt_carrier',arr_delay['fl_date'].dt.strftime('%B')]).count()['arr_delay'])\n",
        "delay_per_carries                                  \n"
      ],
      "execution_count": 343,
      "outputs": [
        {
          "output_type": "execute_result",
          "data": {
            "text/html": [
              "<div>\n",
              "<style scoped>\n",
              "    .dataframe tbody tr th:only-of-type {\n",
              "        vertical-align: middle;\n",
              "    }\n",
              "\n",
              "    .dataframe tbody tr th {\n",
              "        vertical-align: top;\n",
              "    }\n",
              "\n",
              "    .dataframe thead th {\n",
              "        text-align: right;\n",
              "    }\n",
              "</style>\n",
              "<table border=\"1\" class=\"dataframe\">\n",
              "  <thead>\n",
              "    <tr style=\"text-align: right;\">\n",
              "      <th></th>\n",
              "      <th></th>\n",
              "      <th>arr_delay</th>\n",
              "    </tr>\n",
              "    <tr>\n",
              "      <th>mkt_carrier</th>\n",
              "      <th>fl_date</th>\n",
              "      <th></th>\n",
              "    </tr>\n",
              "  </thead>\n",
              "  <tbody>\n",
              "    <tr>\n",
              "      <th rowspan=\"5\" valign=\"top\">AA</th>\n",
              "      <th>April</th>\n",
              "      <td>445</td>\n",
              "    </tr>\n",
              "    <tr>\n",
              "      <th>August</th>\n",
              "      <td>527</td>\n",
              "    </tr>\n",
              "    <tr>\n",
              "      <th>December</th>\n",
              "      <td>499</td>\n",
              "    </tr>\n",
              "    <tr>\n",
              "      <th>February</th>\n",
              "      <td>443</td>\n",
              "    </tr>\n",
              "    <tr>\n",
              "      <th>January</th>\n",
              "      <td>465</td>\n",
              "    </tr>\n",
              "    <tr>\n",
              "      <th>...</th>\n",
              "      <th>...</th>\n",
              "      <td>...</td>\n",
              "    </tr>\n",
              "    <tr>\n",
              "      <th rowspan=\"5\" valign=\"top\">WN</th>\n",
              "      <th>March</th>\n",
              "      <td>315</td>\n",
              "    </tr>\n",
              "    <tr>\n",
              "      <th>May</th>\n",
              "      <td>313</td>\n",
              "    </tr>\n",
              "    <tr>\n",
              "      <th>November</th>\n",
              "      <td>253</td>\n",
              "    </tr>\n",
              "    <tr>\n",
              "      <th>October</th>\n",
              "      <td>292</td>\n",
              "    </tr>\n",
              "    <tr>\n",
              "      <th>September</th>\n",
              "      <td>199</td>\n",
              "    </tr>\n",
              "  </tbody>\n",
              "</table>\n",
              "<p>123 rows × 1 columns</p>\n",
              "</div>"
            ],
            "text/plain": [
              "                       arr_delay\n",
              "mkt_carrier fl_date             \n",
              "AA          April            445\n",
              "            August           527\n",
              "            December         499\n",
              "            February         443\n",
              "            January          465\n",
              "...                          ...\n",
              "WN          March            315\n",
              "            May              313\n",
              "            November         253\n",
              "            October          292\n",
              "            September        199\n",
              "\n",
              "[123 rows x 1 columns]"
            ]
          },
          "metadata": {
            "tags": []
          },
          "execution_count": 343
        }
      ]
    },
    {
      "cell_type": "code",
      "metadata": {
        "colab": {
          "base_uri": "https://localhost:8080/",
          "height": 450
        },
        "id": "KsyxfpcphwXs",
        "outputId": "a844a4cb-fb94-4b4c-91e5-374f7da12c68"
      },
      "source": [
        "# Find out distance covered monthly by different air carriers\n",
        "\n",
        "distance_per_carries = pd.DataFrame(arr_delay.groupby(by=['mkt_carrier',arr_delay['fl_date'].dt.strftime('%B')]).sum()['distance'])\n",
        "distance_per_carries"
      ],
      "execution_count": 344,
      "outputs": [
        {
          "output_type": "execute_result",
          "data": {
            "text/html": [
              "<div>\n",
              "<style scoped>\n",
              "    .dataframe tbody tr th:only-of-type {\n",
              "        vertical-align: middle;\n",
              "    }\n",
              "\n",
              "    .dataframe tbody tr th {\n",
              "        vertical-align: top;\n",
              "    }\n",
              "\n",
              "    .dataframe thead th {\n",
              "        text-align: right;\n",
              "    }\n",
              "</style>\n",
              "<table border=\"1\" class=\"dataframe\">\n",
              "  <thead>\n",
              "    <tr style=\"text-align: right;\">\n",
              "      <th></th>\n",
              "      <th></th>\n",
              "      <th>distance</th>\n",
              "    </tr>\n",
              "    <tr>\n",
              "      <th>mkt_carrier</th>\n",
              "      <th>fl_date</th>\n",
              "      <th></th>\n",
              "    </tr>\n",
              "  </thead>\n",
              "  <tbody>\n",
              "    <tr>\n",
              "      <th rowspan=\"5\" valign=\"top\">AA</th>\n",
              "      <th>April</th>\n",
              "      <td>308517.0</td>\n",
              "    </tr>\n",
              "    <tr>\n",
              "      <th>August</th>\n",
              "      <td>397784.0</td>\n",
              "    </tr>\n",
              "    <tr>\n",
              "      <th>December</th>\n",
              "      <td>335196.0</td>\n",
              "    </tr>\n",
              "    <tr>\n",
              "      <th>February</th>\n",
              "      <td>307539.0</td>\n",
              "    </tr>\n",
              "    <tr>\n",
              "      <th>January</th>\n",
              "      <td>304307.0</td>\n",
              "    </tr>\n",
              "    <tr>\n",
              "      <th>...</th>\n",
              "      <th>...</th>\n",
              "      <td>...</td>\n",
              "    </tr>\n",
              "    <tr>\n",
              "      <th rowspan=\"5\" valign=\"top\">WN</th>\n",
              "      <th>March</th>\n",
              "      <td>233382.0</td>\n",
              "    </tr>\n",
              "    <tr>\n",
              "      <th>May</th>\n",
              "      <td>237621.0</td>\n",
              "    </tr>\n",
              "    <tr>\n",
              "      <th>November</th>\n",
              "      <td>190675.0</td>\n",
              "    </tr>\n",
              "    <tr>\n",
              "      <th>October</th>\n",
              "      <td>216818.0</td>\n",
              "    </tr>\n",
              "    <tr>\n",
              "      <th>September</th>\n",
              "      <td>144098.0</td>\n",
              "    </tr>\n",
              "  </tbody>\n",
              "</table>\n",
              "<p>123 rows × 1 columns</p>\n",
              "</div>"
            ],
            "text/plain": [
              "                       distance\n",
              "mkt_carrier fl_date            \n",
              "AA          April      308517.0\n",
              "            August     397784.0\n",
              "            December   335196.0\n",
              "            February   307539.0\n",
              "            January    304307.0\n",
              "...                         ...\n",
              "WN          March      233382.0\n",
              "            May        237621.0\n",
              "            November   190675.0\n",
              "            October    216818.0\n",
              "            September  144098.0\n",
              "\n",
              "[123 rows x 1 columns]"
            ]
          },
          "metadata": {
            "tags": []
          },
          "execution_count": 344
        }
      ]
    },
    {
      "cell_type": "code",
      "metadata": {
        "colab": {
          "base_uri": "https://localhost:8080/",
          "height": 421
        },
        "id": "5mnjXHhqu4qK",
        "outputId": "b69ea9af-332a-4bcb-899e-ca1278e9ce1a"
      },
      "source": [
        "distance_p_carr_total = pd.DataFrame(arr_delay.groupby(by=['mkt_unique_carrier']).sum()['distance'].rename_axis('carrier'))\n",
        "distance_p_carr_total"
      ],
      "execution_count": 359,
      "outputs": [
        {
          "output_type": "execute_result",
          "data": {
            "text/html": [
              "<div>\n",
              "<style scoped>\n",
              "    .dataframe tbody tr th:only-of-type {\n",
              "        vertical-align: middle;\n",
              "    }\n",
              "\n",
              "    .dataframe tbody tr th {\n",
              "        vertical-align: top;\n",
              "    }\n",
              "\n",
              "    .dataframe thead th {\n",
              "        text-align: right;\n",
              "    }\n",
              "</style>\n",
              "<table border=\"1\" class=\"dataframe\">\n",
              "  <thead>\n",
              "    <tr style=\"text-align: right;\">\n",
              "      <th></th>\n",
              "      <th>distance</th>\n",
              "    </tr>\n",
              "    <tr>\n",
              "      <th>carrier</th>\n",
              "      <th></th>\n",
              "    </tr>\n",
              "  </thead>\n",
              "  <tbody>\n",
              "    <tr>\n",
              "      <th>AA</th>\n",
              "      <td>3899510.0</td>\n",
              "    </tr>\n",
              "    <tr>\n",
              "      <th>AS</th>\n",
              "      <td>1042041.0</td>\n",
              "    </tr>\n",
              "    <tr>\n",
              "      <th>B6</th>\n",
              "      <td>983128.0</td>\n",
              "    </tr>\n",
              "    <tr>\n",
              "      <th>DL</th>\n",
              "      <td>2622597.0</td>\n",
              "    </tr>\n",
              "    <tr>\n",
              "      <th>F9</th>\n",
              "      <td>396980.0</td>\n",
              "    </tr>\n",
              "    <tr>\n",
              "      <th>G4</th>\n",
              "      <td>272041.0</td>\n",
              "    </tr>\n",
              "    <tr>\n",
              "      <th>HA</th>\n",
              "      <td>222715.0</td>\n",
              "    </tr>\n",
              "    <tr>\n",
              "      <th>NK</th>\n",
              "      <td>457411.0</td>\n",
              "    </tr>\n",
              "    <tr>\n",
              "      <th>UA</th>\n",
              "      <td>3195617.0</td>\n",
              "    </tr>\n",
              "    <tr>\n",
              "      <th>VX</th>\n",
              "      <td>34573.0</td>\n",
              "    </tr>\n",
              "    <tr>\n",
              "      <th>WN</th>\n",
              "      <td>2622305.0</td>\n",
              "    </tr>\n",
              "  </tbody>\n",
              "</table>\n",
              "</div>"
            ],
            "text/plain": [
              "          distance\n",
              "carrier           \n",
              "AA       3899510.0\n",
              "AS       1042041.0\n",
              "B6        983128.0\n",
              "DL       2622597.0\n",
              "F9        396980.0\n",
              "G4        272041.0\n",
              "HA        222715.0\n",
              "NK        457411.0\n",
              "UA       3195617.0\n",
              "VX         34573.0\n",
              "WN       2622305.0"
            ]
          },
          "metadata": {
            "tags": []
          },
          "execution_count": 359
        }
      ]
    },
    {
      "cell_type": "code",
      "metadata": {
        "colab": {
          "base_uri": "https://localhost:8080/"
        },
        "id": "EKqq4UdZTceS",
        "outputId": "ba36290d-acf3-41c3-97f6-8df6ff75c839"
      },
      "source": [
        "df_passengers.columns"
      ],
      "execution_count": 346,
      "outputs": [
        {
          "output_type": "execute_result",
          "data": {
            "text/plain": [
              "Index(['departures_scheduled', 'departures_performed', 'payload', 'seats',\n",
              "       'passengers', 'freight', 'mail', 'distance', 'ramp_to_ramp', 'air_time',\n",
              "       'unique_carrier', 'airline_id', 'unique_carrier_name', 'region',\n",
              "       'carrier', 'carrier_name', 'carrier_group', 'carrier_group_new',\n",
              "       'origin_airport_id', 'origin_city_market_id', 'origin',\n",
              "       'origin_city_name', 'origin_country', 'origin_country_name',\n",
              "       'dest_airport_id', 'dest_city_market_id', 'dest', 'dest_city_name',\n",
              "       'dest_country', 'dest_country_name', 'aircraft_group', 'aircraft_type',\n",
              "       'aircraft_config', 'year', 'month', 'distance_group', 'class',\n",
              "       'data_source'],\n",
              "      dtype='object')"
            ]
          },
          "metadata": {
            "tags": []
          },
          "execution_count": 346
        }
      ]
    },
    {
      "cell_type": "code",
      "metadata": {
        "id": "wsY5lKgthwg7"
      },
      "source": [
        ""
      ],
      "execution_count": 346,
      "outputs": []
    },
    {
      "cell_type": "code",
      "metadata": {
        "colab": {
          "base_uri": "https://localhost:8080/",
          "height": 450
        },
        "id": "IW5O1xlVhwba",
        "outputId": "29ec5f43-4c3a-4548-afe2-fe5bc6c943cc"
      },
      "source": [
        "#Find out number of passengers that were carried by different air carriers\n",
        "list_pass = df_passengers[df_passengers['passengers']>0]\n",
        "passa_per_carries = pd.DataFrame(list_pass.groupby(by=['carrier']).sum()['passengers'])\n",
        "passa_per_carries"
      ],
      "execution_count": 347,
      "outputs": [
        {
          "output_type": "execute_result",
          "data": {
            "text/html": [
              "<div>\n",
              "<style scoped>\n",
              "    .dataframe tbody tr th:only-of-type {\n",
              "        vertical-align: middle;\n",
              "    }\n",
              "\n",
              "    .dataframe tbody tr th {\n",
              "        vertical-align: top;\n",
              "    }\n",
              "\n",
              "    .dataframe thead th {\n",
              "        text-align: right;\n",
              "    }\n",
              "</style>\n",
              "<table border=\"1\" class=\"dataframe\">\n",
              "  <thead>\n",
              "    <tr style=\"text-align: right;\">\n",
              "      <th></th>\n",
              "      <th>passengers</th>\n",
              "    </tr>\n",
              "    <tr>\n",
              "      <th>carrier</th>\n",
              "      <th></th>\n",
              "    </tr>\n",
              "  </thead>\n",
              "  <tbody>\n",
              "    <tr>\n",
              "      <th>02Q</th>\n",
              "      <td>68.0</td>\n",
              "    </tr>\n",
              "    <tr>\n",
              "      <th>04Q</th>\n",
              "      <td>3955.0</td>\n",
              "    </tr>\n",
              "    <tr>\n",
              "      <th>07Q</th>\n",
              "      <td>518.0</td>\n",
              "    </tr>\n",
              "    <tr>\n",
              "      <th>09Q</th>\n",
              "      <td>54811.0</td>\n",
              "    </tr>\n",
              "    <tr>\n",
              "      <th>0BQ</th>\n",
              "      <td>13.0</td>\n",
              "    </tr>\n",
              "    <tr>\n",
              "      <th>...</th>\n",
              "      <td>...</td>\n",
              "    </tr>\n",
              "    <tr>\n",
              "      <th>Z3</th>\n",
              "      <td>2694.0</td>\n",
              "    </tr>\n",
              "    <tr>\n",
              "      <th>ZE</th>\n",
              "      <td>4564.0</td>\n",
              "    </tr>\n",
              "    <tr>\n",
              "      <th>ZK</th>\n",
              "      <td>5948.0</td>\n",
              "    </tr>\n",
              "    <tr>\n",
              "      <th>ZW</th>\n",
              "      <td>528238.0</td>\n",
              "    </tr>\n",
              "    <tr>\n",
              "      <th>ZX</th>\n",
              "      <td>88810.0</td>\n",
              "    </tr>\n",
              "  </tbody>\n",
              "</table>\n",
              "<p>305 rows × 1 columns</p>\n",
              "</div>"
            ],
            "text/plain": [
              "         passengers\n",
              "carrier            \n",
              "02Q            68.0\n",
              "04Q          3955.0\n",
              "07Q           518.0\n",
              "09Q         54811.0\n",
              "0BQ            13.0\n",
              "...             ...\n",
              "Z3           2694.0\n",
              "ZE           4564.0\n",
              "ZK           5948.0\n",
              "ZW         528238.0\n",
              "ZX          88810.0\n",
              "\n",
              "[305 rows x 1 columns]"
            ]
          },
          "metadata": {
            "tags": []
          },
          "execution_count": 347
        }
      ]
    },
    {
      "cell_type": "markdown",
      "metadata": {
        "id": "WPw5_TKHpIYd"
      },
      "source": [
        ""
      ]
    },
    {
      "cell_type": "code",
      "metadata": {
        "colab": {
          "base_uri": "https://localhost:8080/",
          "height": 450
        },
        "id": "jHbGBhRBhwjY",
        "outputId": "da5db3a4-c5f3-4de5-98bc-f270b38fd9b6"
      },
      "source": [
        "# Find out total fuel comsumption per air carrier.\n",
        "cunsump_per_carries = pd.DataFrame(df_fuel_consumption.groupby(by=['carrier']).sum()['total_gallons'])\n",
        "cunsump_per_carries"
      ],
      "execution_count": 348,
      "outputs": [
        {
          "output_type": "execute_result",
          "data": {
            "text/html": [
              "<div>\n",
              "<style scoped>\n",
              "    .dataframe tbody tr th:only-of-type {\n",
              "        vertical-align: middle;\n",
              "    }\n",
              "\n",
              "    .dataframe tbody tr th {\n",
              "        vertical-align: top;\n",
              "    }\n",
              "\n",
              "    .dataframe thead th {\n",
              "        text-align: right;\n",
              "    }\n",
              "</style>\n",
              "<table border=\"1\" class=\"dataframe\">\n",
              "  <thead>\n",
              "    <tr style=\"text-align: right;\">\n",
              "      <th></th>\n",
              "      <th>total_gallons</th>\n",
              "    </tr>\n",
              "    <tr>\n",
              "      <th>carrier</th>\n",
              "      <th></th>\n",
              "    </tr>\n",
              "  </thead>\n",
              "  <tbody>\n",
              "    <tr>\n",
              "      <th>09Q</th>\n",
              "      <td>41034111.0</td>\n",
              "    </tr>\n",
              "    <tr>\n",
              "      <th>0JQ</th>\n",
              "      <td>841615.0</td>\n",
              "    </tr>\n",
              "    <tr>\n",
              "      <th>0WQ</th>\n",
              "      <td>3253401.0</td>\n",
              "    </tr>\n",
              "    <tr>\n",
              "      <th>16</th>\n",
              "      <td>0.0</td>\n",
              "    </tr>\n",
              "    <tr>\n",
              "      <th>1BQ</th>\n",
              "      <td>6672792.0</td>\n",
              "    </tr>\n",
              "    <tr>\n",
              "      <th>...</th>\n",
              "      <td>...</td>\n",
              "    </tr>\n",
              "    <tr>\n",
              "      <th>X9</th>\n",
              "      <td>176878857.0</td>\n",
              "    </tr>\n",
              "    <tr>\n",
              "      <th>XP</th>\n",
              "      <td>19013295.0</td>\n",
              "    </tr>\n",
              "    <tr>\n",
              "      <th>YV</th>\n",
              "      <td>0.0</td>\n",
              "    </tr>\n",
              "    <tr>\n",
              "      <th>YX</th>\n",
              "      <td>287098389.0</td>\n",
              "    </tr>\n",
              "    <tr>\n",
              "      <th>ZW</th>\n",
              "      <td>130683426.0</td>\n",
              "    </tr>\n",
              "  </tbody>\n",
              "</table>\n",
              "<p>65 rows × 1 columns</p>\n",
              "</div>"
            ],
            "text/plain": [
              "         total_gallons\n",
              "carrier               \n",
              "09Q         41034111.0\n",
              "0JQ           841615.0\n",
              "0WQ          3253401.0\n",
              "16                 0.0\n",
              "1BQ          6672792.0\n",
              "...                ...\n",
              "X9         176878857.0\n",
              "XP          19013295.0\n",
              "YV                 0.0\n",
              "YX         287098389.0\n",
              "ZW         130683426.0\n",
              "\n",
              "[65 rows x 1 columns]"
            ]
          },
          "metadata": {
            "tags": []
          },
          "execution_count": 348
        }
      ]
    },
    {
      "cell_type": "code",
      "metadata": {
        "id": "6Gbze7XphwmY"
      },
      "source": [
        "# Use this information to get the average fuel comsumption per passenger per km. \n",
        "#Is this higher for the airlines with bigger average delays?\n",
        "test = passa_per_carries.merge(cunsump_per_carries,how=\"outer\", on=\"carrier\") # do left join\n"
      ],
      "execution_count": 360,
      "outputs": []
    },
    {
      "cell_type": "code",
      "metadata": {
        "id": "GGJXMSYszwPs"
      },
      "source": [
        "final_list = test.merge(distance_p_carr_total,how=\"outer\", on=\"carrier\")"
      ],
      "execution_count": 361,
      "outputs": []
    },
    {
      "cell_type": "code",
      "metadata": {
        "colab": {
          "base_uri": "https://localhost:8080/",
          "height": 450
        },
        "id": "jfBA1nPYUhLt",
        "outputId": "c4eae712-3cc1-4fc1-9ea1-4606cc3892dd"
      },
      "source": [
        "def summ(x):\n",
        "  if x['passengers']:\n",
        "    return (x['total_gallons']/x['passengers'])\n",
        "  \n",
        "final_list['gallons_per_passeger'] = final_list.apply(summ, axis=1)\n",
        "final_list"
      ],
      "execution_count": 362,
      "outputs": [
        {
          "output_type": "execute_result",
          "data": {
            "text/html": [
              "<div>\n",
              "<style scoped>\n",
              "    .dataframe tbody tr th:only-of-type {\n",
              "        vertical-align: middle;\n",
              "    }\n",
              "\n",
              "    .dataframe tbody tr th {\n",
              "        vertical-align: top;\n",
              "    }\n",
              "\n",
              "    .dataframe thead th {\n",
              "        text-align: right;\n",
              "    }\n",
              "</style>\n",
              "<table border=\"1\" class=\"dataframe\">\n",
              "  <thead>\n",
              "    <tr style=\"text-align: right;\">\n",
              "      <th></th>\n",
              "      <th>passengers</th>\n",
              "      <th>total_gallons</th>\n",
              "      <th>distance</th>\n",
              "      <th>gallons_per_passeger</th>\n",
              "    </tr>\n",
              "    <tr>\n",
              "      <th>carrier</th>\n",
              "      <th></th>\n",
              "      <th></th>\n",
              "      <th></th>\n",
              "      <th></th>\n",
              "    </tr>\n",
              "  </thead>\n",
              "  <tbody>\n",
              "    <tr>\n",
              "      <th>02Q</th>\n",
              "      <td>68.0</td>\n",
              "      <td>NaN</td>\n",
              "      <td>NaN</td>\n",
              "      <td>NaN</td>\n",
              "    </tr>\n",
              "    <tr>\n",
              "      <th>04Q</th>\n",
              "      <td>3955.0</td>\n",
              "      <td>NaN</td>\n",
              "      <td>NaN</td>\n",
              "      <td>NaN</td>\n",
              "    </tr>\n",
              "    <tr>\n",
              "      <th>07Q</th>\n",
              "      <td>518.0</td>\n",
              "      <td>NaN</td>\n",
              "      <td>NaN</td>\n",
              "      <td>NaN</td>\n",
              "    </tr>\n",
              "    <tr>\n",
              "      <th>09Q</th>\n",
              "      <td>54811.0</td>\n",
              "      <td>41034111.0</td>\n",
              "      <td>NaN</td>\n",
              "      <td>748.64737</td>\n",
              "    </tr>\n",
              "    <tr>\n",
              "      <th>0BQ</th>\n",
              "      <td>13.0</td>\n",
              "      <td>NaN</td>\n",
              "      <td>NaN</td>\n",
              "      <td>NaN</td>\n",
              "    </tr>\n",
              "    <tr>\n",
              "      <th>...</th>\n",
              "      <td>...</td>\n",
              "      <td>...</td>\n",
              "      <td>...</td>\n",
              "      <td>...</td>\n",
              "    </tr>\n",
              "    <tr>\n",
              "      <th>PO</th>\n",
              "      <td>NaN</td>\n",
              "      <td>875462934.0</td>\n",
              "      <td>NaN</td>\n",
              "      <td>NaN</td>\n",
              "    </tr>\n",
              "    <tr>\n",
              "      <th>PRQ</th>\n",
              "      <td>NaN</td>\n",
              "      <td>0.0</td>\n",
              "      <td>NaN</td>\n",
              "      <td>NaN</td>\n",
              "    </tr>\n",
              "    <tr>\n",
              "      <th>U7</th>\n",
              "      <td>NaN</td>\n",
              "      <td>28078606.0</td>\n",
              "      <td>NaN</td>\n",
              "      <td>NaN</td>\n",
              "    </tr>\n",
              "    <tr>\n",
              "      <th>WE</th>\n",
              "      <td>NaN</td>\n",
              "      <td>13016674.0</td>\n",
              "      <td>NaN</td>\n",
              "      <td>NaN</td>\n",
              "    </tr>\n",
              "    <tr>\n",
              "      <th>WI</th>\n",
              "      <td>NaN</td>\n",
              "      <td>44277625.0</td>\n",
              "      <td>NaN</td>\n",
              "      <td>NaN</td>\n",
              "    </tr>\n",
              "  </tbody>\n",
              "</table>\n",
              "<p>325 rows × 4 columns</p>\n",
              "</div>"
            ],
            "text/plain": [
              "         passengers  total_gallons  distance  gallons_per_passeger\n",
              "carrier                                                           \n",
              "02Q            68.0            NaN       NaN                   NaN\n",
              "04Q          3955.0            NaN       NaN                   NaN\n",
              "07Q           518.0            NaN       NaN                   NaN\n",
              "09Q         54811.0     41034111.0       NaN             748.64737\n",
              "0BQ            13.0            NaN       NaN                   NaN\n",
              "...             ...            ...       ...                   ...\n",
              "PO              NaN    875462934.0       NaN                   NaN\n",
              "PRQ             NaN            0.0       NaN                   NaN\n",
              "U7              NaN     28078606.0       NaN                   NaN\n",
              "WE              NaN     13016674.0       NaN                   NaN\n",
              "WI              NaN     44277625.0       NaN                   NaN\n",
              "\n",
              "[325 rows x 4 columns]"
            ]
          },
          "metadata": {
            "tags": []
          },
          "execution_count": 362
        }
      ]
    },
    {
      "cell_type": "code",
      "metadata": {
        "id": "jOnZZ_7UwOYC"
      },
      "source": [
        "def perct(x):\n",
        "  if x['passengers']:\n",
        "    return (x['gallons_per_passeger']/x['distance'])\n",
        "\n",
        "final_list['cons_ppl_km'] = final_list.apply(perct, axis=1)\n"
      ],
      "execution_count": 365,
      "outputs": []
    },
    {
      "cell_type": "code",
      "metadata": {
        "colab": {
          "base_uri": "https://localhost:8080/",
          "height": 421
        },
        "id": "1fk6CGSuiL9_",
        "outputId": "a4a3f3a0-dda1-4749-b5b5-a1d4cf451113"
      },
      "source": [
        "list_delay = final_list.loc[final_list['cons_ppl_km']>0]\n",
        "list_delay"
      ],
      "execution_count": 379,
      "outputs": [
        {
          "output_type": "execute_result",
          "data": {
            "text/html": [
              "<div>\n",
              "<style scoped>\n",
              "    .dataframe tbody tr th:only-of-type {\n",
              "        vertical-align: middle;\n",
              "    }\n",
              "\n",
              "    .dataframe tbody tr th {\n",
              "        vertical-align: top;\n",
              "    }\n",
              "\n",
              "    .dataframe thead th {\n",
              "        text-align: right;\n",
              "    }\n",
              "</style>\n",
              "<table border=\"1\" class=\"dataframe\">\n",
              "  <thead>\n",
              "    <tr style=\"text-align: right;\">\n",
              "      <th></th>\n",
              "      <th>passengers</th>\n",
              "      <th>total_gallons</th>\n",
              "      <th>distance</th>\n",
              "      <th>gallons_per_passeger</th>\n",
              "      <th>cons_ppl_km</th>\n",
              "    </tr>\n",
              "    <tr>\n",
              "      <th>carrier</th>\n",
              "      <th></th>\n",
              "      <th></th>\n",
              "      <th></th>\n",
              "      <th></th>\n",
              "      <th></th>\n",
              "    </tr>\n",
              "  </thead>\n",
              "  <tbody>\n",
              "    <tr>\n",
              "      <th>AA</th>\n",
              "      <td>18698764.0</td>\n",
              "      <td>1.663489e+10</td>\n",
              "      <td>3899510.0</td>\n",
              "      <td>889.624922</td>\n",
              "      <td>0.000228</td>\n",
              "    </tr>\n",
              "    <tr>\n",
              "      <th>AS</th>\n",
              "      <td>3783562.0</td>\n",
              "      <td>2.678455e+09</td>\n",
              "      <td>1042041.0</td>\n",
              "      <td>707.919009</td>\n",
              "      <td>0.000679</td>\n",
              "    </tr>\n",
              "    <tr>\n",
              "      <th>B6</th>\n",
              "      <td>5450186.0</td>\n",
              "      <td>3.767060e+09</td>\n",
              "      <td>983128.0</td>\n",
              "      <td>691.180044</td>\n",
              "      <td>0.000703</td>\n",
              "    </tr>\n",
              "    <tr>\n",
              "      <th>DL</th>\n",
              "      <td>19645203.0</td>\n",
              "      <td>1.655025e+10</td>\n",
              "      <td>2622597.0</td>\n",
              "      <td>842.457587</td>\n",
              "      <td>0.000321</td>\n",
              "    </tr>\n",
              "    <tr>\n",
              "      <th>F9</th>\n",
              "      <td>2186058.0</td>\n",
              "      <td>1.125294e+09</td>\n",
              "      <td>396980.0</td>\n",
              "      <td>514.759655</td>\n",
              "      <td>0.001297</td>\n",
              "    </tr>\n",
              "    <tr>\n",
              "      <th>G4</th>\n",
              "      <td>1653940.0</td>\n",
              "      <td>8.497621e+08</td>\n",
              "      <td>272041.0</td>\n",
              "      <td>513.780459</td>\n",
              "      <td>0.001889</td>\n",
              "    </tr>\n",
              "    <tr>\n",
              "      <th>HA</th>\n",
              "      <td>1128666.0</td>\n",
              "      <td>1.213558e+09</td>\n",
              "      <td>222715.0</td>\n",
              "      <td>1075.214869</td>\n",
              "      <td>0.004828</td>\n",
              "    </tr>\n",
              "    <tr>\n",
              "      <th>NK</th>\n",
              "      <td>3239146.0</td>\n",
              "      <td>1.663308e+09</td>\n",
              "      <td>457411.0</td>\n",
              "      <td>513.501879</td>\n",
              "      <td>0.001123</td>\n",
              "    </tr>\n",
              "    <tr>\n",
              "      <th>UA</th>\n",
              "      <td>13158071.0</td>\n",
              "      <td>1.595691e+10</td>\n",
              "      <td>3195617.0</td>\n",
              "      <td>1212.708687</td>\n",
              "      <td>0.000379</td>\n",
              "    </tr>\n",
              "    <tr>\n",
              "      <th>VX</th>\n",
              "      <td>608609.0</td>\n",
              "      <td>5.698233e+08</td>\n",
              "      <td>34573.0</td>\n",
              "      <td>936.271585</td>\n",
              "      <td>0.027081</td>\n",
              "    </tr>\n",
              "    <tr>\n",
              "      <th>WN</th>\n",
              "      <td>20289750.0</td>\n",
              "      <td>9.599040e+09</td>\n",
              "      <td>2622305.0</td>\n",
              "      <td>473.097970</td>\n",
              "      <td>0.000180</td>\n",
              "    </tr>\n",
              "  </tbody>\n",
              "</table>\n",
              "</div>"
            ],
            "text/plain": [
              "         passengers  total_gallons  ...  gallons_per_passeger  cons_ppl_km\n",
              "carrier                             ...                                   \n",
              "AA       18698764.0   1.663489e+10  ...            889.624922     0.000228\n",
              "AS        3783562.0   2.678455e+09  ...            707.919009     0.000679\n",
              "B6        5450186.0   3.767060e+09  ...            691.180044     0.000703\n",
              "DL       19645203.0   1.655025e+10  ...            842.457587     0.000321\n",
              "F9        2186058.0   1.125294e+09  ...            514.759655     0.001297\n",
              "G4        1653940.0   8.497621e+08  ...            513.780459     0.001889\n",
              "HA        1128666.0   1.213558e+09  ...           1075.214869     0.004828\n",
              "NK        3239146.0   1.663308e+09  ...            513.501879     0.001123\n",
              "UA       13158071.0   1.595691e+10  ...           1212.708687     0.000379\n",
              "VX         608609.0   5.698233e+08  ...            936.271585     0.027081\n",
              "WN       20289750.0   9.599040e+09  ...            473.097970     0.000180\n",
              "\n",
              "[11 rows x 5 columns]"
            ]
          },
          "metadata": {
            "tags": []
          },
          "execution_count": 379
        }
      ]
    },
    {
      "cell_type": "code",
      "metadata": {
        "colab": {
          "base_uri": "https://localhost:8080/"
        },
        "id": "VCCkQhk8oZPi",
        "outputId": "63648297-176e-45f2-e761-c8884638337f"
      },
      "source": [
        "list_delay['cons_ppl_km']"
      ],
      "execution_count": 392,
      "outputs": [
        {
          "output_type": "execute_result",
          "data": {
            "text/plain": [
              "carrier\n",
              "AA    0.000228\n",
              "AS    0.000679\n",
              "B6    0.000703\n",
              "DL    0.000321\n",
              "F9    0.001297\n",
              "G4    0.001889\n",
              "HA    0.004828\n",
              "NK    0.001123\n",
              "UA    0.000379\n",
              "VX    0.027081\n",
              "WN    0.000180\n",
              "Name: cons_ppl_km, dtype: float64"
            ]
          },
          "metadata": {
            "tags": []
          },
          "execution_count": 392
        }
      ]
    },
    {
      "cell_type": "code",
      "metadata": {
        "id": "m343DjCYoZul"
      },
      "source": [
        ""
      ],
      "execution_count": null,
      "outputs": []
    },
    {
      "cell_type": "markdown",
      "metadata": {
        "id": "ObkN1EA6iyOR"
      },
      "source": [
        "#### No delays "
      ]
    },
    {
      "cell_type": "code",
      "metadata": {
        "colab": {
          "base_uri": "https://localhost:8080/",
          "height": 421
        },
        "id": "1V9qZLwhiSjr",
        "outputId": "22939efe-c0a7-4557-c852-8808d6f90a86"
      },
      "source": [
        "ontime = df_flights[df_flights['arr_delay']<=0]\n",
        "distance_ontime_carr_total = pd.DataFrame(ontime.groupby(by=['mkt_unique_carrier']).sum()['distance'].rename_axis('carrier'))\n",
        "distance_ontime_carr_total"
      ],
      "execution_count": 370,
      "outputs": [
        {
          "output_type": "execute_result",
          "data": {
            "text/html": [
              "<div>\n",
              "<style scoped>\n",
              "    .dataframe tbody tr th:only-of-type {\n",
              "        vertical-align: middle;\n",
              "    }\n",
              "\n",
              "    .dataframe tbody tr th {\n",
              "        vertical-align: top;\n",
              "    }\n",
              "\n",
              "    .dataframe thead th {\n",
              "        text-align: right;\n",
              "    }\n",
              "</style>\n",
              "<table border=\"1\" class=\"dataframe\">\n",
              "  <thead>\n",
              "    <tr style=\"text-align: right;\">\n",
              "      <th></th>\n",
              "      <th>distance</th>\n",
              "    </tr>\n",
              "    <tr>\n",
              "      <th>carrier</th>\n",
              "      <th></th>\n",
              "    </tr>\n",
              "  </thead>\n",
              "  <tbody>\n",
              "    <tr>\n",
              "      <th>AA</th>\n",
              "      <td>6755438.0</td>\n",
              "    </tr>\n",
              "    <tr>\n",
              "      <th>AS</th>\n",
              "      <td>2028976.0</td>\n",
              "    </tr>\n",
              "    <tr>\n",
              "      <th>B6</th>\n",
              "      <td>1452456.0</td>\n",
              "    </tr>\n",
              "    <tr>\n",
              "      <th>DL</th>\n",
              "      <td>6487165.0</td>\n",
              "    </tr>\n",
              "    <tr>\n",
              "      <th>F9</th>\n",
              "      <td>546770.0</td>\n",
              "    </tr>\n",
              "    <tr>\n",
              "      <th>G4</th>\n",
              "      <td>395965.0</td>\n",
              "    </tr>\n",
              "    <tr>\n",
              "      <th>HA</th>\n",
              "      <td>268189.0</td>\n",
              "    </tr>\n",
              "    <tr>\n",
              "      <th>NK</th>\n",
              "      <td>985609.0</td>\n",
              "    </tr>\n",
              "    <tr>\n",
              "      <th>UA</th>\n",
              "      <td>5826768.0</td>\n",
              "    </tr>\n",
              "    <tr>\n",
              "      <th>VX</th>\n",
              "      <td>56045.0</td>\n",
              "    </tr>\n",
              "    <tr>\n",
              "      <th>WN</th>\n",
              "      <td>4708373.0</td>\n",
              "    </tr>\n",
              "  </tbody>\n",
              "</table>\n",
              "</div>"
            ],
            "text/plain": [
              "          distance\n",
              "carrier           \n",
              "AA       6755438.0\n",
              "AS       2028976.0\n",
              "B6       1452456.0\n",
              "DL       6487165.0\n",
              "F9        546770.0\n",
              "G4        395965.0\n",
              "HA        268189.0\n",
              "NK        985609.0\n",
              "UA       5826768.0\n",
              "VX         56045.0\n",
              "WN       4708373.0"
            ]
          },
          "metadata": {
            "tags": []
          },
          "execution_count": 370
        }
      ]
    },
    {
      "cell_type": "code",
      "metadata": {
        "id": "SpbY8TnQixT6"
      },
      "source": [
        "final_list_ontime = passa_per_carries.merge(cunsump_per_carries,how=\"outer\", on=\"carrier\").merge(distance_ontime_carr_total,how=\"outer\", on=\"carrier\")"
      ],
      "execution_count": 374,
      "outputs": []
    },
    {
      "cell_type": "code",
      "metadata": {
        "colab": {
          "base_uri": "https://localhost:8080/",
          "height": 450
        },
        "id": "w22RPPJtixfJ",
        "outputId": "82f36dd4-fb20-48c9-f48c-cce545377b70"
      },
      "source": [
        "def summ(x):\n",
        "  if x['passengers']:\n",
        "    return (x['total_gallons']/x['passengers'])\n",
        "  \n",
        "final_list_ontime['gallons_per_passeger'] = firts_merge.apply(summ, axis=1)\n",
        "final_list_ontime"
      ],
      "execution_count": 375,
      "outputs": [
        {
          "output_type": "execute_result",
          "data": {
            "text/html": [
              "<div>\n",
              "<style scoped>\n",
              "    .dataframe tbody tr th:only-of-type {\n",
              "        vertical-align: middle;\n",
              "    }\n",
              "\n",
              "    .dataframe tbody tr th {\n",
              "        vertical-align: top;\n",
              "    }\n",
              "\n",
              "    .dataframe thead th {\n",
              "        text-align: right;\n",
              "    }\n",
              "</style>\n",
              "<table border=\"1\" class=\"dataframe\">\n",
              "  <thead>\n",
              "    <tr style=\"text-align: right;\">\n",
              "      <th></th>\n",
              "      <th>passengers</th>\n",
              "      <th>total_gallons</th>\n",
              "      <th>distance</th>\n",
              "      <th>gallons_per_passeger</th>\n",
              "    </tr>\n",
              "    <tr>\n",
              "      <th>carrier</th>\n",
              "      <th></th>\n",
              "      <th></th>\n",
              "      <th></th>\n",
              "      <th></th>\n",
              "    </tr>\n",
              "  </thead>\n",
              "  <tbody>\n",
              "    <tr>\n",
              "      <th>02Q</th>\n",
              "      <td>68.0</td>\n",
              "      <td>NaN</td>\n",
              "      <td>NaN</td>\n",
              "      <td>NaN</td>\n",
              "    </tr>\n",
              "    <tr>\n",
              "      <th>04Q</th>\n",
              "      <td>3955.0</td>\n",
              "      <td>NaN</td>\n",
              "      <td>NaN</td>\n",
              "      <td>NaN</td>\n",
              "    </tr>\n",
              "    <tr>\n",
              "      <th>07Q</th>\n",
              "      <td>518.0</td>\n",
              "      <td>NaN</td>\n",
              "      <td>NaN</td>\n",
              "      <td>NaN</td>\n",
              "    </tr>\n",
              "    <tr>\n",
              "      <th>09Q</th>\n",
              "      <td>54811.0</td>\n",
              "      <td>41034111.0</td>\n",
              "      <td>NaN</td>\n",
              "      <td>748.64737</td>\n",
              "    </tr>\n",
              "    <tr>\n",
              "      <th>0BQ</th>\n",
              "      <td>13.0</td>\n",
              "      <td>NaN</td>\n",
              "      <td>NaN</td>\n",
              "      <td>NaN</td>\n",
              "    </tr>\n",
              "    <tr>\n",
              "      <th>...</th>\n",
              "      <td>...</td>\n",
              "      <td>...</td>\n",
              "      <td>...</td>\n",
              "      <td>...</td>\n",
              "    </tr>\n",
              "    <tr>\n",
              "      <th>PO</th>\n",
              "      <td>NaN</td>\n",
              "      <td>875462934.0</td>\n",
              "      <td>NaN</td>\n",
              "      <td>NaN</td>\n",
              "    </tr>\n",
              "    <tr>\n",
              "      <th>PRQ</th>\n",
              "      <td>NaN</td>\n",
              "      <td>0.0</td>\n",
              "      <td>NaN</td>\n",
              "      <td>NaN</td>\n",
              "    </tr>\n",
              "    <tr>\n",
              "      <th>U7</th>\n",
              "      <td>NaN</td>\n",
              "      <td>28078606.0</td>\n",
              "      <td>NaN</td>\n",
              "      <td>NaN</td>\n",
              "    </tr>\n",
              "    <tr>\n",
              "      <th>WE</th>\n",
              "      <td>NaN</td>\n",
              "      <td>13016674.0</td>\n",
              "      <td>NaN</td>\n",
              "      <td>NaN</td>\n",
              "    </tr>\n",
              "    <tr>\n",
              "      <th>WI</th>\n",
              "      <td>NaN</td>\n",
              "      <td>44277625.0</td>\n",
              "      <td>NaN</td>\n",
              "      <td>NaN</td>\n",
              "    </tr>\n",
              "  </tbody>\n",
              "</table>\n",
              "<p>325 rows × 4 columns</p>\n",
              "</div>"
            ],
            "text/plain": [
              "         passengers  total_gallons  distance  gallons_per_passeger\n",
              "carrier                                                           \n",
              "02Q            68.0            NaN       NaN                   NaN\n",
              "04Q          3955.0            NaN       NaN                   NaN\n",
              "07Q           518.0            NaN       NaN                   NaN\n",
              "09Q         54811.0     41034111.0       NaN             748.64737\n",
              "0BQ            13.0            NaN       NaN                   NaN\n",
              "...             ...            ...       ...                   ...\n",
              "PO              NaN    875462934.0       NaN                   NaN\n",
              "PRQ             NaN            0.0       NaN                   NaN\n",
              "U7              NaN     28078606.0       NaN                   NaN\n",
              "WE              NaN     13016674.0       NaN                   NaN\n",
              "WI              NaN     44277625.0       NaN                   NaN\n",
              "\n",
              "[325 rows x 4 columns]"
            ]
          },
          "metadata": {
            "tags": []
          },
          "execution_count": 375
        }
      ]
    },
    {
      "cell_type": "code",
      "metadata": {
        "id": "_kjAPMWQixhi"
      },
      "source": [
        "def perct(x):\n",
        "  if x['passengers']:\n",
        "    return (x['gallons_per_passeger']/x['distance'])\n",
        "\n",
        "final_list_ontime['cons_ppl_km'] = final_list_ontime.apply(perct, axis=1)"
      ],
      "execution_count": 376,
      "outputs": []
    },
    {
      "cell_type": "code",
      "metadata": {
        "colab": {
          "base_uri": "https://localhost:8080/",
          "height": 421
        },
        "id": "4VGH1I8ajxhE",
        "outputId": "c91b962a-7183-4e9b-b1a2-f59ae7ef6176"
      },
      "source": [
        "list_ontime = final_list_ontime.loc[final_list['cons_ppl_km']>0]\n",
        "list_ontime"
      ],
      "execution_count": 378,
      "outputs": [
        {
          "output_type": "execute_result",
          "data": {
            "text/html": [
              "<div>\n",
              "<style scoped>\n",
              "    .dataframe tbody tr th:only-of-type {\n",
              "        vertical-align: middle;\n",
              "    }\n",
              "\n",
              "    .dataframe tbody tr th {\n",
              "        vertical-align: top;\n",
              "    }\n",
              "\n",
              "    .dataframe thead th {\n",
              "        text-align: right;\n",
              "    }\n",
              "</style>\n",
              "<table border=\"1\" class=\"dataframe\">\n",
              "  <thead>\n",
              "    <tr style=\"text-align: right;\">\n",
              "      <th></th>\n",
              "      <th>passengers</th>\n",
              "      <th>total_gallons</th>\n",
              "      <th>distance</th>\n",
              "      <th>gallons_per_passeger</th>\n",
              "      <th>cons_ppl_km</th>\n",
              "    </tr>\n",
              "    <tr>\n",
              "      <th>carrier</th>\n",
              "      <th></th>\n",
              "      <th></th>\n",
              "      <th></th>\n",
              "      <th></th>\n",
              "      <th></th>\n",
              "    </tr>\n",
              "  </thead>\n",
              "  <tbody>\n",
              "    <tr>\n",
              "      <th>AA</th>\n",
              "      <td>18698764.0</td>\n",
              "      <td>1.663489e+10</td>\n",
              "      <td>6755438.0</td>\n",
              "      <td>889.624922</td>\n",
              "      <td>0.000132</td>\n",
              "    </tr>\n",
              "    <tr>\n",
              "      <th>AS</th>\n",
              "      <td>3783562.0</td>\n",
              "      <td>2.678455e+09</td>\n",
              "      <td>2028976.0</td>\n",
              "      <td>707.919009</td>\n",
              "      <td>0.000349</td>\n",
              "    </tr>\n",
              "    <tr>\n",
              "      <th>B6</th>\n",
              "      <td>5450186.0</td>\n",
              "      <td>3.767060e+09</td>\n",
              "      <td>1452456.0</td>\n",
              "      <td>691.180044</td>\n",
              "      <td>0.000476</td>\n",
              "    </tr>\n",
              "    <tr>\n",
              "      <th>DL</th>\n",
              "      <td>19645203.0</td>\n",
              "      <td>1.655025e+10</td>\n",
              "      <td>6487165.0</td>\n",
              "      <td>842.457587</td>\n",
              "      <td>0.000130</td>\n",
              "    </tr>\n",
              "    <tr>\n",
              "      <th>F9</th>\n",
              "      <td>2186058.0</td>\n",
              "      <td>1.125294e+09</td>\n",
              "      <td>546770.0</td>\n",
              "      <td>514.759655</td>\n",
              "      <td>0.000941</td>\n",
              "    </tr>\n",
              "    <tr>\n",
              "      <th>G4</th>\n",
              "      <td>1653940.0</td>\n",
              "      <td>8.497621e+08</td>\n",
              "      <td>395965.0</td>\n",
              "      <td>513.780459</td>\n",
              "      <td>0.001298</td>\n",
              "    </tr>\n",
              "    <tr>\n",
              "      <th>HA</th>\n",
              "      <td>1128666.0</td>\n",
              "      <td>1.213558e+09</td>\n",
              "      <td>268189.0</td>\n",
              "      <td>1075.214869</td>\n",
              "      <td>0.004009</td>\n",
              "    </tr>\n",
              "    <tr>\n",
              "      <th>NK</th>\n",
              "      <td>3239146.0</td>\n",
              "      <td>1.663308e+09</td>\n",
              "      <td>985609.0</td>\n",
              "      <td>513.501879</td>\n",
              "      <td>0.000521</td>\n",
              "    </tr>\n",
              "    <tr>\n",
              "      <th>UA</th>\n",
              "      <td>13158071.0</td>\n",
              "      <td>1.595691e+10</td>\n",
              "      <td>5826768.0</td>\n",
              "      <td>1212.708687</td>\n",
              "      <td>0.000208</td>\n",
              "    </tr>\n",
              "    <tr>\n",
              "      <th>VX</th>\n",
              "      <td>608609.0</td>\n",
              "      <td>5.698233e+08</td>\n",
              "      <td>56045.0</td>\n",
              "      <td>936.271585</td>\n",
              "      <td>0.016706</td>\n",
              "    </tr>\n",
              "    <tr>\n",
              "      <th>WN</th>\n",
              "      <td>20289750.0</td>\n",
              "      <td>9.599040e+09</td>\n",
              "      <td>4708373.0</td>\n",
              "      <td>473.097970</td>\n",
              "      <td>0.000100</td>\n",
              "    </tr>\n",
              "  </tbody>\n",
              "</table>\n",
              "</div>"
            ],
            "text/plain": [
              "         passengers  total_gallons  ...  gallons_per_passeger  cons_ppl_km\n",
              "carrier                             ...                                   \n",
              "AA       18698764.0   1.663489e+10  ...            889.624922     0.000132\n",
              "AS        3783562.0   2.678455e+09  ...            707.919009     0.000349\n",
              "B6        5450186.0   3.767060e+09  ...            691.180044     0.000476\n",
              "DL       19645203.0   1.655025e+10  ...            842.457587     0.000130\n",
              "F9        2186058.0   1.125294e+09  ...            514.759655     0.000941\n",
              "G4        1653940.0   8.497621e+08  ...            513.780459     0.001298\n",
              "HA        1128666.0   1.213558e+09  ...           1075.214869     0.004009\n",
              "NK        3239146.0   1.663308e+09  ...            513.501879     0.000521\n",
              "UA       13158071.0   1.595691e+10  ...           1212.708687     0.000208\n",
              "VX         608609.0   5.698233e+08  ...            936.271585     0.016706\n",
              "WN       20289750.0   9.599040e+09  ...            473.097970     0.000100\n",
              "\n",
              "[11 rows x 5 columns]"
            ]
          },
          "metadata": {
            "tags": []
          },
          "execution_count": 378
        }
      ]
    },
    {
      "cell_type": "code",
      "metadata": {
        "colab": {
          "base_uri": "https://localhost:8080/",
          "height": 295
        },
        "id": "zAFHUIRbn7YK",
        "outputId": "c3e0ff3a-6931-476c-dee8-2b0244eecd22"
      },
      "source": [
        "plt.bar(list_ontime.index, list_ontime['cons_ppl_km'], label= 'flights_ontime')\n",
        "plt.bar(list_delay.index, list_delay['cons_ppl_km'], label= 'Flights_delayed',color='g')\n",
        "plt.legend()\n",
        "plt.autoscale(tight=True)\n",
        "plt.title('Info')\n",
        "plt.xlabel('Carries')\n",
        "plt.ylabel('cons_ppl_km')\n",
        "plt.show()"
      ],
      "execution_count": 393,
      "outputs": [
        {
          "output_type": "display_data",
          "data": {
            "image/png": "[encoded data removed]",
            "text/plain": [
              "<Figure size 432x288 with 1 Axes>"
            ]
          },
          "metadata": {
            "tags": [],
            "needs_background": "light"
          }
        }
      ]
    },
    {
      "cell_type": "code",
      "metadata": {
        "colab": {
          "base_uri": "https://localhost:8080/",
          "height": 542
        },
        "id": "fHtBWmLxmTEJ",
        "outputId": "0fd6f634-1258-4cdf-e83b-a7f3a270afe6"
      },
      "source": [
        "import plotly.graph_objs as go\n",
        "# Trace - gold medals\n",
        "trace1 = go.Bar(\n",
        "    x = list_ontime.index, # NOC stands for the National Olympic Committee\n",
        "    y = list_ontime['cons_ppl_km'],\n",
        "    name = 'flights_ontime',\n",
        "    marker = dict(color='#FFD700') # set the marker color to gold\n",
        ")\n",
        "\n",
        "# trace - silver medals\n",
        "trace2 = go.Bar(\n",
        "    x = list_delay.index, # NOC stands for the National Olympic Committee\n",
        "    y = list_delay['cons_ppl_km'],\n",
        "    name = 'Flights_delayed',\n",
        "    marker = dict(color='#9EA0a1') # set the marker color to silver\n",
        ")\n",
        "\n",
        "# create the data\n",
        "data = [trace1, trace2]\n",
        "\n",
        "#create the layout\n",
        "layout = go.Layout(\n",
        "        title = 'Consumption On-time x Delayed')\n",
        "\n",
        "# create the figure\n",
        "fig = go.Figure(data=data, layout = layout)\n",
        "fig.show()"
      ],
      "execution_count": 396,
      "outputs": [
        {
          "output_type": "display_data",
          "data": {
            "text/html": [
              "<html>\n",
              "<head><meta charset=\"utf-8\" /></head>\n",
              "<body>\n",
              "    <div>\n",
              "            <script src=\"https://cdnjs.cloudflare.com/ajax/libs/mathjax/2.7.5/MathJax.js?config=TeX-AMS-MML_SVG\"></script><script type=\"text/javascript\">if (window.MathJax) {MathJax.Hub.Config({SVG: {font: \"STIX-Web\"}});}</script>\n",
              "                <script type=\"text/javascript\">window.PlotlyConfig = {MathJaxConfig: 'local'};</script>\n",
              "        <script src=\"https://cdn.plot.ly/plotly-latest.min.js\"></script>    \n",
              "            <div id=\"7c67b478-3b90-4a0e-bcb6-1761534208c7\" class=\"plotly-graph-div\" style=\"height:525px; width:100%;\"></div>\n",
              "            <script type=\"text/javascript\">\n",
              "                \n",
              "                    window.PLOTLYENV=window.PLOTLYENV || {};\n",
              "                    \n",
              "                if (document.getElementById(\"7c67b478-3b90-4a0e-bcb6-1761534208c7\")) {\n",
              "                    Plotly.newPlot(\n",
              "                        '7c67b478-3b90-4a0e-bcb6-1761534208c7',\n",
              "                        [{\"marker\": {\"color\": \"#FFD700\"}, \"name\": \"flights_ontime\", \"type\": \"bar\", \"x\": [\"AA\", \"AS\", \"B6\", \"DL\", \"F9\", \"G4\", \"HA\", \"NK\", \"UA\", \"VX\", \"WN\"], \"y\": [0.00013169019116537458, 0.0003489045749481044, 0.00047586986715166863, 0.00012986529358813964, 0.0009414555572733022, 0.0012975400840677482, 0.004009168417434747, 0.0005209995839022372, 0.0002081271618424545, 0.016705711211996304, 0.0001004801382892446]}, {\"marker\": {\"color\": \"#9EA0a1\"}, \"name\": \"Flights_delayed\", \"type\": \"bar\", \"x\": [\"AA\", \"AS\", \"B6\", \"DL\", \"F9\", \"G4\", \"HA\", \"NK\", \"UA\", \"VX\", \"WN\"], \"y\": [0.00022813761770731087, 0.0006793581143735276, 0.0007030417644128171, 0.0003212302871084287, 0.0012966891406376226, 0.0018886140669527238, 0.004827761348375311, 0.0011226268692495372, 0.00037949124896833225, 0.027081004971403488, 0.00018041302219129563]}],\n",
              "                        {\"template\": {\"data\": {\"bar\": [{\"error_x\": {\"color\": \"#2a3f5f\"}, \"error_y\": {\"color\": \"#2a3f5f\"}, \"marker\": {\"line\": {\"color\": \"#E5ECF6\", \"width\": 0.5}}, \"type\": \"bar\"}], \"barpolar\": [{\"marker\": {\"line\": {\"color\": \"#E5ECF6\", \"width\": 0.5}}, \"type\": \"barpolar\"}], \"carpet\": [{\"aaxis\": {\"endlinecolor\": \"#2a3f5f\", \"gridcolor\": \"white\", \"linecolor\": \"white\", \"minorgridcolor\": \"white\", \"startlinecolor\": \"#2a3f5f\"}, \"baxis\": {\"endlinecolor\": \"#2a3f5f\", \"gridcolor\": \"white\", \"linecolor\": \"white\", \"minorgridcolor\": \"white\", \"startlinecolor\": \"#2a3f5f\"}, \"type\": \"carpet\"}], \"choropleth\": [{\"colorbar\": {\"outlinewidth\": 0, \"ticks\": \"\"}, \"type\": \"choropleth\"}], \"contour\": [{\"colorbar\": {\"outlinewidth\": 0, \"ticks\": \"\"}, \"colorscale\": [[0.0, \"#0d0887\"], [0.1111111111111111, \"#46039f\"], [0.2222222222222222, \"#7201a8\"], [0.3333333333333333, \"#9c179e\"], [0.4444444444444444, \"#bd3786\"], [0.5555555555555556, \"#d8576b\"], [0.6666666666666666, \"#ed7953\"], [0.7777777777777778, \"#fb9f3a\"], [0.8888888888888888, \"#fdca26\"], [1.0, \"#f0f921\"]], \"type\": \"contour\"}], \"contourcarpet\": [{\"colorbar\": {\"outlinewidth\": 0, \"ticks\": \"\"}, \"type\": \"contourcarpet\"}], \"heatmap\": [{\"colorbar\": {\"outlinewidth\": 0, \"ticks\": \"\"}, \"colorscale\": [[0.0, \"#0d0887\"], [0.1111111111111111, \"#46039f\"], [0.2222222222222222, \"#7201a8\"], [0.3333333333333333, \"#9c179e\"], [0.4444444444444444, \"#bd3786\"], [0.5555555555555556, \"#d8576b\"], [0.6666666666666666, \"#ed7953\"], [0.7777777777777778, \"#fb9f3a\"], [0.8888888888888888, \"#fdca26\"], [1.0, \"#f0f921\"]], \"type\": \"heatmap\"}], \"heatmapgl\": [{\"colorbar\": {\"outlinewidth\": 0, \"ticks\": \"\"}, \"colorscale\": [[0.0, \"#0d0887\"], [0.1111111111111111, \"#46039f\"], [0.2222222222222222, \"#7201a8\"], [0.3333333333333333, \"#9c179e\"], [0.4444444444444444, \"#bd3786\"], [0.5555555555555556, \"#d8576b\"], [0.6666666666666666, \"#ed7953\"], [0.7777777777777778, \"#fb9f3a\"], [0.8888888888888888, \"#fdca26\"], [1.0, \"#f0f921\"]], \"type\": \"heatmapgl\"}], \"histogram\": [{\"marker\": {\"colorbar\": {\"outlinewidth\": 0, \"ticks\": \"\"}}, \"type\": \"histogram\"}], \"histogram2d\": [{\"colorbar\": {\"outlinewidth\": 0, \"ticks\": \"\"}, \"colorscale\": [[0.0, \"#0d0887\"], [0.1111111111111111, \"#46039f\"], [0.2222222222222222, \"#7201a8\"], [0.3333333333333333, \"#9c179e\"], [0.4444444444444444, \"#bd3786\"], [0.5555555555555556, \"#d8576b\"], [0.6666666666666666, \"#ed7953\"], [0.7777777777777778, \"#fb9f3a\"], [0.8888888888888888, \"#fdca26\"], [1.0, \"#f0f921\"]], \"type\": \"histogram2d\"}], \"histogram2dcontour\": [{\"colorbar\": {\"outlinewidth\": 0, \"ticks\": \"\"}, \"colorscale\": [[0.0, \"#0d0887\"], [0.1111111111111111, \"#46039f\"], [0.2222222222222222, \"#7201a8\"], [0.3333333333333333, \"#9c179e\"], [0.4444444444444444, \"#bd3786\"], [0.5555555555555556, \"#d8576b\"], [0.6666666666666666, \"#ed7953\"], [0.7777777777777778, \"#fb9f3a\"], [0.8888888888888888, \"#fdca26\"], [1.0, \"#f0f921\"]], \"type\": \"histogram2dcontour\"}], \"mesh3d\": [{\"colorbar\": {\"outlinewidth\": 0, \"ticks\": \"\"}, \"type\": \"mesh3d\"}], \"parcoords\": [{\"line\": {\"colorbar\": {\"outlinewidth\": 0, \"ticks\": \"\"}}, \"type\": \"parcoords\"}], \"pie\": [{\"automargin\": true, \"type\": \"pie\"}], \"scatter\": [{\"marker\": {\"colorbar\": {\"outlinewidth\": 0, \"ticks\": \"\"}}, \"type\": \"scatter\"}], \"scatter3d\": [{\"line\": {\"colorbar\": {\"outlinewidth\": 0, \"ticks\": \"\"}}, \"marker\": {\"colorbar\": {\"outlinewidth\": 0, \"ticks\": \"\"}}, \"type\": \"scatter3d\"}], \"scattercarpet\": [{\"marker\": {\"colorbar\": {\"outlinewidth\": 0, \"ticks\": \"\"}}, \"type\": \"scattercarpet\"}], \"scattergeo\": [{\"marker\": {\"colorbar\": {\"outlinewidth\": 0, \"ticks\": \"\"}}, \"type\": \"scattergeo\"}], \"scattergl\": [{\"marker\": {\"colorbar\": {\"outlinewidth\": 0, \"ticks\": \"\"}}, \"type\": \"scattergl\"}], \"scattermapbox\": [{\"marker\": {\"colorbar\": {\"outlinewidth\": 0, \"ticks\": \"\"}}, \"type\": \"scattermapbox\"}], \"scatterpolar\": [{\"marker\": {\"colorbar\": {\"outlinewidth\": 0, \"ticks\": \"\"}}, \"type\": \"scatterpolar\"}], \"scatterpolargl\": [{\"marker\": {\"colorbar\": {\"outlinewidth\": 0, \"ticks\": \"\"}}, \"type\": \"scatterpolargl\"}], \"scatterternary\": [{\"marker\": {\"colorbar\": {\"outlinewidth\": 0, \"ticks\": \"\"}}, \"type\": \"scatterternary\"}], \"surface\": [{\"colorbar\": {\"outlinewidth\": 0, \"ticks\": \"\"}, \"colorscale\": [[0.0, \"#0d0887\"], [0.1111111111111111, \"#46039f\"], [0.2222222222222222, \"#7201a8\"], [0.3333333333333333, \"#9c179e\"], [0.4444444444444444, \"#bd3786\"], [0.5555555555555556, \"#d8576b\"], [0.6666666666666666, \"#ed7953\"], [0.7777777777777778, \"#fb9f3a\"], [0.8888888888888888, \"#fdca26\"], [1.0, \"#f0f921\"]], \"type\": \"surface\"}], \"table\": [{\"cells\": {\"fill\": {\"color\": \"#EBF0F8\"}, \"line\": {\"color\": \"white\"}}, \"header\": {\"fill\": {\"color\": \"#C8D4E3\"}, \"line\": {\"color\": \"white\"}}, \"type\": \"table\"}]}, \"layout\": {\"annotationdefaults\": {\"arrowcolor\": \"#2a3f5f\", \"arrowhead\": 0, \"arrowwidth\": 1}, \"coloraxis\": {\"colorbar\": {\"outlinewidth\": 0, \"ticks\": \"\"}}, \"colorscale\": {\"diverging\": [[0, \"#8e0152\"], [0.1, \"#c51b7d\"], [0.2, \"#de77ae\"], [0.3, \"#f1b6da\"], [0.4, \"#fde0ef\"], [0.5, \"#f7f7f7\"], [0.6, \"#e6f5d0\"], [0.7, \"#b8e186\"], [0.8, \"#7fbc41\"], [0.9, \"#4d9221\"], [1, \"#276419\"]], \"sequential\": [[0.0, \"#0d0887\"], [0.1111111111111111, \"#46039f\"], [0.2222222222222222, \"#7201a8\"], [0.3333333333333333, \"#9c179e\"], [0.4444444444444444, \"#bd3786\"], [0.5555555555555556, \"#d8576b\"], [0.6666666666666666, \"#ed7953\"], [0.7777777777777778, \"#fb9f3a\"], [0.8888888888888888, \"#fdca26\"], [1.0, \"#f0f921\"]], \"sequentialminus\": [[0.0, \"#0d0887\"], [0.1111111111111111, \"#46039f\"], [0.2222222222222222, \"#7201a8\"], [0.3333333333333333, \"#9c179e\"], [0.4444444444444444, \"#bd3786\"], [0.5555555555555556, \"#d8576b\"], [0.6666666666666666, \"#ed7953\"], [0.7777777777777778, \"#fb9f3a\"], [0.8888888888888888, \"#fdca26\"], [1.0, \"#f0f921\"]]}, \"colorway\": [\"#636efa\", \"#EF553B\", \"#00cc96\", \"#ab63fa\", \"#FFA15A\", \"#19d3f3\", \"#FF6692\", \"#B6E880\", \"#FF97FF\", \"#FECB52\"], \"font\": {\"color\": \"#2a3f5f\"}, \"geo\": {\"bgcolor\": \"white\", \"lakecolor\": \"white\", \"landcolor\": \"#E5ECF6\", \"showlakes\": true, \"showland\": true, \"subunitcolor\": \"white\"}, \"hoverlabel\": {\"align\": \"left\"}, \"hovermode\": \"closest\", \"mapbox\": {\"style\": \"light\"}, \"paper_bgcolor\": \"white\", \"plot_bgcolor\": \"#E5ECF6\", \"polar\": {\"angularaxis\": {\"gridcolor\": \"white\", \"linecolor\": \"white\", \"ticks\": \"\"}, \"bgcolor\": \"#E5ECF6\", \"radialaxis\": {\"gridcolor\": \"white\", \"linecolor\": \"white\", \"ticks\": \"\"}}, \"scene\": {\"xaxis\": {\"backgroundcolor\": \"#E5ECF6\", \"gridcolor\": \"white\", \"gridwidth\": 2, \"linecolor\": \"white\", \"showbackground\": true, \"ticks\": \"\", \"zerolinecolor\": \"white\"}, \"yaxis\": {\"backgroundcolor\": \"#E5ECF6\", \"gridcolor\": \"white\", \"gridwidth\": 2, \"linecolor\": \"white\", \"showbackground\": true, \"ticks\": \"\", \"zerolinecolor\": \"white\"}, \"zaxis\": {\"backgroundcolor\": \"#E5ECF6\", \"gridcolor\": \"white\", \"gridwidth\": 2, \"linecolor\": \"white\", \"showbackground\": true, \"ticks\": \"\", \"zerolinecolor\": \"white\"}}, \"shapedefaults\": {\"line\": {\"color\": \"#2a3f5f\"}}, \"ternary\": {\"aaxis\": {\"gridcolor\": \"white\", \"linecolor\": \"white\", \"ticks\": \"\"}, \"baxis\": {\"gridcolor\": \"white\", \"linecolor\": \"white\", \"ticks\": \"\"}, \"bgcolor\": \"#E5ECF6\", \"caxis\": {\"gridcolor\": \"white\", \"linecolor\": \"white\", \"ticks\": \"\"}}, \"title\": {\"x\": 0.05}, \"xaxis\": {\"automargin\": true, \"gridcolor\": \"white\", \"linecolor\": \"white\", \"ticks\": \"\", \"title\": {\"standoff\": 15}, \"zerolinecolor\": \"white\", \"zerolinewidth\": 2}, \"yaxis\": {\"automargin\": true, \"gridcolor\": \"white\", \"linecolor\": \"white\", \"ticks\": \"\", \"title\": {\"standoff\": 15}, \"zerolinecolor\": \"white\", \"zerolinewidth\": 2}}}, \"title\": {\"text\": \"Consumption On-time x Delayed\"}},\n",
              "                        {\"responsive\": true}\n",
              "                    ).then(function(){\n",
              "                            \n",
              "var gd = document.getElementById('7c67b478-3b90-4a0e-bcb6-1761534208c7');\n",
              "var x = new MutationObserver(function (mutations, observer) {{\n",
              "        var display = window.getComputedStyle(gd).display;\n",
              "        if (!display || display === 'none') {{\n",
              "            console.log([gd, 'removed!']);\n",
              "            Plotly.purge(gd);\n",
              "            observer.disconnect();\n",
              "        }}\n",
              "}});\n",
              "\n",
              "// Listen for the removal of the full notebook cells\n",
              "var notebookContainer = gd.closest('#notebook-container');\n",
              "if (notebookContainer) {{\n",
              "    x.observe(notebookContainer, {childList: true});\n",
              "}}\n",
              "\n",
              "// Listen for the clearing of the current output cell\n",
              "var outputEl = gd.closest('.output');\n",
              "if (outputEl) {{\n",
              "    x.observe(outputEl, {childList: true});\n",
              "}}\n",
              "\n",
              "                        })\n",
              "                };\n",
              "                \n",
              "            </script>\n",
              "        </div>\n",
              "</body>\n",
              "</html>"
            ]
          },
          "metadata": {
            "tags": []
          }
        }
      ]
    },
    {
      "cell_type": "code",
      "metadata": {
        "id": "NBsIpeccpW_K"
      },
      "source": [
        ""
      ],
      "execution_count": null,
      "outputs": []
    }
  ]
}